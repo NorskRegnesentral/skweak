{
 "cells": [
  {
   "cell_type": "markdown",
   "metadata": {},
   "source": [
    "# Named Entity Recognition without labelled data: A weak supervision approach"
   ]
  },
  {
   "cell_type": "markdown",
   "metadata": {},
   "source": [
    "In this walkthrough, we will develop a neural NER model without access to labelled data. Let's look at a particular example of text (from Reuters):\n"
   ]
  },
  {
   "cell_type": "code",
   "execution_count": 2,
   "metadata": {},
   "outputs": [],
   "source": [
    "import sys\n",
    "sys.path.insert(0, '..')"
   ]
  },
  {
   "cell_type": "code",
   "execution_count": 5,
   "metadata": {},
   "outputs": [],
   "source": [
    "import re\n",
    "news_text  = \"\"\"\n",
    "ATLANTA  (Reuters) - Retailer Best Buy Co, seeking new ways to appeal to cost-conscious shoppers, said on Tuesday it is selling refurbished \n",
    " versions of Apple Inc's iPhone 3G at its stores that are priced about $50 less than new iPhones. \n",
    " The electronics chain said the used iPhones, which were returned within 30 days of purchase, are priced at $149 for the model with 8 gigabytes of storage, \n",
    " while the 16-gigabyte version is $249. A two-year service contract with AT&T Inc is required. New iPhone 3Gs currently sell for $199 and $299 at \n",
    " Best Buy Mobile stores. \"This is focusing on customers' needs, trying to provide as wide a range of products and networks for our consumers,\" said \n",
    " Scott Moore, vice president of marketing for Best Buy Mobile. Buyers of first-generation iPhones can also upgrade to the faster refurbished 3G models at \n",
    " Best Buy, he said. Moore said AT&T, the exclusive wireless provider for the iPhone, offers refurbished iPhones online. The sale of used iPhones comes as \n",
    " Best Buy, the top consumer electronics chain, seeks ways to fend off increased competition from discounters such as Wal-Mart Stores Inc, which began \n",
    " selling the popular phone late last month. Wal-Mart sells a new 8-gigabyte iPhone 3G for $197 and $297 for the 16-gigabyte model. The iPhone is also \n",
    " sold at Apple stores and AT&T stores. Moore said Best Buy's move was not in response to other retailers' actions. (Reporting by  Karen Jacobs ; Editing \n",
    " by  Andre Grenon )\"\"\"\n",
    "\n",
    "news_text = re.sub('\\\\s+', ' ', news_text)"
   ]
  },
  {
   "cell_type": "markdown",
   "metadata": {},
   "source": [
    "Let's view what the standard Spacy model produces (note it takes a few seconds to reload the vocabulary):"
   ]
  },
  {
   "cell_type": "code",
   "execution_count": 38,
   "metadata": {},
   "outputs": [
    {
     "data": {
      "text/html": "<span class=\"tex2jax_ignore\"><div class=\"entities\" style=\"line-height: 2.5; direction: ltr\"> \n<mark class=\"entity\" style=\"background: #7aecec; padding: 0.45em 0.6em; margin: 0 0.25em; line-height: 1; border-radius: 0.35em;\">\n    ATLANTA\n    <span style=\"font-size: 0.8em; font-weight: bold; line-height: 1; border-radius: 0.35em; text-transform: uppercase; vertical-align: middle; margin-left: 0.5rem\">ORG</span>\n</mark>\n (\n<mark class=\"entity\" style=\"background: #7aecec; padding: 0.45em 0.6em; margin: 0 0.25em; line-height: 1; border-radius: 0.35em;\">\n    Reuters\n    <span style=\"font-size: 0.8em; font-weight: bold; line-height: 1; border-radius: 0.35em; text-transform: uppercase; vertical-align: middle; margin-left: 0.5rem\">ORG</span>\n</mark>\n) - Retailer Best Buy Co, seeking new ways to appeal to cost-conscious shoppers, said on \n<mark class=\"entity\" style=\"background: #bfe1d9; padding: 0.45em 0.6em; margin: 0 0.25em; line-height: 1; border-radius: 0.35em;\">\n    Tuesday\n    <span style=\"font-size: 0.8em; font-weight: bold; line-height: 1; border-radius: 0.35em; text-transform: uppercase; vertical-align: middle; margin-left: 0.5rem\">DATE</span>\n</mark>\n it is selling refurbished versions of \n<mark class=\"entity\" style=\"background: #7aecec; padding: 0.45em 0.6em; margin: 0 0.25em; line-height: 1; border-radius: 0.35em;\">\n    Apple Inc's\n    <span style=\"font-size: 0.8em; font-weight: bold; line-height: 1; border-radius: 0.35em; text-transform: uppercase; vertical-align: middle; margin-left: 0.5rem\">ORG</span>\n</mark>\n iPhone \n<mark class=\"entity\" style=\"background: #e4e7d2; padding: 0.45em 0.6em; margin: 0 0.25em; line-height: 1; border-radius: 0.35em;\">\n    3\n    <span style=\"font-size: 0.8em; font-weight: bold; line-height: 1; border-radius: 0.35em; text-transform: uppercase; vertical-align: middle; margin-left: 0.5rem\">CARDINAL</span>\n</mark>\nG at its stores that are priced \n<mark class=\"entity\" style=\"background: #e4e7d2; padding: 0.45em 0.6em; margin: 0 0.25em; line-height: 1; border-radius: 0.35em;\">\n    about $50\n    <span style=\"font-size: 0.8em; font-weight: bold; line-height: 1; border-radius: 0.35em; text-transform: uppercase; vertical-align: middle; margin-left: 0.5rem\">MONEY</span>\n</mark>\n less than new \n<mark class=\"entity\" style=\"background: #bfeeb7; padding: 0.45em 0.6em; margin: 0 0.25em; line-height: 1; border-radius: 0.35em;\">\n    iPhones\n    <span style=\"font-size: 0.8em; font-weight: bold; line-height: 1; border-radius: 0.35em; text-transform: uppercase; vertical-align: middle; margin-left: 0.5rem\">PRODUCT</span>\n</mark>\n. The electronics chain said the used \n<mark class=\"entity\" style=\"background: #bfeeb7; padding: 0.45em 0.6em; margin: 0 0.25em; line-height: 1; border-radius: 0.35em;\">\n    iPhones\n    <span style=\"font-size: 0.8em; font-weight: bold; line-height: 1; border-radius: 0.35em; text-transform: uppercase; vertical-align: middle; margin-left: 0.5rem\">PRODUCT</span>\n</mark>\n, which were returned within \n<mark class=\"entity\" style=\"background: #bfe1d9; padding: 0.45em 0.6em; margin: 0 0.25em; line-height: 1; border-radius: 0.35em;\">\n    30 days\n    <span style=\"font-size: 0.8em; font-weight: bold; line-height: 1; border-radius: 0.35em; text-transform: uppercase; vertical-align: middle; margin-left: 0.5rem\">DATE</span>\n</mark>\n of purchase, are priced at $\n<mark class=\"entity\" style=\"background: #e4e7d2; padding: 0.45em 0.6em; margin: 0 0.25em; line-height: 1; border-radius: 0.35em;\">\n    149\n    <span style=\"font-size: 0.8em; font-weight: bold; line-height: 1; border-radius: 0.35em; text-transform: uppercase; vertical-align: middle; margin-left: 0.5rem\">MONEY</span>\n</mark>\n for the model with \n<mark class=\"entity\" style=\"background: #e4e7d2; padding: 0.45em 0.6em; margin: 0 0.25em; line-height: 1; border-radius: 0.35em;\">\n    8\n    <span style=\"font-size: 0.8em; font-weight: bold; line-height: 1; border-radius: 0.35em; text-transform: uppercase; vertical-align: middle; margin-left: 0.5rem\">CARDINAL</span>\n</mark>\n gigabytes of storage, while the \n<mark class=\"entity\" style=\"background: #bfe1d9; padding: 0.45em 0.6em; margin: 0 0.25em; line-height: 1; border-radius: 0.35em;\">\n    16-gigabyte\n    <span style=\"font-size: 0.8em; font-weight: bold; line-height: 1; border-radius: 0.35em; text-transform: uppercase; vertical-align: middle; margin-left: 0.5rem\">DATE</span>\n</mark>\n version is $\n<mark class=\"entity\" style=\"background: #e4e7d2; padding: 0.45em 0.6em; margin: 0 0.25em; line-height: 1; border-radius: 0.35em;\">\n    249\n    <span style=\"font-size: 0.8em; font-weight: bold; line-height: 1; border-radius: 0.35em; text-transform: uppercase; vertical-align: middle; margin-left: 0.5rem\">MONEY</span>\n</mark>\n. A \n<mark class=\"entity\" style=\"background: #bfe1d9; padding: 0.45em 0.6em; margin: 0 0.25em; line-height: 1; border-radius: 0.35em;\">\n    two-year\n    <span style=\"font-size: 0.8em; font-weight: bold; line-height: 1; border-radius: 0.35em; text-transform: uppercase; vertical-align: middle; margin-left: 0.5rem\">DATE</span>\n</mark>\n service contract with \n<mark class=\"entity\" style=\"background: #7aecec; padding: 0.45em 0.6em; margin: 0 0.25em; line-height: 1; border-radius: 0.35em;\">\n    AT&amp;T Inc\n    <span style=\"font-size: 0.8em; font-weight: bold; line-height: 1; border-radius: 0.35em; text-transform: uppercase; vertical-align: middle; margin-left: 0.5rem\">ORG</span>\n</mark>\n is required. New \n<mark class=\"entity\" style=\"background: #7aecec; padding: 0.45em 0.6em; margin: 0 0.25em; line-height: 1; border-radius: 0.35em;\">\n    iPhone\n    <span style=\"font-size: 0.8em; font-weight: bold; line-height: 1; border-radius: 0.35em; text-transform: uppercase; vertical-align: middle; margin-left: 0.5rem\">ORG</span>\n</mark>\n 3Gs currently sell for $\n<mark class=\"entity\" style=\"background: #e4e7d2; padding: 0.45em 0.6em; margin: 0 0.25em; line-height: 1; border-radius: 0.35em;\">\n    199\n    <span style=\"font-size: 0.8em; font-weight: bold; line-height: 1; border-radius: 0.35em; text-transform: uppercase; vertical-align: middle; margin-left: 0.5rem\">MONEY</span>\n</mark>\n and $\n<mark class=\"entity\" style=\"background: #e4e7d2; padding: 0.45em 0.6em; margin: 0 0.25em; line-height: 1; border-radius: 0.35em;\">\n    299\n    <span style=\"font-size: 0.8em; font-weight: bold; line-height: 1; border-radius: 0.35em; text-transform: uppercase; vertical-align: middle; margin-left: 0.5rem\">MONEY</span>\n</mark>\n at \n<mark class=\"entity\" style=\"background: #7aecec; padding: 0.45em 0.6em; margin: 0 0.25em; line-height: 1; border-radius: 0.35em;\">\n    Best Buy Mobile\n    <span style=\"font-size: 0.8em; font-weight: bold; line-height: 1; border-radius: 0.35em; text-transform: uppercase; vertical-align: middle; margin-left: 0.5rem\">ORG</span>\n</mark>\n stores. &quot;This is focusing on customers' needs, trying to provide as wide a range of products and networks for our consumers,&quot; said \n<mark class=\"entity\" style=\"background: #aa9cfc; padding: 0.45em 0.6em; margin: 0 0.25em; line-height: 1; border-radius: 0.35em;\">\n    Scott Moore\n    <span style=\"font-size: 0.8em; font-weight: bold; line-height: 1; border-radius: 0.35em; text-transform: uppercase; vertical-align: middle; margin-left: 0.5rem\">PERSON</span>\n</mark>\n, vice president of marketing for \n<mark class=\"entity\" style=\"background: #7aecec; padding: 0.45em 0.6em; margin: 0 0.25em; line-height: 1; border-radius: 0.35em;\">\n    Best Buy Mobile\n    <span style=\"font-size: 0.8em; font-weight: bold; line-height: 1; border-radius: 0.35em; text-transform: uppercase; vertical-align: middle; margin-left: 0.5rem\">ORG</span>\n</mark>\n. Buyers of \n<mark class=\"entity\" style=\"background: #e4e7d2; padding: 0.45em 0.6em; margin: 0 0.25em; line-height: 1; border-radius: 0.35em;\">\n    first\n    <span style=\"font-size: 0.8em; font-weight: bold; line-height: 1; border-radius: 0.35em; text-transform: uppercase; vertical-align: middle; margin-left: 0.5rem\">ORDINAL</span>\n</mark>\n-generation \n<mark class=\"entity\" style=\"background: #ffeb80; padding: 0.45em 0.6em; margin: 0 0.25em; line-height: 1; border-radius: 0.35em;\">\n    iPhones\n    <span style=\"font-size: 0.8em; font-weight: bold; line-height: 1; border-radius: 0.35em; text-transform: uppercase; vertical-align: middle; margin-left: 0.5rem\">EVENT</span>\n</mark>\n can also upgrade to the faster refurbished \n<mark class=\"entity\" style=\"background: #e4e7d2; padding: 0.45em 0.6em; margin: 0 0.25em; line-height: 1; border-radius: 0.35em;\">\n    3\n    <span style=\"font-size: 0.8em; font-weight: bold; line-height: 1; border-radius: 0.35em; text-transform: uppercase; vertical-align: middle; margin-left: 0.5rem\">CARDINAL</span>\n</mark>\nG models at Best Buy, he said. \n<mark class=\"entity\" style=\"background: #aa9cfc; padding: 0.45em 0.6em; margin: 0 0.25em; line-height: 1; border-radius: 0.35em;\">\n    Moore\n    <span style=\"font-size: 0.8em; font-weight: bold; line-height: 1; border-radius: 0.35em; text-transform: uppercase; vertical-align: middle; margin-left: 0.5rem\">PERSON</span>\n</mark>\n said \n<mark class=\"entity\" style=\"background: #7aecec; padding: 0.45em 0.6em; margin: 0 0.25em; line-height: 1; border-radius: 0.35em;\">\n    AT&amp;T\n    <span style=\"font-size: 0.8em; font-weight: bold; line-height: 1; border-radius: 0.35em; text-transform: uppercase; vertical-align: middle; margin-left: 0.5rem\">ORG</span>\n</mark>\n, the exclusive wireless provider for the \n<mark class=\"entity\" style=\"background: #7aecec; padding: 0.45em 0.6em; margin: 0 0.25em; line-height: 1; border-radius: 0.35em;\">\n    iPhone\n    <span style=\"font-size: 0.8em; font-weight: bold; line-height: 1; border-radius: 0.35em; text-transform: uppercase; vertical-align: middle; margin-left: 0.5rem\">ORG</span>\n</mark>\n, offers refurbished \n<mark class=\"entity\" style=\"background: #bfeeb7; padding: 0.45em 0.6em; margin: 0 0.25em; line-height: 1; border-radius: 0.35em;\">\n    iPhones\n    <span style=\"font-size: 0.8em; font-weight: bold; line-height: 1; border-radius: 0.35em; text-transform: uppercase; vertical-align: middle; margin-left: 0.5rem\">PRODUCT</span>\n</mark>\n online. The sale of used \n<mark class=\"entity\" style=\"background: #bfeeb7; padding: 0.45em 0.6em; margin: 0 0.25em; line-height: 1; border-radius: 0.35em;\">\n    iPhones\n    <span style=\"font-size: 0.8em; font-weight: bold; line-height: 1; border-radius: 0.35em; text-transform: uppercase; vertical-align: middle; margin-left: 0.5rem\">PRODUCT</span>\n</mark>\n comes as Best Buy, the top consumer electronics chain, seeks ways to fend off increased competition from discounters such as \n<mark class=\"entity\" style=\"background: #7aecec; padding: 0.45em 0.6em; margin: 0 0.25em; line-height: 1; border-radius: 0.35em;\">\n    Wal-Mart Stores Inc\n    <span style=\"font-size: 0.8em; font-weight: bold; line-height: 1; border-radius: 0.35em; text-transform: uppercase; vertical-align: middle; margin-left: 0.5rem\">ORG</span>\n</mark>\n, which began selling the popular phone \n<mark class=\"entity\" style=\"background: #bfe1d9; padding: 0.45em 0.6em; margin: 0 0.25em; line-height: 1; border-radius: 0.35em;\">\n    late last month\n    <span style=\"font-size: 0.8em; font-weight: bold; line-height: 1; border-radius: 0.35em; text-transform: uppercase; vertical-align: middle; margin-left: 0.5rem\">DATE</span>\n</mark>\n. \n<mark class=\"entity\" style=\"background: #7aecec; padding: 0.45em 0.6em; margin: 0 0.25em; line-height: 1; border-radius: 0.35em;\">\n    Wal-Mart\n    <span style=\"font-size: 0.8em; font-weight: bold; line-height: 1; border-radius: 0.35em; text-transform: uppercase; vertical-align: middle; margin-left: 0.5rem\">ORG</span>\n</mark>\n sells a new 8-gigabyte iPhone \n<mark class=\"entity\" style=\"background: #e4e7d2; padding: 0.45em 0.6em; margin: 0 0.25em; line-height: 1; border-radius: 0.35em;\">\n    3\n    <span style=\"font-size: 0.8em; font-weight: bold; line-height: 1; border-radius: 0.35em; text-transform: uppercase; vertical-align: middle; margin-left: 0.5rem\">CARDINAL</span>\n</mark>\nG for \n<mark class=\"entity\" style=\"background: #e4e7d2; padding: 0.45em 0.6em; margin: 0 0.25em; line-height: 1; border-radius: 0.35em;\">\n    $197 and $297\n    <span style=\"font-size: 0.8em; font-weight: bold; line-height: 1; border-radius: 0.35em; text-transform: uppercase; vertical-align: middle; margin-left: 0.5rem\">MONEY</span>\n</mark>\n for the \n<mark class=\"entity\" style=\"background: #bfe1d9; padding: 0.45em 0.6em; margin: 0 0.25em; line-height: 1; border-radius: 0.35em;\">\n    16-gigabyte\n    <span style=\"font-size: 0.8em; font-weight: bold; line-height: 1; border-radius: 0.35em; text-transform: uppercase; vertical-align: middle; margin-left: 0.5rem\">DATE</span>\n</mark>\n model. The \n<mark class=\"entity\" style=\"background: #7aecec; padding: 0.45em 0.6em; margin: 0 0.25em; line-height: 1; border-radius: 0.35em;\">\n    iPhone\n    <span style=\"font-size: 0.8em; font-weight: bold; line-height: 1; border-radius: 0.35em; text-transform: uppercase; vertical-align: middle; margin-left: 0.5rem\">ORG</span>\n</mark>\n is also sold at \n<mark class=\"entity\" style=\"background: #7aecec; padding: 0.45em 0.6em; margin: 0 0.25em; line-height: 1; border-radius: 0.35em;\">\n    Apple\n    <span style=\"font-size: 0.8em; font-weight: bold; line-height: 1; border-radius: 0.35em; text-transform: uppercase; vertical-align: middle; margin-left: 0.5rem\">ORG</span>\n</mark>\n stores and \n<mark class=\"entity\" style=\"background: #7aecec; padding: 0.45em 0.6em; margin: 0 0.25em; line-height: 1; border-radius: 0.35em;\">\n    AT&amp;T\n    <span style=\"font-size: 0.8em; font-weight: bold; line-height: 1; border-radius: 0.35em; text-transform: uppercase; vertical-align: middle; margin-left: 0.5rem\">ORG</span>\n</mark>\n stores. \n<mark class=\"entity\" style=\"background: #aa9cfc; padding: 0.45em 0.6em; margin: 0 0.25em; line-height: 1; border-radius: 0.35em;\">\n    Moore\n    <span style=\"font-size: 0.8em; font-weight: bold; line-height: 1; border-radius: 0.35em; text-transform: uppercase; vertical-align: middle; margin-left: 0.5rem\">PERSON</span>\n</mark>\n said \n<mark class=\"entity\" style=\"background: #aa9cfc; padding: 0.45em 0.6em; margin: 0 0.25em; line-height: 1; border-radius: 0.35em;\">\n    Best Buy's\n    <span style=\"font-size: 0.8em; font-weight: bold; line-height: 1; border-radius: 0.35em; text-transform: uppercase; vertical-align: middle; margin-left: 0.5rem\">PERSON</span>\n</mark>\n move was not in response to other retailers' actions. (Reporting by \n<mark class=\"entity\" style=\"background: #aa9cfc; padding: 0.45em 0.6em; margin: 0 0.25em; line-height: 1; border-radius: 0.35em;\">\n    Karen Jacobs\n    <span style=\"font-size: 0.8em; font-weight: bold; line-height: 1; border-radius: 0.35em; text-transform: uppercase; vertical-align: middle; margin-left: 0.5rem\">PERSON</span>\n</mark>\n ; Editing by \n<mark class=\"entity\" style=\"background: #aa9cfc; padding: 0.45em 0.6em; margin: 0 0.25em; line-height: 1; border-radius: 0.35em;\">\n    Andre Grenon\n    <span style=\"font-size: 0.8em; font-weight: bold; line-height: 1; border-radius: 0.35em; text-transform: uppercase; vertical-align: middle; margin-left: 0.5rem\">PERSON</span>\n</mark>\n )</div></span>",
      "text/plain": "<IPython.core.display.HTML object>"
     },
     "metadata": {
      "transient": {}
     },
     "output_type": "display_data"
    }
   ],
   "source": [
    "import spacy, skweak\n",
    "\n",
    "# We load the spacy model\n",
    "nlp = spacy.load(\"en\")\n",
    "doc = nlp(news_text)\n",
    "\n",
    "# Visualising the entities\n",
    "skweak.utils.display_entities(doc)"
   ]
  },
  {
   "cell_type": "markdown",
   "metadata": {},
   "source": [
    "The medium-size model works better, but still contains quite a few errors and omissions:"
   ]
  },
  {
   "cell_type": "code",
   "execution_count": 6,
   "metadata": {},
   "outputs": [
    {
     "data": {
      "text/html": "<span class=\"tex2jax_ignore\"><div class=\"entities\" style=\"line-height: 2.5; direction: ltr\"> \n<mark class=\"entity\" style=\"background: #feca74; padding: 0.45em 0.6em; margin: 0 0.25em; line-height: 1; border-radius: 0.35em;\">\n    ATLANTA\n    <span style=\"font-size: 0.8em; font-weight: bold; line-height: 1; border-radius: 0.35em; text-transform: uppercase; vertical-align: middle; margin-left: 0.5rem\">GPE</span>\n</mark>\n (\n<mark class=\"entity\" style=\"background: #7aecec; padding: 0.45em 0.6em; margin: 0 0.25em; line-height: 1; border-radius: 0.35em;\">\n    Reuters\n    <span style=\"font-size: 0.8em; font-weight: bold; line-height: 1; border-radius: 0.35em; text-transform: uppercase; vertical-align: middle; margin-left: 0.5rem\">ORG</span>\n</mark>\n) - Retailer Best Buy Co, seeking new ways to appeal to cost-conscious shoppers, said on \n<mark class=\"entity\" style=\"background: #bfe1d9; padding: 0.45em 0.6em; margin: 0 0.25em; line-height: 1; border-radius: 0.35em;\">\n    Tuesday\n    <span style=\"font-size: 0.8em; font-weight: bold; line-height: 1; border-radius: 0.35em; text-transform: uppercase; vertical-align: middle; margin-left: 0.5rem\">DATE</span>\n</mark>\n it is selling refurbished versions of \n<mark class=\"entity\" style=\"background: #7aecec; padding: 0.45em 0.6em; margin: 0 0.25em; line-height: 1; border-radius: 0.35em;\">\n    Apple Inc's\n    <span style=\"font-size: 0.8em; font-weight: bold; line-height: 1; border-radius: 0.35em; text-transform: uppercase; vertical-align: middle; margin-left: 0.5rem\">ORG</span>\n</mark>\n \n<mark class=\"entity\" style=\"background: #7aecec; padding: 0.45em 0.6em; margin: 0 0.25em; line-height: 1; border-radius: 0.35em;\">\n    iPhone 3G\n    <span style=\"font-size: 0.8em; font-weight: bold; line-height: 1; border-radius: 0.35em; text-transform: uppercase; vertical-align: middle; margin-left: 0.5rem\">ORG</span>\n</mark>\n at its stores that are priced \n<mark class=\"entity\" style=\"background: #e4e7d2; padding: 0.45em 0.6em; margin: 0 0.25em; line-height: 1; border-radius: 0.35em;\">\n    about $50\n    <span style=\"font-size: 0.8em; font-weight: bold; line-height: 1; border-radius: 0.35em; text-transform: uppercase; vertical-align: middle; margin-left: 0.5rem\">MONEY</span>\n</mark>\n less than new \n<mark class=\"entity\" style=\"background: #bfeeb7; padding: 0.45em 0.6em; margin: 0 0.25em; line-height: 1; border-radius: 0.35em;\">\n    iPhones\n    <span style=\"font-size: 0.8em; font-weight: bold; line-height: 1; border-radius: 0.35em; text-transform: uppercase; vertical-align: middle; margin-left: 0.5rem\">PRODUCT</span>\n</mark>\n. The electronics chain said the used \n<mark class=\"entity\" style=\"background: #bfeeb7; padding: 0.45em 0.6em; margin: 0 0.25em; line-height: 1; border-radius: 0.35em;\">\n    iPhones\n    <span style=\"font-size: 0.8em; font-weight: bold; line-height: 1; border-radius: 0.35em; text-transform: uppercase; vertical-align: middle; margin-left: 0.5rem\">PRODUCT</span>\n</mark>\n, which were returned within \n<mark class=\"entity\" style=\"background: #bfe1d9; padding: 0.45em 0.6em; margin: 0 0.25em; line-height: 1; border-radius: 0.35em;\">\n    30 days\n    <span style=\"font-size: 0.8em; font-weight: bold; line-height: 1; border-radius: 0.35em; text-transform: uppercase; vertical-align: middle; margin-left: 0.5rem\">DATE</span>\n</mark>\n of purchase, are priced at $\n<mark class=\"entity\" style=\"background: #e4e7d2; padding: 0.45em 0.6em; margin: 0 0.25em; line-height: 1; border-radius: 0.35em;\">\n    149\n    <span style=\"font-size: 0.8em; font-weight: bold; line-height: 1; border-radius: 0.35em; text-transform: uppercase; vertical-align: middle; margin-left: 0.5rem\">MONEY</span>\n</mark>\n for the model with \n<mark class=\"entity\" style=\"background: #e4e7d2; padding: 0.45em 0.6em; margin: 0 0.25em; line-height: 1; border-radius: 0.35em;\">\n    8 gigabytes\n    <span style=\"font-size: 0.8em; font-weight: bold; line-height: 1; border-radius: 0.35em; text-transform: uppercase; vertical-align: middle; margin-left: 0.5rem\">QUANTITY</span>\n</mark>\n of storage, while the \n<mark class=\"entity\" style=\"background: #e4e7d2; padding: 0.45em 0.6em; margin: 0 0.25em; line-height: 1; border-radius: 0.35em;\">\n    16-gigabyte\n    <span style=\"font-size: 0.8em; font-weight: bold; line-height: 1; border-radius: 0.35em; text-transform: uppercase; vertical-align: middle; margin-left: 0.5rem\">QUANTITY</span>\n</mark>\n version is $\n<mark class=\"entity\" style=\"background: #e4e7d2; padding: 0.45em 0.6em; margin: 0 0.25em; line-height: 1; border-radius: 0.35em;\">\n    249\n    <span style=\"font-size: 0.8em; font-weight: bold; line-height: 1; border-radius: 0.35em; text-transform: uppercase; vertical-align: middle; margin-left: 0.5rem\">MONEY</span>\n</mark>\n. A \n<mark class=\"entity\" style=\"background: #bfe1d9; padding: 0.45em 0.6em; margin: 0 0.25em; line-height: 1; border-radius: 0.35em;\">\n    two-year\n    <span style=\"font-size: 0.8em; font-weight: bold; line-height: 1; border-radius: 0.35em; text-transform: uppercase; vertical-align: middle; margin-left: 0.5rem\">DATE</span>\n</mark>\n service contract with \n<mark class=\"entity\" style=\"background: #7aecec; padding: 0.45em 0.6em; margin: 0 0.25em; line-height: 1; border-radius: 0.35em;\">\n    AT&amp;T Inc\n    <span style=\"font-size: 0.8em; font-weight: bold; line-height: 1; border-radius: 0.35em; text-transform: uppercase; vertical-align: middle; margin-left: 0.5rem\">ORG</span>\n</mark>\n is required. New iPhone \n<mark class=\"entity\" style=\"background: #bfeeb7; padding: 0.45em 0.6em; margin: 0 0.25em; line-height: 1; border-radius: 0.35em;\">\n    3Gs\n    <span style=\"font-size: 0.8em; font-weight: bold; line-height: 1; border-radius: 0.35em; text-transform: uppercase; vertical-align: middle; margin-left: 0.5rem\">PRODUCT</span>\n</mark>\n currently sell for $\n<mark class=\"entity\" style=\"background: #e4e7d2; padding: 0.45em 0.6em; margin: 0 0.25em; line-height: 1; border-radius: 0.35em;\">\n    199\n    <span style=\"font-size: 0.8em; font-weight: bold; line-height: 1; border-radius: 0.35em; text-transform: uppercase; vertical-align: middle; margin-left: 0.5rem\">MONEY</span>\n</mark>\n and $\n<mark class=\"entity\" style=\"background: #e4e7d2; padding: 0.45em 0.6em; margin: 0 0.25em; line-height: 1; border-radius: 0.35em;\">\n    299\n    <span style=\"font-size: 0.8em; font-weight: bold; line-height: 1; border-radius: 0.35em; text-transform: uppercase; vertical-align: middle; margin-left: 0.5rem\">MONEY</span>\n</mark>\n at Best Buy Mobile stores. &quot;This is focusing on customers' needs, trying to provide as wide a range of products and networks for our consumers,&quot; said \n<mark class=\"entity\" style=\"background: #aa9cfc; padding: 0.45em 0.6em; margin: 0 0.25em; line-height: 1; border-radius: 0.35em;\">\n    Scott Moore\n    <span style=\"font-size: 0.8em; font-weight: bold; line-height: 1; border-radius: 0.35em; text-transform: uppercase; vertical-align: middle; margin-left: 0.5rem\">PERSON</span>\n</mark>\n, vice president of marketing for Best Buy Mobile. Buyers of \n<mark class=\"entity\" style=\"background: #e4e7d2; padding: 0.45em 0.6em; margin: 0 0.25em; line-height: 1; border-radius: 0.35em;\">\n    first\n    <span style=\"font-size: 0.8em; font-weight: bold; line-height: 1; border-radius: 0.35em; text-transform: uppercase; vertical-align: middle; margin-left: 0.5rem\">ORDINAL</span>\n</mark>\n-generation \n<mark class=\"entity\" style=\"background: #bfeeb7; padding: 0.45em 0.6em; margin: 0 0.25em; line-height: 1; border-radius: 0.35em;\">\n    iPhones\n    <span style=\"font-size: 0.8em; font-weight: bold; line-height: 1; border-radius: 0.35em; text-transform: uppercase; vertical-align: middle; margin-left: 0.5rem\">PRODUCT</span>\n</mark>\n can also upgrade to the faster refurbished \n<mark class=\"entity\" style=\"background: #e4e7d2; padding: 0.45em 0.6em; margin: 0 0.25em; line-height: 1; border-radius: 0.35em;\">\n    3\n    <span style=\"font-size: 0.8em; font-weight: bold; line-height: 1; border-radius: 0.35em; text-transform: uppercase; vertical-align: middle; margin-left: 0.5rem\">CARDINAL</span>\n</mark>\nG models at Best Buy, he said. \n<mark class=\"entity\" style=\"background: #aa9cfc; padding: 0.45em 0.6em; margin: 0 0.25em; line-height: 1; border-radius: 0.35em;\">\n    Moore\n    <span style=\"font-size: 0.8em; font-weight: bold; line-height: 1; border-radius: 0.35em; text-transform: uppercase; vertical-align: middle; margin-left: 0.5rem\">PERSON</span>\n</mark>\n said \n<mark class=\"entity\" style=\"background: #7aecec; padding: 0.45em 0.6em; margin: 0 0.25em; line-height: 1; border-radius: 0.35em;\">\n    AT&amp;T\n    <span style=\"font-size: 0.8em; font-weight: bold; line-height: 1; border-radius: 0.35em; text-transform: uppercase; vertical-align: middle; margin-left: 0.5rem\">ORG</span>\n</mark>\n, the exclusive wireless provider for the \n<mark class=\"entity\" style=\"background: #bfeeb7; padding: 0.45em 0.6em; margin: 0 0.25em; line-height: 1; border-radius: 0.35em;\">\n    iPhone\n    <span style=\"font-size: 0.8em; font-weight: bold; line-height: 1; border-radius: 0.35em; text-transform: uppercase; vertical-align: middle; margin-left: 0.5rem\">PRODUCT</span>\n</mark>\n, offers refurbished \n<mark class=\"entity\" style=\"background: #bfeeb7; padding: 0.45em 0.6em; margin: 0 0.25em; line-height: 1; border-radius: 0.35em;\">\n    iPhones\n    <span style=\"font-size: 0.8em; font-weight: bold; line-height: 1; border-radius: 0.35em; text-transform: uppercase; vertical-align: middle; margin-left: 0.5rem\">PRODUCT</span>\n</mark>\n online. The sale of used \n<mark class=\"entity\" style=\"background: #bfeeb7; padding: 0.45em 0.6em; margin: 0 0.25em; line-height: 1; border-radius: 0.35em;\">\n    iPhones\n    <span style=\"font-size: 0.8em; font-weight: bold; line-height: 1; border-radius: 0.35em; text-transform: uppercase; vertical-align: middle; margin-left: 0.5rem\">PRODUCT</span>\n</mark>\n comes as Best Buy, the top consumer electronics chain, seeks ways to fend off increased competition from discounters such as \n<mark class=\"entity\" style=\"background: #7aecec; padding: 0.45em 0.6em; margin: 0 0.25em; line-height: 1; border-radius: 0.35em;\">\n    Wal-Mart Stores Inc\n    <span style=\"font-size: 0.8em; font-weight: bold; line-height: 1; border-radius: 0.35em; text-transform: uppercase; vertical-align: middle; margin-left: 0.5rem\">ORG</span>\n</mark>\n, which began selling the popular phone \n<mark class=\"entity\" style=\"background: #bfe1d9; padding: 0.45em 0.6em; margin: 0 0.25em; line-height: 1; border-radius: 0.35em;\">\n    late last month\n    <span style=\"font-size: 0.8em; font-weight: bold; line-height: 1; border-radius: 0.35em; text-transform: uppercase; vertical-align: middle; margin-left: 0.5rem\">DATE</span>\n</mark>\n. \n<mark class=\"entity\" style=\"background: #7aecec; padding: 0.45em 0.6em; margin: 0 0.25em; line-height: 1; border-radius: 0.35em;\">\n    Wal-Mart\n    <span style=\"font-size: 0.8em; font-weight: bold; line-height: 1; border-radius: 0.35em; text-transform: uppercase; vertical-align: middle; margin-left: 0.5rem\">ORG</span>\n</mark>\n sells a new 8-gigabyte iPhone 3G for \n<mark class=\"entity\" style=\"background: #e4e7d2; padding: 0.45em 0.6em; margin: 0 0.25em; line-height: 1; border-radius: 0.35em;\">\n    $197 and $297\n    <span style=\"font-size: 0.8em; font-weight: bold; line-height: 1; border-radius: 0.35em; text-transform: uppercase; vertical-align: middle; margin-left: 0.5rem\">MONEY</span>\n</mark>\n for the \n<mark class=\"entity\" style=\"background: #e4e7d2; padding: 0.45em 0.6em; margin: 0 0.25em; line-height: 1; border-radius: 0.35em;\">\n    16-gigabyte\n    <span style=\"font-size: 0.8em; font-weight: bold; line-height: 1; border-radius: 0.35em; text-transform: uppercase; vertical-align: middle; margin-left: 0.5rem\">QUANTITY</span>\n</mark>\n model. The \n<mark class=\"entity\" style=\"background: #7aecec; padding: 0.45em 0.6em; margin: 0 0.25em; line-height: 1; border-radius: 0.35em;\">\n    iPhone\n    <span style=\"font-size: 0.8em; font-weight: bold; line-height: 1; border-radius: 0.35em; text-transform: uppercase; vertical-align: middle; margin-left: 0.5rem\">ORG</span>\n</mark>\n is also sold at \n<mark class=\"entity\" style=\"background: #7aecec; padding: 0.45em 0.6em; margin: 0 0.25em; line-height: 1; border-radius: 0.35em;\">\n    Apple\n    <span style=\"font-size: 0.8em; font-weight: bold; line-height: 1; border-radius: 0.35em; text-transform: uppercase; vertical-align: middle; margin-left: 0.5rem\">ORG</span>\n</mark>\n stores and \n<mark class=\"entity\" style=\"background: #7aecec; padding: 0.45em 0.6em; margin: 0 0.25em; line-height: 1; border-radius: 0.35em;\">\n    AT&amp;T\n    <span style=\"font-size: 0.8em; font-weight: bold; line-height: 1; border-radius: 0.35em; text-transform: uppercase; vertical-align: middle; margin-left: 0.5rem\">ORG</span>\n</mark>\n stores. \n<mark class=\"entity\" style=\"background: #aa9cfc; padding: 0.45em 0.6em; margin: 0 0.25em; line-height: 1; border-radius: 0.35em;\">\n    Moore\n    <span style=\"font-size: 0.8em; font-weight: bold; line-height: 1; border-radius: 0.35em; text-transform: uppercase; vertical-align: middle; margin-left: 0.5rem\">PERSON</span>\n</mark>\n said Best Buy's move was not in response to other retailers' actions. (Reporting by \n<mark class=\"entity\" style=\"background: #aa9cfc; padding: 0.45em 0.6em; margin: 0 0.25em; line-height: 1; border-radius: 0.35em;\">\n    Karen Jacobs\n    <span style=\"font-size: 0.8em; font-weight: bold; line-height: 1; border-radius: 0.35em; text-transform: uppercase; vertical-align: middle; margin-left: 0.5rem\">PERSON</span>\n</mark>\n ; Editing by \n<mark class=\"entity\" style=\"background: #aa9cfc; padding: 0.45em 0.6em; margin: 0 0.25em; line-height: 1; border-radius: 0.35em;\">\n    Andre Grenon\n    <span style=\"font-size: 0.8em; font-weight: bold; line-height: 1; border-radius: 0.35em; text-transform: uppercase; vertical-align: middle; margin-left: 0.5rem\">PERSON</span>\n</mark>\n )</div></span>",
      "text/plain": "<IPython.core.display.HTML object>"
     },
     "metadata": {
      "transient": {}
     },
     "output_type": "display_data"
    }
   ],
   "source": [
    "\n",
    "# We load the spacy model (takes a few seconds)\n",
    "nlp = spacy.load(\"en_core_web_md\")\n",
    "doc = nlp(news_text)\n",
    "\n",
    "# Visualising the entities\n",
    "skweak.utils.display_entities(doc)"
   ]
  },
  {
   "cell_type": "markdown",
   "metadata": {},
   "source": [
    "Ideally, one would wish to train a better named entity recognition model, which is better tailored to the specific needs and linguistic patterns found in those articles. However, although we have large amounts of raw text data, we often do not have text data labelled with named entities for our domain. We therefore worked on an alternative approach based on __weak supervision__, combining several (noisy) supervision sources instead of a single \"gold standard\". "
   ]
  },
  {
   "cell_type": "markdown",
   "metadata": {},
   "source": [
    "Indeed, we do have access to several possible supervision sources, such as alternative NER models trained on other corpora, large lists of entity (companies, person names, geographical locations), shallow linguistic patterns, and document-level constraints. \n",
    "\n",
    "The key idea behind the proposed approach is thus to (1) use these supervision sources to automatically annotate news corpora, (2) estimate a label model (more precisely an HMM model) that unifies all these sources into a single one, and (3) learn a new NER model based on these unified labels. <br>"
   ]
  },
  {
   "cell_type": "markdown",
   "metadata": {},
   "source": [
    "__Outline of this notebook__: I describe below the various annotation schemes that I developed.  I then explain how these various sources can be merged into a single source using the `skweak` framework. Finally, I detail the architecture behind the NER model."
   ]
  },
  {
   "cell_type": "markdown",
   "metadata": {},
   "source": [
    "## __Step 1:__ Annotations"
   ]
  },
  {
   "cell_type": "markdown",
   "metadata": {},
   "source": [
    "### 1) Annotators from other Spacy models"
   ]
  },
  {
   "cell_type": "markdown",
   "metadata": {},
   "source": [
    "A first source of automatic annotation comes from NER models trained on multiple, distinct corpora. I went through [available NE-labelled corpora](https://github.com/juand-r/entity-recognition-datasets) to search for datasets that could be used to train alternative models. I then trained Spacy models for all of them, and then conducted some experiments to assess their performance. At the end of the process, I ended up with four models:\n",
    "- The standard Spacy model for English (`en_core_web_md`), trained on Ontonotes v5\n",
    "- A model trained on [ConLL 2003](https://www.clips.uantwerpen.be/conll2003/ner/)\n",
    "- A model trained on the [Broad Twitter Corpus](https://github.com/GateNLP/broad_twitter_corpus)\n",
    "- A model trained on a corpus of [SEC filings](https://www.aclweb.org/anthology/U15-1010/).\n",
    "    \n",
    "Note there are differences between the entity labels of these models: while Ontonotes contains no less than [18 classes](https://spacy.io/api/annotation#named-entities), the other corpora only contain `PER(SON)`, `ORG`, `LOC` and `MISC`. Furthermore, the labels also do not match each other perfectly: while Ontonotes distinguishes between geopolitical locations (`GPE`) and \"natural\" locations (such as continents, seas etc., labelled as `LOC`), the three other models regroup all geographical entities as `LOC`. "
   ]
  },
  {
   "cell_type": "markdown",
   "metadata": {},
   "source": [
    "We can apply annotations from a Spacy model using the `ModelAnnotator` class"
   ]
  },
  {
   "cell_type": "code",
   "execution_count": 5,
   "metadata": {},
   "outputs": [
    {
     "data": {
      "text/html": "<span class=\"tex2jax_ignore\"><div class=\"entities\" style=\"line-height: 2.5; direction: ltr\"> ATLANTA (\n<mark class=\"entity\" style=\"background: #7aecec; padding: 0.45em 0.6em; margin: 0 0.25em; line-height: 1; border-radius: 0.35em;\">\n    Reuters\n    <span style=\"font-size: 0.8em; font-weight: bold; line-height: 1; border-radius: 0.35em; text-transform: uppercase; vertical-align: middle; margin-left: 0.5rem\">ORG</span>\n</mark>\n) - Retailer \n<mark class=\"entity\" style=\"background: #7aecec; padding: 0.45em 0.6em; margin: 0 0.25em; line-height: 1; border-radius: 0.35em;\">\n    Best Buy Co\n    <span style=\"font-size: 0.8em; font-weight: bold; line-height: 1; border-radius: 0.35em; text-transform: uppercase; vertical-align: middle; margin-left: 0.5rem\">ORG</span>\n</mark>\n, seeking new ways to appeal to cost-conscious shoppers, said on Tuesday it is selling refurbished versions of \n<mark class=\"entity\" style=\"background: #7aecec; padding: 0.45em 0.6em; margin: 0 0.25em; line-height: 1; border-radius: 0.35em;\">\n    Apple Inc\n    <span style=\"font-size: 0.8em; font-weight: bold; line-height: 1; border-radius: 0.35em; text-transform: uppercase; vertical-align: middle; margin-left: 0.5rem\">ORG</span>\n</mark>\n's \n<mark class=\"entity\" style=\"background: #7aecec; padding: 0.45em 0.6em; margin: 0 0.25em; line-height: 1; border-radius: 0.35em;\">\n    iPhone\n    <span style=\"font-size: 0.8em; font-weight: bold; line-height: 1; border-radius: 0.35em; text-transform: uppercase; vertical-align: middle; margin-left: 0.5rem\">ORG</span>\n</mark>\n 3G at its stores that are priced about $50 less than new \n<mark class=\"entity\" style=\"background: #7aecec; padding: 0.45em 0.6em; margin: 0 0.25em; line-height: 1; border-radius: 0.35em;\">\n    iPhones\n    <span style=\"font-size: 0.8em; font-weight: bold; line-height: 1; border-radius: 0.35em; text-transform: uppercase; vertical-align: middle; margin-left: 0.5rem\">ORG</span>\n</mark>\n. The electronics chain said the used \n<mark class=\"entity\" style=\"background: #7aecec; padding: 0.45em 0.6em; margin: 0 0.25em; line-height: 1; border-radius: 0.35em;\">\n    iPhones\n    <span style=\"font-size: 0.8em; font-weight: bold; line-height: 1; border-radius: 0.35em; text-transform: uppercase; vertical-align: middle; margin-left: 0.5rem\">ORG</span>\n</mark>\n, which were returned within 30 days of purchase, are priced at $149 for the model with 8 gigabytes of storage, while the 16-gigabyte version is $249. A two-year service contract with \n<mark class=\"entity\" style=\"background: #7aecec; padding: 0.45em 0.6em; margin: 0 0.25em; line-height: 1; border-radius: 0.35em;\">\n    AT&amp;T Inc\n    <span style=\"font-size: 0.8em; font-weight: bold; line-height: 1; border-radius: 0.35em; text-transform: uppercase; vertical-align: middle; margin-left: 0.5rem\">ORG</span>\n</mark>\n is required. \n<mark class=\"entity\" style=\"background: #7aecec; padding: 0.45em 0.6em; margin: 0 0.25em; line-height: 1; border-radius: 0.35em;\">\n    New iPhone\n    <span style=\"font-size: 0.8em; font-weight: bold; line-height: 1; border-radius: 0.35em; text-transform: uppercase; vertical-align: middle; margin-left: 0.5rem\">ORG</span>\n</mark>\n 3Gs currently sell for $199 and $299 at \n<mark class=\"entity\" style=\"background: #7aecec; padding: 0.45em 0.6em; margin: 0 0.25em; line-height: 1; border-radius: 0.35em;\">\n    Best Buy Mobile\n    <span style=\"font-size: 0.8em; font-weight: bold; line-height: 1; border-radius: 0.35em; text-transform: uppercase; vertical-align: middle; margin-left: 0.5rem\">ORG</span>\n</mark>\n stores. &quot;This is focusing on customers' needs, trying to provide as wide a range of products and networks for our consumers,&quot; said \n<mark class=\"entity\" style=\"background: #ddd; padding: 0.45em 0.6em; margin: 0 0.25em; line-height: 1; border-radius: 0.35em;\">\n    Scott Moore\n    <span style=\"font-size: 0.8em; font-weight: bold; line-height: 1; border-radius: 0.35em; text-transform: uppercase; vertical-align: middle; margin-left: 0.5rem\">PER</span>\n</mark>\n, vice president of marketing for \n<mark class=\"entity\" style=\"background: #7aecec; padding: 0.45em 0.6em; margin: 0 0.25em; line-height: 1; border-radius: 0.35em;\">\n    Best Buy Mobile\n    <span style=\"font-size: 0.8em; font-weight: bold; line-height: 1; border-radius: 0.35em; text-transform: uppercase; vertical-align: middle; margin-left: 0.5rem\">ORG</span>\n</mark>\n. Buyers of first-generation \n<mark class=\"entity\" style=\"background: #7aecec; padding: 0.45em 0.6em; margin: 0 0.25em; line-height: 1; border-radius: 0.35em;\">\n    iPhones\n    <span style=\"font-size: 0.8em; font-weight: bold; line-height: 1; border-radius: 0.35em; text-transform: uppercase; vertical-align: middle; margin-left: 0.5rem\">ORG</span>\n</mark>\n can also upgrade to the faster refurbished 3G models at \n<mark class=\"entity\" style=\"background: #7aecec; padding: 0.45em 0.6em; margin: 0 0.25em; line-height: 1; border-radius: 0.35em;\">\n    Best Buy\n    <span style=\"font-size: 0.8em; font-weight: bold; line-height: 1; border-radius: 0.35em; text-transform: uppercase; vertical-align: middle; margin-left: 0.5rem\">ORG</span>\n</mark>\n, he said. \n<mark class=\"entity\" style=\"background: #ddd; padding: 0.45em 0.6em; margin: 0 0.25em; line-height: 1; border-radius: 0.35em;\">\n    Moore\n    <span style=\"font-size: 0.8em; font-weight: bold; line-height: 1; border-radius: 0.35em; text-transform: uppercase; vertical-align: middle; margin-left: 0.5rem\">PER</span>\n</mark>\n said \n<mark class=\"entity\" style=\"background: #ddd; padding: 0.45em 0.6em; margin: 0 0.25em; line-height: 1; border-radius: 0.35em;\">\n    AT&amp;T\n    <span style=\"font-size: 0.8em; font-weight: bold; line-height: 1; border-radius: 0.35em; text-transform: uppercase; vertical-align: middle; margin-left: 0.5rem\">PER</span>\n</mark>\n, the exclusive wireless provider for the \n<mark class=\"entity\" style=\"background: #7aecec; padding: 0.45em 0.6em; margin: 0 0.25em; line-height: 1; border-radius: 0.35em;\">\n    iPhone\n    <span style=\"font-size: 0.8em; font-weight: bold; line-height: 1; border-radius: 0.35em; text-transform: uppercase; vertical-align: middle; margin-left: 0.5rem\">ORG</span>\n</mark>\n, offers refurbished \n<mark class=\"entity\" style=\"background: #7aecec; padding: 0.45em 0.6em; margin: 0 0.25em; line-height: 1; border-radius: 0.35em;\">\n    iPhones\n    <span style=\"font-size: 0.8em; font-weight: bold; line-height: 1; border-radius: 0.35em; text-transform: uppercase; vertical-align: middle; margin-left: 0.5rem\">ORG</span>\n</mark>\n online. The sale of used \n<mark class=\"entity\" style=\"background: #7aecec; padding: 0.45em 0.6em; margin: 0 0.25em; line-height: 1; border-radius: 0.35em;\">\n    iPhones\n    <span style=\"font-size: 0.8em; font-weight: bold; line-height: 1; border-radius: 0.35em; text-transform: uppercase; vertical-align: middle; margin-left: 0.5rem\">ORG</span>\n</mark>\n comes as \n<mark class=\"entity\" style=\"background: #7aecec; padding: 0.45em 0.6em; margin: 0 0.25em; line-height: 1; border-radius: 0.35em;\">\n    Best Buy\n    <span style=\"font-size: 0.8em; font-weight: bold; line-height: 1; border-radius: 0.35em; text-transform: uppercase; vertical-align: middle; margin-left: 0.5rem\">ORG</span>\n</mark>\n, the top consumer electronics chain, seeks ways to fend off increased competition from discounters such as \n<mark class=\"entity\" style=\"background: #7aecec; padding: 0.45em 0.6em; margin: 0 0.25em; line-height: 1; border-radius: 0.35em;\">\n    Wal\n    <span style=\"font-size: 0.8em; font-weight: bold; line-height: 1; border-radius: 0.35em; text-transform: uppercase; vertical-align: middle; margin-left: 0.5rem\">ORG</span>\n</mark>\n-\n<mark class=\"entity\" style=\"background: #7aecec; padding: 0.45em 0.6em; margin: 0 0.25em; line-height: 1; border-radius: 0.35em;\">\n    Mart Stores Inc\n    <span style=\"font-size: 0.8em; font-weight: bold; line-height: 1; border-radius: 0.35em; text-transform: uppercase; vertical-align: middle; margin-left: 0.5rem\">ORG</span>\n</mark>\n, which began selling the popular phone late last month. \n<mark class=\"entity\" style=\"background: #ff9561; padding: 0.45em 0.6em; margin: 0 0.25em; line-height: 1; border-radius: 0.35em;\">\n    Wal\n    <span style=\"font-size: 0.8em; font-weight: bold; line-height: 1; border-radius: 0.35em; text-transform: uppercase; vertical-align: middle; margin-left: 0.5rem\">LOC</span>\n</mark>\n-\n<mark class=\"entity\" style=\"background: #ff9561; padding: 0.45em 0.6em; margin: 0 0.25em; line-height: 1; border-radius: 0.35em;\">\n    Mart\n    <span style=\"font-size: 0.8em; font-weight: bold; line-height: 1; border-radius: 0.35em; text-transform: uppercase; vertical-align: middle; margin-left: 0.5rem\">LOC</span>\n</mark>\n sells a new 8-gigabyte \n<mark class=\"entity\" style=\"background: #7aecec; padding: 0.45em 0.6em; margin: 0 0.25em; line-height: 1; border-radius: 0.35em;\">\n    iPhone\n    <span style=\"font-size: 0.8em; font-weight: bold; line-height: 1; border-radius: 0.35em; text-transform: uppercase; vertical-align: middle; margin-left: 0.5rem\">ORG</span>\n</mark>\n 3G for $197 and $297 for the 16-gigabyte model. The \n<mark class=\"entity\" style=\"background: #7aecec; padding: 0.45em 0.6em; margin: 0 0.25em; line-height: 1; border-radius: 0.35em;\">\n    iPhone\n    <span style=\"font-size: 0.8em; font-weight: bold; line-height: 1; border-radius: 0.35em; text-transform: uppercase; vertical-align: middle; margin-left: 0.5rem\">ORG</span>\n</mark>\n is also sold at \n<mark class=\"entity\" style=\"background: #7aecec; padding: 0.45em 0.6em; margin: 0 0.25em; line-height: 1; border-radius: 0.35em;\">\n    Apple\n    <span style=\"font-size: 0.8em; font-weight: bold; line-height: 1; border-radius: 0.35em; text-transform: uppercase; vertical-align: middle; margin-left: 0.5rem\">ORG</span>\n</mark>\n stores and AT&amp;T stores. \n<mark class=\"entity\" style=\"background: #ddd; padding: 0.45em 0.6em; margin: 0 0.25em; line-height: 1; border-radius: 0.35em;\">\n    Moore\n    <span style=\"font-size: 0.8em; font-weight: bold; line-height: 1; border-radius: 0.35em; text-transform: uppercase; vertical-align: middle; margin-left: 0.5rem\">PER</span>\n</mark>\n said \n<mark class=\"entity\" style=\"background: #7aecec; padding: 0.45em 0.6em; margin: 0 0.25em; line-height: 1; border-radius: 0.35em;\">\n    Best Buy\n    <span style=\"font-size: 0.8em; font-weight: bold; line-height: 1; border-radius: 0.35em; text-transform: uppercase; vertical-align: middle; margin-left: 0.5rem\">ORG</span>\n</mark>\n's move was not in response to other retailers' actions. (Reporting by \n<mark class=\"entity\" style=\"background: #ddd; padding: 0.45em 0.6em; margin: 0 0.25em; line-height: 1; border-radius: 0.35em;\">\n    Karen Jacobs\n    <span style=\"font-size: 0.8em; font-weight: bold; line-height: 1; border-radius: 0.35em; text-transform: uppercase; vertical-align: middle; margin-left: 0.5rem\">PER</span>\n</mark>\n ; Editing by \n<mark class=\"entity\" style=\"background: #ddd; padding: 0.45em 0.6em; margin: 0 0.25em; line-height: 1; border-radius: 0.35em;\">\n    Andre Grenon\n    <span style=\"font-size: 0.8em; font-weight: bold; line-height: 1; border-radius: 0.35em; text-transform: uppercase; vertical-align: middle; margin-left: 0.5rem\">PER</span>\n</mark>\n )</div></span>",
      "text/plain": "<IPython.core.display.HTML object>"
     },
     "metadata": {
      "transient": {}
     },
     "output_type": "display_data"
    }
   ],
   "source": [
    "annotator = skweak.base.ModelAnnotator(\"conll2003\", \"./data/conll2003/\")\n",
    "\n",
    "doc = annotator(doc)\n",
    "skweak.utils.display_entities(doc, \"conll2003\")"
   ]
  },
  {
   "cell_type": "markdown",
   "metadata": {},
   "source": [
    "As we can see, the results are not perfect on this model either, but the errors are distinct from the ones made by the Ontonotes model. "
   ]
  },
  {
   "cell_type": "markdown",
   "metadata": {},
   "source": [
    "The annotations are written in the `user_data` dictionary of the Spacy document:"
   ]
  },
  {
   "cell_type": "code",
   "execution_count": 6,
   "metadata": {},
   "outputs": [
    {
     "data": {
      "text/plain": "{(3, 4): 'ORG',\n (7, 10): 'ORG',\n (31, 33): 'ORG',\n (34, 35): 'ORG',\n (49, 50): 'ORG',\n (57, 58): 'ORG',\n (97, 99): 'ORG',\n (102, 104): 'ORG',\n (114, 117): 'ORG',\n (145, 147): 'PER',\n (153, 156): 'ORG',\n (162, 163): 'ORG',\n (174, 176): 'ORG',\n (180, 181): 'PER',\n (182, 183): 'PER',\n (190, 191): 'ORG',\n (194, 195): 'ORG',\n (201, 202): 'ORG',\n (204, 206): 'ORG',\n (224, 225): 'ORG',\n (226, 229): 'ORG',\n (240, 241): 'LOC',\n (242, 243): 'LOC',\n (247, 248): 'ORG',\n (262, 263): 'ORG',\n (267, 268): 'ORG',\n (273, 274): 'PER',\n (275, 277): 'ORG',\n (292, 294): 'PER',\n (297, 299): 'PER'}"
     },
     "execution_count": 6,
     "metadata": {},
     "output_type": "execute_result"
    }
   ],
   "source": [
    "doc.user_data[\"spans\"][\"conll2003\"]"
   ]
  },
  {
   "cell_type": "markdown",
   "metadata": {},
   "source": [
    "Each `ModelAnnotator` adds two annotation sources: one that is directly based on the Spacy Model (here `conll2003`), and one that also includes the corrections specified in the method `_correct_entities` (in `spacy_wrapper.py`) that we implemented earlier this year.  The corrected version are indicated with a `+c` suffix."
   ]
  },
  {
   "cell_type": "markdown",
   "metadata": {},
   "source": [
    "Here are the results from the three other models:"
   ]
  },
  {
   "cell_type": "code",
   "execution_count": 7,
   "metadata": {},
   "outputs": [
    {
     "data": {
      "text/html": "<span class=\"tex2jax_ignore\"><div class=\"entities\" style=\"line-height: 2.5; direction: ltr\"> \n<mark class=\"entity\" style=\"background: #feca74; padding: 0.45em 0.6em; margin: 0 0.25em; line-height: 1; border-radius: 0.35em;\">\n    ATLANTA\n    <span style=\"font-size: 0.8em; font-weight: bold; line-height: 1; border-radius: 0.35em; text-transform: uppercase; vertical-align: middle; margin-left: 0.5rem\">GPE</span>\n</mark>\n (\n<mark class=\"entity\" style=\"background: #7aecec; padding: 0.45em 0.6em; margin: 0 0.25em; line-height: 1; border-radius: 0.35em;\">\n    Reuters\n    <span style=\"font-size: 0.8em; font-weight: bold; line-height: 1; border-radius: 0.35em; text-transform: uppercase; vertical-align: middle; margin-left: 0.5rem\">ORG</span>\n</mark>\n) - Retailer Best Buy Co, seeking new ways to appeal to cost-conscious shoppers, said on \n<mark class=\"entity\" style=\"background: #bfe1d9; padding: 0.45em 0.6em; margin: 0 0.25em; line-height: 1; border-radius: 0.35em;\">\n    Tuesday\n    <span style=\"font-size: 0.8em; font-weight: bold; line-height: 1; border-radius: 0.35em; text-transform: uppercase; vertical-align: middle; margin-left: 0.5rem\">DATE</span>\n</mark>\n it is selling refurbished versions of \n<mark class=\"entity\" style=\"background: #7aecec; padding: 0.45em 0.6em; margin: 0 0.25em; line-height: 1; border-radius: 0.35em;\">\n    Apple Inc's\n    <span style=\"font-size: 0.8em; font-weight: bold; line-height: 1; border-radius: 0.35em; text-transform: uppercase; vertical-align: middle; margin-left: 0.5rem\">ORG</span>\n</mark>\n \n<mark class=\"entity\" style=\"background: #7aecec; padding: 0.45em 0.6em; margin: 0 0.25em; line-height: 1; border-radius: 0.35em;\">\n    iPhone 3G\n    <span style=\"font-size: 0.8em; font-weight: bold; line-height: 1; border-radius: 0.35em; text-transform: uppercase; vertical-align: middle; margin-left: 0.5rem\">ORG</span>\n</mark>\n at its stores that are priced \n<mark class=\"entity\" style=\"background: #e4e7d2; padding: 0.45em 0.6em; margin: 0 0.25em; line-height: 1; border-radius: 0.35em;\">\n    about $50\n    <span style=\"font-size: 0.8em; font-weight: bold; line-height: 1; border-radius: 0.35em; text-transform: uppercase; vertical-align: middle; margin-left: 0.5rem\">MONEY</span>\n</mark>\n less than new \n<mark class=\"entity\" style=\"background: #bfeeb7; padding: 0.45em 0.6em; margin: 0 0.25em; line-height: 1; border-radius: 0.35em;\">\n    iPhones\n    <span style=\"font-size: 0.8em; font-weight: bold; line-height: 1; border-radius: 0.35em; text-transform: uppercase; vertical-align: middle; margin-left: 0.5rem\">PRODUCT</span>\n</mark>\n. The electronics chain said the used \n<mark class=\"entity\" style=\"background: #bfeeb7; padding: 0.45em 0.6em; margin: 0 0.25em; line-height: 1; border-radius: 0.35em;\">\n    iPhones\n    <span style=\"font-size: 0.8em; font-weight: bold; line-height: 1; border-radius: 0.35em; text-transform: uppercase; vertical-align: middle; margin-left: 0.5rem\">PRODUCT</span>\n</mark>\n, which were returned within \n<mark class=\"entity\" style=\"background: #bfe1d9; padding: 0.45em 0.6em; margin: 0 0.25em; line-height: 1; border-radius: 0.35em;\">\n    30 days\n    <span style=\"font-size: 0.8em; font-weight: bold; line-height: 1; border-radius: 0.35em; text-transform: uppercase; vertical-align: middle; margin-left: 0.5rem\">DATE</span>\n</mark>\n of purchase, are priced at $\n<mark class=\"entity\" style=\"background: #e4e7d2; padding: 0.45em 0.6em; margin: 0 0.25em; line-height: 1; border-radius: 0.35em;\">\n    149\n    <span style=\"font-size: 0.8em; font-weight: bold; line-height: 1; border-radius: 0.35em; text-transform: uppercase; vertical-align: middle; margin-left: 0.5rem\">MONEY</span>\n</mark>\n for the model with \n<mark class=\"entity\" style=\"background: #e4e7d2; padding: 0.45em 0.6em; margin: 0 0.25em; line-height: 1; border-radius: 0.35em;\">\n    8 gigabytes\n    <span style=\"font-size: 0.8em; font-weight: bold; line-height: 1; border-radius: 0.35em; text-transform: uppercase; vertical-align: middle; margin-left: 0.5rem\">QUANTITY</span>\n</mark>\n of storage, while the \n<mark class=\"entity\" style=\"background: #e4e7d2; padding: 0.45em 0.6em; margin: 0 0.25em; line-height: 1; border-radius: 0.35em;\">\n    16-gigabyte\n    <span style=\"font-size: 0.8em; font-weight: bold; line-height: 1; border-radius: 0.35em; text-transform: uppercase; vertical-align: middle; margin-left: 0.5rem\">QUANTITY</span>\n</mark>\n version is $\n<mark class=\"entity\" style=\"background: #e4e7d2; padding: 0.45em 0.6em; margin: 0 0.25em; line-height: 1; border-radius: 0.35em;\">\n    249\n    <span style=\"font-size: 0.8em; font-weight: bold; line-height: 1; border-radius: 0.35em; text-transform: uppercase; vertical-align: middle; margin-left: 0.5rem\">MONEY</span>\n</mark>\n. A \n<mark class=\"entity\" style=\"background: #bfe1d9; padding: 0.45em 0.6em; margin: 0 0.25em; line-height: 1; border-radius: 0.35em;\">\n    two-year\n    <span style=\"font-size: 0.8em; font-weight: bold; line-height: 1; border-radius: 0.35em; text-transform: uppercase; vertical-align: middle; margin-left: 0.5rem\">DATE</span>\n</mark>\n service contract with \n<mark class=\"entity\" style=\"background: #7aecec; padding: 0.45em 0.6em; margin: 0 0.25em; line-height: 1; border-radius: 0.35em;\">\n    AT&amp;T Inc\n    <span style=\"font-size: 0.8em; font-weight: bold; line-height: 1; border-radius: 0.35em; text-transform: uppercase; vertical-align: middle; margin-left: 0.5rem\">ORG</span>\n</mark>\n is required. New iPhone \n<mark class=\"entity\" style=\"background: #bfeeb7; padding: 0.45em 0.6em; margin: 0 0.25em; line-height: 1; border-radius: 0.35em;\">\n    3Gs\n    <span style=\"font-size: 0.8em; font-weight: bold; line-height: 1; border-radius: 0.35em; text-transform: uppercase; vertical-align: middle; margin-left: 0.5rem\">PRODUCT</span>\n</mark>\n currently sell for $\n<mark class=\"entity\" style=\"background: #e4e7d2; padding: 0.45em 0.6em; margin: 0 0.25em; line-height: 1; border-radius: 0.35em;\">\n    199\n    <span style=\"font-size: 0.8em; font-weight: bold; line-height: 1; border-radius: 0.35em; text-transform: uppercase; vertical-align: middle; margin-left: 0.5rem\">MONEY</span>\n</mark>\n and $\n<mark class=\"entity\" style=\"background: #e4e7d2; padding: 0.45em 0.6em; margin: 0 0.25em; line-height: 1; border-radius: 0.35em;\">\n    299\n    <span style=\"font-size: 0.8em; font-weight: bold; line-height: 1; border-radius: 0.35em; text-transform: uppercase; vertical-align: middle; margin-left: 0.5rem\">MONEY</span>\n</mark>\n at Best Buy Mobile stores. &quot;This is focusing on customers' needs, trying to provide as wide a range of products and networks for our consumers,&quot; said \n<mark class=\"entity\" style=\"background: #aa9cfc; padding: 0.45em 0.6em; margin: 0 0.25em; line-height: 1; border-radius: 0.35em;\">\n    Scott Moore\n    <span style=\"font-size: 0.8em; font-weight: bold; line-height: 1; border-radius: 0.35em; text-transform: uppercase; vertical-align: middle; margin-left: 0.5rem\">PERSON</span>\n</mark>\n, vice president of marketing for Best Buy Mobile. Buyers of \n<mark class=\"entity\" style=\"background: #e4e7d2; padding: 0.45em 0.6em; margin: 0 0.25em; line-height: 1; border-radius: 0.35em;\">\n    first\n    <span style=\"font-size: 0.8em; font-weight: bold; line-height: 1; border-radius: 0.35em; text-transform: uppercase; vertical-align: middle; margin-left: 0.5rem\">ORDINAL</span>\n</mark>\n-generation \n<mark class=\"entity\" style=\"background: #bfeeb7; padding: 0.45em 0.6em; margin: 0 0.25em; line-height: 1; border-radius: 0.35em;\">\n    iPhones\n    <span style=\"font-size: 0.8em; font-weight: bold; line-height: 1; border-radius: 0.35em; text-transform: uppercase; vertical-align: middle; margin-left: 0.5rem\">PRODUCT</span>\n</mark>\n can also upgrade to the faster refurbished \n<mark class=\"entity\" style=\"background: #e4e7d2; padding: 0.45em 0.6em; margin: 0 0.25em; line-height: 1; border-radius: 0.35em;\">\n    3\n    <span style=\"font-size: 0.8em; font-weight: bold; line-height: 1; border-radius: 0.35em; text-transform: uppercase; vertical-align: middle; margin-left: 0.5rem\">CARDINAL</span>\n</mark>\nG models at Best Buy, he said. \n<mark class=\"entity\" style=\"background: #aa9cfc; padding: 0.45em 0.6em; margin: 0 0.25em; line-height: 1; border-radius: 0.35em;\">\n    Moore\n    <span style=\"font-size: 0.8em; font-weight: bold; line-height: 1; border-radius: 0.35em; text-transform: uppercase; vertical-align: middle; margin-left: 0.5rem\">PERSON</span>\n</mark>\n said \n<mark class=\"entity\" style=\"background: #7aecec; padding: 0.45em 0.6em; margin: 0 0.25em; line-height: 1; border-radius: 0.35em;\">\n    AT&amp;T\n    <span style=\"font-size: 0.8em; font-weight: bold; line-height: 1; border-radius: 0.35em; text-transform: uppercase; vertical-align: middle; margin-left: 0.5rem\">ORG</span>\n</mark>\n, the exclusive wireless provider for the \n<mark class=\"entity\" style=\"background: #bfeeb7; padding: 0.45em 0.6em; margin: 0 0.25em; line-height: 1; border-radius: 0.35em;\">\n    iPhone\n    <span style=\"font-size: 0.8em; font-weight: bold; line-height: 1; border-radius: 0.35em; text-transform: uppercase; vertical-align: middle; margin-left: 0.5rem\">PRODUCT</span>\n</mark>\n, offers refurbished \n<mark class=\"entity\" style=\"background: #bfeeb7; padding: 0.45em 0.6em; margin: 0 0.25em; line-height: 1; border-radius: 0.35em;\">\n    iPhones\n    <span style=\"font-size: 0.8em; font-weight: bold; line-height: 1; border-radius: 0.35em; text-transform: uppercase; vertical-align: middle; margin-left: 0.5rem\">PRODUCT</span>\n</mark>\n online. The sale of used \n<mark class=\"entity\" style=\"background: #bfeeb7; padding: 0.45em 0.6em; margin: 0 0.25em; line-height: 1; border-radius: 0.35em;\">\n    iPhones\n    <span style=\"font-size: 0.8em; font-weight: bold; line-height: 1; border-radius: 0.35em; text-transform: uppercase; vertical-align: middle; margin-left: 0.5rem\">PRODUCT</span>\n</mark>\n comes as Best Buy, the top consumer electronics chain, seeks ways to fend off increased competition from discounters such as \n<mark class=\"entity\" style=\"background: #7aecec; padding: 0.45em 0.6em; margin: 0 0.25em; line-height: 1; border-radius: 0.35em;\">\n    Wal-Mart Stores Inc\n    <span style=\"font-size: 0.8em; font-weight: bold; line-height: 1; border-radius: 0.35em; text-transform: uppercase; vertical-align: middle; margin-left: 0.5rem\">ORG</span>\n</mark>\n, which began selling the popular phone \n<mark class=\"entity\" style=\"background: #bfe1d9; padding: 0.45em 0.6em; margin: 0 0.25em; line-height: 1; border-radius: 0.35em;\">\n    late last month\n    <span style=\"font-size: 0.8em; font-weight: bold; line-height: 1; border-radius: 0.35em; text-transform: uppercase; vertical-align: middle; margin-left: 0.5rem\">DATE</span>\n</mark>\n. \n<mark class=\"entity\" style=\"background: #7aecec; padding: 0.45em 0.6em; margin: 0 0.25em; line-height: 1; border-radius: 0.35em;\">\n    Wal-Mart\n    <span style=\"font-size: 0.8em; font-weight: bold; line-height: 1; border-radius: 0.35em; text-transform: uppercase; vertical-align: middle; margin-left: 0.5rem\">ORG</span>\n</mark>\n sells a new 8-gigabyte iPhone 3G for \n<mark class=\"entity\" style=\"background: #e4e7d2; padding: 0.45em 0.6em; margin: 0 0.25em; line-height: 1; border-radius: 0.35em;\">\n    $197 and $297\n    <span style=\"font-size: 0.8em; font-weight: bold; line-height: 1; border-radius: 0.35em; text-transform: uppercase; vertical-align: middle; margin-left: 0.5rem\">MONEY</span>\n</mark>\n for the \n<mark class=\"entity\" style=\"background: #e4e7d2; padding: 0.45em 0.6em; margin: 0 0.25em; line-height: 1; border-radius: 0.35em;\">\n    16-gigabyte\n    <span style=\"font-size: 0.8em; font-weight: bold; line-height: 1; border-radius: 0.35em; text-transform: uppercase; vertical-align: middle; margin-left: 0.5rem\">QUANTITY</span>\n</mark>\n model. The \n<mark class=\"entity\" style=\"background: #7aecec; padding: 0.45em 0.6em; margin: 0 0.25em; line-height: 1; border-radius: 0.35em;\">\n    iPhone\n    <span style=\"font-size: 0.8em; font-weight: bold; line-height: 1; border-radius: 0.35em; text-transform: uppercase; vertical-align: middle; margin-left: 0.5rem\">ORG</span>\n</mark>\n is also sold at \n<mark class=\"entity\" style=\"background: #7aecec; padding: 0.45em 0.6em; margin: 0 0.25em; line-height: 1; border-radius: 0.35em;\">\n    Apple\n    <span style=\"font-size: 0.8em; font-weight: bold; line-height: 1; border-radius: 0.35em; text-transform: uppercase; vertical-align: middle; margin-left: 0.5rem\">ORG</span>\n</mark>\n stores and \n<mark class=\"entity\" style=\"background: #7aecec; padding: 0.45em 0.6em; margin: 0 0.25em; line-height: 1; border-radius: 0.35em;\">\n    AT&amp;T\n    <span style=\"font-size: 0.8em; font-weight: bold; line-height: 1; border-radius: 0.35em; text-transform: uppercase; vertical-align: middle; margin-left: 0.5rem\">ORG</span>\n</mark>\n stores. \n<mark class=\"entity\" style=\"background: #aa9cfc; padding: 0.45em 0.6em; margin: 0 0.25em; line-height: 1; border-radius: 0.35em;\">\n    Moore\n    <span style=\"font-size: 0.8em; font-weight: bold; line-height: 1; border-radius: 0.35em; text-transform: uppercase; vertical-align: middle; margin-left: 0.5rem\">PERSON</span>\n</mark>\n said Best Buy's move was not in response to other retailers' actions. (Reporting by \n<mark class=\"entity\" style=\"background: #aa9cfc; padding: 0.45em 0.6em; margin: 0 0.25em; line-height: 1; border-radius: 0.35em;\">\n    Karen Jacobs\n    <span style=\"font-size: 0.8em; font-weight: bold; line-height: 1; border-radius: 0.35em; text-transform: uppercase; vertical-align: middle; margin-left: 0.5rem\">PERSON</span>\n</mark>\n ; Editing by \n<mark class=\"entity\" style=\"background: #aa9cfc; padding: 0.45em 0.6em; margin: 0 0.25em; line-height: 1; border-radius: 0.35em;\">\n    Andre Grenon\n    <span style=\"font-size: 0.8em; font-weight: bold; line-height: 1; border-radius: 0.35em; text-transform: uppercase; vertical-align: middle; margin-left: 0.5rem\">PERSON</span>\n</mark>\n )</div></span>",
      "text/plain": "<IPython.core.display.HTML object>"
     },
     "metadata": {
      "transient": {}
     },
     "output_type": "display_data"
    }
   ],
   "source": [
    "core_web_annotator = skweak.base.ModelAnnotator(\"core_web_md\", \"en_core_web_md\")\n",
    "\n",
    "doc = core_web_annotator(doc)\n",
    "skweak.utils.display_entities(doc, \"core_web_md\")\n"
   ]
  },
  {
   "cell_type": "markdown",
   "metadata": {},
   "source": [
    "__Note__: When annotating large collections of news documents, the method `annotator.pipe(news_docs)` is much more efficient than calling `annotate(...)` every single time, as it batches the documents on which to run the NER model."
   ]
  },
  {
   "cell_type": "markdown",
   "metadata": {},
   "source": [
    "### 2) Annotators from gazetteers"
   ]
  },
  {
   "cell_type": "markdown",
   "metadata": {},
   "source": [
    "Another useful source of annotation comes from large lists of entities such as persons, places and organisations. The gazetteers are using a _trie_ to efficiently search for occurrences in the text. Each gazetteer creates two annotation sources: one that is case-sensitive (`_cased` suffix) and one case-insentitive (`_uncased` suffix)."
   ]
  },
  {
   "cell_type": "markdown",
   "metadata": {},
   "source": [
    "\n",
    "#### 2.1) Wikipedia\n",
    "The database from Wikipedia is extracted from the [NECKar](https://event.ifi.uni-heidelberg.de/?page_id=532) dataset.  The postprocessing (which, among others, filters out entities that are also relatively common English words) is implemented in `compile_wikidata`. In addition, I also extracted from Wikidata a list of commercial products and added them to the gazetteer. "
   ]
  },
  {
   "cell_type": "code",
   "execution_count": 7,
   "metadata": {},
   "outputs": [
    {
     "name": "stdout",
     "output_type": "stream",
     "text": [
      "Extracting data from ./data/wikidata.json\n",
      "Populating trie for class PERSON (number: 2626732)\n",
      "Populating trie for class LOC (number: 47129)\n",
      "Populating trie for class GPE (number: 602953)\n",
      "Populating trie for class ORG (number: 295766)\n",
      "Populating trie for class PRODUCT (number: 12457)\n"
     ]
    },
    {
     "data": {
      "text/html": "<span class=\"tex2jax_ignore\"><div class=\"entities\" style=\"line-height: 2.5; direction: ltr\"> \n<mark class=\"entity\" style=\"background: #feca74; padding: 0.45em 0.6em; margin: 0 0.25em; line-height: 1; border-radius: 0.35em;\">\n    ATLANTA\n    <span style=\"font-size: 0.8em; font-weight: bold; line-height: 1; border-radius: 0.35em; text-transform: uppercase; vertical-align: middle; margin-left: 0.5rem\">GPE</span>\n</mark>\n (\n<mark class=\"entity\" style=\"background: #7aecec; padding: 0.45em 0.6em; margin: 0 0.25em; line-height: 1; border-radius: 0.35em;\">\n    Reuters\n    <span style=\"font-size: 0.8em; font-weight: bold; line-height: 1; border-radius: 0.35em; text-transform: uppercase; vertical-align: middle; margin-left: 0.5rem\">ORG</span>\n</mark>\n) - Retailer Best Buy Co, seeking new ways to appeal to cost-conscious shoppers, said on Tuesday it is selling refurbished versions of Apple Inc's \n<mark class=\"entity\" style=\"background: #bfeeb7; padding: 0.45em 0.6em; margin: 0 0.25em; line-height: 1; border-radius: 0.35em;\">\n    iPhone 3G\n    <span style=\"font-size: 0.8em; font-weight: bold; line-height: 1; border-radius: 0.35em; text-transform: uppercase; vertical-align: middle; margin-left: 0.5rem\">PRODUCT</span>\n</mark>\n at its stores that are priced about $50 less than new \n<mark class=\"entity\" style=\"background: #bfeeb7; padding: 0.45em 0.6em; margin: 0 0.25em; line-height: 1; border-radius: 0.35em;\">\n    iPhones\n    <span style=\"font-size: 0.8em; font-weight: bold; line-height: 1; border-radius: 0.35em; text-transform: uppercase; vertical-align: middle; margin-left: 0.5rem\">PRODUCT</span>\n</mark>\n. The electronics chain said the used \n<mark class=\"entity\" style=\"background: #bfeeb7; padding: 0.45em 0.6em; margin: 0 0.25em; line-height: 1; border-radius: 0.35em;\">\n    iPhones\n    <span style=\"font-size: 0.8em; font-weight: bold; line-height: 1; border-radius: 0.35em; text-transform: uppercase; vertical-align: middle; margin-left: 0.5rem\">PRODUCT</span>\n</mark>\n, which were returned within 30 days of purchase, are priced at $149 for the model with 8 gigabytes of storage, while the 16-gigabyte version is $249. A two-year service contract with AT&amp;T Inc is required. New \n<mark class=\"entity\" style=\"background: #bfeeb7; padding: 0.45em 0.6em; margin: 0 0.25em; line-height: 1; border-radius: 0.35em;\">\n    iPhone 3Gs\n    <span style=\"font-size: 0.8em; font-weight: bold; line-height: 1; border-radius: 0.35em; text-transform: uppercase; vertical-align: middle; margin-left: 0.5rem\">PRODUCT</span>\n</mark>\n currently sell for $199 and $299 at Best Buy Mobile stores. &quot;This is focusing on customers' needs, trying to provide as wide a range of products and networks for our consumers,&quot; said \n<mark class=\"entity\" style=\"background: #aa9cfc; padding: 0.45em 0.6em; margin: 0 0.25em; line-height: 1; border-radius: 0.35em;\">\n    Scott Moore\n    <span style=\"font-size: 0.8em; font-weight: bold; line-height: 1; border-radius: 0.35em; text-transform: uppercase; vertical-align: middle; margin-left: 0.5rem\">PERSON</span>\n</mark>\n, vice president of marketing for Best Buy Mobile. Buyers of first-generation iPhones can also upgrade to the faster refurbished 3G models at \n<mark class=\"entity\" style=\"background: #7aecec; padding: 0.45em 0.6em; margin: 0 0.25em; line-height: 1; border-radius: 0.35em;\">\n    Best Buy\n    <span style=\"font-size: 0.8em; font-weight: bold; line-height: 1; border-radius: 0.35em; text-transform: uppercase; vertical-align: middle; margin-left: 0.5rem\">ORG</span>\n</mark>\n, he said. \n<mark class=\"entity\" style=\"background: #feca74; padding: 0.45em 0.6em; margin: 0 0.25em; line-height: 1; border-radius: 0.35em;\">\n    Moore\n    <span style=\"font-size: 0.8em; font-weight: bold; line-height: 1; border-radius: 0.35em; text-transform: uppercase; vertical-align: middle; margin-left: 0.5rem\">GPE</span>\n</mark>\n said \n<mark class=\"entity\" style=\"background: #7aecec; padding: 0.45em 0.6em; margin: 0 0.25em; line-height: 1; border-radius: 0.35em;\">\n    AT&amp;T\n    <span style=\"font-size: 0.8em; font-weight: bold; line-height: 1; border-radius: 0.35em; text-transform: uppercase; vertical-align: middle; margin-left: 0.5rem\">ORG</span>\n</mark>\n, the exclusive wireless provider for the \n<mark class=\"entity\" style=\"background: #bfeeb7; padding: 0.45em 0.6em; margin: 0 0.25em; line-height: 1; border-radius: 0.35em;\">\n    iPhone\n    <span style=\"font-size: 0.8em; font-weight: bold; line-height: 1; border-radius: 0.35em; text-transform: uppercase; vertical-align: middle; margin-left: 0.5rem\">PRODUCT</span>\n</mark>\n, offers refurbished \n<mark class=\"entity\" style=\"background: #bfeeb7; padding: 0.45em 0.6em; margin: 0 0.25em; line-height: 1; border-radius: 0.35em;\">\n    iPhones\n    <span style=\"font-size: 0.8em; font-weight: bold; line-height: 1; border-radius: 0.35em; text-transform: uppercase; vertical-align: middle; margin-left: 0.5rem\">PRODUCT</span>\n</mark>\n online. The sale of used \n<mark class=\"entity\" style=\"background: #bfeeb7; padding: 0.45em 0.6em; margin: 0 0.25em; line-height: 1; border-radius: 0.35em;\">\n    iPhones\n    <span style=\"font-size: 0.8em; font-weight: bold; line-height: 1; border-radius: 0.35em; text-transform: uppercase; vertical-align: middle; margin-left: 0.5rem\">PRODUCT</span>\n</mark>\n comes as \n<mark class=\"entity\" style=\"background: #7aecec; padding: 0.45em 0.6em; margin: 0 0.25em; line-height: 1; border-radius: 0.35em;\">\n    Best Buy\n    <span style=\"font-size: 0.8em; font-weight: bold; line-height: 1; border-radius: 0.35em; text-transform: uppercase; vertical-align: middle; margin-left: 0.5rem\">ORG</span>\n</mark>\n, the top consumer electronics chain, seeks ways to fend off increased competition from discounters such as Wal-Mart Stores Inc, which began selling the popular phone late last month. Wal-Mart sells a new 8-gigabyte \n<mark class=\"entity\" style=\"background: #bfeeb7; padding: 0.45em 0.6em; margin: 0 0.25em; line-height: 1; border-radius: 0.35em;\">\n    iPhone 3G\n    <span style=\"font-size: 0.8em; font-weight: bold; line-height: 1; border-radius: 0.35em; text-transform: uppercase; vertical-align: middle; margin-left: 0.5rem\">PRODUCT</span>\n</mark>\n for $197 and $297 for the 16-gigabyte model. The \n<mark class=\"entity\" style=\"background: #bfeeb7; padding: 0.45em 0.6em; margin: 0 0.25em; line-height: 1; border-radius: 0.35em;\">\n    iPhone\n    <span style=\"font-size: 0.8em; font-weight: bold; line-height: 1; border-radius: 0.35em; text-transform: uppercase; vertical-align: middle; margin-left: 0.5rem\">PRODUCT</span>\n</mark>\n is also sold at Apple stores and AT&amp;T stores. \n<mark class=\"entity\" style=\"background: #feca74; padding: 0.45em 0.6em; margin: 0 0.25em; line-height: 1; border-radius: 0.35em;\">\n    Moore\n    <span style=\"font-size: 0.8em; font-weight: bold; line-height: 1; border-radius: 0.35em; text-transform: uppercase; vertical-align: middle; margin-left: 0.5rem\">GPE</span>\n</mark>\n said \n<mark class=\"entity\" style=\"background: #7aecec; padding: 0.45em 0.6em; margin: 0 0.25em; line-height: 1; border-radius: 0.35em;\">\n    Best Buy\n    <span style=\"font-size: 0.8em; font-weight: bold; line-height: 1; border-radius: 0.35em; text-transform: uppercase; vertical-align: middle; margin-left: 0.5rem\">ORG</span>\n</mark>\n's move was not in response to other retailers' actions. (Reporting by Karen Jacobs ; Editing by Andre Grenon )</div></span>",
      "text/plain": "<IPython.core.display.HTML object>"
     },
     "metadata": {
      "transient": {}
     },
     "output_type": "display_data"
    }
   ],
   "source": [
    "import domains.conll2003_ner\n",
    "\n",
    "tries = skweak.gazetteers.extract_json_data(domains.conll2003_ner.WIKIDATA)\n",
    "annotator = skweak.gazetteers.GazetteerAnnotators(\"wiki\", tries)\n",
    "\n",
    "annotator(doc)\n",
    "skweak.utils.display_entities(doc, \"wiki_*\")"
   ]
  },
  {
   "cell_type": "markdown",
   "metadata": {},
   "source": [
    "Again, the annotation model does make some errors: `Moore` is thought to be a [geopolitical entity](https://en.wikipedia.org/wiki/Moore) instead of a person. Note that `AT&T` has two alternative labels: `ORG` or `GPE` (see [AT&T station](https://en.wikipedia.org/wiki/AT%26T_(SEPTA_station))).  \n",
    "\n",
    "In addition to the full wiki data, I also added a specific gazetteer that only employs wikidata objects containing a text description:"
   ]
  },
  {
   "cell_type": "code",
   "execution_count": 8,
   "metadata": {},
   "outputs": [
    {
     "name": "stdout",
     "output_type": "stream",
     "text": [
      "Extracting data from ./data/wikidata_small.json\n",
      "Populating trie for class PERSON (number: 1865712)\n",
      "Populating trie for class LOC (number: 14250)\n",
      "Populating trie for class GPE (number: 273743)\n",
      "Populating trie for class ORG (number: 91421)\n",
      "Populating trie for class PRODUCT (number: 12457)\n"
     ]
    },
    {
     "data": {
      "text/html": "<span class=\"tex2jax_ignore\"><div class=\"entities\" style=\"line-height: 2.5; direction: ltr\"> \n<mark class=\"entity\" style=\"background: #feca74; padding: 0.45em 0.6em; margin: 0 0.25em; line-height: 1; border-radius: 0.35em;\">\n    ATLANTA\n    <span style=\"font-size: 0.8em; font-weight: bold; line-height: 1; border-radius: 0.35em; text-transform: uppercase; vertical-align: middle; margin-left: 0.5rem\">GPE</span>\n</mark>\n (\n<mark class=\"entity\" style=\"background: #7aecec; padding: 0.45em 0.6em; margin: 0 0.25em; line-height: 1; border-radius: 0.35em;\">\n    Reuters\n    <span style=\"font-size: 0.8em; font-weight: bold; line-height: 1; border-radius: 0.35em; text-transform: uppercase; vertical-align: middle; margin-left: 0.5rem\">ORG</span>\n</mark>\n) - Retailer Best Buy Co, seeking new ways to appeal to cost-conscious shoppers, said on Tuesday it is selling refurbished versions of Apple Inc's \n<mark class=\"entity\" style=\"background: #bfeeb7; padding: 0.45em 0.6em; margin: 0 0.25em; line-height: 1; border-radius: 0.35em;\">\n    iPhone 3G\n    <span style=\"font-size: 0.8em; font-weight: bold; line-height: 1; border-radius: 0.35em; text-transform: uppercase; vertical-align: middle; margin-left: 0.5rem\">PRODUCT</span>\n</mark>\n at its stores that are priced about $50 less than new \n<mark class=\"entity\" style=\"background: #bfeeb7; padding: 0.45em 0.6em; margin: 0 0.25em; line-height: 1; border-radius: 0.35em;\">\n    iPhones\n    <span style=\"font-size: 0.8em; font-weight: bold; line-height: 1; border-radius: 0.35em; text-transform: uppercase; vertical-align: middle; margin-left: 0.5rem\">PRODUCT</span>\n</mark>\n. The electronics chain said the used \n<mark class=\"entity\" style=\"background: #bfeeb7; padding: 0.45em 0.6em; margin: 0 0.25em; line-height: 1; border-radius: 0.35em;\">\n    iPhones\n    <span style=\"font-size: 0.8em; font-weight: bold; line-height: 1; border-radius: 0.35em; text-transform: uppercase; vertical-align: middle; margin-left: 0.5rem\">PRODUCT</span>\n</mark>\n, which were returned within 30 days of purchase, are priced at $149 for the model with 8 gigabytes of storage, while the 16-gigabyte version is $249. A two-year service contract with AT&amp;T Inc is required. New \n<mark class=\"entity\" style=\"background: #bfeeb7; padding: 0.45em 0.6em; margin: 0 0.25em; line-height: 1; border-radius: 0.35em;\">\n    iPhone 3Gs\n    <span style=\"font-size: 0.8em; font-weight: bold; line-height: 1; border-radius: 0.35em; text-transform: uppercase; vertical-align: middle; margin-left: 0.5rem\">PRODUCT</span>\n</mark>\n currently sell for $199 and $299 at Best Buy Mobile stores. &quot;This is focusing on customers' needs, trying to provide as wide a range of products and networks for our consumers,&quot; said \n<mark class=\"entity\" style=\"background: #aa9cfc; padding: 0.45em 0.6em; margin: 0 0.25em; line-height: 1; border-radius: 0.35em;\">\n    Scott Moore\n    <span style=\"font-size: 0.8em; font-weight: bold; line-height: 1; border-radius: 0.35em; text-transform: uppercase; vertical-align: middle; margin-left: 0.5rem\">PERSON</span>\n</mark>\n, vice president of marketing for Best Buy Mobile. Buyers of first-generation iPhones can also upgrade to the faster refurbished 3G models at \n<mark class=\"entity\" style=\"background: #7aecec; padding: 0.45em 0.6em; margin: 0 0.25em; line-height: 1; border-radius: 0.35em;\">\n    Best Buy\n    <span style=\"font-size: 0.8em; font-weight: bold; line-height: 1; border-radius: 0.35em; text-transform: uppercase; vertical-align: middle; margin-left: 0.5rem\">ORG</span>\n</mark>\n, he said. \n<mark class=\"entity\" style=\"background: #feca74; padding: 0.45em 0.6em; margin: 0 0.25em; line-height: 1; border-radius: 0.35em;\">\n    Moore\n    <span style=\"font-size: 0.8em; font-weight: bold; line-height: 1; border-radius: 0.35em; text-transform: uppercase; vertical-align: middle; margin-left: 0.5rem\">GPE</span>\n</mark>\n said \n<mark class=\"entity\" style=\"background: #7aecec; padding: 0.45em 0.6em; margin: 0 0.25em; line-height: 1; border-radius: 0.35em;\">\n    AT&amp;T\n    <span style=\"font-size: 0.8em; font-weight: bold; line-height: 1; border-radius: 0.35em; text-transform: uppercase; vertical-align: middle; margin-left: 0.5rem\">ORG</span>\n</mark>\n, the exclusive wireless provider for the \n<mark class=\"entity\" style=\"background: #bfeeb7; padding: 0.45em 0.6em; margin: 0 0.25em; line-height: 1; border-radius: 0.35em;\">\n    iPhone\n    <span style=\"font-size: 0.8em; font-weight: bold; line-height: 1; border-radius: 0.35em; text-transform: uppercase; vertical-align: middle; margin-left: 0.5rem\">PRODUCT</span>\n</mark>\n, offers refurbished \n<mark class=\"entity\" style=\"background: #bfeeb7; padding: 0.45em 0.6em; margin: 0 0.25em; line-height: 1; border-radius: 0.35em;\">\n    iPhones\n    <span style=\"font-size: 0.8em; font-weight: bold; line-height: 1; border-radius: 0.35em; text-transform: uppercase; vertical-align: middle; margin-left: 0.5rem\">PRODUCT</span>\n</mark>\n online. The sale of used \n<mark class=\"entity\" style=\"background: #bfeeb7; padding: 0.45em 0.6em; margin: 0 0.25em; line-height: 1; border-radius: 0.35em;\">\n    iPhones\n    <span style=\"font-size: 0.8em; font-weight: bold; line-height: 1; border-radius: 0.35em; text-transform: uppercase; vertical-align: middle; margin-left: 0.5rem\">PRODUCT</span>\n</mark>\n comes as \n<mark class=\"entity\" style=\"background: #7aecec; padding: 0.45em 0.6em; margin: 0 0.25em; line-height: 1; border-radius: 0.35em;\">\n    Best Buy\n    <span style=\"font-size: 0.8em; font-weight: bold; line-height: 1; border-radius: 0.35em; text-transform: uppercase; vertical-align: middle; margin-left: 0.5rem\">ORG</span>\n</mark>\n, the top consumer electronics chain, seeks ways to fend off increased competition from discounters such as Wal-Mart Stores Inc, which began selling the popular phone late last month. Wal-Mart sells a new 8-gigabyte \n<mark class=\"entity\" style=\"background: #bfeeb7; padding: 0.45em 0.6em; margin: 0 0.25em; line-height: 1; border-radius: 0.35em;\">\n    iPhone 3G\n    <span style=\"font-size: 0.8em; font-weight: bold; line-height: 1; border-radius: 0.35em; text-transform: uppercase; vertical-align: middle; margin-left: 0.5rem\">PRODUCT</span>\n</mark>\n for $197 and $297 for the 16-gigabyte model. The \n<mark class=\"entity\" style=\"background: #bfeeb7; padding: 0.45em 0.6em; margin: 0 0.25em; line-height: 1; border-radius: 0.35em;\">\n    iPhone\n    <span style=\"font-size: 0.8em; font-weight: bold; line-height: 1; border-radius: 0.35em; text-transform: uppercase; vertical-align: middle; margin-left: 0.5rem\">PRODUCT</span>\n</mark>\n is also sold at Apple stores and AT&amp;T stores. \n<mark class=\"entity\" style=\"background: #feca74; padding: 0.45em 0.6em; margin: 0 0.25em; line-height: 1; border-radius: 0.35em;\">\n    Moore\n    <span style=\"font-size: 0.8em; font-weight: bold; line-height: 1; border-radius: 0.35em; text-transform: uppercase; vertical-align: middle; margin-left: 0.5rem\">GPE</span>\n</mark>\n said \n<mark class=\"entity\" style=\"background: #7aecec; padding: 0.45em 0.6em; margin: 0 0.25em; line-height: 1; border-radius: 0.35em;\">\n    Best Buy\n    <span style=\"font-size: 0.8em; font-weight: bold; line-height: 1; border-radius: 0.35em; text-transform: uppercase; vertical-align: middle; margin-left: 0.5rem\">ORG</span>\n</mark>\n's move was not in response to other retailers' actions. (Reporting by Karen Jacobs ; Editing by Andre Grenon )</div></span>",
      "text/plain": "<IPython.core.display.HTML object>"
     },
     "metadata": {
      "transient": {}
     },
     "output_type": "display_data"
    }
   ],
   "source": [
    "\n",
    "tries = skweak.gazetteers.extract_json_data(domains.conll2003_ner.WIKIDATA_SMALL)\n",
    "annotator = skweak.gazetteers.GazetteerAnnotators(\"wikismall\", tries)\n",
    "\n",
    "annotator(doc)\n",
    "display_entities(doc, \"wikismall_*\")"
   ]
  },
  {
   "cell_type": "markdown",
   "metadata": {},
   "source": [
    "As we can see, the \"cased\" gazetteers have a higher precision than the uncased gazetteers (at a cost of lower coverage)."
   ]
  },
  {
   "cell_type": "markdown",
   "metadata": {},
   "source": [
    "#### 2.2 Crunchbase"
   ]
  },
  {
   "cell_type": "markdown",
   "metadata": {},
   "source": [
    "The second gazetteer is extracted from the [Open Data Map from Crunchbase](https://data.crunchbase.com/docs/open-data-map), which contains lists of both organisations and (business) persons."
   ]
  },
  {
   "cell_type": "code",
   "execution_count": 9,
   "metadata": {},
   "outputs": [
    {
     "name": "stdout",
     "output_type": "stream",
     "text": [
      "Extracting data from ./data/crunchbase.json\n",
      "Populating trie for class COMPANY (number: 788915)\n",
      "Populating trie for class ORG (number: 263)\n",
      "Populating trie for class PERSON (number: 1062669)\n"
     ]
    },
    {
     "data": {
      "text/html": "<span class=\"tex2jax_ignore\"><div class=\"entities\" style=\"line-height: 2.5; direction: ltr\"> ATLANTA (\n<mark class=\"entity\" style=\"background: #ddd; padding: 0.45em 0.6em; margin: 0 0.25em; line-height: 1; border-radius: 0.35em;\">\n    Reuters\n    <span style=\"font-size: 0.8em; font-weight: bold; line-height: 1; border-radius: 0.35em; text-transform: uppercase; vertical-align: middle; margin-left: 0.5rem\">COMPANY</span>\n</mark>\n) - Retailer Best Buy Co, seeking new ways to appeal to cost-conscious shoppers, said on Tuesday it is selling refurbished versions of Apple Inc's iPhone 3G at its stores that are priced about $\n<mark class=\"entity\" style=\"background: #ddd; padding: 0.45em 0.6em; margin: 0 0.25em; line-height: 1; border-radius: 0.35em;\">\n    50\n    <span style=\"font-size: 0.8em; font-weight: bold; line-height: 1; border-radius: 0.35em; text-transform: uppercase; vertical-align: middle; margin-left: 0.5rem\">COMPANY</span>\n</mark>\n less than new iPhones. The electronics chain said the used iPhones, which were returned within 30 days of purchase, are priced at $149 for the model with 8 gigabytes of storage, while the 16-gigabyte version is $249. A two-year service contract with AT&amp;T Inc is \n<mark class=\"entity\" style=\"background: #ddd; padding: 0.45em 0.6em; margin: 0 0.25em; line-height: 1; border-radius: 0.35em;\">\n    required\n    <span style=\"font-size: 0.8em; font-weight: bold; line-height: 1; border-radius: 0.35em; text-transform: uppercase; vertical-align: middle; margin-left: 0.5rem\">COMPANY</span>\n</mark>\n. New iPhone 3Gs currently sell for $199 and $299 at Best Buy Mobile stores. &quot;This is focusing on customers' \n<mark class=\"entity\" style=\"background: #ddd; padding: 0.45em 0.6em; margin: 0 0.25em; line-height: 1; border-radius: 0.35em;\">\n    needs\n    <span style=\"font-size: 0.8em; font-weight: bold; line-height: 1; border-radius: 0.35em; text-transform: uppercase; vertical-align: middle; margin-left: 0.5rem\">COMPANY</span>\n</mark>\n, trying to provide as wide a range of products and networks for our consumers,&quot; said \n<mark class=\"entity\" style=\"background: #aa9cfc; padding: 0.45em 0.6em; margin: 0 0.25em; line-height: 1; border-radius: 0.35em;\">\n    Scott Moore\n    <span style=\"font-size: 0.8em; font-weight: bold; line-height: 1; border-radius: 0.35em; text-transform: uppercase; vertical-align: middle; margin-left: 0.5rem\">PERSON</span>\n</mark>\n, vice president of marketing for Best Buy Mobile. Buyers of first-generation iPhones can also upgrade to the faster refurbished 3G models at \n<mark class=\"entity\" style=\"background: #ddd; padding: 0.45em 0.6em; margin: 0 0.25em; line-height: 1; border-radius: 0.35em;\">\n    Best Buy\n    <span style=\"font-size: 0.8em; font-weight: bold; line-height: 1; border-radius: 0.35em; text-transform: uppercase; vertical-align: middle; margin-left: 0.5rem\">COMPANY</span>\n</mark>\n, he said. \n<mark class=\"entity\" style=\"background: #ddd; padding: 0.45em 0.6em; margin: 0 0.25em; line-height: 1; border-radius: 0.35em;\">\n    Moore\n    <span style=\"font-size: 0.8em; font-weight: bold; line-height: 1; border-radius: 0.35em; text-transform: uppercase; vertical-align: middle; margin-left: 0.5rem\">COMPANY</span>\n</mark>\n said \n<mark class=\"entity\" style=\"background: #ddd; padding: 0.45em 0.6em; margin: 0 0.25em; line-height: 1; border-radius: 0.35em;\">\n    AT&amp;T\n    <span style=\"font-size: 0.8em; font-weight: bold; line-height: 1; border-radius: 0.35em; text-transform: uppercase; vertical-align: middle; margin-left: 0.5rem\">COMPANY</span>\n</mark>\n, the exclusive wireless provider for the iPhone, offers refurbished iPhones online. The sale of used iPhones comes as \n<mark class=\"entity\" style=\"background: #ddd; padding: 0.45em 0.6em; margin: 0 0.25em; line-height: 1; border-radius: 0.35em;\">\n    Best Buy\n    <span style=\"font-size: 0.8em; font-weight: bold; line-height: 1; border-radius: 0.35em; text-transform: uppercase; vertical-align: middle; margin-left: 0.5rem\">COMPANY</span>\n</mark>\n, the top consumer electronics chain, seeks ways to \n<mark class=\"entity\" style=\"background: #ddd; padding: 0.45em 0.6em; margin: 0 0.25em; line-height: 1; border-radius: 0.35em;\">\n    fend\n    <span style=\"font-size: 0.8em; font-weight: bold; line-height: 1; border-radius: 0.35em; text-transform: uppercase; vertical-align: middle; margin-left: 0.5rem\">COMPANY</span>\n</mark>\n off increased competition from discounters such as Wal-Mart Stores Inc, which began selling the popular phone late last month. Wal-Mart sells a new 8-gigabyte iPhone 3G for $197 and $297 for the 16-gigabyte model. The iPhone is also sold at Apple stores and AT&amp;T stores. \n<mark class=\"entity\" style=\"background: #ddd; padding: 0.45em 0.6em; margin: 0 0.25em; line-height: 1; border-radius: 0.35em;\">\n    Moore\n    <span style=\"font-size: 0.8em; font-weight: bold; line-height: 1; border-radius: 0.35em; text-transform: uppercase; vertical-align: middle; margin-left: 0.5rem\">COMPANY</span>\n</mark>\n said \n<mark class=\"entity\" style=\"background: #ddd; padding: 0.45em 0.6em; margin: 0 0.25em; line-height: 1; border-radius: 0.35em;\">\n    Best Buy\n    <span style=\"font-size: 0.8em; font-weight: bold; line-height: 1; border-radius: 0.35em; text-transform: uppercase; vertical-align: middle; margin-left: 0.5rem\">COMPANY</span>\n</mark>\n's move was not in response to other retailers' actions. (Reporting by \n<mark class=\"entity\" style=\"background: #aa9cfc; padding: 0.45em 0.6em; margin: 0 0.25em; line-height: 1; border-radius: 0.35em;\">\n    Karen Jacobs\n    <span style=\"font-size: 0.8em; font-weight: bold; line-height: 1; border-radius: 0.35em; text-transform: uppercase; vertical-align: middle; margin-left: 0.5rem\">PERSON</span>\n</mark>\n ; Editing by Andre Grenon )</div></span>",
      "text/plain": "<IPython.core.display.HTML object>"
     },
     "metadata": {
      "transient": {}
     },
     "output_type": "display_data"
    }
   ],
   "source": [
    "tries = skweak.gazetteers.extract_json_data(domains.conll2003_ner.CRUNCHBASE)\n",
    "annotator = skweak.gazetteers.GazetteerAnnotators(\"crunchbase\", tries)\n",
    "\n",
    "annotator(doc)\n",
    "skweak.utils.display_entities(doc, \"crunchbase_*\")"
   ]
  },
  {
   "cell_type": "markdown",
   "metadata": {},
   "source": [
    "#### 2.3 Geonames\n",
    "\n",
    "The [geonames](http:www.geonames.org) database contains a large list of locations, including both geopolitical entities and \"natural\" locations:"
   ]
  },
  {
   "cell_type": "code",
   "execution_count": 9,
   "metadata": {},
   "outputs": [
    {
     "name": "stdout",
     "output_type": "stream",
     "text": [
      "Extracting data from ./data/geonames.json\n",
      "Populating trie for class GPE (number: 15205)\n"
     ]
    },
    {
     "data": {
      "text/html": "<span class=\"tex2jax_ignore\"><div class=\"entities\" style=\"line-height: 2.5; direction: ltr\"> \n<mark class=\"entity\" style=\"background: #feca74; padding: 0.45em 0.6em; margin: 0 0.25em; line-height: 1; border-radius: 0.35em;\">\n    ATLANTA\n    <span style=\"font-size: 0.8em; font-weight: bold; line-height: 1; border-radius: 0.35em; text-transform: uppercase; vertical-align: middle; margin-left: 0.5rem\">GPE</span>\n</mark>\n (Reuters) - Retailer Best Buy Co, seeking new ways to appeal to cost-conscious shoppers, said on Tuesday it is selling refurbished versions of Apple Inc's iPhone 3G at its stores that are priced about $50 less than new iPhones. The electronics chain said the used iPhones, which were returned within 30 days of purchase, are priced at $149 for the model with 8 gigabytes of storage, while the 16-gigabyte version is $249. A two-year service contract with AT&amp;T Inc is required. New iPhone 3Gs currently sell for $199 and $299 at Best Buy Mobile stores. &quot;This is focusing on customers' needs, trying to provide as wide a range of products and networks for our consumers,&quot; said Scott Moore, vice president of marketing for Best Buy Mobile. Buyers of first-generation iPhones can also upgrade to the faster refurbished 3G models at Best Buy, he said. Moore said AT&amp;T, the exclusive wireless provider for the iPhone, offers refurbished iPhones online. The sale of used iPhones comes as Best Buy, the top consumer electronics chain, seeks ways to fend off increased competition from discounters such as Wal-Mart Stores Inc, which began selling the popular phone late last month. Wal-Mart sells a new 8-gigabyte iPhone 3G for $197 and $297 for the 16-gigabyte model. The iPhone is also sold at Apple stores and AT&amp;T stores. Moore said Best Buy's move was not in response to other retailers' actions. (Reporting by Karen Jacobs ; Editing by Andre Grenon )</div></span>",
      "text/plain": "<IPython.core.display.HTML object>"
     },
     "metadata": {
      "transient": {}
     },
     "output_type": "display_data"
    }
   ],
   "source": [
    "tries = skweak.gazetteers.extract_json_data(domains.conll2003_ner.GEONAMES)\n",
    "annotator = skweak.gazetteers.GazetteerAnnotators(\"geo\", tries)\n",
    "\n",
    "annotator(doc)\n",
    "skweak.utils.display_entities(doc, \"geo_*\")"
   ]
  },
  {
   "cell_type": "markdown",
   "metadata": {},
   "source": [
    "#### 2.4 Company names\n",
    "\n",
    "Yet another gazetteer comes from the database of company names used internally at Exabel.  For each company name listed in this database, we extract possible alternatives, for instance with or without legal type (e.g. \"Microsoft\" vs. \"Microsoft Corp.\") or with or without country name (\"SAS Norway\" -> \"SAS\") or other generic tokens (\"Nordea Bank\" -> \"Nordea\"). As the database is quite large, the annotator takes some time to load:"
   ]
  },
  {
   "cell_type": "code",
   "execution_count": 17,
   "metadata": {},
   "outputs": [
    {
     "name": "stdout",
     "output_type": "stream",
     "text": [
      "Extracting data from ./data/company_names.json\n",
      "Populating trie for class COMPANY (number: 8678139)\n",
      "Populating trie for class ORG (number: 254295)\n"
     ]
    },
    {
     "data": {
      "text/html": "<span class=\"tex2jax_ignore\"><div class=\"entities\" style=\"line-height: 2.5; direction: ltr\"> \n<mark class=\"entity\" style=\"background: #ddd; padding: 0.45em 0.6em; margin: 0 0.25em; line-height: 1; border-radius: 0.35em;\">\n    ATLANTA\n    <span style=\"font-size: 0.8em; font-weight: bold; line-height: 1; border-radius: 0.35em; text-transform: uppercase; vertical-align: middle; margin-left: 0.5rem\">COMPANY</span>\n</mark>\n (\n<mark class=\"entity\" style=\"background: #ddd; padding: 0.45em 0.6em; margin: 0 0.25em; line-height: 1; border-radius: 0.35em;\">\n    Reuters\n    <span style=\"font-size: 0.8em; font-weight: bold; line-height: 1; border-radius: 0.35em; text-transform: uppercase; vertical-align: middle; margin-left: 0.5rem\">COMPANY</span>\n</mark>\n) - Retailer \n<mark class=\"entity\" style=\"background: #ddd; padding: 0.45em 0.6em; margin: 0 0.25em; line-height: 1; border-radius: 0.35em;\">\n    Best Buy Co\n    <span style=\"font-size: 0.8em; font-weight: bold; line-height: 1; border-radius: 0.35em; text-transform: uppercase; vertical-align: middle; margin-left: 0.5rem\">COMPANY</span>\n</mark>\n, seeking new ways to appeal to cost-conscious shoppers, said on \n<mark class=\"entity\" style=\"background: #ddd; padding: 0.45em 0.6em; margin: 0 0.25em; line-height: 1; border-radius: 0.35em;\">\n    Tuesday\n    <span style=\"font-size: 0.8em; font-weight: bold; line-height: 1; border-radius: 0.35em; text-transform: uppercase; vertical-align: middle; margin-left: 0.5rem\">COMPANY</span>\n</mark>\n it is selling refurbished versions of Apple Inc's iPhone 3G at its stores that are priced about $50 less than new iPhones. The electronics chain said the used iPhones, which were returned within 30 days of purchase, are priced at $149 for the model with 8 gigabytes of storage, while the 16-gigabyte version is $249. A two-year service contract with AT&amp;T Inc is required. New iPhone \n<mark class=\"entity\" style=\"background: #ddd; padding: 0.45em 0.6em; margin: 0 0.25em; line-height: 1; border-radius: 0.35em;\">\n    3Gs\n    <span style=\"font-size: 0.8em; font-weight: bold; line-height: 1; border-radius: 0.35em; text-transform: uppercase; vertical-align: middle; margin-left: 0.5rem\">COMPANY</span>\n</mark>\n currently sell for $199 and $299 at Best Buy Mobile stores. &quot;This is focusing on customers' needs, trying to provide as wide a range of products and networks for our consumers,&quot; said Scott Moore, vice president of marketing for \n<mark class=\"entity\" style=\"background: #ddd; padding: 0.45em 0.6em; margin: 0 0.25em; line-height: 1; border-radius: 0.35em;\">\n    Best Buy Mobile\n    <span style=\"font-size: 0.8em; font-weight: bold; line-height: 1; border-radius: 0.35em; text-transform: uppercase; vertical-align: middle; margin-left: 0.5rem\">COMPANY</span>\n</mark>\n. Buyers of first-generation iPhones can also upgrade to the faster refurbished 3G models at \n<mark class=\"entity\" style=\"background: #ddd; padding: 0.45em 0.6em; margin: 0 0.25em; line-height: 1; border-radius: 0.35em;\">\n    Best Buy\n    <span style=\"font-size: 0.8em; font-weight: bold; line-height: 1; border-radius: 0.35em; text-transform: uppercase; vertical-align: middle; margin-left: 0.5rem\">COMPANY</span>\n</mark>\n, he said. \n<mark class=\"entity\" style=\"background: #ddd; padding: 0.45em 0.6em; margin: 0 0.25em; line-height: 1; border-radius: 0.35em;\">\n    Moore\n    <span style=\"font-size: 0.8em; font-weight: bold; line-height: 1; border-radius: 0.35em; text-transform: uppercase; vertical-align: middle; margin-left: 0.5rem\">COMPANY</span>\n</mark>\n said \n<mark class=\"entity\" style=\"background: #ddd; padding: 0.45em 0.6em; margin: 0 0.25em; line-height: 1; border-radius: 0.35em;\">\n    AT&amp;T\n    <span style=\"font-size: 0.8em; font-weight: bold; line-height: 1; border-radius: 0.35em; text-transform: uppercase; vertical-align: middle; margin-left: 0.5rem\">COMPANY</span>\n</mark>\n, the exclusive wireless provider for the iPhone, offers refurbished iPhones online. The sale of used iPhones comes as \n<mark class=\"entity\" style=\"background: #ddd; padding: 0.45em 0.6em; margin: 0 0.25em; line-height: 1; border-radius: 0.35em;\">\n    Best Buy\n    <span style=\"font-size: 0.8em; font-weight: bold; line-height: 1; border-radius: 0.35em; text-transform: uppercase; vertical-align: middle; margin-left: 0.5rem\">COMPANY</span>\n</mark>\n, the top consumer electronics chain, seeks ways to fend off increased competition from discounters such as \n<mark class=\"entity\" style=\"background: #ddd; padding: 0.45em 0.6em; margin: 0 0.25em; line-height: 1; border-radius: 0.35em;\">\n    Wal-Mart\n    <span style=\"font-size: 0.8em; font-weight: bold; line-height: 1; border-radius: 0.35em; text-transform: uppercase; vertical-align: middle; margin-left: 0.5rem\">COMPANY</span>\n</mark>\n Stores Inc, which began selling the popular phone late last month. \n<mark class=\"entity\" style=\"background: #ddd; padding: 0.45em 0.6em; margin: 0 0.25em; line-height: 1; border-radius: 0.35em;\">\n    Wal-Mart\n    <span style=\"font-size: 0.8em; font-weight: bold; line-height: 1; border-radius: 0.35em; text-transform: uppercase; vertical-align: middle; margin-left: 0.5rem\">COMPANY</span>\n</mark>\n sells a new 8-gigabyte iPhone 3G for $197 and $297 for the 16-gigabyte model. The iPhone is also sold at Apple stores and AT&amp;T stores. \n<mark class=\"entity\" style=\"background: #ddd; padding: 0.45em 0.6em; margin: 0 0.25em; line-height: 1; border-radius: 0.35em;\">\n    Moore\n    <span style=\"font-size: 0.8em; font-weight: bold; line-height: 1; border-radius: 0.35em; text-transform: uppercase; vertical-align: middle; margin-left: 0.5rem\">COMPANY</span>\n</mark>\n said \n<mark class=\"entity\" style=\"background: #ddd; padding: 0.45em 0.6em; margin: 0 0.25em; line-height: 1; border-radius: 0.35em;\">\n    Best Buy\n    <span style=\"font-size: 0.8em; font-weight: bold; line-height: 1; border-radius: 0.35em; text-transform: uppercase; vertical-align: middle; margin-left: 0.5rem\">COMPANY</span>\n</mark>\n's move was not in response to other retailers' actions. (Reporting by Karen Jacobs ; \n<mark class=\"entity\" style=\"background: #ddd; padding: 0.45em 0.6em; margin: 0 0.25em; line-height: 1; border-radius: 0.35em;\">\n    Editing\n    <span style=\"font-size: 0.8em; font-weight: bold; line-height: 1; border-radius: 0.35em; text-transform: uppercase; vertical-align: middle; margin-left: 0.5rem\">COMPANY</span>\n</mark>\n by Andre Grenon )</div></span>",
      "text/plain": "<IPython.core.display.HTML object>"
     },
     "metadata": {
      "transient": {}
     },
     "output_type": "display_data"
    }
   ],
   "source": [
    "\n",
    "tries = skweak.gazetteers.extract_json_data(domains.conll2003_ner.COMPANY_NAMES)\n",
    "annotator = skweak.gazetteers.GazetteerAnnotators(\"companies\", tries)\n",
    "\n",
    "annotator(doc)\n",
    "skweak.utils.display_entities(doc, \"companies_*\")"
   ]
  },
  {
   "cell_type": "markdown",
   "metadata": {},
   "source": [
    "Note that the annotator explicitly marks the detected entities with the label `COMPANY` instead of the more generic `ORG`.  "
   ]
  },
  {
   "cell_type": "markdown",
   "metadata": {},
   "source": [
    "#### 2.5 Product names\n",
    "\n",
    "Finally, I used [DBPedia](http://www.dbpedia.org) to extract a list of products and brands, since the recognition of products is particularly poor in Spacy NER models:"
   ]
  },
  {
   "cell_type": "code",
   "execution_count": 10,
   "metadata": {},
   "outputs": [
    {
     "name": "stdout",
     "output_type": "stream",
     "text": [
      "Extracting data from ./data/products.json\n",
      "Populating trie for class PRODUCT (number: 45362)\n"
     ]
    },
    {
     "data": {
      "text/html": "<span class=\"tex2jax_ignore\"><div class=\"entities\" style=\"line-height: 2.5; direction: ltr\"> ATLANTA (Reuters) - Retailer Best Buy Co, seeking new ways to appeal to cost-conscious shoppers, said on Tuesday it is selling refurbished versions of Apple Inc's \n<mark class=\"entity\" style=\"background: #bfeeb7; padding: 0.45em 0.6em; margin: 0 0.25em; line-height: 1; border-radius: 0.35em;\">\n    iPhone 3G\n    <span style=\"font-size: 0.8em; font-weight: bold; line-height: 1; border-radius: 0.35em; text-transform: uppercase; vertical-align: middle; margin-left: 0.5rem\">PRODUCT</span>\n</mark>\n at its stores that are priced about $50 less than new \n<mark class=\"entity\" style=\"background: #bfeeb7; padding: 0.45em 0.6em; margin: 0 0.25em; line-height: 1; border-radius: 0.35em;\">\n    iPhones\n    <span style=\"font-size: 0.8em; font-weight: bold; line-height: 1; border-radius: 0.35em; text-transform: uppercase; vertical-align: middle; margin-left: 0.5rem\">PRODUCT</span>\n</mark>\n. The electronics chain said the used \n<mark class=\"entity\" style=\"background: #bfeeb7; padding: 0.45em 0.6em; margin: 0 0.25em; line-height: 1; border-radius: 0.35em;\">\n    iPhones\n    <span style=\"font-size: 0.8em; font-weight: bold; line-height: 1; border-radius: 0.35em; text-transform: uppercase; vertical-align: middle; margin-left: 0.5rem\">PRODUCT</span>\n</mark>\n, which were returned within 30 days of purchase, are priced at $149 for the model with 8 gigabytes of storage, while the 16-gigabyte version is $249. A two-year service contract with AT&amp;T Inc is required. New \n<mark class=\"entity\" style=\"background: #bfeeb7; padding: 0.45em 0.6em; margin: 0 0.25em; line-height: 1; border-radius: 0.35em;\">\n    iPhone 3Gs\n    <span style=\"font-size: 0.8em; font-weight: bold; line-height: 1; border-radius: 0.35em; text-transform: uppercase; vertical-align: middle; margin-left: 0.5rem\">PRODUCT</span>\n</mark>\n currently sell for $199 and $299 at Best Buy Mobile stores. &quot;This is focusing on customers' needs, trying to provide as wide a range of products and networks for our consumers,&quot; said Scott Moore, vice president of marketing for Best Buy Mobile. Buyers of first-generation iPhones can also upgrade to the faster refurbished 3G models at Best Buy, he said. Moore said AT&amp;T, the exclusive wireless provider for the \n<mark class=\"entity\" style=\"background: #bfeeb7; padding: 0.45em 0.6em; margin: 0 0.25em; line-height: 1; border-radius: 0.35em;\">\n    iPhone\n    <span style=\"font-size: 0.8em; font-weight: bold; line-height: 1; border-radius: 0.35em; text-transform: uppercase; vertical-align: middle; margin-left: 0.5rem\">PRODUCT</span>\n</mark>\n, offers refurbished \n<mark class=\"entity\" style=\"background: #bfeeb7; padding: 0.45em 0.6em; margin: 0 0.25em; line-height: 1; border-radius: 0.35em;\">\n    iPhones\n    <span style=\"font-size: 0.8em; font-weight: bold; line-height: 1; border-radius: 0.35em; text-transform: uppercase; vertical-align: middle; margin-left: 0.5rem\">PRODUCT</span>\n</mark>\n online. The sale of used \n<mark class=\"entity\" style=\"background: #bfeeb7; padding: 0.45em 0.6em; margin: 0 0.25em; line-height: 1; border-radius: 0.35em;\">\n    iPhones\n    <span style=\"font-size: 0.8em; font-weight: bold; line-height: 1; border-radius: 0.35em; text-transform: uppercase; vertical-align: middle; margin-left: 0.5rem\">PRODUCT</span>\n</mark>\n comes as Best Buy, the top consumer electronics chain, seeks ways to fend off increased competition from discounters such as Wal-Mart Stores Inc, which began selling the popular phone late last month. Wal-Mart sells a new 8-gigabyte \n<mark class=\"entity\" style=\"background: #bfeeb7; padding: 0.45em 0.6em; margin: 0 0.25em; line-height: 1; border-radius: 0.35em;\">\n    iPhone 3G\n    <span style=\"font-size: 0.8em; font-weight: bold; line-height: 1; border-radius: 0.35em; text-transform: uppercase; vertical-align: middle; margin-left: 0.5rem\">PRODUCT</span>\n</mark>\n for $197 and $297 for the 16-gigabyte model. The \n<mark class=\"entity\" style=\"background: #bfeeb7; padding: 0.45em 0.6em; margin: 0 0.25em; line-height: 1; border-radius: 0.35em;\">\n    iPhone\n    <span style=\"font-size: 0.8em; font-weight: bold; line-height: 1; border-radius: 0.35em; text-transform: uppercase; vertical-align: middle; margin-left: 0.5rem\">PRODUCT</span>\n</mark>\n is also sold at Apple stores and AT&amp;T stores. Moore said Best Buy's move was not in response to other retailers' actions. (Reporting by Karen Jacobs ; Editing by Andre Grenon )</div></span>",
      "text/plain": "<IPython.core.display.HTML object>"
     },
     "metadata": {
      "transient": {}
     },
     "output_type": "display_data"
    }
   ],
   "source": [
    "\n",
    "tries = skweak.gazetteers.extract_json_data(domains.conll2003_ner.PRODUCTS)\n",
    "annotator = skweak.gazetteers.GazetteerAnnotators(\"products\", tries)\n",
    "\n",
    "annotator(doc)\n",
    "skweak.utils.display_entities(doc, \"products_*\")"
   ]
  },
  {
   "cell_type": "markdown",
   "metadata": {},
   "source": [
    "### 3. Shallow patterns\n",
    "\n",
    "Some named entities can also be captured through relatively simple, handcrafted patterns defined on the Spacy document. The class `FunctionAnnotator` makes it easy to define an annotator based on a function that takes a Spacy document as input and generate text spans with a label. Relations of mutual exclusivity between annotation sources can also be specified in the annotator. For instance, we can specify that numbers that are part of a date, time or money span should be ignored from the \"number_detector\" (to avoid having e.g. the `21` in `October 21` labelled as a `CARDINAL`): "
   ]
  },
  {
   "cell_type": "code",
   "execution_count": 11,
   "metadata": {},
   "outputs": [
    {
     "data": {
      "text/html": "<span class=\"tex2jax_ignore\"><div class=\"entities\" style=\"line-height: 2.5; direction: ltr\"> ATLANTA (Reuters) - Retailer Best Buy Co, seeking new ways to appeal to cost-conscious shoppers, said on \n<mark class=\"entity\" style=\"background: #bfe1d9; padding: 0.45em 0.6em; margin: 0 0.25em; line-height: 1; border-radius: 0.35em;\">\n    Tuesday\n    <span style=\"font-size: 0.8em; font-weight: bold; line-height: 1; border-radius: 0.35em; text-transform: uppercase; vertical-align: middle; margin-left: 0.5rem\">DATE</span>\n</mark>\n it is selling refurbished versions of Apple Inc's iPhone 3G at its stores that are priced about $50 less than new iPhones. The electronics chain said the used iPhones, which were returned within 30 days of purchase, are priced at $149 for the model with 8 gigabytes of storage, while the 16-gigabyte version is $249. A two-year service contract with AT&amp;T Inc is required. New iPhone 3Gs currently sell for $199 and $299 at Best Buy Mobile stores. &quot;This is focusing on customers' needs, trying to provide as wide a range of products and networks for our consumers,&quot; said Scott Moore, vice president of marketing for Best Buy Mobile. Buyers of first-generation iPhones can also upgrade to the faster refurbished 3G models at Best Buy, he said. Moore said AT&amp;T, the exclusive wireless provider for the iPhone, offers refurbished iPhones online. The sale of used iPhones comes as Best Buy, the top consumer electronics chain, seeks ways to fend off increased competition from discounters such as Wal-Mart Stores Inc, which began selling the popular phone late last month. Wal-Mart sells a new 8-gigabyte iPhone 3G for $197 and $297 for the 16-gigabyte model. The iPhone is also sold at Apple stores and AT&amp;T stores. Moore said Best Buy's move was not in response to other retailers' actions. (Reporting by Karen Jacobs ; Editing by Andre Grenon )</div></span>",
      "text/plain": "<IPython.core.display.HTML object>"
     },
     "metadata": {
      "transient": {}
     },
     "output_type": "display_data"
    },
    {
     "data": {
      "text/html": "<span class=\"tex2jax_ignore\"><div class=\"entities\" style=\"line-height: 2.5; direction: ltr\"> ATLANTA (Reuters) - Retailer Best Buy Co, seeking new ways to appeal to cost-conscious shoppers, said on Tuesday it is selling refurbished versions of Apple Inc's iPhone 3G at its stores that are priced about $50 less than new iPhones. The electronics chain said the used iPhones, which were returned within 30 days of purchase, are priced at $149 for the model with 8 gigabytes of storage, while the 16-gigabyte version is $249. A two-year service contract with AT&amp;T Inc is required. New iPhone 3Gs currently sell for $199 and $299 at Best Buy Mobile stores. &quot;This is focusing on customers' needs, trying to provide as wide a range of products and networks for our consumers,&quot; said Scott Moore, vice president of marketing for Best Buy Mobile. Buyers of first-generation iPhones can also upgrade to the faster refurbished 3G models at Best Buy, he said. Moore said AT&amp;T, the exclusive wireless provider for the iPhone, offers refurbished iPhones online. The sale of used iPhones comes as Best Buy, the top consumer electronics chain, seeks ways to fend off increased competition from discounters such as Wal-Mart Stores Inc, which began selling the popular phone late last month. Wal-Mart sells a new 8-gigabyte iPhone 3G for $197 and $297 for the 16-gigabyte model. The iPhone is also sold at Apple stores and AT&amp;T stores. Moore said Best Buy's move was not in response to other retailers' actions. (Reporting by Karen Jacobs ; Editing by Andre Grenon )</div></span>",
      "text/plain": "<IPython.core.display.HTML object>"
     },
     "metadata": {
      "transient": {}
     },
     "output_type": "display_data"
    },
    {
     "data": {
      "text/html": "<span class=\"tex2jax_ignore\"><div class=\"entities\" style=\"line-height: 2.5; direction: ltr\"> ATLANTA (Reuters) - Retailer Best Buy Co, seeking new ways to appeal to cost-conscious shoppers, said on Tuesday it is selling refurbished versions of Apple Inc's iPhone 3G at its stores that are priced about \n<mark class=\"entity\" style=\"background: #e4e7d2; padding: 0.45em 0.6em; margin: 0 0.25em; line-height: 1; border-radius: 0.35em;\">\n    $50\n    <span style=\"font-size: 0.8em; font-weight: bold; line-height: 1; border-radius: 0.35em; text-transform: uppercase; vertical-align: middle; margin-left: 0.5rem\">MONEY</span>\n</mark>\n less than new iPhones. The electronics chain said the used iPhones, which were returned within 30 days of purchase, are priced at \n<mark class=\"entity\" style=\"background: #e4e7d2; padding: 0.45em 0.6em; margin: 0 0.25em; line-height: 1; border-radius: 0.35em;\">\n    $149\n    <span style=\"font-size: 0.8em; font-weight: bold; line-height: 1; border-radius: 0.35em; text-transform: uppercase; vertical-align: middle; margin-left: 0.5rem\">MONEY</span>\n</mark>\n for the model with 8 gigabytes of storage, while the 16-gigabyte version is \n<mark class=\"entity\" style=\"background: #e4e7d2; padding: 0.45em 0.6em; margin: 0 0.25em; line-height: 1; border-radius: 0.35em;\">\n    $249\n    <span style=\"font-size: 0.8em; font-weight: bold; line-height: 1; border-radius: 0.35em; text-transform: uppercase; vertical-align: middle; margin-left: 0.5rem\">MONEY</span>\n</mark>\n. A two-year service contract with AT&amp;T Inc is required. New iPhone 3Gs currently sell for \n<mark class=\"entity\" style=\"background: #e4e7d2; padding: 0.45em 0.6em; margin: 0 0.25em; line-height: 1; border-radius: 0.35em;\">\n    $199\n    <span style=\"font-size: 0.8em; font-weight: bold; line-height: 1; border-radius: 0.35em; text-transform: uppercase; vertical-align: middle; margin-left: 0.5rem\">MONEY</span>\n</mark>\n and \n<mark class=\"entity\" style=\"background: #e4e7d2; padding: 0.45em 0.6em; margin: 0 0.25em; line-height: 1; border-radius: 0.35em;\">\n    $299\n    <span style=\"font-size: 0.8em; font-weight: bold; line-height: 1; border-radius: 0.35em; text-transform: uppercase; vertical-align: middle; margin-left: 0.5rem\">MONEY</span>\n</mark>\n at Best Buy Mobile stores. &quot;This is focusing on customers' needs, trying to provide as wide a range of products and networks for our consumers,&quot; said Scott Moore, vice president of marketing for Best Buy Mobile. Buyers of first-generation iPhones can also upgrade to the faster refurbished 3G models at Best Buy, he said. Moore said AT&amp;T, the exclusive wireless provider for the iPhone, offers refurbished iPhones online. The sale of used iPhones comes as Best Buy, the top consumer electronics chain, seeks ways to fend off increased competition from discounters such as Wal-Mart Stores Inc, which began selling the popular phone late last month. Wal-Mart sells a new 8-gigabyte iPhone 3G for \n<mark class=\"entity\" style=\"background: #e4e7d2; padding: 0.45em 0.6em; margin: 0 0.25em; line-height: 1; border-radius: 0.35em;\">\n    $197\n    <span style=\"font-size: 0.8em; font-weight: bold; line-height: 1; border-radius: 0.35em; text-transform: uppercase; vertical-align: middle; margin-left: 0.5rem\">MONEY</span>\n</mark>\n and \n<mark class=\"entity\" style=\"background: #e4e7d2; padding: 0.45em 0.6em; margin: 0 0.25em; line-height: 1; border-radius: 0.35em;\">\n    $297\n    <span style=\"font-size: 0.8em; font-weight: bold; line-height: 1; border-radius: 0.35em; text-transform: uppercase; vertical-align: middle; margin-left: 0.5rem\">MONEY</span>\n</mark>\n for the 16-gigabyte model. The iPhone is also sold at Apple stores and AT&amp;T stores. Moore said Best Buy's move was not in response to other retailers' actions. (Reporting by Karen Jacobs ; Editing by Andre Grenon )</div></span>",
      "text/plain": "<IPython.core.display.HTML object>"
     },
     "metadata": {
      "transient": {}
     },
     "output_type": "display_data"
    },
    {
     "data": {
      "text/html": "<span class=\"tex2jax_ignore\"><div class=\"entities\" style=\"line-height: 2.5; direction: ltr\"> ATLANTA (Reuters) - Retailer Best Buy Co, seeking new ways to appeal to cost-conscious shoppers, said on Tuesday it is selling refurbished versions of Apple Inc's iPhone \n<mark class=\"entity\" style=\"background: #e4e7d2; padding: 0.45em 0.6em; margin: 0 0.25em; line-height: 1; border-radius: 0.35em;\">\n    3G\n    <span style=\"font-size: 0.8em; font-weight: bold; line-height: 1; border-radius: 0.35em; text-transform: uppercase; vertical-align: middle; margin-left: 0.5rem\">QUANTITY</span>\n</mark>\n at its stores that are priced about $50 less than new iPhones. The electronics chain said the used iPhones, which were returned within \n<mark class=\"entity\" style=\"background: #e4e7d2; padding: 0.45em 0.6em; margin: 0 0.25em; line-height: 1; border-radius: 0.35em;\">\n    30\n    <span style=\"font-size: 0.8em; font-weight: bold; line-height: 1; border-radius: 0.35em; text-transform: uppercase; vertical-align: middle; margin-left: 0.5rem\">CARDINAL</span>\n</mark>\n days of purchase, are priced at $149 for the model with \n<mark class=\"entity\" style=\"background: #e4e7d2; padding: 0.45em 0.6em; margin: 0 0.25em; line-height: 1; border-radius: 0.35em;\">\n    8 gigabytes\n    <span style=\"font-size: 0.8em; font-weight: bold; line-height: 1; border-radius: 0.35em; text-transform: uppercase; vertical-align: middle; margin-left: 0.5rem\">QUANTITY</span>\n</mark>\n of storage, while the \n<mark class=\"entity\" style=\"background: #e4e7d2; padding: 0.45em 0.6em; margin: 0 0.25em; line-height: 1; border-radius: 0.35em;\">\n    16-gigabyte\n    <span style=\"font-size: 0.8em; font-weight: bold; line-height: 1; border-radius: 0.35em; text-transform: uppercase; vertical-align: middle; margin-left: 0.5rem\">CARDINAL</span>\n</mark>\n version is $249. A two-year service contract with AT&amp;T Inc is required. New iPhone \n<mark class=\"entity\" style=\"background: #e4e7d2; padding: 0.45em 0.6em; margin: 0 0.25em; line-height: 1; border-radius: 0.35em;\">\n    3Gs\n    <span style=\"font-size: 0.8em; font-weight: bold; line-height: 1; border-radius: 0.35em; text-transform: uppercase; vertical-align: middle; margin-left: 0.5rem\">CARDINAL</span>\n</mark>\n currently sell for $199 and $299 at Best Buy Mobile stores. &quot;This is focusing on customers' needs, trying to provide as wide a range of products and networks for our consumers,&quot; said Scott Moore, vice president of marketing for Best Buy Mobile. Buyers of first-generation iPhones can also upgrade to the faster refurbished \n<mark class=\"entity\" style=\"background: #e4e7d2; padding: 0.45em 0.6em; margin: 0 0.25em; line-height: 1; border-radius: 0.35em;\">\n    3G\n    <span style=\"font-size: 0.8em; font-weight: bold; line-height: 1; border-radius: 0.35em; text-transform: uppercase; vertical-align: middle; margin-left: 0.5rem\">QUANTITY</span>\n</mark>\n models at Best Buy, he said. Moore said AT&amp;T, the exclusive wireless provider for the iPhone, offers refurbished iPhones online. The sale of used iPhones comes as Best Buy, the top consumer electronics chain, seeks ways to fend off increased competition from discounters such as Wal-Mart Stores Inc, which began selling the popular phone late last month. Wal-Mart sells a new \n<mark class=\"entity\" style=\"background: #e4e7d2; padding: 0.45em 0.6em; margin: 0 0.25em; line-height: 1; border-radius: 0.35em;\">\n    8-gigabyte\n    <span style=\"font-size: 0.8em; font-weight: bold; line-height: 1; border-radius: 0.35em; text-transform: uppercase; vertical-align: middle; margin-left: 0.5rem\">CARDINAL</span>\n</mark>\n iPhone \n<mark class=\"entity\" style=\"background: #e4e7d2; padding: 0.45em 0.6em; margin: 0 0.25em; line-height: 1; border-radius: 0.35em;\">\n    3G\n    <span style=\"font-size: 0.8em; font-weight: bold; line-height: 1; border-radius: 0.35em; text-transform: uppercase; vertical-align: middle; margin-left: 0.5rem\">QUANTITY</span>\n</mark>\n for $197 and $297 for the \n<mark class=\"entity\" style=\"background: #e4e7d2; padding: 0.45em 0.6em; margin: 0 0.25em; line-height: 1; border-radius: 0.35em;\">\n    16-gigabyte\n    <span style=\"font-size: 0.8em; font-weight: bold; line-height: 1; border-radius: 0.35em; text-transform: uppercase; vertical-align: middle; margin-left: 0.5rem\">CARDINAL</span>\n</mark>\n model. The iPhone is also sold at Apple stores and AT&amp;T stores. Moore said Best Buy's move was not in response to other retailers' actions. (Reporting by Karen Jacobs ; Editing by Andre Grenon )</div></span>",
      "text/plain": "<IPython.core.display.HTML object>"
     },
     "metadata": {
      "transient": {}
     },
     "output_type": "display_data"
    }
   ],
   "source": [
    "\n",
    "date_annotator = skweak.heuristics.FunctionAnnotator(\"date_detector\", domains.conll2003_ner.date_generator)\n",
    "time_annotator = skweak.heuristics.FunctionAnnotator(\"time_detector\", domains.conll2003_ner.time_generator)\n",
    "money_annotator = skweak.heuristics.FunctionAnnotator(\"money_detector\", domains.conll2003_ner.money_generator)\n",
    "exclusives = [\"date_detector\", \"time_detector\", \"money_detector\"]\n",
    "number_annotator = skweak.heuristics.FunctionAnnotator(\"number_detector\", domains.conll2003_ner.number_generator)\n",
    "number_annotator.add_incompatible_sources(exclusives)\n",
    "\n",
    "date_annotator(doc)\n",
    "time_annotator(doc)\n",
    "money_annotator(doc)\n",
    "number_annotator(doc)\n",
    "skweak.utils.display_entities(doc, \"date_detector\")\n",
    "skweak.utils.display_entities(doc, \"time_detector\")\n",
    "skweak.utils.display_entities(doc, \"money_detector\")\n",
    "skweak.utils.display_entities(doc, \"number_detector\")"
   ]
  },
  {
   "cell_type": "markdown",
   "metadata": {},
   "source": [
    "I have also created a range of patterns aiming to improve the _detection_ of named entities, even though they leave the actual label underspecified (as a generic `ENT` label). Four such detectors are constructed:\n",
    "- two detectors of proper names based on casing (marking sequence of tokens whose lemma are \"titled\" as potential named entities)\n",
    "- one detector of NNP sequences (based on the Spacy POS tagger)\n",
    "- and one detector of sequences with proper names linked with \"compound\" dependency relations"
   ]
  },
  {
   "cell_type": "code",
   "execution_count": 12,
   "metadata": {},
   "outputs": [
    {
     "data": {
      "text/html": "<span class=\"tex2jax_ignore\"><div class=\"entities\" style=\"line-height: 2.5; direction: ltr\"> \n<mark class=\"entity\" style=\"background: #ddd; padding: 0.45em 0.6em; margin: 0 0.25em; line-height: 1; border-radius: 0.35em;\">\n    ATLANTA\n    <span style=\"font-size: 0.8em; font-weight: bold; line-height: 1; border-radius: 0.35em; text-transform: uppercase; vertical-align: middle; margin-left: 0.5rem\">ENT</span>\n</mark>\n (\n<mark class=\"entity\" style=\"background: #ddd; padding: 0.45em 0.6em; margin: 0 0.25em; line-height: 1; border-radius: 0.35em;\">\n    Reuters\n    <span style=\"font-size: 0.8em; font-weight: bold; line-height: 1; border-radius: 0.35em; text-transform: uppercase; vertical-align: middle; margin-left: 0.5rem\">ENT</span>\n</mark>\n) - \n<mark class=\"entity\" style=\"background: #ddd; padding: 0.45em 0.6em; margin: 0 0.25em; line-height: 1; border-radius: 0.35em;\">\n    Retailer Best Buy Co\n    <span style=\"font-size: 0.8em; font-weight: bold; line-height: 1; border-radius: 0.35em; text-transform: uppercase; vertical-align: middle; margin-left: 0.5rem\">ENT</span>\n</mark>\n, seeking new ways to appeal to cost-conscious shoppers, said on Tuesday it is selling refurbished versions of \n<mark class=\"entity\" style=\"background: #ddd; padding: 0.45em 0.6em; margin: 0 0.25em; line-height: 1; border-radius: 0.35em;\">\n    Apple Inc's iPhone\n    <span style=\"font-size: 0.8em; font-weight: bold; line-height: 1; border-radius: 0.35em; text-transform: uppercase; vertical-align: middle; margin-left: 0.5rem\">ENT</span>\n</mark>\n 3G at its stores that are priced about $50 less than new \n<mark class=\"entity\" style=\"background: #ddd; padding: 0.45em 0.6em; margin: 0 0.25em; line-height: 1; border-radius: 0.35em;\">\n    iPhones\n    <span style=\"font-size: 0.8em; font-weight: bold; line-height: 1; border-radius: 0.35em; text-transform: uppercase; vertical-align: middle; margin-left: 0.5rem\">ENT</span>\n</mark>\n. The electronics chain said the used \n<mark class=\"entity\" style=\"background: #ddd; padding: 0.45em 0.6em; margin: 0 0.25em; line-height: 1; border-radius: 0.35em;\">\n    iPhones\n    <span style=\"font-size: 0.8em; font-weight: bold; line-height: 1; border-radius: 0.35em; text-transform: uppercase; vertical-align: middle; margin-left: 0.5rem\">ENT</span>\n</mark>\n, which were returned within 30 days of purchase, are priced at $149 for the model with 8 gigabytes of storage, while the \n<mark class=\"entity\" style=\"background: #ddd; padding: 0.45em 0.6em; margin: 0 0.25em; line-height: 1; border-radius: 0.35em;\">\n    16-gigabyte\n    <span style=\"font-size: 0.8em; font-weight: bold; line-height: 1; border-radius: 0.35em; text-transform: uppercase; vertical-align: middle; margin-left: 0.5rem\">ENT</span>\n</mark>\n version is $249. A two-year service contract with \n<mark class=\"entity\" style=\"background: #ddd; padding: 0.45em 0.6em; margin: 0 0.25em; line-height: 1; border-radius: 0.35em;\">\n    AT&amp;T Inc\n    <span style=\"font-size: 0.8em; font-weight: bold; line-height: 1; border-radius: 0.35em; text-transform: uppercase; vertical-align: middle; margin-left: 0.5rem\">ENT</span>\n</mark>\n is required. \n<mark class=\"entity\" style=\"background: #ddd; padding: 0.45em 0.6em; margin: 0 0.25em; line-height: 1; border-radius: 0.35em;\">\n    New iPhone 3Gs\n    <span style=\"font-size: 0.8em; font-weight: bold; line-height: 1; border-radius: 0.35em; text-transform: uppercase; vertical-align: middle; margin-left: 0.5rem\">ENT</span>\n</mark>\n currently sell for $199 and $299 at \n<mark class=\"entity\" style=\"background: #ddd; padding: 0.45em 0.6em; margin: 0 0.25em; line-height: 1; border-radius: 0.35em;\">\n    Best Buy Mobile\n    <span style=\"font-size: 0.8em; font-weight: bold; line-height: 1; border-radius: 0.35em; text-transform: uppercase; vertical-align: middle; margin-left: 0.5rem\">ENT</span>\n</mark>\n stores. &quot;This is focusing on customers' needs, trying to provide as wide a range of products and networks for our consumers,&quot; said \n<mark class=\"entity\" style=\"background: #ddd; padding: 0.45em 0.6em; margin: 0 0.25em; line-height: 1; border-radius: 0.35em;\">\n    Scott Moore\n    <span style=\"font-size: 0.8em; font-weight: bold; line-height: 1; border-radius: 0.35em; text-transform: uppercase; vertical-align: middle; margin-left: 0.5rem\">ENT</span>\n</mark>\n, vice president of marketing for \n<mark class=\"entity\" style=\"background: #ddd; padding: 0.45em 0.6em; margin: 0 0.25em; line-height: 1; border-radius: 0.35em;\">\n    Best Buy Mobile\n    <span style=\"font-size: 0.8em; font-weight: bold; line-height: 1; border-radius: 0.35em; text-transform: uppercase; vertical-align: middle; margin-left: 0.5rem\">ENT</span>\n</mark>\n. Buyers of first-generation \n<mark class=\"entity\" style=\"background: #ddd; padding: 0.45em 0.6em; margin: 0 0.25em; line-height: 1; border-radius: 0.35em;\">\n    iPhones\n    <span style=\"font-size: 0.8em; font-weight: bold; line-height: 1; border-radius: 0.35em; text-transform: uppercase; vertical-align: middle; margin-left: 0.5rem\">ENT</span>\n</mark>\n can also upgrade to the faster refurbished 3G models at \n<mark class=\"entity\" style=\"background: #ddd; padding: 0.45em 0.6em; margin: 0 0.25em; line-height: 1; border-radius: 0.35em;\">\n    Best Buy\n    <span style=\"font-size: 0.8em; font-weight: bold; line-height: 1; border-radius: 0.35em; text-transform: uppercase; vertical-align: middle; margin-left: 0.5rem\">ENT</span>\n</mark>\n, he said. \n<mark class=\"entity\" style=\"background: #ddd; padding: 0.45em 0.6em; margin: 0 0.25em; line-height: 1; border-radius: 0.35em;\">\n    Moore\n    <span style=\"font-size: 0.8em; font-weight: bold; line-height: 1; border-radius: 0.35em; text-transform: uppercase; vertical-align: middle; margin-left: 0.5rem\">ENT</span>\n</mark>\n said \n<mark class=\"entity\" style=\"background: #ddd; padding: 0.45em 0.6em; margin: 0 0.25em; line-height: 1; border-radius: 0.35em;\">\n    AT&amp;T\n    <span style=\"font-size: 0.8em; font-weight: bold; line-height: 1; border-radius: 0.35em; text-transform: uppercase; vertical-align: middle; margin-left: 0.5rem\">ENT</span>\n</mark>\n, the exclusive wireless provider for the \n<mark class=\"entity\" style=\"background: #ddd; padding: 0.45em 0.6em; margin: 0 0.25em; line-height: 1; border-radius: 0.35em;\">\n    iPhone\n    <span style=\"font-size: 0.8em; font-weight: bold; line-height: 1; border-radius: 0.35em; text-transform: uppercase; vertical-align: middle; margin-left: 0.5rem\">ENT</span>\n</mark>\n, offers refurbished \n<mark class=\"entity\" style=\"background: #ddd; padding: 0.45em 0.6em; margin: 0 0.25em; line-height: 1; border-radius: 0.35em;\">\n    iPhones\n    <span style=\"font-size: 0.8em; font-weight: bold; line-height: 1; border-radius: 0.35em; text-transform: uppercase; vertical-align: middle; margin-left: 0.5rem\">ENT</span>\n</mark>\n online. The sale of used \n<mark class=\"entity\" style=\"background: #ddd; padding: 0.45em 0.6em; margin: 0 0.25em; line-height: 1; border-radius: 0.35em;\">\n    iPhones\n    <span style=\"font-size: 0.8em; font-weight: bold; line-height: 1; border-radius: 0.35em; text-transform: uppercase; vertical-align: middle; margin-left: 0.5rem\">ENT</span>\n</mark>\n comes as \n<mark class=\"entity\" style=\"background: #ddd; padding: 0.45em 0.6em; margin: 0 0.25em; line-height: 1; border-radius: 0.35em;\">\n    Best Buy\n    <span style=\"font-size: 0.8em; font-weight: bold; line-height: 1; border-radius: 0.35em; text-transform: uppercase; vertical-align: middle; margin-left: 0.5rem\">ENT</span>\n</mark>\n, the top consumer electronics chain, seeks ways to fend off increased competition from discounters such as \n<mark class=\"entity\" style=\"background: #ddd; padding: 0.45em 0.6em; margin: 0 0.25em; line-height: 1; border-radius: 0.35em;\">\n    Wal-Mart Stores Inc\n    <span style=\"font-size: 0.8em; font-weight: bold; line-height: 1; border-radius: 0.35em; text-transform: uppercase; vertical-align: middle; margin-left: 0.5rem\">ENT</span>\n</mark>\n, which began selling the popular phone late last month. \n<mark class=\"entity\" style=\"background: #ddd; padding: 0.45em 0.6em; margin: 0 0.25em; line-height: 1; border-radius: 0.35em;\">\n    Wal-Mart\n    <span style=\"font-size: 0.8em; font-weight: bold; line-height: 1; border-radius: 0.35em; text-transform: uppercase; vertical-align: middle; margin-left: 0.5rem\">ENT</span>\n</mark>\n sells a new \n<mark class=\"entity\" style=\"background: #ddd; padding: 0.45em 0.6em; margin: 0 0.25em; line-height: 1; border-radius: 0.35em;\">\n    8-gigabyte iPhone\n    <span style=\"font-size: 0.8em; font-weight: bold; line-height: 1; border-radius: 0.35em; text-transform: uppercase; vertical-align: middle; margin-left: 0.5rem\">ENT</span>\n</mark>\n 3G for $197 and $297 for the \n<mark class=\"entity\" style=\"background: #ddd; padding: 0.45em 0.6em; margin: 0 0.25em; line-height: 1; border-radius: 0.35em;\">\n    16-gigabyte\n    <span style=\"font-size: 0.8em; font-weight: bold; line-height: 1; border-radius: 0.35em; text-transform: uppercase; vertical-align: middle; margin-left: 0.5rem\">ENT</span>\n</mark>\n model. The \n<mark class=\"entity\" style=\"background: #ddd; padding: 0.45em 0.6em; margin: 0 0.25em; line-height: 1; border-radius: 0.35em;\">\n    iPhone\n    <span style=\"font-size: 0.8em; font-weight: bold; line-height: 1; border-radius: 0.35em; text-transform: uppercase; vertical-align: middle; margin-left: 0.5rem\">ENT</span>\n</mark>\n is also sold at \n<mark class=\"entity\" style=\"background: #ddd; padding: 0.45em 0.6em; margin: 0 0.25em; line-height: 1; border-radius: 0.35em;\">\n    Apple\n    <span style=\"font-size: 0.8em; font-weight: bold; line-height: 1; border-radius: 0.35em; text-transform: uppercase; vertical-align: middle; margin-left: 0.5rem\">ENT</span>\n</mark>\n stores and \n<mark class=\"entity\" style=\"background: #ddd; padding: 0.45em 0.6em; margin: 0 0.25em; line-height: 1; border-radius: 0.35em;\">\n    AT&amp;T\n    <span style=\"font-size: 0.8em; font-weight: bold; line-height: 1; border-radius: 0.35em; text-transform: uppercase; vertical-align: middle; margin-left: 0.5rem\">ENT</span>\n</mark>\n stores. \n<mark class=\"entity\" style=\"background: #ddd; padding: 0.45em 0.6em; margin: 0 0.25em; line-height: 1; border-radius: 0.35em;\">\n    Moore\n    <span style=\"font-size: 0.8em; font-weight: bold; line-height: 1; border-radius: 0.35em; text-transform: uppercase; vertical-align: middle; margin-left: 0.5rem\">ENT</span>\n</mark>\n said \n<mark class=\"entity\" style=\"background: #ddd; padding: 0.45em 0.6em; margin: 0 0.25em; line-height: 1; border-radius: 0.35em;\">\n    Best Buy\n    <span style=\"font-size: 0.8em; font-weight: bold; line-height: 1; border-radius: 0.35em; text-transform: uppercase; vertical-align: middle; margin-left: 0.5rem\">ENT</span>\n</mark>\n's move was not in response to other retailers' actions. (\n<mark class=\"entity\" style=\"background: #ddd; padding: 0.45em 0.6em; margin: 0 0.25em; line-height: 1; border-radius: 0.35em;\">\n    Reporting\n    <span style=\"font-size: 0.8em; font-weight: bold; line-height: 1; border-radius: 0.35em; text-transform: uppercase; vertical-align: middle; margin-left: 0.5rem\">ENT</span>\n</mark>\n by \n<mark class=\"entity\" style=\"background: #ddd; padding: 0.45em 0.6em; margin: 0 0.25em; line-height: 1; border-radius: 0.35em;\">\n    Karen Jacobs\n    <span style=\"font-size: 0.8em; font-weight: bold; line-height: 1; border-radius: 0.35em; text-transform: uppercase; vertical-align: middle; margin-left: 0.5rem\">ENT</span>\n</mark>\n ; \n<mark class=\"entity\" style=\"background: #ddd; padding: 0.45em 0.6em; margin: 0 0.25em; line-height: 1; border-radius: 0.35em;\">\n    Editing\n    <span style=\"font-size: 0.8em; font-weight: bold; line-height: 1; border-radius: 0.35em; text-transform: uppercase; vertical-align: middle; margin-left: 0.5rem\">ENT</span>\n</mark>\n by \n<mark class=\"entity\" style=\"background: #ddd; padding: 0.45em 0.6em; margin: 0 0.25em; line-height: 1; border-radius: 0.35em;\">\n    Andre Grenon\n    <span style=\"font-size: 0.8em; font-weight: bold; line-height: 1; border-radius: 0.35em; text-transform: uppercase; vertical-align: middle; margin-left: 0.5rem\">ENT</span>\n</mark>\n )</div></span>",
      "text/plain": "<IPython.core.display.HTML object>"
     },
     "metadata": {
      "transient": {}
     },
     "output_type": "display_data"
    },
    {
     "data": {
      "text/html": "<span class=\"tex2jax_ignore\"><div class=\"entities\" style=\"line-height: 2.5; direction: ltr\"> \n<mark class=\"entity\" style=\"background: #ddd; padding: 0.45em 0.6em; margin: 0 0.25em; line-height: 1; border-radius: 0.35em;\">\n    ATLANTA\n    <span style=\"font-size: 0.8em; font-weight: bold; line-height: 1; border-radius: 0.35em; text-transform: uppercase; vertical-align: middle; margin-left: 0.5rem\">ENT</span>\n</mark>\n (\n<mark class=\"entity\" style=\"background: #ddd; padding: 0.45em 0.6em; margin: 0 0.25em; line-height: 1; border-radius: 0.35em;\">\n    Reuters\n    <span style=\"font-size: 0.8em; font-weight: bold; line-height: 1; border-radius: 0.35em; text-transform: uppercase; vertical-align: middle; margin-left: 0.5rem\">ENT</span>\n</mark>\n) - \n<mark class=\"entity\" style=\"background: #ddd; padding: 0.45em 0.6em; margin: 0 0.25em; line-height: 1; border-radius: 0.35em;\">\n    Retailer Best Buy Co\n    <span style=\"font-size: 0.8em; font-weight: bold; line-height: 1; border-radius: 0.35em; text-transform: uppercase; vertical-align: middle; margin-left: 0.5rem\">ENT</span>\n</mark>\n, seeking new ways to appeal to cost-conscious shoppers, said on Tuesday it is selling refurbished versions of \n<mark class=\"entity\" style=\"background: #ddd; padding: 0.45em 0.6em; margin: 0 0.25em; line-height: 1; border-radius: 0.35em;\">\n    Apple Inc's iPhone\n    <span style=\"font-size: 0.8em; font-weight: bold; line-height: 1; border-radius: 0.35em; text-transform: uppercase; vertical-align: middle; margin-left: 0.5rem\">ENT</span>\n</mark>\n 3G at its stores that are priced about $50 less than new \n<mark class=\"entity\" style=\"background: #ddd; padding: 0.45em 0.6em; margin: 0 0.25em; line-height: 1; border-radius: 0.35em;\">\n    iPhones\n    <span style=\"font-size: 0.8em; font-weight: bold; line-height: 1; border-radius: 0.35em; text-transform: uppercase; vertical-align: middle; margin-left: 0.5rem\">ENT</span>\n</mark>\n. The electronics chain said the used \n<mark class=\"entity\" style=\"background: #ddd; padding: 0.45em 0.6em; margin: 0 0.25em; line-height: 1; border-radius: 0.35em;\">\n    iPhones\n    <span style=\"font-size: 0.8em; font-weight: bold; line-height: 1; border-radius: 0.35em; text-transform: uppercase; vertical-align: middle; margin-left: 0.5rem\">ENT</span>\n</mark>\n, which were returned within 30 days of purchase, are priced at $149 for the model with 8 gigabytes of storage, while the \n<mark class=\"entity\" style=\"background: #ddd; padding: 0.45em 0.6em; margin: 0 0.25em; line-height: 1; border-radius: 0.35em;\">\n    16-gigabyte\n    <span style=\"font-size: 0.8em; font-weight: bold; line-height: 1; border-radius: 0.35em; text-transform: uppercase; vertical-align: middle; margin-left: 0.5rem\">ENT</span>\n</mark>\n version is $249. A two-year service contract with \n<mark class=\"entity\" style=\"background: #ddd; padding: 0.45em 0.6em; margin: 0 0.25em; line-height: 1; border-radius: 0.35em;\">\n    AT&amp;T Inc\n    <span style=\"font-size: 0.8em; font-weight: bold; line-height: 1; border-radius: 0.35em; text-transform: uppercase; vertical-align: middle; margin-left: 0.5rem\">ENT</span>\n</mark>\n is required. \n<mark class=\"entity\" style=\"background: #ddd; padding: 0.45em 0.6em; margin: 0 0.25em; line-height: 1; border-radius: 0.35em;\">\n    New iPhone 3Gs\n    <span style=\"font-size: 0.8em; font-weight: bold; line-height: 1; border-radius: 0.35em; text-transform: uppercase; vertical-align: middle; margin-left: 0.5rem\">ENT</span>\n</mark>\n currently sell for $199 and $299 at \n<mark class=\"entity\" style=\"background: #ddd; padding: 0.45em 0.6em; margin: 0 0.25em; line-height: 1; border-radius: 0.35em;\">\n    Best Buy Mobile\n    <span style=\"font-size: 0.8em; font-weight: bold; line-height: 1; border-radius: 0.35em; text-transform: uppercase; vertical-align: middle; margin-left: 0.5rem\">ENT</span>\n</mark>\n stores. &quot;This is focusing on customers' needs, trying to provide as wide a range of products and networks for our consumers,&quot; said \n<mark class=\"entity\" style=\"background: #ddd; padding: 0.45em 0.6em; margin: 0 0.25em; line-height: 1; border-radius: 0.35em;\">\n    Scott Moore\n    <span style=\"font-size: 0.8em; font-weight: bold; line-height: 1; border-radius: 0.35em; text-transform: uppercase; vertical-align: middle; margin-left: 0.5rem\">ENT</span>\n</mark>\n, vice president of marketing for \n<mark class=\"entity\" style=\"background: #ddd; padding: 0.45em 0.6em; margin: 0 0.25em; line-height: 1; border-radius: 0.35em;\">\n    Best Buy Mobile\n    <span style=\"font-size: 0.8em; font-weight: bold; line-height: 1; border-radius: 0.35em; text-transform: uppercase; vertical-align: middle; margin-left: 0.5rem\">ENT</span>\n</mark>\n. Buyers of first-generation \n<mark class=\"entity\" style=\"background: #ddd; padding: 0.45em 0.6em; margin: 0 0.25em; line-height: 1; border-radius: 0.35em;\">\n    iPhones\n    <span style=\"font-size: 0.8em; font-weight: bold; line-height: 1; border-radius: 0.35em; text-transform: uppercase; vertical-align: middle; margin-left: 0.5rem\">ENT</span>\n</mark>\n can also upgrade to the faster refurbished 3G models at \n<mark class=\"entity\" style=\"background: #ddd; padding: 0.45em 0.6em; margin: 0 0.25em; line-height: 1; border-radius: 0.35em;\">\n    Best Buy\n    <span style=\"font-size: 0.8em; font-weight: bold; line-height: 1; border-radius: 0.35em; text-transform: uppercase; vertical-align: middle; margin-left: 0.5rem\">ENT</span>\n</mark>\n, he said. \n<mark class=\"entity\" style=\"background: #ddd; padding: 0.45em 0.6em; margin: 0 0.25em; line-height: 1; border-radius: 0.35em;\">\n    Moore\n    <span style=\"font-size: 0.8em; font-weight: bold; line-height: 1; border-radius: 0.35em; text-transform: uppercase; vertical-align: middle; margin-left: 0.5rem\">ENT</span>\n</mark>\n said \n<mark class=\"entity\" style=\"background: #ddd; padding: 0.45em 0.6em; margin: 0 0.25em; line-height: 1; border-radius: 0.35em;\">\n    AT&amp;T\n    <span style=\"font-size: 0.8em; font-weight: bold; line-height: 1; border-radius: 0.35em; text-transform: uppercase; vertical-align: middle; margin-left: 0.5rem\">ENT</span>\n</mark>\n, the exclusive wireless provider for the \n<mark class=\"entity\" style=\"background: #ddd; padding: 0.45em 0.6em; margin: 0 0.25em; line-height: 1; border-radius: 0.35em;\">\n    iPhone\n    <span style=\"font-size: 0.8em; font-weight: bold; line-height: 1; border-radius: 0.35em; text-transform: uppercase; vertical-align: middle; margin-left: 0.5rem\">ENT</span>\n</mark>\n, offers refurbished \n<mark class=\"entity\" style=\"background: #ddd; padding: 0.45em 0.6em; margin: 0 0.25em; line-height: 1; border-radius: 0.35em;\">\n    iPhones\n    <span style=\"font-size: 0.8em; font-weight: bold; line-height: 1; border-radius: 0.35em; text-transform: uppercase; vertical-align: middle; margin-left: 0.5rem\">ENT</span>\n</mark>\n online. The sale of used \n<mark class=\"entity\" style=\"background: #ddd; padding: 0.45em 0.6em; margin: 0 0.25em; line-height: 1; border-radius: 0.35em;\">\n    iPhones\n    <span style=\"font-size: 0.8em; font-weight: bold; line-height: 1; border-radius: 0.35em; text-transform: uppercase; vertical-align: middle; margin-left: 0.5rem\">ENT</span>\n</mark>\n comes as \n<mark class=\"entity\" style=\"background: #ddd; padding: 0.45em 0.6em; margin: 0 0.25em; line-height: 1; border-radius: 0.35em;\">\n    Best Buy\n    <span style=\"font-size: 0.8em; font-weight: bold; line-height: 1; border-radius: 0.35em; text-transform: uppercase; vertical-align: middle; margin-left: 0.5rem\">ENT</span>\n</mark>\n, the top consumer electronics chain, seeks ways to fend off increased competition from discounters such as \n<mark class=\"entity\" style=\"background: #ddd; padding: 0.45em 0.6em; margin: 0 0.25em; line-height: 1; border-radius: 0.35em;\">\n    Wal-Mart Stores Inc\n    <span style=\"font-size: 0.8em; font-weight: bold; line-height: 1; border-radius: 0.35em; text-transform: uppercase; vertical-align: middle; margin-left: 0.5rem\">ENT</span>\n</mark>\n, which began selling the popular phone late last month. \n<mark class=\"entity\" style=\"background: #ddd; padding: 0.45em 0.6em; margin: 0 0.25em; line-height: 1; border-radius: 0.35em;\">\n    Wal-Mart\n    <span style=\"font-size: 0.8em; font-weight: bold; line-height: 1; border-radius: 0.35em; text-transform: uppercase; vertical-align: middle; margin-left: 0.5rem\">ENT</span>\n</mark>\n sells a new \n<mark class=\"entity\" style=\"background: #ddd; padding: 0.45em 0.6em; margin: 0 0.25em; line-height: 1; border-radius: 0.35em;\">\n    8-gigabyte iPhone\n    <span style=\"font-size: 0.8em; font-weight: bold; line-height: 1; border-radius: 0.35em; text-transform: uppercase; vertical-align: middle; margin-left: 0.5rem\">ENT</span>\n</mark>\n 3G for $197 and $297 for the \n<mark class=\"entity\" style=\"background: #ddd; padding: 0.45em 0.6em; margin: 0 0.25em; line-height: 1; border-radius: 0.35em;\">\n    16-gigabyte\n    <span style=\"font-size: 0.8em; font-weight: bold; line-height: 1; border-radius: 0.35em; text-transform: uppercase; vertical-align: middle; margin-left: 0.5rem\">ENT</span>\n</mark>\n model. The \n<mark class=\"entity\" style=\"background: #ddd; padding: 0.45em 0.6em; margin: 0 0.25em; line-height: 1; border-radius: 0.35em;\">\n    iPhone\n    <span style=\"font-size: 0.8em; font-weight: bold; line-height: 1; border-radius: 0.35em; text-transform: uppercase; vertical-align: middle; margin-left: 0.5rem\">ENT</span>\n</mark>\n is also sold at \n<mark class=\"entity\" style=\"background: #ddd; padding: 0.45em 0.6em; margin: 0 0.25em; line-height: 1; border-radius: 0.35em;\">\n    Apple\n    <span style=\"font-size: 0.8em; font-weight: bold; line-height: 1; border-radius: 0.35em; text-transform: uppercase; vertical-align: middle; margin-left: 0.5rem\">ENT</span>\n</mark>\n stores and \n<mark class=\"entity\" style=\"background: #ddd; padding: 0.45em 0.6em; margin: 0 0.25em; line-height: 1; border-radius: 0.35em;\">\n    AT&amp;T\n    <span style=\"font-size: 0.8em; font-weight: bold; line-height: 1; border-radius: 0.35em; text-transform: uppercase; vertical-align: middle; margin-left: 0.5rem\">ENT</span>\n</mark>\n stores. \n<mark class=\"entity\" style=\"background: #ddd; padding: 0.45em 0.6em; margin: 0 0.25em; line-height: 1; border-radius: 0.35em;\">\n    Moore\n    <span style=\"font-size: 0.8em; font-weight: bold; line-height: 1; border-radius: 0.35em; text-transform: uppercase; vertical-align: middle; margin-left: 0.5rem\">ENT</span>\n</mark>\n said \n<mark class=\"entity\" style=\"background: #ddd; padding: 0.45em 0.6em; margin: 0 0.25em; line-height: 1; border-radius: 0.35em;\">\n    Best Buy\n    <span style=\"font-size: 0.8em; font-weight: bold; line-height: 1; border-radius: 0.35em; text-transform: uppercase; vertical-align: middle; margin-left: 0.5rem\">ENT</span>\n</mark>\n's move was not in response to other retailers' actions. (\n<mark class=\"entity\" style=\"background: #ddd; padding: 0.45em 0.6em; margin: 0 0.25em; line-height: 1; border-radius: 0.35em;\">\n    Reporting by Karen Jacobs\n    <span style=\"font-size: 0.8em; font-weight: bold; line-height: 1; border-radius: 0.35em; text-transform: uppercase; vertical-align: middle; margin-left: 0.5rem\">ENT</span>\n</mark>\n ; \n<mark class=\"entity\" style=\"background: #ddd; padding: 0.45em 0.6em; margin: 0 0.25em; line-height: 1; border-radius: 0.35em;\">\n    Editing by Andre Grenon\n    <span style=\"font-size: 0.8em; font-weight: bold; line-height: 1; border-radius: 0.35em; text-transform: uppercase; vertical-align: middle; margin-left: 0.5rem\">ENT</span>\n</mark>\n )</div></span>",
      "text/plain": "<IPython.core.display.HTML object>"
     },
     "metadata": {
      "transient": {}
     },
     "output_type": "display_data"
    },
    {
     "data": {
      "text/html": "<span class=\"tex2jax_ignore\"><div class=\"entities\" style=\"line-height: 2.5; direction: ltr\"> \n<mark class=\"entity\" style=\"background: #ddd; padding: 0.45em 0.6em; margin: 0 0.25em; line-height: 1; border-radius: 0.35em;\">\n    ATLANTA\n    <span style=\"font-size: 0.8em; font-weight: bold; line-height: 1; border-radius: 0.35em; text-transform: uppercase; vertical-align: middle; margin-left: 0.5rem\">ENT</span>\n</mark>\n (\n<mark class=\"entity\" style=\"background: #ddd; padding: 0.45em 0.6em; margin: 0 0.25em; line-height: 1; border-radius: 0.35em;\">\n    Reuters\n    <span style=\"font-size: 0.8em; font-weight: bold; line-height: 1; border-radius: 0.35em; text-transform: uppercase; vertical-align: middle; margin-left: 0.5rem\">ENT</span>\n</mark>\n) - Retailer \n<mark class=\"entity\" style=\"background: #ddd; padding: 0.45em 0.6em; margin: 0 0.25em; line-height: 1; border-radius: 0.35em;\">\n    Best Buy Co\n    <span style=\"font-size: 0.8em; font-weight: bold; line-height: 1; border-radius: 0.35em; text-transform: uppercase; vertical-align: middle; margin-left: 0.5rem\">ENT</span>\n</mark>\n, seeking new ways to appeal to cost-conscious shoppers, said on Tuesday it is selling refurbished versions of \n<mark class=\"entity\" style=\"background: #ddd; padding: 0.45em 0.6em; margin: 0 0.25em; line-height: 1; border-radius: 0.35em;\">\n    Apple Inc's iPhone\n    <span style=\"font-size: 0.8em; font-weight: bold; line-height: 1; border-radius: 0.35em; text-transform: uppercase; vertical-align: middle; margin-left: 0.5rem\">ENT</span>\n</mark>\n 3G at its stores that are priced about $50 less than new iPhones. The electronics chain said the used iPhones, which were returned within 30 days of purchase, are priced at $149 for the model with 8 gigabytes of storage, while the 16-gigabyte version is $249. A two-year service contract with \n<mark class=\"entity\" style=\"background: #ddd; padding: 0.45em 0.6em; margin: 0 0.25em; line-height: 1; border-radius: 0.35em;\">\n    AT&amp;T Inc\n    <span style=\"font-size: 0.8em; font-weight: bold; line-height: 1; border-radius: 0.35em; text-transform: uppercase; vertical-align: middle; margin-left: 0.5rem\">ENT</span>\n</mark>\n is required. \n<mark class=\"entity\" style=\"background: #ddd; padding: 0.45em 0.6em; margin: 0 0.25em; line-height: 1; border-radius: 0.35em;\">\n    New iPhone\n    <span style=\"font-size: 0.8em; font-weight: bold; line-height: 1; border-radius: 0.35em; text-transform: uppercase; vertical-align: middle; margin-left: 0.5rem\">ENT</span>\n</mark>\n 3Gs currently sell for $199 and $299 at \n<mark class=\"entity\" style=\"background: #ddd; padding: 0.45em 0.6em; margin: 0 0.25em; line-height: 1; border-radius: 0.35em;\">\n    Best Buy Mobile\n    <span style=\"font-size: 0.8em; font-weight: bold; line-height: 1; border-radius: 0.35em; text-transform: uppercase; vertical-align: middle; margin-left: 0.5rem\">ENT</span>\n</mark>\n stores. &quot;This is focusing on customers' needs, trying to provide as wide a range of products and networks for our consumers,&quot; said \n<mark class=\"entity\" style=\"background: #ddd; padding: 0.45em 0.6em; margin: 0 0.25em; line-height: 1; border-radius: 0.35em;\">\n    Scott Moore\n    <span style=\"font-size: 0.8em; font-weight: bold; line-height: 1; border-radius: 0.35em; text-transform: uppercase; vertical-align: middle; margin-left: 0.5rem\">ENT</span>\n</mark>\n, vice president of marketing for \n<mark class=\"entity\" style=\"background: #ddd; padding: 0.45em 0.6em; margin: 0 0.25em; line-height: 1; border-radius: 0.35em;\">\n    Best Buy Mobile\n    <span style=\"font-size: 0.8em; font-weight: bold; line-height: 1; border-radius: 0.35em; text-transform: uppercase; vertical-align: middle; margin-left: 0.5rem\">ENT</span>\n</mark>\n. Buyers of first-generation iPhones can also upgrade to the faster refurbished 3G models at \n<mark class=\"entity\" style=\"background: #ddd; padding: 0.45em 0.6em; margin: 0 0.25em; line-height: 1; border-radius: 0.35em;\">\n    Best Buy\n    <span style=\"font-size: 0.8em; font-weight: bold; line-height: 1; border-radius: 0.35em; text-transform: uppercase; vertical-align: middle; margin-left: 0.5rem\">ENT</span>\n</mark>\n, he said. \n<mark class=\"entity\" style=\"background: #ddd; padding: 0.45em 0.6em; margin: 0 0.25em; line-height: 1; border-radius: 0.35em;\">\n    Moore\n    <span style=\"font-size: 0.8em; font-weight: bold; line-height: 1; border-radius: 0.35em; text-transform: uppercase; vertical-align: middle; margin-left: 0.5rem\">ENT</span>\n</mark>\n said \n<mark class=\"entity\" style=\"background: #ddd; padding: 0.45em 0.6em; margin: 0 0.25em; line-height: 1; border-radius: 0.35em;\">\n    AT&amp;T\n    <span style=\"font-size: 0.8em; font-weight: bold; line-height: 1; border-radius: 0.35em; text-transform: uppercase; vertical-align: middle; margin-left: 0.5rem\">ENT</span>\n</mark>\n, the exclusive wireless provider for the \n<mark class=\"entity\" style=\"background: #ddd; padding: 0.45em 0.6em; margin: 0 0.25em; line-height: 1; border-radius: 0.35em;\">\n    iPhone\n    <span style=\"font-size: 0.8em; font-weight: bold; line-height: 1; border-radius: 0.35em; text-transform: uppercase; vertical-align: middle; margin-left: 0.5rem\">ENT</span>\n</mark>\n, offers refurbished iPhones online. The sale of used iPhones comes as \n<mark class=\"entity\" style=\"background: #ddd; padding: 0.45em 0.6em; margin: 0 0.25em; line-height: 1; border-radius: 0.35em;\">\n    Best Buy\n    <span style=\"font-size: 0.8em; font-weight: bold; line-height: 1; border-radius: 0.35em; text-transform: uppercase; vertical-align: middle; margin-left: 0.5rem\">ENT</span>\n</mark>\n, the top consumer electronics chain, seeks ways to fend off increased competition from discounters such as \n<mark class=\"entity\" style=\"background: #ddd; padding: 0.45em 0.6em; margin: 0 0.25em; line-height: 1; border-radius: 0.35em;\">\n    Wal-Mart\n    <span style=\"font-size: 0.8em; font-weight: bold; line-height: 1; border-radius: 0.35em; text-transform: uppercase; vertical-align: middle; margin-left: 0.5rem\">ENT</span>\n</mark>\n Stores \n<mark class=\"entity\" style=\"background: #ddd; padding: 0.45em 0.6em; margin: 0 0.25em; line-height: 1; border-radius: 0.35em;\">\n    Inc\n    <span style=\"font-size: 0.8em; font-weight: bold; line-height: 1; border-radius: 0.35em; text-transform: uppercase; vertical-align: middle; margin-left: 0.5rem\">ENT</span>\n</mark>\n, which began selling the popular phone late last month. \n<mark class=\"entity\" style=\"background: #ddd; padding: 0.45em 0.6em; margin: 0 0.25em; line-height: 1; border-radius: 0.35em;\">\n    Wal-Mart\n    <span style=\"font-size: 0.8em; font-weight: bold; line-height: 1; border-radius: 0.35em; text-transform: uppercase; vertical-align: middle; margin-left: 0.5rem\">ENT</span>\n</mark>\n sells a new 8-gigabyte \n<mark class=\"entity\" style=\"background: #ddd; padding: 0.45em 0.6em; margin: 0 0.25em; line-height: 1; border-radius: 0.35em;\">\n    iPhone\n    <span style=\"font-size: 0.8em; font-weight: bold; line-height: 1; border-radius: 0.35em; text-transform: uppercase; vertical-align: middle; margin-left: 0.5rem\">ENT</span>\n</mark>\n 3G for $197 and $297 for the 16-gigabyte model. The \n<mark class=\"entity\" style=\"background: #ddd; padding: 0.45em 0.6em; margin: 0 0.25em; line-height: 1; border-radius: 0.35em;\">\n    iPhone\n    <span style=\"font-size: 0.8em; font-weight: bold; line-height: 1; border-radius: 0.35em; text-transform: uppercase; vertical-align: middle; margin-left: 0.5rem\">ENT</span>\n</mark>\n is also sold at \n<mark class=\"entity\" style=\"background: #ddd; padding: 0.45em 0.6em; margin: 0 0.25em; line-height: 1; border-radius: 0.35em;\">\n    Apple\n    <span style=\"font-size: 0.8em; font-weight: bold; line-height: 1; border-radius: 0.35em; text-transform: uppercase; vertical-align: middle; margin-left: 0.5rem\">ENT</span>\n</mark>\n stores and \n<mark class=\"entity\" style=\"background: #ddd; padding: 0.45em 0.6em; margin: 0 0.25em; line-height: 1; border-radius: 0.35em;\">\n    AT&amp;T\n    <span style=\"font-size: 0.8em; font-weight: bold; line-height: 1; border-radius: 0.35em; text-transform: uppercase; vertical-align: middle; margin-left: 0.5rem\">ENT</span>\n</mark>\n stores. \n<mark class=\"entity\" style=\"background: #ddd; padding: 0.45em 0.6em; margin: 0 0.25em; line-height: 1; border-radius: 0.35em;\">\n    Moore\n    <span style=\"font-size: 0.8em; font-weight: bold; line-height: 1; border-radius: 0.35em; text-transform: uppercase; vertical-align: middle; margin-left: 0.5rem\">ENT</span>\n</mark>\n said \n<mark class=\"entity\" style=\"background: #ddd; padding: 0.45em 0.6em; margin: 0 0.25em; line-height: 1; border-radius: 0.35em;\">\n    Best Buy\n    <span style=\"font-size: 0.8em; font-weight: bold; line-height: 1; border-radius: 0.35em; text-transform: uppercase; vertical-align: middle; margin-left: 0.5rem\">ENT</span>\n</mark>\n's move was not in response to other retailers' actions. (Reporting by \n<mark class=\"entity\" style=\"background: #ddd; padding: 0.45em 0.6em; margin: 0 0.25em; line-height: 1; border-radius: 0.35em;\">\n    Karen Jacobs\n    <span style=\"font-size: 0.8em; font-weight: bold; line-height: 1; border-radius: 0.35em; text-transform: uppercase; vertical-align: middle; margin-left: 0.5rem\">ENT</span>\n</mark>\n ; Editing by \n<mark class=\"entity\" style=\"background: #ddd; padding: 0.45em 0.6em; margin: 0 0.25em; line-height: 1; border-radius: 0.35em;\">\n    Andre Grenon\n    <span style=\"font-size: 0.8em; font-weight: bold; line-height: 1; border-radius: 0.35em; text-transform: uppercase; vertical-align: middle; margin-left: 0.5rem\">ENT</span>\n</mark>\n )</div></span>",
      "text/plain": "<IPython.core.display.HTML object>"
     },
     "metadata": {
      "transient": {}
     },
     "output_type": "display_data"
    },
    {
     "data": {
      "text/html": "<span class=\"tex2jax_ignore\"><div class=\"entities\" style=\"line-height: 2.5; direction: ltr\"> ATLANTA (Reuters) - \n<mark class=\"entity\" style=\"background: #ddd; padding: 0.45em 0.6em; margin: 0 0.25em; line-height: 1; border-radius: 0.35em;\">\n    Retailer Best Buy Co\n    <span style=\"font-size: 0.8em; font-weight: bold; line-height: 1; border-radius: 0.35em; text-transform: uppercase; vertical-align: middle; margin-left: 0.5rem\">ENT</span>\n</mark>\n, seeking new ways to appeal to cost-conscious shoppers, said on Tuesday it is selling refurbished versions of \n<mark class=\"entity\" style=\"background: #ddd; padding: 0.45em 0.6em; margin: 0 0.25em; line-height: 1; border-radius: 0.35em;\">\n    Apple Inc\n    <span style=\"font-size: 0.8em; font-weight: bold; line-height: 1; border-radius: 0.35em; text-transform: uppercase; vertical-align: middle; margin-left: 0.5rem\">ENT</span>\n</mark>\n's iPhone 3G at its stores that are priced about $50 less than new iPhones. The electronics chain said the used iPhones, which were returned within 30 days of purchase, are priced at $149 for the model with 8 gigabytes of storage, while the 16-gigabyte version is $249. A two-year service contract with \n<mark class=\"entity\" style=\"background: #ddd; padding: 0.45em 0.6em; margin: 0 0.25em; line-height: 1; border-radius: 0.35em;\">\n    AT&amp;T Inc\n    <span style=\"font-size: 0.8em; font-weight: bold; line-height: 1; border-radius: 0.35em; text-transform: uppercase; vertical-align: middle; margin-left: 0.5rem\">ENT</span>\n</mark>\n is required. New iPhone 3Gs currently sell for $199 and $299 at \n<mark class=\"entity\" style=\"background: #ddd; padding: 0.45em 0.6em; margin: 0 0.25em; line-height: 1; border-radius: 0.35em;\">\n    Best Buy Mobile\n    <span style=\"font-size: 0.8em; font-weight: bold; line-height: 1; border-radius: 0.35em; text-transform: uppercase; vertical-align: middle; margin-left: 0.5rem\">ENT</span>\n</mark>\n stores. &quot;This is focusing on customers' needs, trying to provide as wide a range of products and networks for our consumers,&quot; said \n<mark class=\"entity\" style=\"background: #ddd; padding: 0.45em 0.6em; margin: 0 0.25em; line-height: 1; border-radius: 0.35em;\">\n    Scott Moore\n    <span style=\"font-size: 0.8em; font-weight: bold; line-height: 1; border-radius: 0.35em; text-transform: uppercase; vertical-align: middle; margin-left: 0.5rem\">ENT</span>\n</mark>\n, vice president of marketing for \n<mark class=\"entity\" style=\"background: #ddd; padding: 0.45em 0.6em; margin: 0 0.25em; line-height: 1; border-radius: 0.35em;\">\n    Best Buy Mobile\n    <span style=\"font-size: 0.8em; font-weight: bold; line-height: 1; border-radius: 0.35em; text-transform: uppercase; vertical-align: middle; margin-left: 0.5rem\">ENT</span>\n</mark>\n. Buyers of first-generation \n<mark class=\"entity\" style=\"background: #ddd; padding: 0.45em 0.6em; margin: 0 0.25em; line-height: 1; border-radius: 0.35em;\">\n    iPhones\n    <span style=\"font-size: 0.8em; font-weight: bold; line-height: 1; border-radius: 0.35em; text-transform: uppercase; vertical-align: middle; margin-left: 0.5rem\">ENT</span>\n</mark>\n can also upgrade to the faster refurbished 3G models at \n<mark class=\"entity\" style=\"background: #ddd; padding: 0.45em 0.6em; margin: 0 0.25em; line-height: 1; border-radius: 0.35em;\">\n    Best Buy\n    <span style=\"font-size: 0.8em; font-weight: bold; line-height: 1; border-radius: 0.35em; text-transform: uppercase; vertical-align: middle; margin-left: 0.5rem\">ENT</span>\n</mark>\n, he said. Moore said AT&amp;T, the exclusive wireless provider for the iPhone, offers refurbished iPhones online. The sale of used iPhones comes as \n<mark class=\"entity\" style=\"background: #ddd; padding: 0.45em 0.6em; margin: 0 0.25em; line-height: 1; border-radius: 0.35em;\">\n    Best Buy\n    <span style=\"font-size: 0.8em; font-weight: bold; line-height: 1; border-radius: 0.35em; text-transform: uppercase; vertical-align: middle; margin-left: 0.5rem\">ENT</span>\n</mark>\n, the top consumer electronics chain, seeks ways to fend off increased competition from discounters such as \n<mark class=\"entity\" style=\"background: #ddd; padding: 0.45em 0.6em; margin: 0 0.25em; line-height: 1; border-radius: 0.35em;\">\n    Wal-Mart Stores Inc\n    <span style=\"font-size: 0.8em; font-weight: bold; line-height: 1; border-radius: 0.35em; text-transform: uppercase; vertical-align: middle; margin-left: 0.5rem\">ENT</span>\n</mark>\n, which began selling the popular phone late last month. \n<mark class=\"entity\" style=\"background: #ddd; padding: 0.45em 0.6em; margin: 0 0.25em; line-height: 1; border-radius: 0.35em;\">\n    Wal\n    <span style=\"font-size: 0.8em; font-weight: bold; line-height: 1; border-radius: 0.35em; text-transform: uppercase; vertical-align: middle; margin-left: 0.5rem\">ENT</span>\n</mark>\n-Mart sells a new 8-gigabyte iPhone 3G for $197 and $297 for the 16-gigabyte model. The iPhone is also sold at \n<mark class=\"entity\" style=\"background: #ddd; padding: 0.45em 0.6em; margin: 0 0.25em; line-height: 1; border-radius: 0.35em;\">\n    Apple\n    <span style=\"font-size: 0.8em; font-weight: bold; line-height: 1; border-radius: 0.35em; text-transform: uppercase; vertical-align: middle; margin-left: 0.5rem\">ENT</span>\n</mark>\n stores and \n<mark class=\"entity\" style=\"background: #ddd; padding: 0.45em 0.6em; margin: 0 0.25em; line-height: 1; border-radius: 0.35em;\">\n    AT&amp;T\n    <span style=\"font-size: 0.8em; font-weight: bold; line-height: 1; border-radius: 0.35em; text-transform: uppercase; vertical-align: middle; margin-left: 0.5rem\">ENT</span>\n</mark>\n stores. Moore said \n<mark class=\"entity\" style=\"background: #ddd; padding: 0.45em 0.6em; margin: 0 0.25em; line-height: 1; border-radius: 0.35em;\">\n    Best Buy\n    <span style=\"font-size: 0.8em; font-weight: bold; line-height: 1; border-radius: 0.35em; text-transform: uppercase; vertical-align: middle; margin-left: 0.5rem\">ENT</span>\n</mark>\n's move was not in response to other retailers' actions. (Reporting by \n<mark class=\"entity\" style=\"background: #ddd; padding: 0.45em 0.6em; margin: 0 0.25em; line-height: 1; border-radius: 0.35em;\">\n    Karen Jacobs\n    <span style=\"font-size: 0.8em; font-weight: bold; line-height: 1; border-radius: 0.35em; text-transform: uppercase; vertical-align: middle; margin-left: 0.5rem\">ENT</span>\n</mark>\n ; Editing by \n<mark class=\"entity\" style=\"background: #ddd; padding: 0.45em 0.6em; margin: 0 0.25em; line-height: 1; border-radius: 0.35em;\">\n    Andre Grenon\n    <span style=\"font-size: 0.8em; font-weight: bold; line-height: 1; border-radius: 0.35em; text-transform: uppercase; vertical-align: middle; margin-left: 0.5rem\">ENT</span>\n</mark>\n )</div></span>",
      "text/plain": "<IPython.core.display.HTML object>"
     },
     "metadata": {
      "transient": {}
     },
     "output_type": "display_data"
    }
   ],
   "source": [
    "# Detection based on casing\n",
    "proper_detector = skweak.heuristics.TokenConstraintAnnotator(\"proper_detector\", skweak.utils.is_likely_proper, \"ENT\")\n",
    "    \n",
    "# Detection based on casing, but allowing some lowercased tokens\n",
    "proper2_detector = skweak.heuristics.TokenConstraintAnnotator(\"proper2_detector\", skweak.utils.is_likely_proper, \"ENT\")\n",
    "proper2_detector.add_gap_tokens(domains.conll2003_ner.LOWERCASED_TOKENS | domains.conll2003_ner.NAME_PREFIXES)\n",
    "        \n",
    "# Detection based on part-of-speech tags\n",
    "nnp_detector = skweak.heuristics.TokenConstraintAnnotator(\"nnp_detector\", lambda tok: tok.tag_==\"NNP\", \"ENT\")\n",
    "        \n",
    "# Detection based on dependency relations (compound phrases)\n",
    "compound = lambda tok: skweak.utils.is_likely_proper(tok) and skweak.utils.in_compound(tok)\n",
    "compound_detector = skweak.heuristics.TokenConstraintAnnotator(\"compound_detector\", compound, \"ENT\")\n",
    " \n",
    "combined = skweak.base.CombinedAnnotator()\n",
    "exclusives = [\"date_detector\", \"time_detector\", \"money_detector\"]\n",
    "for annotator in [proper_detector, proper2_detector, nnp_detector, compound_detector]:\n",
    "    annotator.add_incompatible_sources(exclusives)\n",
    "    annotator.add_gap_tokens([\"'s\", \"-\"])\n",
    "    combined.add_annotator(annotator)\n",
    "\n",
    "    # We add one variants for each NE detector, looking at infrequent tokens\n",
    "    infrequent_name = \"infrequent_%s\"%annotator.name\n",
    "    combined.add_annotator(skweak.heuristics.SpanConstraintAnnotator(infrequent_name, annotator.name, skweak.utils.is_infrequent))\n",
    "\n",
    "doc = combined(doc)\n",
    "skweak.utils.display_entities(doc, \"proper_detector\")\n",
    "skweak.utils.display_entities(doc, \"proper2_detector\")\n",
    "skweak.utils.display_entities(doc, \"nnp_detector\")\n",
    "skweak.utils.display_entities(doc, \"compound_detector\")"
   ]
  },
  {
   "cell_type": "markdown",
   "metadata": {},
   "source": [
    "Finally, I created three specific annotators:\n",
    "- to recognise company names with a legal type\n",
    "- full person names (with a first name along a list of common first names)\n",
    "- slightly less common entities such as `NORP`, `FAC`, `LANGUAGE`, `EVENT` and `LAW`."
   ]
  },
  {
   "cell_type": "code",
   "execution_count": 13,
   "metadata": {},
   "outputs": [
    {
     "data": {
      "text/html": "<span class=\"tex2jax_ignore\"><div class=\"entities\" style=\"line-height: 2.5; direction: ltr\"> ATLANTA (Reuters) - \n<mark class=\"entity\" style=\"background: #ddd; padding: 0.45em 0.6em; margin: 0 0.25em; line-height: 1; border-radius: 0.35em;\">\n    Retailer Best Buy Co\n    <span style=\"font-size: 0.8em; font-weight: bold; line-height: 1; border-radius: 0.35em; text-transform: uppercase; vertical-align: middle; margin-left: 0.5rem\">COMPANY</span>\n</mark>\n, seeking new ways to appeal to cost-conscious shoppers, said on Tuesday it is selling refurbished versions of Apple Inc's iPhone 3G at its stores that are priced about $50 less than new iPhones. The electronics chain said the used iPhones, which were returned within 30 days of purchase, are priced at $149 for the model with 8 gigabytes of storage, while the 16-gigabyte version is $249. A two-year service contract with \n<mark class=\"entity\" style=\"background: #ddd; padding: 0.45em 0.6em; margin: 0 0.25em; line-height: 1; border-radius: 0.35em;\">\n    AT&amp;T Inc\n    <span style=\"font-size: 0.8em; font-weight: bold; line-height: 1; border-radius: 0.35em; text-transform: uppercase; vertical-align: middle; margin-left: 0.5rem\">COMPANY</span>\n</mark>\n is required. New iPhone 3Gs currently sell for $199 and $299 at Best Buy Mobile stores. &quot;This is focusing on customers' needs, trying to provide as wide a range of products and networks for our consumers,&quot; said Scott Moore, vice president of marketing for Best Buy Mobile. Buyers of first-generation iPhones can also upgrade to the faster refurbished 3G models at Best Buy, he said. Moore said AT&amp;T, the exclusive wireless provider for the iPhone, offers refurbished iPhones online. The sale of used iPhones comes as Best Buy, the top consumer electronics chain, seeks ways to fend off increased competition from discounters such as \n<mark class=\"entity\" style=\"background: #ddd; padding: 0.45em 0.6em; margin: 0 0.25em; line-height: 1; border-radius: 0.35em;\">\n    Wal-Mart Stores Inc\n    <span style=\"font-size: 0.8em; font-weight: bold; line-height: 1; border-radius: 0.35em; text-transform: uppercase; vertical-align: middle; margin-left: 0.5rem\">COMPANY</span>\n</mark>\n, which began selling the popular phone late last month. Wal-Mart sells a new 8-gigabyte iPhone 3G for $197 and $297 for the 16-gigabyte model. The iPhone is also sold at Apple stores and AT&amp;T stores. Moore said Best Buy's move was not in response to other retailers' actions. (Reporting by Karen Jacobs ; Editing by Andre Grenon )</div></span>",
      "text/plain": "<IPython.core.display.HTML object>"
     },
     "metadata": {
      "transient": {}
     },
     "output_type": "display_data"
    },
    {
     "data": {
      "text/html": "<span class=\"tex2jax_ignore\"><div class=\"entities\" style=\"line-height: 2.5; direction: ltr\"> ATLANTA (Reuters) - Retailer Best Buy Co, seeking new ways to appeal to cost-conscious shoppers, said on Tuesday it is selling refurbished versions of Apple Inc's iPhone 3G at its stores that are priced about $50 less than new iPhones. The electronics chain said the used iPhones, which were returned within 30 days of purchase, are priced at $149 for the model with 8 gigabytes of storage, while the 16-gigabyte version is $249. A two-year service contract with AT&amp;T Inc is required. New iPhone 3Gs currently sell for $199 and $299 at Best Buy Mobile stores. &quot;This is focusing on customers' needs, trying to provide as wide a range of products and networks for our consumers,&quot; said \n<mark class=\"entity\" style=\"background: #aa9cfc; padding: 0.45em 0.6em; margin: 0 0.25em; line-height: 1; border-radius: 0.35em;\">\n    Scott Moore\n    <span style=\"font-size: 0.8em; font-weight: bold; line-height: 1; border-radius: 0.35em; text-transform: uppercase; vertical-align: middle; margin-left: 0.5rem\">PERSON</span>\n</mark>\n, vice president of marketing for Best Buy Mobile. Buyers of first-generation iPhones can also upgrade to the faster refurbished 3G models at Best Buy, he said. Moore said AT&amp;T, the exclusive wireless provider for the iPhone, offers refurbished iPhones online. The sale of used iPhones comes as Best Buy, the top consumer electronics chain, seeks ways to fend off increased competition from discounters such as Wal-Mart Stores Inc, which began selling the popular phone late last month. Wal-Mart sells a new 8-gigabyte iPhone 3G for $197 and $297 for the 16-gigabyte model. The iPhone is also sold at Apple stores and AT&amp;T stores. Moore said Best Buy's move was not in response to other retailers' actions. (Reporting by Karen Jacobs ; Editing by Andre Grenon )</div></span>",
      "text/plain": "<IPython.core.display.HTML object>"
     },
     "metadata": {
      "transient": {}
     },
     "output_type": "display_data"
    },
    {
     "data": {
      "text/html": "<span class=\"tex2jax_ignore\"><div class=\"entities\" style=\"line-height: 2.5; direction: ltr\"> ATLANTA (Reuters) - Retailer Best Buy Co, seeking new ways to appeal to cost-conscious shoppers, said on Tuesday it is selling refurbished versions of Apple Inc's iPhone 3G at its stores that are priced about $50 less than new iPhones. The electronics chain said the used iPhones, which were returned within 30 days of purchase, are priced at $149 for the model with 8 gigabytes of storage, while the 16-gigabyte version is $249. A two-year service contract with AT&amp;T Inc is required. New iPhone 3Gs currently sell for $199 and $299 at Best Buy Mobile stores. &quot;This is focusing on customers' needs, trying to provide as wide a range of products and networks for our consumers,&quot; said Scott Moore, vice president of marketing for Best Buy Mobile. Buyers of first-generation iPhones can also upgrade to the faster refurbished 3G models at Best Buy, he said. Moore said AT&amp;T, the exclusive wireless provider for the iPhone, offers refurbished iPhones online. The sale of used iPhones comes as Best Buy, the top consumer electronics chain, seeks ways to fend off increased competition from discounters such as Wal-Mart Stores Inc, which began selling the popular phone late last month. Wal-Mart sells a new 8-gigabyte iPhone 3G for $197 and $297 for the 16-gigabyte model. The iPhone is also sold at Apple stores and AT&amp;T stores. Moore said Best Buy's move was not in response to other retailers' actions. (Reporting by Karen Jacobs ; Editing by Andre Grenon )</div></span>",
      "text/plain": "<IPython.core.display.HTML object>"
     },
     "metadata": {
      "transient": {}
     },
     "output_type": "display_data"
    },
    {
     "data": {
      "text/html": "<span class=\"tex2jax_ignore\"><div class=\"entities\" style=\"line-height: 2.5; direction: ltr\"> ATLANTA (Reuters) - Retailer Best Buy Co, seeking new ways to appeal to cost-conscious shoppers, said on Tuesday it is selling refurbished versions of Apple Inc's iPhone 3G at its stores that are priced about $50 less than new iPhones. The electronics chain said the used iPhones, which were returned within 30 days of purchase, are priced at $149 for the model with 8 gigabytes of storage, while the 16-gigabyte version is $249. A two-year service contract with AT&amp;T Inc is required. New iPhone 3Gs currently sell for $199 and $299 at Best Buy Mobile stores. &quot;This is focusing on customers' needs, trying to provide as wide a range of products and networks for our consumers,&quot; said Scott Moore, vice president of marketing for Best Buy Mobile. Buyers of first-generation iPhones can also upgrade to the faster refurbished 3G models at Best Buy, he said. Moore said AT&amp;T, the exclusive wireless provider for the iPhone, offers refurbished iPhones online. The sale of used iPhones comes as Best Buy, the top consumer electronics chain, seeks ways to fend off increased competition from discounters such as Wal-Mart Stores Inc, which began selling the popular phone late last month. Wal-Mart sells a new 8-gigabyte iPhone 3G for $197 and $297 for the 16-gigabyte model. The iPhone is also sold at Apple stores and AT&amp;T stores. Moore said Best Buy's move was not in response to other retailers' actions. (Reporting by Karen Jacobs ; Editing by Andre Grenon )</div></span>",
      "text/plain": "<IPython.core.display.HTML object>"
     },
     "metadata": {
      "transient": {}
     },
     "output_type": "display_data"
    }
   ],
   "source": [
    "\n",
    "# Other types (legal references etc.)      \n",
    "misc_detector = skweak.heuristics.FunctionAnnotator(\"misc_detector\", domains.conll2003_ner.misc_generator)\n",
    "legal_detector = skweak.heuristics.FunctionAnnotator(\"legal_detector\", domains.conll2003_ner.legal_generator)\n",
    "        \n",
    "# Detection of companies with a legal type\n",
    "ends_with_legal_suffix = lambda x: x[-1].lower_.rstrip(\".\") in domains.conll2003_ner.LEGAL_SUFFIXES\n",
    "company_type_detector = skweak.heuristics.SpanConstraintAnnotator(\"company_type_detector\", \"proper2_detector\", \n",
    "                                                    ends_with_legal_suffix, \"COMPANY\")\n",
    "# Detection of full person names\n",
    "full_name_detector = skweak.heuristics.SpanConstraintAnnotator(\"full_name_detector\", \"proper2_detector\", \n",
    "                                                     domains.conll2003_ner.FullNameDetector(), \"PERSON\")\n",
    "\n",
    "legal_detector(doc)\n",
    "company_type_detector(doc)\n",
    "full_name_detector(doc)\n",
    "misc_detector(doc)\n",
    "skweak.utils.display_entities(doc, \"company_type_detector\")\n",
    "skweak.utils.display_entities(doc, \"full_name_detector\")\n",
    "skweak.utils.display_entities(doc, \"misc_detector\")\n",
    "skweak.utils.display_entities(doc, \"legal_detector\")"
   ]
  },
  {
   "cell_type": "markdown",
   "metadata": {},
   "source": [
    "Finally, we also rely on an external probabilistic [parser of named entities](https://github.com/snipsco/snips-nlu-parsers) from [Snips](https://snips.ai/). The parser recognises `DATE`, `TIME`, `ORDINAL`, `CARDINAL`, `MONEY` and `PERCENT`. The parser is implemented in _Rust_, so it runs quite fast."
   ]
  },
  {
   "cell_type": "code",
   "execution_count": 14,
   "metadata": {},
   "outputs": [
    {
     "data": {
      "text/html": "<span class=\"tex2jax_ignore\"><div class=\"entities\" style=\"line-height: 2.5; direction: ltr\"> ATLANTA (Reuters) - Retailer Best Buy Co, seeking new ways to appeal to cost-conscious shoppers, said \n<mark class=\"entity\" style=\"background: #bfe1d9; padding: 0.45em 0.6em; margin: 0 0.25em; line-height: 1; border-radius: 0.35em;\">\n    on Tuesday\n    <span style=\"font-size: 0.8em; font-weight: bold; line-height: 1; border-radius: 0.35em; text-transform: uppercase; vertical-align: middle; margin-left: 0.5rem\">DATE</span>\n</mark>\n it is selling refurbished versions of Apple Inc's iPhone \n<mark class=\"entity\" style=\"background: #e4e7d2; padding: 0.45em 0.6em; margin: 0 0.25em; line-height: 1; border-radius: 0.35em;\">\n    3G\n    <span style=\"font-size: 0.8em; font-weight: bold; line-height: 1; border-radius: 0.35em; text-transform: uppercase; vertical-align: middle; margin-left: 0.5rem\">CARDINAL</span>\n</mark>\n at its stores that are priced \n<mark class=\"entity\" style=\"background: #e4e7d2; padding: 0.45em 0.6em; margin: 0 0.25em; line-height: 1; border-radius: 0.35em;\">\n    about $50\n    <span style=\"font-size: 0.8em; font-weight: bold; line-height: 1; border-radius: 0.35em; text-transform: uppercase; vertical-align: middle; margin-left: 0.5rem\">MONEY</span>\n</mark>\n less than new iPhones. The electronics chain said the used iPhones, which were returned \n<mark class=\"entity\" style=\"background: #bfe1d9; padding: 0.45em 0.6em; margin: 0 0.25em; line-height: 1; border-radius: 0.35em;\">\n    within 30 days\n    <span style=\"font-size: 0.8em; font-weight: bold; line-height: 1; border-radius: 0.35em; text-transform: uppercase; vertical-align: middle; margin-left: 0.5rem\">TIME</span>\n</mark>\n of purchase, are priced at \n<mark class=\"entity\" style=\"background: #e4e7d2; padding: 0.45em 0.6em; margin: 0 0.25em; line-height: 1; border-radius: 0.35em;\">\n    $149\n    <span style=\"font-size: 0.8em; font-weight: bold; line-height: 1; border-radius: 0.35em; text-transform: uppercase; vertical-align: middle; margin-left: 0.5rem\">MONEY</span>\n</mark>\n for the model with \n<mark class=\"entity\" style=\"background: #e4e7d2; padding: 0.45em 0.6em; margin: 0 0.25em; line-height: 1; border-radius: 0.35em;\">\n    8\n    <span style=\"font-size: 0.8em; font-weight: bold; line-height: 1; border-radius: 0.35em; text-transform: uppercase; vertical-align: middle; margin-left: 0.5rem\">CARDINAL</span>\n</mark>\n gigabytes of storage, while the 16-gigabyte version is \n<mark class=\"entity\" style=\"background: #e4e7d2; padding: 0.45em 0.6em; margin: 0 0.25em; line-height: 1; border-radius: 0.35em;\">\n    $249\n    <span style=\"font-size: 0.8em; font-weight: bold; line-height: 1; border-radius: 0.35em; text-transform: uppercase; vertical-align: middle; margin-left: 0.5rem\">MONEY</span>\n</mark>\n. A \n<mark class=\"entity\" style=\"background: #e4e7d2; padding: 0.45em 0.6em; margin: 0 0.25em; line-height: 1; border-radius: 0.35em;\">\n    two\n    <span style=\"font-size: 0.8em; font-weight: bold; line-height: 1; border-radius: 0.35em; text-transform: uppercase; vertical-align: middle; margin-left: 0.5rem\">CARDINAL</span>\n</mark>\n-year service contract with AT&amp;T Inc is required. New iPhone 3Gs currently sell for \n<mark class=\"entity\" style=\"background: #e4e7d2; padding: 0.45em 0.6em; margin: 0 0.25em; line-height: 1; border-radius: 0.35em;\">\n    $199\n    <span style=\"font-size: 0.8em; font-weight: bold; line-height: 1; border-radius: 0.35em; text-transform: uppercase; vertical-align: middle; margin-left: 0.5rem\">MONEY</span>\n</mark>\n and \n<mark class=\"entity\" style=\"background: #e4e7d2; padding: 0.45em 0.6em; margin: 0 0.25em; line-height: 1; border-radius: 0.35em;\">\n    $299\n    <span style=\"font-size: 0.8em; font-weight: bold; line-height: 1; border-radius: 0.35em; text-transform: uppercase; vertical-align: middle; margin-left: 0.5rem\">MONEY</span>\n</mark>\n at Best Buy Mobile stores. &quot;This is focusing on customers' needs, trying to provide as wide a range of products and networks for our consumers,&quot; said Scott Moore, vice president of marketing for Best Buy Mobile. Buyers of first-generation iPhones can also upgrade to the faster refurbished \n<mark class=\"entity\" style=\"background: #e4e7d2; padding: 0.45em 0.6em; margin: 0 0.25em; line-height: 1; border-radius: 0.35em;\">\n    3G\n    <span style=\"font-size: 0.8em; font-weight: bold; line-height: 1; border-radius: 0.35em; text-transform: uppercase; vertical-align: middle; margin-left: 0.5rem\">CARDINAL</span>\n</mark>\n models at Best Buy, he said. Moore said AT&amp;T, the exclusive wireless provider for the iPhone, offers refurbished iPhones online. The sale of used iPhones comes as Best Buy, the top consumer electronics chain, seeks ways to fend off increased competition from discounters such as Wal-Mart Stores Inc, which began selling the popular phone late \n<mark class=\"entity\" style=\"background: #bfe1d9; padding: 0.45em 0.6em; margin: 0 0.25em; line-height: 1; border-radius: 0.35em;\">\n    last month\n    <span style=\"font-size: 0.8em; font-weight: bold; line-height: 1; border-radius: 0.35em; text-transform: uppercase; vertical-align: middle; margin-left: 0.5rem\">DATE</span>\n</mark>\n. Wal-Mart sells a new 8-gigabyte iPhone \n<mark class=\"entity\" style=\"background: #e4e7d2; padding: 0.45em 0.6em; margin: 0 0.25em; line-height: 1; border-radius: 0.35em;\">\n    3G\n    <span style=\"font-size: 0.8em; font-weight: bold; line-height: 1; border-radius: 0.35em; text-transform: uppercase; vertical-align: middle; margin-left: 0.5rem\">CARDINAL</span>\n</mark>\n for \n<mark class=\"entity\" style=\"background: #e4e7d2; padding: 0.45em 0.6em; margin: 0 0.25em; line-height: 1; border-radius: 0.35em;\">\n    $197\n    <span style=\"font-size: 0.8em; font-weight: bold; line-height: 1; border-radius: 0.35em; text-transform: uppercase; vertical-align: middle; margin-left: 0.5rem\">MONEY</span>\n</mark>\n and \n<mark class=\"entity\" style=\"background: #e4e7d2; padding: 0.45em 0.6em; margin: 0 0.25em; line-height: 1; border-radius: 0.35em;\">\n    $297\n    <span style=\"font-size: 0.8em; font-weight: bold; line-height: 1; border-radius: 0.35em; text-transform: uppercase; vertical-align: middle; margin-left: 0.5rem\">MONEY</span>\n</mark>\n for the 16-gigabyte model. The iPhone is also sold at Apple stores and AT&amp;T stores. Moore said Best Buy's move was not in response to other retailers' actions. (Reporting by Karen Jacobs ; Editing by Andre Grenon )</div></span>",
      "text/plain": "<IPython.core.display.HTML object>"
     },
     "metadata": {
      "transient": {}
     },
     "output_type": "display_data"
    }
   ],
   "source": [
    "# Detection based on a probabilistic parser\n",
    "snips = domains.conll2003_ner.SnipsAnnotator(\"snips\")\n",
    "snips(doc)\n",
    "skweak.utils.display_entities(doc, \"snips\")"
   ]
  },
  {
   "cell_type": "markdown",
   "metadata": {},
   "source": [
    "### 4. Document-level annotators\n",
    "\n",
    "All annotators presented so far rely on _local_ decisions on tokens or phrases.  However, news articles are not mere collections of words, but exhibit a high degree of internal coherence. This can be exploited to furhter improve the annotation. Two document-level annotators are implemented:"
   ]
  },
  {
   "cell_type": "markdown",
   "metadata": {},
   "source": [
    "Before we can run the document-level annotators, we need to normalise some of the entities. The `StandardiseAnnotator` is responsible for this normalisation:\n",
    "- entities `PER` (from conll2003, BTC and SEC) are set to `PERSON`\n",
    "- entities `LOC` from conll2003, BTC and SEC for spans that are also annotated by other layers as `GPE` are set to `GPE` \n",
    "- entities `ORG` that are annotated by other layers as `COMPANY` are set to `COMPANY`\n",
    "    "
   ]
  },
  {
   "cell_type": "code",
   "execution_count": 15,
   "metadata": {},
   "outputs": [],
   "source": [
    "from domains.conll2003_ner import ConLL2003Standardiser\n",
    "annotator = ConLL2003Standardiser()\n",
    "doc = annotator(doc)"
   ]
  },
  {
   "cell_type": "code",
   "execution_count": 16,
   "metadata": {},
   "outputs": [
    {
     "data": {
      "text/html": "<span class=\"tex2jax_ignore\"><div class=\"entities\" style=\"line-height: 2.5; direction: ltr\"> \n<mark class=\"entity\" style=\"background: #ff9561; padding: 0.45em 0.6em; margin: 0 0.25em; line-height: 1; border-radius: 0.35em;\">\n    ATLANTA\n    <span style=\"font-size: 0.8em; font-weight: bold; line-height: 1; border-radius: 0.35em; text-transform: uppercase; vertical-align: middle; margin-left: 0.5rem\">LOC</span>\n</mark>\n (\n<mark class=\"entity\" style=\"background: #7aecec; padding: 0.45em 0.6em; margin: 0 0.25em; line-height: 1; border-radius: 0.35em;\">\n    Reuters\n    <span style=\"font-size: 0.8em; font-weight: bold; line-height: 1; border-radius: 0.35em; text-transform: uppercase; vertical-align: middle; margin-left: 0.5rem\">ORG</span>\n</mark>\n) - \n<mark class=\"entity\" style=\"background: #7aecec; padding: 0.45em 0.6em; margin: 0 0.25em; line-height: 1; border-radius: 0.35em;\">\n    Retailer Best Buy Co\n    <span style=\"font-size: 0.8em; font-weight: bold; line-height: 1; border-radius: 0.35em; text-transform: uppercase; vertical-align: middle; margin-left: 0.5rem\">ORG</span>\n</mark>\n, seeking new ways to appeal to cost-conscious shoppers, said on Tuesday it is selling refurbished versions of \n<mark class=\"entity\" style=\"background: #7aecec; padding: 0.45em 0.6em; margin: 0 0.25em; line-height: 1; border-radius: 0.35em;\">\n    Apple Inc's\n    <span style=\"font-size: 0.8em; font-weight: bold; line-height: 1; border-radius: 0.35em; text-transform: uppercase; vertical-align: middle; margin-left: 0.5rem\">ORG</span>\n</mark>\n \n<mark class=\"entity\" style=\"background: #ddd; padding: 0.45em 0.6em; margin: 0 0.25em; line-height: 1; border-radius: 0.35em;\">\n    iPhone 3G\n    <span style=\"font-size: 0.8em; font-weight: bold; line-height: 1; border-radius: 0.35em; text-transform: uppercase; vertical-align: middle; margin-left: 0.5rem\">MISC</span>\n</mark>\n at its stores that are priced about $50 less than new \n<mark class=\"entity\" style=\"background: #ddd; padding: 0.45em 0.6em; margin: 0 0.25em; line-height: 1; border-radius: 0.35em;\">\n    iPhones\n    <span style=\"font-size: 0.8em; font-weight: bold; line-height: 1; border-radius: 0.35em; text-transform: uppercase; vertical-align: middle; margin-left: 0.5rem\">MISC</span>\n</mark>\n. The electronics chain said the used \n<mark class=\"entity\" style=\"background: #ddd; padding: 0.45em 0.6em; margin: 0 0.25em; line-height: 1; border-radius: 0.35em;\">\n    iPhones\n    <span style=\"font-size: 0.8em; font-weight: bold; line-height: 1; border-radius: 0.35em; text-transform: uppercase; vertical-align: middle; margin-left: 0.5rem\">MISC</span>\n</mark>\n, which were returned within 30 days of purchase, are priced at $149 for the model with 8 gigabytes of storage, while the 16-gigabyte version is $249. A two-year service contract with \n<mark class=\"entity\" style=\"background: #7aecec; padding: 0.45em 0.6em; margin: 0 0.25em; line-height: 1; border-radius: 0.35em;\">\n    AT&amp;T Inc\n    <span style=\"font-size: 0.8em; font-weight: bold; line-height: 1; border-radius: 0.35em; text-transform: uppercase; vertical-align: middle; margin-left: 0.5rem\">ORG</span>\n</mark>\n is required. \n<mark class=\"entity\" style=\"background: #7aecec; padding: 0.45em 0.6em; margin: 0 0.25em; line-height: 1; border-radius: 0.35em;\">\n    New\n    <span style=\"font-size: 0.8em; font-weight: bold; line-height: 1; border-radius: 0.35em; text-transform: uppercase; vertical-align: middle; margin-left: 0.5rem\">ORG</span>\n</mark>\n \n<mark class=\"entity\" style=\"background: #ddd; padding: 0.45em 0.6em; margin: 0 0.25em; line-height: 1; border-radius: 0.35em;\">\n    iPhone 3Gs\n    <span style=\"font-size: 0.8em; font-weight: bold; line-height: 1; border-radius: 0.35em; text-transform: uppercase; vertical-align: middle; margin-left: 0.5rem\">MISC</span>\n</mark>\n currently sell for $199 and $299 at \n<mark class=\"entity\" style=\"background: #7aecec; padding: 0.45em 0.6em; margin: 0 0.25em; line-height: 1; border-radius: 0.35em;\">\n    Best Buy Mobile\n    <span style=\"font-size: 0.8em; font-weight: bold; line-height: 1; border-radius: 0.35em; text-transform: uppercase; vertical-align: middle; margin-left: 0.5rem\">ORG</span>\n</mark>\n stores. &quot;This is focusing on customers' needs, trying to provide as wide a range of products and networks for our consumers,&quot; said \n<mark class=\"entity\" style=\"background: #ddd; padding: 0.45em 0.6em; margin: 0 0.25em; line-height: 1; border-radius: 0.35em;\">\n    Scott Moore\n    <span style=\"font-size: 0.8em; font-weight: bold; line-height: 1; border-radius: 0.35em; text-transform: uppercase; vertical-align: middle; margin-left: 0.5rem\">PER</span>\n</mark>\n, vice president of marketing for \n<mark class=\"entity\" style=\"background: #7aecec; padding: 0.45em 0.6em; margin: 0 0.25em; line-height: 1; border-radius: 0.35em;\">\n    Best Buy Mobile\n    <span style=\"font-size: 0.8em; font-weight: bold; line-height: 1; border-radius: 0.35em; text-transform: uppercase; vertical-align: middle; margin-left: 0.5rem\">ORG</span>\n</mark>\n. Buyers of first-generation \n<mark class=\"entity\" style=\"background: #ddd; padding: 0.45em 0.6em; margin: 0 0.25em; line-height: 1; border-radius: 0.35em;\">\n    iPhones\n    <span style=\"font-size: 0.8em; font-weight: bold; line-height: 1; border-radius: 0.35em; text-transform: uppercase; vertical-align: middle; margin-left: 0.5rem\">MISC</span>\n</mark>\n can also upgrade to the faster refurbished 3G models at \n<mark class=\"entity\" style=\"background: #7aecec; padding: 0.45em 0.6em; margin: 0 0.25em; line-height: 1; border-radius: 0.35em;\">\n    Best Buy\n    <span style=\"font-size: 0.8em; font-weight: bold; line-height: 1; border-radius: 0.35em; text-transform: uppercase; vertical-align: middle; margin-left: 0.5rem\">ORG</span>\n</mark>\n, he said. \n<mark class=\"entity\" style=\"background: #ff9561; padding: 0.45em 0.6em; margin: 0 0.25em; line-height: 1; border-radius: 0.35em;\">\n    Moore\n    <span style=\"font-size: 0.8em; font-weight: bold; line-height: 1; border-radius: 0.35em; text-transform: uppercase; vertical-align: middle; margin-left: 0.5rem\">LOC</span>\n</mark>\n said \n<mark class=\"entity\" style=\"background: #7aecec; padding: 0.45em 0.6em; margin: 0 0.25em; line-height: 1; border-radius: 0.35em;\">\n    AT&amp;T\n    <span style=\"font-size: 0.8em; font-weight: bold; line-height: 1; border-radius: 0.35em; text-transform: uppercase; vertical-align: middle; margin-left: 0.5rem\">ORG</span>\n</mark>\n, the exclusive wireless provider for the \n<mark class=\"entity\" style=\"background: #ddd; padding: 0.45em 0.6em; margin: 0 0.25em; line-height: 1; border-radius: 0.35em;\">\n    iPhone\n    <span style=\"font-size: 0.8em; font-weight: bold; line-height: 1; border-radius: 0.35em; text-transform: uppercase; vertical-align: middle; margin-left: 0.5rem\">MISC</span>\n</mark>\n, offers refurbished \n<mark class=\"entity\" style=\"background: #ddd; padding: 0.45em 0.6em; margin: 0 0.25em; line-height: 1; border-radius: 0.35em;\">\n    iPhones\n    <span style=\"font-size: 0.8em; font-weight: bold; line-height: 1; border-radius: 0.35em; text-transform: uppercase; vertical-align: middle; margin-left: 0.5rem\">MISC</span>\n</mark>\n online. The sale of used \n<mark class=\"entity\" style=\"background: #ddd; padding: 0.45em 0.6em; margin: 0 0.25em; line-height: 1; border-radius: 0.35em;\">\n    iPhones\n    <span style=\"font-size: 0.8em; font-weight: bold; line-height: 1; border-radius: 0.35em; text-transform: uppercase; vertical-align: middle; margin-left: 0.5rem\">MISC</span>\n</mark>\n comes as \n<mark class=\"entity\" style=\"background: #7aecec; padding: 0.45em 0.6em; margin: 0 0.25em; line-height: 1; border-radius: 0.35em;\">\n    Best Buy\n    <span style=\"font-size: 0.8em; font-weight: bold; line-height: 1; border-radius: 0.35em; text-transform: uppercase; vertical-align: middle; margin-left: 0.5rem\">ORG</span>\n</mark>\n, the top consumer electronics chain, seeks ways to fend off increased competition from discounters such as \n<mark class=\"entity\" style=\"background: #7aecec; padding: 0.45em 0.6em; margin: 0 0.25em; line-height: 1; border-radius: 0.35em;\">\n    Wal-Mart Stores Inc\n    <span style=\"font-size: 0.8em; font-weight: bold; line-height: 1; border-radius: 0.35em; text-transform: uppercase; vertical-align: middle; margin-left: 0.5rem\">ORG</span>\n</mark>\n, which began selling the popular phone late last month. \n<mark class=\"entity\" style=\"background: #ff9561; padding: 0.45em 0.6em; margin: 0 0.25em; line-height: 1; border-radius: 0.35em;\">\n    Wal-Mart\n    <span style=\"font-size: 0.8em; font-weight: bold; line-height: 1; border-radius: 0.35em; text-transform: uppercase; vertical-align: middle; margin-left: 0.5rem\">LOC</span>\n</mark>\n sells a new 8-gigabyte \n<mark class=\"entity\" style=\"background: #ddd; padding: 0.45em 0.6em; margin: 0 0.25em; line-height: 1; border-radius: 0.35em;\">\n    iPhone 3G\n    <span style=\"font-size: 0.8em; font-weight: bold; line-height: 1; border-radius: 0.35em; text-transform: uppercase; vertical-align: middle; margin-left: 0.5rem\">MISC</span>\n</mark>\n for $197 and $297 for the 16-gigabyte model. The \n<mark class=\"entity\" style=\"background: #ddd; padding: 0.45em 0.6em; margin: 0 0.25em; line-height: 1; border-radius: 0.35em;\">\n    iPhone\n    <span style=\"font-size: 0.8em; font-weight: bold; line-height: 1; border-radius: 0.35em; text-transform: uppercase; vertical-align: middle; margin-left: 0.5rem\">MISC</span>\n</mark>\n is also sold at \n<mark class=\"entity\" style=\"background: #7aecec; padding: 0.45em 0.6em; margin: 0 0.25em; line-height: 1; border-radius: 0.35em;\">\n    Apple\n    <span style=\"font-size: 0.8em; font-weight: bold; line-height: 1; border-radius: 0.35em; text-transform: uppercase; vertical-align: middle; margin-left: 0.5rem\">ORG</span>\n</mark>\n stores and \n<mark class=\"entity\" style=\"background: #7aecec; padding: 0.45em 0.6em; margin: 0 0.25em; line-height: 1; border-radius: 0.35em;\">\n    AT&amp;T\n    <span style=\"font-size: 0.8em; font-weight: bold; line-height: 1; border-radius: 0.35em; text-transform: uppercase; vertical-align: middle; margin-left: 0.5rem\">ORG</span>\n</mark>\n stores. \n<mark class=\"entity\" style=\"background: #ff9561; padding: 0.45em 0.6em; margin: 0 0.25em; line-height: 1; border-radius: 0.35em;\">\n    Moore\n    <span style=\"font-size: 0.8em; font-weight: bold; line-height: 1; border-radius: 0.35em; text-transform: uppercase; vertical-align: middle; margin-left: 0.5rem\">LOC</span>\n</mark>\n said \n<mark class=\"entity\" style=\"background: #7aecec; padding: 0.45em 0.6em; margin: 0 0.25em; line-height: 1; border-radius: 0.35em;\">\n    Best Buy\n    <span style=\"font-size: 0.8em; font-weight: bold; line-height: 1; border-radius: 0.35em; text-transform: uppercase; vertical-align: middle; margin-left: 0.5rem\">ORG</span>\n</mark>\n's move was not in response to other retailers' actions. (Reporting by \n<mark class=\"entity\" style=\"background: #ddd; padding: 0.45em 0.6em; margin: 0 0.25em; line-height: 1; border-radius: 0.35em;\">\n    Karen Jacobs\n    <span style=\"font-size: 0.8em; font-weight: bold; line-height: 1; border-radius: 0.35em; text-transform: uppercase; vertical-align: middle; margin-left: 0.5rem\">PER</span>\n</mark>\n ; Editing by \n<mark class=\"entity\" style=\"background: #ddd; padding: 0.45em 0.6em; margin: 0 0.25em; line-height: 1; border-radius: 0.35em;\">\n    Andre Grenon\n    <span style=\"font-size: 0.8em; font-weight: bold; line-height: 1; border-radius: 0.35em; text-transform: uppercase; vertical-align: middle; margin-left: 0.5rem\">PER</span>\n</mark>\n )</div></span>",
      "text/plain": "<IPython.core.display.HTML object>"
     },
     "metadata": {
      "transient": {}
     },
     "output_type": "display_data"
    }
   ],
   "source": [
    "from skweak.labelling import MajorityVoter\n",
    "from skweak.utils import display_entities\n",
    "\n",
    "mv = MajorityVoter(\"mv\", [\"LOC\", \"MISC\", \"ORG\", \"PER\"])\n",
    "mv.add_constraint_label(\"ENT\", {\"LOC\", \"MISC\", \"ORG\", \"PER\"})\n",
    "doc = mv(doc)\n",
    "display_entities(doc, \"mv\")"
   ]
  },
  {
   "cell_type": "markdown",
   "metadata": {},
   "source": [
    "#### 4.1 Document history\n",
    "\n",
    "When a journalist first mentions an entity such as a company or person in an article, they typically write it in a \"long form\", and then use shorter mentions once the entity is properly introduced. For instance, in the text above, \"Scott Moore\" is first mentioned with a full name, and then simply referred to as \"Moore\". Similarly, companies are often first introduced to with their legal type.  The `DocumentHistoryAnnotator` takes advantage of this property, by propagating the label from the first mention onto subsequent mentions:"
   ]
  },
  {
   "cell_type": "code",
   "execution_count": 17,
   "metadata": {},
   "outputs": [
    {
     "data": {
      "text/html": "<span class=\"tex2jax_ignore\"><div class=\"entities\" style=\"line-height: 2.5; direction: ltr\"> ATLANTA (Reuters) - \n<mark class=\"entity\" style=\"background: #7aecec; padding: 0.45em 0.6em; margin: 0 0.25em; line-height: 1; border-radius: 0.35em;\">\n    Retailer Best Buy Co\n    <span style=\"font-size: 0.8em; font-weight: bold; line-height: 1; border-radius: 0.35em; text-transform: uppercase; vertical-align: middle; margin-left: 0.5rem\">ORG</span>\n</mark>\n, seeking new ways to appeal to cost-conscious shoppers, said on Tuesday it is selling refurbished versions of \n<mark class=\"entity\" style=\"background: #7aecec; padding: 0.45em 0.6em; margin: 0 0.25em; line-height: 1; border-radius: 0.35em;\">\n    Apple Inc's\n    <span style=\"font-size: 0.8em; font-weight: bold; line-height: 1; border-radius: 0.35em; text-transform: uppercase; vertical-align: middle; margin-left: 0.5rem\">ORG</span>\n</mark>\n iPhone 3G at its stores that are priced about $50 less than new iPhones. The electronics chain said the used iPhones, which were returned within 30 days of purchase, are priced at $149 for the model with 8 gigabytes of storage, while the 16-gigabyte version is $249. A two-year service contract with \n<mark class=\"entity\" style=\"background: #7aecec; padding: 0.45em 0.6em; margin: 0 0.25em; line-height: 1; border-radius: 0.35em;\">\n    AT&amp;T Inc\n    <span style=\"font-size: 0.8em; font-weight: bold; line-height: 1; border-radius: 0.35em; text-transform: uppercase; vertical-align: middle; margin-left: 0.5rem\">ORG</span>\n</mark>\n is required. New iPhone 3Gs currently sell for $199 and $299 at Best Buy Mobile stores. &quot;This is focusing on customers' needs, trying to provide as wide a range of products and networks for our consumers,&quot; said Scott Moore, vice president of marketing for \n<mark class=\"entity\" style=\"background: #7aecec; padding: 0.45em 0.6em; margin: 0 0.25em; line-height: 1; border-radius: 0.35em;\">\n    Best Buy Mobile\n    <span style=\"font-size: 0.8em; font-weight: bold; line-height: 1; border-radius: 0.35em; text-transform: uppercase; vertical-align: middle; margin-left: 0.5rem\">ORG</span>\n</mark>\n. Buyers of first-generation iPhones can also upgrade to the faster refurbished 3G models at \n<mark class=\"entity\" style=\"background: #7aecec; padding: 0.45em 0.6em; margin: 0 0.25em; line-height: 1; border-radius: 0.35em;\">\n    Best Buy\n    <span style=\"font-size: 0.8em; font-weight: bold; line-height: 1; border-radius: 0.35em; text-transform: uppercase; vertical-align: middle; margin-left: 0.5rem\">ORG</span>\n</mark>\n, he said. Moore said \n<mark class=\"entity\" style=\"background: #7aecec; padding: 0.45em 0.6em; margin: 0 0.25em; line-height: 1; border-radius: 0.35em;\">\n    AT&amp;T\n    <span style=\"font-size: 0.8em; font-weight: bold; line-height: 1; border-radius: 0.35em; text-transform: uppercase; vertical-align: middle; margin-left: 0.5rem\">ORG</span>\n</mark>\n, the exclusive wireless provider for the iPhone, offers refurbished iPhones online. The sale of used iPhones comes as \n<mark class=\"entity\" style=\"background: #7aecec; padding: 0.45em 0.6em; margin: 0 0.25em; line-height: 1; border-radius: 0.35em;\">\n    Best Buy\n    <span style=\"font-size: 0.8em; font-weight: bold; line-height: 1; border-radius: 0.35em; text-transform: uppercase; vertical-align: middle; margin-left: 0.5rem\">ORG</span>\n</mark>\n, the top consumer electronics chain, seeks ways to fend off increased competition from discounters such as \n<mark class=\"entity\" style=\"background: #7aecec; padding: 0.45em 0.6em; margin: 0 0.25em; line-height: 1; border-radius: 0.35em;\">\n    Wal-Mart Stores Inc\n    <span style=\"font-size: 0.8em; font-weight: bold; line-height: 1; border-radius: 0.35em; text-transform: uppercase; vertical-align: middle; margin-left: 0.5rem\">ORG</span>\n</mark>\n, which began selling the popular phone late last month. \n<mark class=\"entity\" style=\"background: #7aecec; padding: 0.45em 0.6em; margin: 0 0.25em; line-height: 1; border-radius: 0.35em;\">\n    Wal-Mart\n    <span style=\"font-size: 0.8em; font-weight: bold; line-height: 1; border-radius: 0.35em; text-transform: uppercase; vertical-align: middle; margin-left: 0.5rem\">ORG</span>\n</mark>\n sells a new 8-gigabyte iPhone 3G for $197 and $297 for the 16-gigabyte model. The iPhone is also sold at Apple stores and AT&amp;T stores. Moore said \n<mark class=\"entity\" style=\"background: #7aecec; padding: 0.45em 0.6em; margin: 0 0.25em; line-height: 1; border-radius: 0.35em;\">\n    Best Buy\n    <span style=\"font-size: 0.8em; font-weight: bold; line-height: 1; border-radius: 0.35em; text-transform: uppercase; vertical-align: middle; margin-left: 0.5rem\">ORG</span>\n</mark>\n's move was not in response to other retailers' actions. (Reporting by Karen Jacobs ; Editing by Andre Grenon )</div></span>",
      "text/plain": "<IPython.core.display.HTML object>"
     },
     "metadata": {
      "transient": {}
     },
     "output_type": "display_data"
    }
   ],
   "source": [
    "from skweak.doclevel import DocumentHistoryAnnotator\n",
    "from skweak.utils import display_entities\n",
    "\n",
    "annotator = DocumentHistoryAnnotator(\"doc_history\", \"mv\", [\"PER\", \"ORG\"])\n",
    "annotator(doc)\n",
    "display_entities(doc, \"doc_history_org_cased\")"
   ]
  },
  {
   "cell_type": "markdown",
   "metadata": {},
   "source": [
    "#### 4.2 Label consistency\n",
    "\n",
    "Another property of news documents is the fact that two (or more) named entities sharing the same string in a text typically refer to the same entity, and should therefore have the same label. \"Komatsu\" can be both a company name and a city in Japan, but within a given document, it will typically be one or the other for the whole document. We can capture this fact with an annotator that looks at the majority label for a given string, and annotate all occurrences with this label:"
   ]
  },
  {
   "cell_type": "code",
   "execution_count": 18,
   "metadata": {},
   "outputs": [
    {
     "data": {
      "text/html": "<span class=\"tex2jax_ignore\"><div class=\"entities\" style=\"line-height: 2.5; direction: ltr\"> ATLANTA (Reuters) - Retailer Best Buy Co, seeking new ways to appeal to cost-conscious shoppers, said on Tuesday it is selling refurbished versions of Apple Inc's iPhone 3G at its stores that are priced about $50 less than new iPhones. The electronics chain said the used iPhones, which were returned within 30 days of purchase, are priced at $149 for the model with 8 gigabytes of storage, while the 16-gigabyte version is $249. A two-year service contract with AT&amp;T Inc is required. New iPhone 3Gs currently sell for $199 and $299 at Best Buy Mobile stores. &quot;This is focusing on customers' needs, trying to provide as wide a range of products and networks for our consumers,&quot; said Scott Moore, vice president of marketing for \n<mark class=\"entity\" style=\"background: #7aecec; padding: 0.45em 0.6em; margin: 0 0.25em; line-height: 1; border-radius: 0.35em;\">\n    Best Buy Mobile\n    <span style=\"font-size: 0.8em; font-weight: bold; line-height: 1; border-radius: 0.35em; text-transform: uppercase; vertical-align: middle; margin-left: 0.5rem\">ORG</span>\n</mark>\n. Buyers of first-generation iPhones can also upgrade to the faster refurbished 3G models at \n<mark class=\"entity\" style=\"background: #7aecec; padding: 0.45em 0.6em; margin: 0 0.25em; line-height: 1; border-radius: 0.35em;\">\n    Best Buy\n    <span style=\"font-size: 0.8em; font-weight: bold; line-height: 1; border-radius: 0.35em; text-transform: uppercase; vertical-align: middle; margin-left: 0.5rem\">ORG</span>\n</mark>\n, he said. Moore said \n<mark class=\"entity\" style=\"background: #7aecec; padding: 0.45em 0.6em; margin: 0 0.25em; line-height: 1; border-radius: 0.35em;\">\n    AT&amp;T\n    <span style=\"font-size: 0.8em; font-weight: bold; line-height: 1; border-radius: 0.35em; text-transform: uppercase; vertical-align: middle; margin-left: 0.5rem\">ORG</span>\n</mark>\n, the exclusive wireless provider for the iPhone, offers refurbished iPhones online. The sale of used iPhones comes as \n<mark class=\"entity\" style=\"background: #7aecec; padding: 0.45em 0.6em; margin: 0 0.25em; line-height: 1; border-radius: 0.35em;\">\n    Best Buy\n    <span style=\"font-size: 0.8em; font-weight: bold; line-height: 1; border-radius: 0.35em; text-transform: uppercase; vertical-align: middle; margin-left: 0.5rem\">ORG</span>\n</mark>\n, the top consumer electronics chain, seeks ways to fend off increased competition from discounters such as Wal-Mart Stores Inc, which began selling the popular phone late last month. Wal-Mart sells a new 8-gigabyte iPhone 3G for $197 and $297 for the 16-gigabyte model. The iPhone is also sold at Apple stores and AT&amp;T stores. Moore said \n<mark class=\"entity\" style=\"background: #7aecec; padding: 0.45em 0.6em; margin: 0 0.25em; line-height: 1; border-radius: 0.35em;\">\n    Best Buy\n    <span style=\"font-size: 0.8em; font-weight: bold; line-height: 1; border-radius: 0.35em; text-transform: uppercase; vertical-align: middle; margin-left: 0.5rem\">ORG</span>\n</mark>\n's move was not in response to other retailers' actions. (Reporting by Karen Jacobs ; Editing by Andre Grenon )</div></span>",
      "text/plain": "<IPython.core.display.HTML object>"
     },
     "metadata": {
      "transient": {}
     },
     "output_type": "display_data"
    }
   ],
   "source": [
    "from skweak.doclevel import DocumentMajorityAnnotator\n",
    "from skweak.utils import display_entities\n",
    "\n",
    "annotator = DocumentMajorityAnnotator(\"doc_majority\", \"mv\")\n",
    "annotator(doc)\n",
    "display_entities(doc, \"doc_majority_org_cased\")"
   ]
  },
  {
   "cell_type": "code",
   "execution_count": 20,
   "metadata": {},
   "outputs": [
    {
     "data": {
      "text/html": "<span class=\"tex2jax_ignore\"><div class=\"entities\" style=\"line-height: 2.5; direction: ltr\"> \n<mark class=\"entity\" style=\"background: #ff9561; padding: 0.45em 0.6em; margin: 0 0.25em; line-height: 1; border-radius: 0.35em;\">\n    ATLANTA\n    <span style=\"font-size: 0.8em; font-weight: bold; line-height: 1; border-radius: 0.35em; text-transform: uppercase; vertical-align: middle; margin-left: 0.5rem\">LOC</span>\n</mark>\n (\n<mark class=\"entity\" style=\"background: #7aecec; padding: 0.45em 0.6em; margin: 0 0.25em; line-height: 1; border-radius: 0.35em;\">\n    Reuters\n    <span style=\"font-size: 0.8em; font-weight: bold; line-height: 1; border-radius: 0.35em; text-transform: uppercase; vertical-align: middle; margin-left: 0.5rem\">ORG</span>\n</mark>\n) - \n<mark class=\"entity\" style=\"background: #7aecec; padding: 0.45em 0.6em; margin: 0 0.25em; line-height: 1; border-radius: 0.35em;\">\n    Retailer Best Buy Co\n    <span style=\"font-size: 0.8em; font-weight: bold; line-height: 1; border-radius: 0.35em; text-transform: uppercase; vertical-align: middle; margin-left: 0.5rem\">ORG</span>\n</mark>\n, seeking new ways to appeal to cost-conscious shoppers, said on Tuesday it is selling refurbished versions of \n<mark class=\"entity\" style=\"background: #7aecec; padding: 0.45em 0.6em; margin: 0 0.25em; line-height: 1; border-radius: 0.35em;\">\n    Apple Inc's\n    <span style=\"font-size: 0.8em; font-weight: bold; line-height: 1; border-radius: 0.35em; text-transform: uppercase; vertical-align: middle; margin-left: 0.5rem\">ORG</span>\n</mark>\n \n<mark class=\"entity\" style=\"background: #ddd; padding: 0.45em 0.6em; margin: 0 0.25em; line-height: 1; border-radius: 0.35em;\">\n    iPhone 3G\n    <span style=\"font-size: 0.8em; font-weight: bold; line-height: 1; border-radius: 0.35em; text-transform: uppercase; vertical-align: middle; margin-left: 0.5rem\">MISC</span>\n</mark>\n at its stores that are priced about $50 less than new \n<mark class=\"entity\" style=\"background: #ddd; padding: 0.45em 0.6em; margin: 0 0.25em; line-height: 1; border-radius: 0.35em;\">\n    iPhones\n    <span style=\"font-size: 0.8em; font-weight: bold; line-height: 1; border-radius: 0.35em; text-transform: uppercase; vertical-align: middle; margin-left: 0.5rem\">MISC</span>\n</mark>\n. The electronics chain said the used \n<mark class=\"entity\" style=\"background: #ddd; padding: 0.45em 0.6em; margin: 0 0.25em; line-height: 1; border-radius: 0.35em;\">\n    iPhones\n    <span style=\"font-size: 0.8em; font-weight: bold; line-height: 1; border-radius: 0.35em; text-transform: uppercase; vertical-align: middle; margin-left: 0.5rem\">MISC</span>\n</mark>\n, which were returned within 30 days of purchase, are priced at $149 for the model with 8 gigabytes of storage, while the 16-gigabyte version is $249. A two-year service contract with \n<mark class=\"entity\" style=\"background: #7aecec; padding: 0.45em 0.6em; margin: 0 0.25em; line-height: 1; border-radius: 0.35em;\">\n    AT&amp;T Inc\n    <span style=\"font-size: 0.8em; font-weight: bold; line-height: 1; border-radius: 0.35em; text-transform: uppercase; vertical-align: middle; margin-left: 0.5rem\">ORG</span>\n</mark>\n is required. \n<mark class=\"entity\" style=\"background: #7aecec; padding: 0.45em 0.6em; margin: 0 0.25em; line-height: 1; border-radius: 0.35em;\">\n    New\n    <span style=\"font-size: 0.8em; font-weight: bold; line-height: 1; border-radius: 0.35em; text-transform: uppercase; vertical-align: middle; margin-left: 0.5rem\">ORG</span>\n</mark>\n \n<mark class=\"entity\" style=\"background: #ddd; padding: 0.45em 0.6em; margin: 0 0.25em; line-height: 1; border-radius: 0.35em;\">\n    iPhone 3Gs\n    <span style=\"font-size: 0.8em; font-weight: bold; line-height: 1; border-radius: 0.35em; text-transform: uppercase; vertical-align: middle; margin-left: 0.5rem\">MISC</span>\n</mark>\n currently sell for $199 and $299 at \n<mark class=\"entity\" style=\"background: #7aecec; padding: 0.45em 0.6em; margin: 0 0.25em; line-height: 1; border-radius: 0.35em;\">\n    Best Buy Mobile\n    <span style=\"font-size: 0.8em; font-weight: bold; line-height: 1; border-radius: 0.35em; text-transform: uppercase; vertical-align: middle; margin-left: 0.5rem\">ORG</span>\n</mark>\n stores. &quot;This is focusing on customers' needs, trying to provide as wide a range of products and networks for our consumers,&quot; said \n<mark class=\"entity\" style=\"background: #ddd; padding: 0.45em 0.6em; margin: 0 0.25em; line-height: 1; border-radius: 0.35em;\">\n    Scott Moore\n    <span style=\"font-size: 0.8em; font-weight: bold; line-height: 1; border-radius: 0.35em; text-transform: uppercase; vertical-align: middle; margin-left: 0.5rem\">PER</span>\n</mark>\n, vice president of marketing for \n<mark class=\"entity\" style=\"background: #7aecec; padding: 0.45em 0.6em; margin: 0 0.25em; line-height: 1; border-radius: 0.35em;\">\n    Best Buy Mobile\n    <span style=\"font-size: 0.8em; font-weight: bold; line-height: 1; border-radius: 0.35em; text-transform: uppercase; vertical-align: middle; margin-left: 0.5rem\">ORG</span>\n</mark>\n. Buyers of first-generation \n<mark class=\"entity\" style=\"background: #ddd; padding: 0.45em 0.6em; margin: 0 0.25em; line-height: 1; border-radius: 0.35em;\">\n    iPhones\n    <span style=\"font-size: 0.8em; font-weight: bold; line-height: 1; border-radius: 0.35em; text-transform: uppercase; vertical-align: middle; margin-left: 0.5rem\">MISC</span>\n</mark>\n can also upgrade to the faster refurbished 3G models at \n<mark class=\"entity\" style=\"background: #7aecec; padding: 0.45em 0.6em; margin: 0 0.25em; line-height: 1; border-radius: 0.35em;\">\n    Best Buy\n    <span style=\"font-size: 0.8em; font-weight: bold; line-height: 1; border-radius: 0.35em; text-transform: uppercase; vertical-align: middle; margin-left: 0.5rem\">ORG</span>\n</mark>\n, he said. \n<mark class=\"entity\" style=\"background: #ff9561; padding: 0.45em 0.6em; margin: 0 0.25em; line-height: 1; border-radius: 0.35em;\">\n    Moore\n    <span style=\"font-size: 0.8em; font-weight: bold; line-height: 1; border-radius: 0.35em; text-transform: uppercase; vertical-align: middle; margin-left: 0.5rem\">LOC</span>\n</mark>\n said \n<mark class=\"entity\" style=\"background: #7aecec; padding: 0.45em 0.6em; margin: 0 0.25em; line-height: 1; border-radius: 0.35em;\">\n    AT&amp;T\n    <span style=\"font-size: 0.8em; font-weight: bold; line-height: 1; border-radius: 0.35em; text-transform: uppercase; vertical-align: middle; margin-left: 0.5rem\">ORG</span>\n</mark>\n, the exclusive wireless provider for the \n<mark class=\"entity\" style=\"background: #ddd; padding: 0.45em 0.6em; margin: 0 0.25em; line-height: 1; border-radius: 0.35em;\">\n    iPhone\n    <span style=\"font-size: 0.8em; font-weight: bold; line-height: 1; border-radius: 0.35em; text-transform: uppercase; vertical-align: middle; margin-left: 0.5rem\">MISC</span>\n</mark>\n, offers refurbished \n<mark class=\"entity\" style=\"background: #ddd; padding: 0.45em 0.6em; margin: 0 0.25em; line-height: 1; border-radius: 0.35em;\">\n    iPhones\n    <span style=\"font-size: 0.8em; font-weight: bold; line-height: 1; border-radius: 0.35em; text-transform: uppercase; vertical-align: middle; margin-left: 0.5rem\">MISC</span>\n</mark>\n online. The sale of used \n<mark class=\"entity\" style=\"background: #ddd; padding: 0.45em 0.6em; margin: 0 0.25em; line-height: 1; border-radius: 0.35em;\">\n    iPhones\n    <span style=\"font-size: 0.8em; font-weight: bold; line-height: 1; border-radius: 0.35em; text-transform: uppercase; vertical-align: middle; margin-left: 0.5rem\">MISC</span>\n</mark>\n comes as \n<mark class=\"entity\" style=\"background: #7aecec; padding: 0.45em 0.6em; margin: 0 0.25em; line-height: 1; border-radius: 0.35em;\">\n    Best Buy\n    <span style=\"font-size: 0.8em; font-weight: bold; line-height: 1; border-radius: 0.35em; text-transform: uppercase; vertical-align: middle; margin-left: 0.5rem\">ORG</span>\n</mark>\n, the top consumer electronics chain, seeks ways to fend off increased competition from discounters such as \n<mark class=\"entity\" style=\"background: #7aecec; padding: 0.45em 0.6em; margin: 0 0.25em; line-height: 1; border-radius: 0.35em;\">\n    Wal-Mart Stores Inc\n    <span style=\"font-size: 0.8em; font-weight: bold; line-height: 1; border-radius: 0.35em; text-transform: uppercase; vertical-align: middle; margin-left: 0.5rem\">ORG</span>\n</mark>\n, which began selling the popular phone late last month. \n<mark class=\"entity\" style=\"background: #7aecec; padding: 0.45em 0.6em; margin: 0 0.25em; line-height: 1; border-radius: 0.35em;\">\n    Wal-Mart\n    <span style=\"font-size: 0.8em; font-weight: bold; line-height: 1; border-radius: 0.35em; text-transform: uppercase; vertical-align: middle; margin-left: 0.5rem\">ORG</span>\n</mark>\n sells a new 8-gigabyte \n<mark class=\"entity\" style=\"background: #ddd; padding: 0.45em 0.6em; margin: 0 0.25em; line-height: 1; border-radius: 0.35em;\">\n    iPhone 3G\n    <span style=\"font-size: 0.8em; font-weight: bold; line-height: 1; border-radius: 0.35em; text-transform: uppercase; vertical-align: middle; margin-left: 0.5rem\">MISC</span>\n</mark>\n for $197 and $297 for the 16-gigabyte model. The \n<mark class=\"entity\" style=\"background: #ddd; padding: 0.45em 0.6em; margin: 0 0.25em; line-height: 1; border-radius: 0.35em;\">\n    iPhone\n    <span style=\"font-size: 0.8em; font-weight: bold; line-height: 1; border-radius: 0.35em; text-transform: uppercase; vertical-align: middle; margin-left: 0.5rem\">MISC</span>\n</mark>\n is also sold at \n<mark class=\"entity\" style=\"background: #7aecec; padding: 0.45em 0.6em; margin: 0 0.25em; line-height: 1; border-radius: 0.35em;\">\n    Apple\n    <span style=\"font-size: 0.8em; font-weight: bold; line-height: 1; border-radius: 0.35em; text-transform: uppercase; vertical-align: middle; margin-left: 0.5rem\">ORG</span>\n</mark>\n stores and \n<mark class=\"entity\" style=\"background: #7aecec; padding: 0.45em 0.6em; margin: 0 0.25em; line-height: 1; border-radius: 0.35em;\">\n    AT&amp;T\n    <span style=\"font-size: 0.8em; font-weight: bold; line-height: 1; border-radius: 0.35em; text-transform: uppercase; vertical-align: middle; margin-left: 0.5rem\">ORG</span>\n</mark>\n stores. \n<mark class=\"entity\" style=\"background: #ff9561; padding: 0.45em 0.6em; margin: 0 0.25em; line-height: 1; border-radius: 0.35em;\">\n    Moore\n    <span style=\"font-size: 0.8em; font-weight: bold; line-height: 1; border-radius: 0.35em; text-transform: uppercase; vertical-align: middle; margin-left: 0.5rem\">LOC</span>\n</mark>\n said \n<mark class=\"entity\" style=\"background: #7aecec; padding: 0.45em 0.6em; margin: 0 0.25em; line-height: 1; border-radius: 0.35em;\">\n    Best Buy\n    <span style=\"font-size: 0.8em; font-weight: bold; line-height: 1; border-radius: 0.35em; text-transform: uppercase; vertical-align: middle; margin-left: 0.5rem\">ORG</span>\n</mark>\n's move was not in response to other retailers' actions. (Reporting by \n<mark class=\"entity\" style=\"background: #ddd; padding: 0.45em 0.6em; margin: 0 0.25em; line-height: 1; border-radius: 0.35em;\">\n    Karen Jacobs\n    <span style=\"font-size: 0.8em; font-weight: bold; line-height: 1; border-radius: 0.35em; text-transform: uppercase; vertical-align: middle; margin-left: 0.5rem\">PER</span>\n</mark>\n ; Editing by \n<mark class=\"entity\" style=\"background: #ddd; padding: 0.45em 0.6em; margin: 0 0.25em; line-height: 1; border-radius: 0.35em;\">\n    Andre Grenon\n    <span style=\"font-size: 0.8em; font-weight: bold; line-height: 1; border-radius: 0.35em; text-transform: uppercase; vertical-align: middle; margin-left: 0.5rem\">PER</span>\n</mark>\n )</div></span>",
      "text/plain": "<IPython.core.display.HTML object>"
     },
     "metadata": {
      "transient": {}
     },
     "output_type": "display_data"
    }
   ],
   "source": [
    "from skweak.labelling import MajorityVoter\n",
    "from skweak.utils import display_entities\n",
    "\n",
    "mv = MajorityVoter(\"mv\", [\"LOC\", \"MISC\", \"ORG\", \"PER\"])\n",
    "mv.add_constraint_label(\"ENT\", {\"LOC\", \"MISC\", \"ORG\", \"PER\"})\n",
    "doc = mv(doc)\n",
    "display_entities(doc, \"mv\")"
   ]
  },
  {
   "cell_type": "code",
   "execution_count": null,
   "metadata": {},
   "outputs": [],
   "source": [
    "for source in doc.user_data[\"spans\"]:\n",
    "    for (start, end), label in doc.user_data[\"spans\"][source].items():\n",
    "        for pattern in [\"Moore\", \"needs\"]:\n",
    "            if doc[start:end].text==pattern:\n",
    "                print(\"%s on %s (%i:%i): %s\"%(source, pattern, start,end,label))"
   ]
  },
  {
   "cell_type": "markdown",
   "metadata": {},
   "source": [
    "## __Step 2__: Estimation of label model"
   ]
  },
  {
   "cell_type": "markdown",
   "metadata": {},
   "source": [
    "We can construct a full annotator with all annotators described above, and then run it on a dataset such as Reuters, Bloomberg, or Acquire:"
   ]
  },
  {
   "cell_type": "code",
   "execution_count": 1,
   "metadata": {},
   "outputs": [
    {
     "name": "stdout",
     "output_type": "stream",
     "text": [
      "Loading shallow functions\n",
      "Loading Spacy NER models\n",
      "Loading gazetteer supervision modules\n",
      "Extracting data from ./data/wikidata_small.json\n",
      "Populating trie for class PERSON (number: 1865712)\n",
      "Populating trie for class LOC (number: 14250)\n",
      "Populating trie for class GPE (number: 273743)\n",
      "Populating trie for class ORG (number: 91421)\n",
      "Populating trie for class PRODUCT (number: 12457)\n",
      "Extracting data from ./data/geonames.json\n",
      "Populating trie for class GPE (number: 15205)\n",
      "Extracting data from ./data/crunchbase.json\n",
      "Populating trie for class COMPANY (number: 788915)\n",
      "Populating trie for class ORG (number: 263)\n",
      "Populating trie for class PERSON (number: 1062669)\n",
      "Extracting data from ./data/products.json\n",
      "Populating trie for class PRODUCT (number: 45362)\n",
      "Loading document-level supervision sources\n",
      "Total number of annotators: 63\n"
     ]
    }
   ],
   "source": [
    "import skweak.aggregation, domains.conll2003_ner\n",
    "#full_annotator = domains.conll2003_ner.NERAnnotator().add_shallow().add_doc_level()\n",
    "full_annotator = domains.conll2003_ner.NERAnnotator().add_all()\n",
    "print(\"Total number of annotators:\", len(full_annotator.annotators))"
   ]
  },
  {
   "cell_type": "markdown",
   "metadata": {},
   "source": [
    "We can then take the raw data from reuters, run Spacy on the textual content, and finally apply the annotator to get annotations from the each source:"
   ]
  },
  {
   "cell_type": "code",
   "execution_count": null,
   "metadata": {},
   "outputs": [],
   "source": [
    "# We annotate 200 documents, and store them in a Spacy DocBin file\n",
    "full_annotator.annotate_docbin(\"./data/reuters.docbin\", \"./data/reuters_small.docbin\", cutoff=200)\n",
    "#full_annotator.annotate_docbin(\"./data/reuters_small.docbin\", \"./data/reuters_small.docbin\")"
   ]
  },
  {
   "cell_type": "markdown",
   "metadata": {},
   "source": [
    "One this is done, we can finally estimate a unified annotator model through weak supervision. The basic idea is to describe the named entity recognition problem as a _Hidden markov Model_ where the observations are the annotations from each source, and the states correspond to the \"true\" (hidden) labels for each token, as illustrated below.\n",
    "\n",
    "<img src=\"hmm.png\">"
   ]
  },
  {
   "cell_type": "markdown",
   "metadata": {},
   "source": [
    "Since we don't have access to the true labels for each token, we will rely on _Baum-Welch_ (a variant of EM) to estimate the HMM model through unsupervised training. More specifically, we will need to estimate 3 models:\n",
    "- the initial probabilities $P(Y_0)$ of the labels for the first token of a document\n",
    "- the transition matrix $P(Y_i | Y_{i-1})$ for the labels \n",
    "- the emission models $P(\\lambda_{i,j} | Y_i)$ of observing a particular value $\\lambda_{i,j}$ (say, `B-PER`) from the source $j$ given the true label $Y_i$. In the current model, we assume the emissions to be independent of one another given the true label, to reduce the complexity of the model.\n",
    "\n",
    "Given an annotated dataset, the HMM model can be easily estimated:"
   ]
  },
  {
   "cell_type": "code",
   "execution_count": 6,
   "metadata": {},
   "outputs": [
    {
     "name": "stdout",
     "output_type": "stream",
     "text": [
      "Using the following sources: ['BTC', 'BTC_truecase', 'companies_company_cased', 'companies_company_uncased', 'companies_org_cased', 'companies_org_uncased', 'company_type_detector', 'compound_detector', 'core_web_md', 'core_web_md_truecase', 'crunchbase_company_cased', 'crunchbase_company_uncased', 'crunchbase_org_cased', 'crunchbase_org_uncased', 'crunchbase_person_cased', 'crunchbase_person_uncased', 'date_detector', 'doc_history_org_cased', 'doc_history_org_uncased', 'doc_history_per_cased', 'doc_history_per_uncased', 'doc_majority_loc_cased', 'doc_majority_loc_uncased', 'doc_majority_misc_cased', 'doc_majority_misc_uncased', 'doc_majority_org_cased', 'doc_majority_org_uncased', 'doc_majority_per_cased', 'doc_majority_per_uncased', 'full_name_detector', 'geo_gpe_cased', 'geo_gpe_uncased', 'infrequent_compound_detector', 'infrequent_nnp_detector', 'infrequent_proper2_detector', 'infrequent_proper_detector', 'legal_detector', 'misc_detector', 'money_detector', 'multitoken_companies_company_cased', 'multitoken_companies_company_uncased', 'multitoken_companies_org_cased', 'multitoken_companies_org_uncased', 'multitoken_crunchbase_company_cased', 'multitoken_crunchbase_company_uncased', 'multitoken_crunchbase_org_cased', 'multitoken_crunchbase_org_uncased', 'multitoken_crunchbase_person_cased', 'multitoken_crunchbase_person_uncased', 'multitoken_geo_gpe_cased', 'multitoken_geo_gpe_uncased', 'multitoken_products_product_cased', 'multitoken_products_product_uncased', 'multitoken_wiki_gpe_cased', 'multitoken_wiki_gpe_uncased', 'multitoken_wiki_loc_cased', 'multitoken_wiki_loc_uncased', 'multitoken_wiki_org_cased', 'multitoken_wiki_org_uncased', 'multitoken_wiki_person_cased', 'multitoken_wiki_person_uncased', 'multitoken_wiki_product_cased', 'multitoken_wiki_product_uncased', 'multitoken_wiki_small_gpe_cased', 'multitoken_wiki_small_gpe_uncased', 'multitoken_wiki_small_loc_cased', 'multitoken_wiki_small_loc_uncased', 'multitoken_wiki_small_org_cased', 'multitoken_wiki_small_org_uncased', 'multitoken_wiki_small_person_cased', 'multitoken_wiki_small_person_uncased', 'multitoken_wiki_small_product_cased', 'multitoken_wiki_small_product_uncased', 'nnp_detector', 'number_detector', 'products_product_cased', 'products_product_uncased', 'proper2_detector', 'proper_detector', 'snips', 'time_detector', 'wiki_gpe_cased', 'wiki_gpe_uncased', 'wiki_loc_cased', 'wiki_loc_uncased', 'wiki_org_cased', 'wiki_org_uncased', 'wiki_person_cased', 'wiki_person_uncased', 'wiki_product_cased', 'wiki_product_uncased', 'wiki_small_gpe_cased', 'wiki_small_gpe_uncased', 'wiki_small_loc_cased', 'wiki_small_loc_uncased', 'wiki_small_org_cased', 'wiki_small_org_uncased', 'wiki_small_person_cased', 'wiki_small_person_uncased', 'wiki_small_product_cased', 'wiki_small_product_uncased']\n",
      "Starting iteration 1\n",
      "Finished E-step with 200 documents\n",
      "Starting iteration 2\n",
      "Finished E-step with 200 documents\n",
      "Starting iteration 3\n",
      "Finished E-step with 200 documents\n",
      "Starting iteration 4\n",
      "Finished E-step with 200 documents\n",
      "Starting iteration 5\n",
      "Finished E-step with 200 documents\n"
     ]
    }
   ],
   "source": [
    "import skweak.aggregation\n",
    "\n",
    "unified_model = skweak.aggregation.HMM(\"hmm\", [\"LOC\", \"MISC\", \"ORG\", \"PER\"])\n",
    "unified_model.add_constraint_label(\"ENT\", [\"LOC\", \"MISC\", \"ORG\", \"PER\"])\n",
    "# We then run Baum-Welch on the model (can take some time)\n",
    "unified_model.fit(\"../data/reuters_small.docbin\")\n",
    "\n",
    "# Saving the model to a file\n",
    "unified_model.save(\"../data/hmm_reuters_small.pkl\")"
   ]
  },
  {
   "cell_type": "markdown",
   "metadata": {},
   "source": [
    "Note that the HMM model relies on some informative priors to facilitate the parameter estimation:\n",
    "- the prior for the initial probabilities is a Dirichlet based on counts for the most reliable model (chosen right now to be the Spacy NER model trained on Ontonotes)\n",
    "- the prior for the transition matrix is a list of Dirichlet also based on counts from the standard Spacy NER model.\n",
    "- finally, the initial emission models are calculated based on subjective estimates of the relative precision and recall of each source. For instance, we know that a source like `company_type_detector` (which looks at legal suffixes such as \"Inc.\" at the end of the noun phrase) has a very high precision, but a low recall , since many mentions of companies do not include a suffix. In contrast, gazeteers will tend to have a better recall, but a lower precision (some company names also happen to be names of geopolitical entities or persons).  The initial precisions and recalls provided to the model is specified in `SOURCE_PRIORS` in the file `labelling.py`. When a precision and recall is not provided for a given source, they are assumed to be zeros (for instance, `company_type_detector` only detects `COMPANY` entities and nothing else).  "
   ]
  },
  {
   "cell_type": "markdown",
   "metadata": {},
   "source": [
    "One the model is learned, we can apply it as any other \"annotator\" object:"
   ]
  },
  {
   "cell_type": "code",
   "execution_count": 7,
   "metadata": {},
   "outputs": [
    {
     "name": "stdout",
     "output_type": "stream",
     "text": [
      "HMM model on following sources: ['BTC', 'BTC_truecase', 'companies_company_cased', 'companies_company_uncased', 'companies_org_cased', 'companies_org_uncased', 'company_type_detector', 'compound_detector', 'core_web_md', 'core_web_md_truecase', 'crunchbase_company_cased', 'crunchbase_company_uncased', 'crunchbase_org_cased', 'crunchbase_org_uncased', 'crunchbase_person_cased', 'crunchbase_person_uncased', 'date_detector', 'doc_history_org_cased', 'doc_history_org_uncased', 'doc_history_per_cased', 'doc_history_per_uncased', 'doc_majority_loc_cased', 'doc_majority_loc_uncased', 'doc_majority_misc_cased', 'doc_majority_misc_uncased', 'doc_majority_org_cased', 'doc_majority_org_uncased', 'doc_majority_per_cased', 'doc_majority_per_uncased', 'full_name_detector', 'geo_gpe_cased', 'geo_gpe_uncased', 'infrequent_compound_detector', 'infrequent_nnp_detector', 'infrequent_proper2_detector', 'infrequent_proper_detector', 'legal_detector', 'misc_detector', 'money_detector', 'multitoken_companies_company_cased', 'multitoken_companies_company_uncased', 'multitoken_companies_org_cased', 'multitoken_companies_org_uncased', 'multitoken_crunchbase_company_cased', 'multitoken_crunchbase_company_uncased', 'multitoken_crunchbase_org_cased', 'multitoken_crunchbase_org_uncased', 'multitoken_crunchbase_person_cased', 'multitoken_crunchbase_person_uncased', 'multitoken_geo_gpe_cased', 'multitoken_geo_gpe_uncased', 'multitoken_products_product_cased', 'multitoken_products_product_uncased', 'multitoken_wiki_gpe_cased', 'multitoken_wiki_gpe_uncased', 'multitoken_wiki_loc_cased', 'multitoken_wiki_loc_uncased', 'multitoken_wiki_org_cased', 'multitoken_wiki_org_uncased', 'multitoken_wiki_person_cased', 'multitoken_wiki_person_uncased', 'multitoken_wiki_product_cased', 'multitoken_wiki_product_uncased', 'multitoken_wiki_small_gpe_cased', 'multitoken_wiki_small_gpe_uncased', 'multitoken_wiki_small_loc_cased', 'multitoken_wiki_small_loc_uncased', 'multitoken_wiki_small_org_cased', 'multitoken_wiki_small_org_uncased', 'multitoken_wiki_small_person_cased', 'multitoken_wiki_small_person_uncased', 'multitoken_wiki_small_product_cased', 'multitoken_wiki_small_product_uncased', 'nnp_detector', 'number_detector', 'products_product_cased', 'products_product_uncased', 'proper2_detector', 'proper_detector', 'snips', 'time_detector', 'wiki_gpe_cased', 'wiki_gpe_uncased', 'wiki_loc_cased', 'wiki_loc_uncased', 'wiki_org_cased', 'wiki_org_uncased', 'wiki_person_cased', 'wiki_person_uncased', 'wiki_product_cased', 'wiki_product_uncased', 'wiki_small_gpe_cased', 'wiki_small_gpe_uncased', 'wiki_small_loc_cased', 'wiki_small_loc_uncased', 'wiki_small_org_cased', 'wiki_small_org_uncased', 'wiki_small_person_cased', 'wiki_small_person_uncased', 'wiki_small_product_cased', 'wiki_small_product_uncased']\n",
      "Output labels: ['LOC', 'MISC', 'ORG', 'PER']\n",
      "Constraint labels: {'ENT': ['LOC', 'MISC', 'ORG', 'PER']}\n",
      "--------\n",
      "Start distribution:\n",
      "O         0.33\n",
      "B-LOC     0.09\n",
      "I-LOC     0.00\n",
      "B-MISC    0.02\n",
      "I-MISC    0.00\n",
      "B-ORG     0.51\n",
      "I-ORG     0.00\n",
      "B-PER     0.05\n",
      "I-PER     0.00\n",
      "dtype: float64\n",
      "--------\n",
      "Transition model:\n",
      "           O  B-LOC  I-LOC  B-MISC  I-MISC  B-ORG  I-ORG  B-PER  I-PER\n",
      "O       0.93   0.02   0.00    0.00    0.00   0.04   0.00   0.01   0.00\n",
      "B-LOC   0.78   0.01   0.20    0.00    0.00   0.01   0.00   0.00   0.00\n",
      "I-LOC   0.93   0.00   0.06    0.00    0.00   0.00   0.00   0.00   0.00\n",
      "B-MISC  0.82   0.00   0.00    0.01    0.15   0.01   0.00   0.01   0.00\n",
      "I-MISC  0.73   0.02   0.00    0.01    0.22   0.01   0.00   0.00   0.00\n",
      "B-ORG   0.63   0.01   0.00    0.00    0.00   0.03   0.33   0.00   0.00\n",
      "I-ORG   0.57   0.01   0.00    0.00    0.00   0.02   0.39   0.00   0.00\n",
      "B-PER   0.56   0.00   0.00    0.00    0.00   0.00   0.00   0.00   0.43\n",
      "I-PER   0.91   0.00   0.00    0.00    0.00   0.01   0.00   0.00   0.07\n",
      "--------\n",
      "Emission model for source: BTC\n",
      "           O  B-LOC  I-LOC  B-MISC  I-MISC  B-ORG  I-ORG  B-PER  I-PER  B-ENT  I-ENT\n",
      "O       0.99   0.00   0.00     0.0    0.00   0.00   0.00   0.00   0.00    0.0    0.0\n",
      "B-LOC   0.10   0.76   0.00     0.0    0.00   0.13   0.01   0.01   0.00    0.0    0.0\n",
      "I-LOC   0.06   0.09   0.46     0.0    0.00   0.01   0.36   0.01   0.00    0.0    0.0\n",
      "B-MISC  0.67   0.14   0.00     0.0    0.00   0.14   0.01   0.03   0.00    0.0    0.0\n",
      "I-MISC  0.64   0.01   0.09     0.0    0.01   0.03   0.17   0.00   0.06    0.0    0.0\n",
      "B-ORG   0.38   0.08   0.00     0.0    0.00   0.46   0.00   0.08   0.00    0.0    0.0\n",
      "I-ORG   0.47   0.03   0.04     0.0    0.00   0.04   0.37   0.01   0.05    0.0    0.0\n",
      "B-PER   0.12   0.03   0.00     0.0    0.00   0.02   0.00   0.83   0.01    0.0    0.0\n",
      "I-PER   0.08   0.00   0.01     0.0    0.00   0.00   0.02   0.02   0.87    0.0    0.0\n",
      "--------\n",
      "Emission model for source: BTC_truecase\n",
      "           O  B-LOC  I-LOC  B-MISC  I-MISC  B-ORG  I-ORG  B-PER  I-PER  B-ENT  I-ENT\n",
      "O       0.99   0.00   0.00     0.0    0.00   0.00   0.00   0.00   0.00    0.0    0.0\n",
      "B-LOC   0.09   0.77   0.00     0.0    0.00   0.13   0.01   0.01   0.00    0.0    0.0\n",
      "I-LOC   0.05   0.08   0.46     0.0    0.00   0.01   0.39   0.01   0.00    0.0    0.0\n",
      "B-MISC  0.63   0.16   0.00     0.0    0.00   0.17   0.01   0.03   0.00    0.0    0.0\n",
      "I-MISC  0.62   0.00   0.10     0.0    0.01   0.04   0.17   0.00   0.06    0.0    0.0\n",
      "B-ORG   0.36   0.08   0.00     0.0    0.00   0.46   0.00   0.09   0.00    0.0    0.0\n",
      "I-ORG   0.48   0.04   0.03     0.0    0.00   0.05   0.34   0.01   0.06    0.0    0.0\n",
      "B-PER   0.11   0.03   0.00     0.0    0.00   0.02   0.00   0.84   0.01    0.0    0.0\n",
      "I-PER   0.08   0.00   0.01     0.0    0.00   0.00   0.02   0.02   0.87    0.0    0.0\n",
      "--------\n",
      "Emission model for source: companies_company_cased\n",
      "           O  B-LOC  I-LOC  B-MISC  I-MISC  B-ORG  I-ORG  B-PER  I-PER  B-ENT  I-ENT\n",
      "O       1.00    0.0    0.0     0.0    0.00   0.00   0.00    0.0    0.0    0.0    0.0\n",
      "B-LOC   0.90    0.0    0.0     0.0    0.00   0.09   0.01    0.0    0.0    0.0    0.0\n",
      "I-LOC   0.68    0.0    0.0     0.0    0.00   0.00   0.32    0.0    0.0    0.0    0.0\n",
      "B-MISC  0.91    0.0    0.0     0.0    0.00   0.08   0.00    0.0    0.0    0.0    0.0\n",
      "I-MISC  0.64    0.0    0.0     0.0    0.01   0.01   0.34    0.0    0.0    0.0    0.0\n",
      "B-ORG   0.75    0.0    0.0     0.0    0.00   0.24   0.01    0.0    0.0    0.0    0.0\n",
      "I-ORG   0.45    0.0    0.0     0.0    0.00   0.01   0.54    0.0    0.0    0.0    0.0\n",
      "B-PER   0.92    0.0    0.0     0.0    0.00   0.08   0.00    0.0    0.0    0.0    0.0\n",
      "I-PER   0.91    0.0    0.0     0.0    0.00   0.00   0.08    0.0    0.0    0.0    0.0\n",
      "--------\n",
      "Emission model for source: companies_company_uncased\n",
      "           O  B-LOC  I-LOC  B-MISC  I-MISC  B-ORG  I-ORG  B-PER  I-PER  B-ENT  I-ENT\n",
      "O       1.00    0.0    0.0     0.0    0.00   0.00   0.00    0.0    0.0    0.0    0.0\n",
      "B-LOC   0.88    0.0    0.0     0.0    0.00   0.11   0.01    0.0    0.0    0.0    0.0\n",
      "I-LOC   0.66    0.0    0.0     0.0    0.00   0.00   0.33    0.0    0.0    0.0    0.0\n",
      "B-MISC  0.88    0.0    0.0     0.0    0.00   0.11   0.00    0.0    0.0    0.0    0.0\n",
      "I-MISC  0.65    0.0    0.0     0.0    0.01   0.03   0.32    0.0    0.0    0.0    0.0\n",
      "B-ORG   0.74    0.0    0.0     0.0    0.00   0.25   0.01    0.0    0.0    0.0    0.0\n",
      "I-ORG   0.43    0.0    0.0     0.0    0.00   0.01   0.55    0.0    0.0    0.0    0.0\n",
      "B-PER   0.92    0.0    0.0     0.0    0.00   0.08   0.00    0.0    0.0    0.0    0.0\n",
      "I-PER   0.91    0.0    0.0     0.0    0.00   0.01   0.08    0.0    0.0    0.0    0.0\n",
      "--------\n",
      "Emission model for source: companies_org_cased\n",
      "           O  B-LOC  I-LOC  B-MISC  I-MISC  B-ORG  I-ORG  B-PER  I-PER  B-ENT  I-ENT\n",
      "O       1.00    0.0    0.0     0.0    0.00   0.00   0.00    0.0    0.0    0.0    0.0\n",
      "B-LOC   0.99    0.0    0.0     0.0    0.00   0.00   0.00    0.0    0.0    0.0    0.0\n",
      "I-LOC   0.97    0.0    0.0     0.0    0.00   0.00   0.03    0.0    0.0    0.0    0.0\n",
      "B-MISC  0.99    0.0    0.0     0.0    0.00   0.00   0.00    0.0    0.0    0.0    0.0\n",
      "I-MISC  0.98    0.0    0.0     0.0    0.01   0.00   0.01    0.0    0.0    0.0    0.0\n",
      "B-ORG   0.97    0.0    0.0     0.0    0.00   0.03   0.00    0.0    0.0    0.0    0.0\n",
      "I-ORG   0.89    0.0    0.0     0.0    0.00   0.00   0.11    0.0    0.0    0.0    0.0\n",
      "B-PER   1.00    0.0    0.0     0.0    0.00   0.00   0.00    0.0    0.0    0.0    0.0\n",
      "I-PER   1.00    0.0    0.0     0.0    0.00   0.00   0.00    0.0    0.0    0.0    0.0\n",
      "--------\n",
      "Emission model for source: companies_org_uncased\n",
      "           O  B-LOC  I-LOC  B-MISC  I-MISC  B-ORG  I-ORG  B-PER  I-PER  B-ENT  I-ENT\n",
      "O       1.00    0.0    0.0     0.0    0.00   0.00   0.00    0.0    0.0    0.0    0.0\n",
      "B-LOC   0.99    0.0    0.0     0.0    0.00   0.00   0.01    0.0    0.0    0.0    0.0\n",
      "I-LOC   0.96    0.0    0.0     0.0    0.00   0.00   0.03    0.0    0.0    0.0    0.0\n",
      "B-MISC  0.99    0.0    0.0     0.0    0.00   0.00   0.00    0.0    0.0    0.0    0.0\n",
      "I-MISC  0.98    0.0    0.0     0.0    0.01   0.00   0.01    0.0    0.0    0.0    0.0\n",
      "B-ORG   0.97    0.0    0.0     0.0    0.00   0.03   0.00    0.0    0.0    0.0    0.0\n",
      "I-ORG   0.89    0.0    0.0     0.0    0.00   0.00   0.11    0.0    0.0    0.0    0.0\n",
      "B-PER   1.00    0.0    0.0     0.0    0.00   0.00   0.00    0.0    0.0    0.0    0.0\n",
      "I-PER   1.00    0.0    0.0     0.0    0.00   0.00   0.00    0.0    0.0    0.0    0.0\n",
      "--------\n",
      "Emission model for source: company_type_detector\n",
      "           O  B-LOC  I-LOC  B-MISC  I-MISC  B-ORG  I-ORG  B-PER  I-PER  B-ENT  I-ENT\n",
      "O       1.00    0.0    0.0     0.0    0.00   0.00   0.00    0.0    0.0    0.0    0.0\n",
      "B-LOC   0.99    0.0    0.0     0.0    0.00   0.01   0.00    0.0    0.0    0.0    0.0\n",
      "I-LOC   0.97    0.0    0.0     0.0    0.00   0.00   0.03    0.0    0.0    0.0    0.0\n",
      "B-MISC  0.99    0.0    0.0     0.0    0.00   0.01   0.00    0.0    0.0    0.0    0.0\n",
      "I-MISC  0.94    0.0    0.0     0.0    0.01   0.00   0.05    0.0    0.0    0.0    0.0\n",
      "B-ORG   0.91    0.0    0.0     0.0    0.00   0.08   0.01    0.0    0.0    0.0    0.0\n",
      "I-ORG   0.74    0.0    0.0     0.0    0.00   0.00   0.25    0.0    0.0    0.0    0.0\n",
      "B-PER   0.99    0.0    0.0     0.0    0.00   0.01   0.00    0.0    0.0    0.0    0.0\n",
      "I-PER   0.97    0.0    0.0     0.0    0.00   0.00   0.03    0.0    0.0    0.0    0.0\n",
      "--------\n",
      "Emission model for source: compound_detector\n",
      "           O  B-LOC  I-LOC  B-MISC  I-MISC  B-ORG  I-ORG  B-PER  I-PER  B-ENT  I-ENT\n",
      "O       0.99    0.0    0.0     0.0    0.00    0.0    0.0    0.0    0.0   0.00   0.00\n",
      "B-LOC   0.45    0.0    0.0     0.0    0.00    0.0    0.0    0.0    0.0   0.54   0.01\n",
      "I-LOC   0.09    0.0    0.0     0.0    0.00    0.0    0.0    0.0    0.0   0.00   0.91\n",
      "B-MISC  0.68    0.0    0.0     0.0    0.00    0.0    0.0    0.0    0.0   0.29   0.03\n",
      "I-MISC  0.27    0.0    0.0     0.0    0.01    0.0    0.0    0.0    0.0   0.04   0.69\n",
      "B-ORG   0.59    0.0    0.0     0.0    0.00    0.0    0.0    0.0    0.0   0.40   0.01\n",
      "I-ORG   0.25    0.0    0.0     0.0    0.00    0.0    0.0    0.0    0.0   0.02   0.73\n",
      "B-PER   0.43    0.0    0.0     0.0    0.00    0.0    0.0    0.0    0.0   0.47   0.09\n",
      "I-PER   0.03    0.0    0.0     0.0    0.00    0.0    0.0    0.0    0.0   0.00   0.96\n",
      "--------\n",
      "Emission model for source: core_web_md\n",
      "           O  B-LOC  I-LOC  B-MISC  I-MISC  B-ORG  I-ORG  B-PER  I-PER  B-ENT  I-ENT\n",
      "O       0.98   0.00   0.00    0.00    0.00   0.01   0.00   0.00   0.00    0.0    0.0\n",
      "B-LOC   0.06   0.78   0.04    0.01    0.00   0.08   0.03   0.01   0.00    0.0    0.0\n",
      "I-LOC   0.07   0.00   0.79    0.00    0.02   0.01   0.12   0.00   0.00    0.0    0.0\n",
      "B-MISC  0.04   0.01   0.00    0.79    0.02   0.11   0.01   0.01   0.00    0.0    0.0\n",
      "I-MISC  0.04   0.00   0.02    0.10    0.55   0.00   0.25   0.00   0.04    0.0    0.0\n",
      "B-ORG   0.20   0.02   0.00    0.01    0.00   0.68   0.07   0.02   0.00    0.0    0.0\n",
      "I-ORG   0.11   0.00   0.02    0.00    0.00   0.01   0.85   0.00   0.01    0.0    0.0\n",
      "B-PER   0.07   0.02   0.00    0.02    0.00   0.18   0.01   0.71   0.00    0.0    0.0\n",
      "I-PER   0.03   0.00   0.01    0.00    0.00   0.00   0.09   0.01   0.84    0.0    0.0\n",
      "--------\n",
      "Emission model for source: core_web_md_truecase\n",
      "           O  B-LOC  I-LOC  B-MISC  I-MISC  B-ORG  I-ORG  B-PER  I-PER  B-ENT  I-ENT\n",
      "O       0.99   0.00   0.00    0.00    0.00   0.01   0.00   0.00   0.00    0.0    0.0\n",
      "B-LOC   0.06   0.78   0.04    0.01    0.00   0.07   0.03   0.01   0.00    0.0    0.0\n",
      "I-LOC   0.08   0.01   0.78    0.00    0.01   0.01   0.11   0.00   0.00    0.0    0.0\n",
      "B-MISC  0.06   0.01   0.00    0.79    0.02   0.11   0.01   0.01   0.00    0.0    0.0\n",
      "I-MISC  0.20   0.00   0.03    0.10    0.43   0.00   0.21   0.00   0.04    0.0    0.0\n",
      "B-ORG   0.22   0.03   0.00    0.01    0.00   0.67   0.07   0.02   0.00    0.0    0.0\n",
      "I-ORG   0.17   0.00   0.02    0.00    0.00   0.02   0.77   0.00   0.01    0.0    0.0\n",
      "B-PER   0.07   0.02   0.00    0.01    0.00   0.18   0.00   0.71   0.00    0.0    0.0\n",
      "I-PER   0.05   0.00   0.01    0.00    0.00   0.01   0.09   0.01   0.83    0.0    0.0\n",
      "--------\n",
      "Emission model for source: crunchbase_company_cased\n",
      "           O  B-LOC  I-LOC  B-MISC  I-MISC  B-ORG  I-ORG  B-PER  I-PER  B-ENT  I-ENT\n",
      "O       0.99    0.0    0.0     0.0    0.00   0.01   0.00    0.0    0.0    0.0    0.0\n",
      "B-LOC   0.87    0.0    0.0     0.0    0.00   0.13   0.00    0.0    0.0    0.0    0.0\n",
      "I-LOC   0.85    0.0    0.0     0.0    0.00   0.00   0.14    0.0    0.0    0.0    0.0\n",
      "B-MISC  0.86    0.0    0.0     0.0    0.00   0.14   0.00    0.0    0.0    0.0    0.0\n",
      "I-MISC  0.72    0.0    0.0     0.0    0.01   0.15   0.12    0.0    0.0    0.0    0.0\n",
      "B-ORG   0.50    0.0    0.0     0.0    0.00   0.50   0.00    0.0    0.0    0.0    0.0\n",
      "I-ORG   0.64    0.0    0.0     0.0    0.00   0.03   0.33    0.0    0.0    0.0    0.0\n",
      "B-PER   0.88    0.0    0.0     0.0    0.00   0.12   0.00    0.0    0.0    0.0    0.0\n",
      "I-PER   0.97    0.0    0.0     0.0    0.00   0.00   0.03    0.0    0.0    0.0    0.0\n",
      "--------\n",
      "Emission model for source: crunchbase_company_uncased\n",
      "           O  B-LOC  I-LOC  B-MISC  I-MISC  B-ORG  I-ORG  B-PER  I-PER  B-ENT  I-ENT\n",
      "O       0.99    0.0    0.0     0.0    0.00   0.01   0.00    0.0    0.0    0.0    0.0\n",
      "B-LOC   0.87    0.0    0.0     0.0    0.00   0.13   0.00    0.0    0.0    0.0    0.0\n",
      "I-LOC   0.84    0.0    0.0     0.0    0.00   0.00   0.15    0.0    0.0    0.0    0.0\n",
      "B-MISC  0.85    0.0    0.0     0.0    0.00   0.14   0.00    0.0    0.0    0.0    0.0\n",
      "I-MISC  0.74    0.0    0.0     0.0    0.01   0.14   0.11    0.0    0.0    0.0    0.0\n",
      "B-ORG   0.49    0.0    0.0     0.0    0.00   0.50   0.00    0.0    0.0    0.0    0.0\n",
      "I-ORG   0.63    0.0    0.0     0.0    0.00   0.03   0.34    0.0    0.0    0.0    0.0\n",
      "B-PER   0.89    0.0    0.0     0.0    0.00   0.11   0.00    0.0    0.0    0.0    0.0\n",
      "I-PER   0.97    0.0    0.0     0.0    0.00   0.00   0.02    0.0    0.0    0.0    0.0\n",
      "--------\n",
      "Emission model for source: crunchbase_org_cased\n",
      "           O  B-LOC  I-LOC  B-MISC  I-MISC  B-ORG  I-ORG  B-PER  I-PER  B-ENT  I-ENT\n",
      "O       1.00    0.0    0.0     0.0    0.00    0.0    0.0    0.0    0.0    0.0    0.0\n",
      "B-LOC   1.00    0.0    0.0     0.0    0.00    0.0    0.0    0.0    0.0    0.0    0.0\n",
      "I-LOC   1.00    0.0    0.0     0.0    0.00    0.0    0.0    0.0    0.0    0.0    0.0\n",
      "B-MISC  1.00    0.0    0.0     0.0    0.00    0.0    0.0    0.0    0.0    0.0    0.0\n",
      "I-MISC  0.99    0.0    0.0     0.0    0.01    0.0    0.0    0.0    0.0    0.0    0.0\n",
      "B-ORG   1.00    0.0    0.0     0.0    0.00    0.0    0.0    0.0    0.0    0.0    0.0\n",
      "I-ORG   1.00    0.0    0.0     0.0    0.00    0.0    0.0    0.0    0.0    0.0    0.0\n",
      "B-PER   1.00    0.0    0.0     0.0    0.00    0.0    0.0    0.0    0.0    0.0    0.0\n",
      "I-PER   1.00    0.0    0.0     0.0    0.00    0.0    0.0    0.0    0.0    0.0    0.0\n",
      "--------\n",
      "Emission model for source: crunchbase_org_uncased\n",
      "           O  B-LOC  I-LOC  B-MISC  I-MISC  B-ORG  I-ORG  B-PER  I-PER  B-ENT  I-ENT\n",
      "O       1.00    0.0    0.0     0.0    0.00    0.0    0.0    0.0    0.0    0.0    0.0\n",
      "B-LOC   1.00    0.0    0.0     0.0    0.00    0.0    0.0    0.0    0.0    0.0    0.0\n",
      "I-LOC   1.00    0.0    0.0     0.0    0.00    0.0    0.0    0.0    0.0    0.0    0.0\n",
      "B-MISC  1.00    0.0    0.0     0.0    0.00    0.0    0.0    0.0    0.0    0.0    0.0\n",
      "I-MISC  0.99    0.0    0.0     0.0    0.01    0.0    0.0    0.0    0.0    0.0    0.0\n",
      "B-ORG   1.00    0.0    0.0     0.0    0.00    0.0    0.0    0.0    0.0    0.0    0.0\n",
      "I-ORG   1.00    0.0    0.0     0.0    0.00    0.0    0.0    0.0    0.0    0.0    0.0\n",
      "B-PER   1.00    0.0    0.0     0.0    0.00    0.0    0.0    0.0    0.0    0.0    0.0\n",
      "I-PER   1.00    0.0    0.0     0.0    0.00    0.0    0.0    0.0    0.0    0.0    0.0\n",
      "--------\n",
      "Emission model for source: crunchbase_person_cased\n",
      "           O  B-LOC  I-LOC  B-MISC  I-MISC  B-ORG  I-ORG  B-PER  I-PER  B-ENT  I-ENT\n",
      "O       1.00    0.0    0.0     0.0    0.00    0.0    0.0   0.00    0.0    0.0    0.0\n",
      "B-LOC   1.00    0.0    0.0     0.0    0.00    0.0    0.0   0.00    0.0    0.0    0.0\n",
      "I-LOC   0.99    0.0    0.0     0.0    0.00    0.0    0.0   0.00    0.0    0.0    0.0\n",
      "B-MISC  1.00    0.0    0.0     0.0    0.00    0.0    0.0   0.00    0.0    0.0    0.0\n",
      "I-MISC  0.98    0.0    0.0     0.0    0.01    0.0    0.0   0.00    0.0    0.0    0.0\n",
      "B-ORG   1.00    0.0    0.0     0.0    0.00    0.0    0.0   0.00    0.0    0.0    0.0\n",
      "I-ORG   1.00    0.0    0.0     0.0    0.00    0.0    0.0   0.00    0.0    0.0    0.0\n",
      "B-PER   0.78    0.0    0.0     0.0    0.00    0.0    0.0   0.22    0.0    0.0    0.0\n",
      "I-PER   0.59    0.0    0.0     0.0    0.00    0.0    0.0   0.01    0.4    0.0    0.0\n",
      "--------\n",
      "Emission model for source: crunchbase_person_uncased\n",
      "           O  B-LOC  I-LOC  B-MISC  I-MISC  B-ORG  I-ORG  B-PER  I-PER  B-ENT  I-ENT\n",
      "O       1.00    0.0    0.0     0.0    0.00    0.0    0.0   0.00    0.0    0.0    0.0\n",
      "B-LOC   1.00    0.0    0.0     0.0    0.00    0.0    0.0   0.00    0.0    0.0    0.0\n",
      "I-LOC   0.99    0.0    0.0     0.0    0.00    0.0    0.0   0.00    0.0    0.0    0.0\n",
      "B-MISC  1.00    0.0    0.0     0.0    0.00    0.0    0.0   0.00    0.0    0.0    0.0\n",
      "I-MISC  0.99    0.0    0.0     0.0    0.01    0.0    0.0   0.00    0.0    0.0    0.0\n",
      "B-ORG   1.00    0.0    0.0     0.0    0.00    0.0    0.0   0.00    0.0    0.0    0.0\n",
      "I-ORG   1.00    0.0    0.0     0.0    0.00    0.0    0.0   0.00    0.0    0.0    0.0\n",
      "B-PER   0.78    0.0    0.0     0.0    0.00    0.0    0.0   0.22    0.0    0.0    0.0\n",
      "I-PER   0.58    0.0    0.0     0.0    0.00    0.0    0.0   0.01    0.4    0.0    0.0\n",
      "--------\n",
      "Emission model for source: date_detector\n",
      "           O  B-LOC  I-LOC  B-MISC  I-MISC  B-ORG  I-ORG  B-PER  I-PER  B-ENT  I-ENT\n",
      "O       1.00    0.0    0.0     0.0    0.00    0.0    0.0    0.0    0.0    0.0    0.0\n",
      "B-LOC   1.00    0.0    0.0     0.0    0.00    0.0    0.0    0.0    0.0    0.0    0.0\n",
      "I-LOC   1.00    0.0    0.0     0.0    0.00    0.0    0.0    0.0    0.0    0.0    0.0\n",
      "B-MISC  1.00    0.0    0.0     0.0    0.00    0.0    0.0    0.0    0.0    0.0    0.0\n",
      "I-MISC  0.99    0.0    0.0     0.0    0.01    0.0    0.0    0.0    0.0    0.0    0.0\n",
      "B-ORG   1.00    0.0    0.0     0.0    0.00    0.0    0.0    0.0    0.0    0.0    0.0\n",
      "I-ORG   1.00    0.0    0.0     0.0    0.00    0.0    0.0    0.0    0.0    0.0    0.0\n",
      "B-PER   1.00    0.0    0.0     0.0    0.00    0.0    0.0    0.0    0.0    0.0    0.0\n",
      "I-PER   1.00    0.0    0.0     0.0    0.00    0.0    0.0    0.0    0.0    0.0    0.0\n",
      "--------\n",
      "Emission model for source: doc_history_org_cased\n",
      "           O  B-LOC  I-LOC  B-MISC  I-MISC  B-ORG  I-ORG  B-PER  I-PER  B-ENT  I-ENT\n",
      "O       1.00    0.0    0.0     0.0    0.00   0.00   0.00    0.0    0.0    0.0    0.0\n",
      "B-LOC   0.88    0.0    0.0     0.0    0.00   0.11   0.01    0.0    0.0    0.0    0.0\n",
      "I-LOC   0.88    0.0    0.0     0.0    0.00   0.00   0.11    0.0    0.0    0.0    0.0\n",
      "B-MISC  0.81    0.0    0.0     0.0    0.00   0.18   0.00    0.0    0.0    0.0    0.0\n",
      "I-MISC  0.63    0.0    0.0     0.0    0.01   0.01   0.34    0.0    0.0    0.0    0.0\n",
      "B-ORG   0.48    0.0    0.0     0.0    0.00   0.51   0.01    0.0    0.0    0.0    0.0\n",
      "I-ORG   0.12    0.0    0.0     0.0    0.00   0.02   0.86    0.0    0.0    0.0    0.0\n",
      "B-PER   0.89    0.0    0.0     0.0    0.00   0.11   0.00    0.0    0.0    0.0    0.0\n",
      "I-PER   0.91    0.0    0.0     0.0    0.00   0.01   0.08    0.0    0.0    0.0    0.0\n",
      "--------\n",
      "Emission model for source: doc_history_org_uncased\n",
      "           O  B-LOC  I-LOC  B-MISC  I-MISC  B-ORG  I-ORG  B-PER  I-PER  B-ENT  I-ENT\n",
      "O       1.00    0.0    0.0     0.0    0.00   0.00   0.00    0.0    0.0    0.0    0.0\n",
      "B-LOC   0.87    0.0    0.0     0.0    0.00   0.12   0.01    0.0    0.0    0.0    0.0\n",
      "I-LOC   0.83    0.0    0.0     0.0    0.00   0.00   0.17    0.0    0.0    0.0    0.0\n",
      "B-MISC  0.82    0.0    0.0     0.0    0.00   0.18   0.00    0.0    0.0    0.0    0.0\n",
      "I-MISC  0.64    0.0    0.0     0.0    0.01   0.01   0.34    0.0    0.0    0.0    0.0\n",
      "B-ORG   0.48    0.0    0.0     0.0    0.00   0.51   0.01    0.0    0.0    0.0    0.0\n",
      "I-ORG   0.12    0.0    0.0     0.0    0.00   0.02   0.86    0.0    0.0    0.0    0.0\n",
      "B-PER   0.89    0.0    0.0     0.0    0.00   0.11   0.00    0.0    0.0    0.0    0.0\n",
      "I-PER   0.91    0.0    0.0     0.0    0.00   0.01   0.08    0.0    0.0    0.0    0.0\n",
      "--------\n",
      "Emission model for source: doc_history_per_cased\n",
      "           O  B-LOC  I-LOC  B-MISC  I-MISC  B-ORG  I-ORG  B-PER  I-PER  B-ENT  I-ENT\n",
      "O       1.00    0.0    0.0     0.0    0.00    0.0    0.0   0.00   0.00    0.0    0.0\n",
      "B-LOC   0.99    0.0    0.0     0.0    0.00    0.0    0.0   0.01   0.00    0.0    0.0\n",
      "I-LOC   1.00    0.0    0.0     0.0    0.00    0.0    0.0   0.00   0.00    0.0    0.0\n",
      "B-MISC  0.97    0.0    0.0     0.0    0.00    0.0    0.0   0.02   0.00    0.0    0.0\n",
      "I-MISC  0.99    0.0    0.0     0.0    0.01    0.0    0.0   0.00   0.01    0.0    0.0\n",
      "B-ORG   0.97    0.0    0.0     0.0    0.00    0.0    0.0   0.03   0.00    0.0    0.0\n",
      "I-ORG   1.00    0.0    0.0     0.0    0.00    0.0    0.0   0.00   0.00    0.0    0.0\n",
      "B-PER   0.23    0.0    0.0     0.0    0.00    0.0    0.0   0.76   0.00    0.0    0.0\n",
      "I-PER   0.15    0.0    0.0     0.0    0.00    0.0    0.0   0.01   0.85    0.0    0.0\n",
      "--------\n",
      "Emission model for source: doc_history_per_uncased\n",
      "           O  B-LOC  I-LOC  B-MISC  I-MISC  B-ORG  I-ORG  B-PER  I-PER  B-ENT  I-ENT\n",
      "O       1.00    0.0    0.0     0.0    0.00    0.0    0.0   0.00   0.00    0.0    0.0\n",
      "B-LOC   0.99    0.0    0.0     0.0    0.00    0.0    0.0   0.01   0.00    0.0    0.0\n",
      "I-LOC   1.00    0.0    0.0     0.0    0.00    0.0    0.0   0.00   0.00    0.0    0.0\n",
      "B-MISC  0.97    0.0    0.0     0.0    0.00    0.0    0.0   0.02   0.00    0.0    0.0\n",
      "I-MISC  0.98    0.0    0.0     0.0    0.01    0.0    0.0   0.00   0.01    0.0    0.0\n",
      "B-ORG   0.97    0.0    0.0     0.0    0.00    0.0    0.0   0.03   0.00    0.0    0.0\n",
      "I-ORG   1.00    0.0    0.0     0.0    0.00    0.0    0.0   0.00   0.00    0.0    0.0\n",
      "B-PER   0.23    0.0    0.0     0.0    0.00    0.0    0.0   0.77   0.00    0.0    0.0\n",
      "I-PER   0.14    0.0    0.0     0.0    0.00    0.0    0.0   0.01   0.85    0.0    0.0\n",
      "--------\n",
      "Emission model for source: doc_majority_loc_cased\n",
      "           O  B-LOC  I-LOC  B-MISC  I-MISC  B-ORG  I-ORG  B-PER  I-PER  B-ENT  I-ENT\n",
      "O       1.00   0.00   0.00     0.0    0.00    0.0    0.0    0.0    0.0    0.0    0.0\n",
      "B-LOC   0.60   0.40   0.00     0.0    0.00    0.0    0.0    0.0    0.0    0.0    0.0\n",
      "I-LOC   0.69   0.00   0.31     0.0    0.00    0.0    0.0    0.0    0.0    0.0    0.0\n",
      "B-MISC  1.00   0.00   0.00     0.0    0.00    0.0    0.0    0.0    0.0    0.0    0.0\n",
      "I-MISC  0.99   0.00   0.00     0.0    0.01    0.0    0.0    0.0    0.0    0.0    0.0\n",
      "B-ORG   0.98   0.02   0.00     0.0    0.00    0.0    0.0    0.0    0.0    0.0    0.0\n",
      "I-ORG   0.99   0.00   0.01     0.0    0.00    0.0    0.0    0.0    0.0    0.0    0.0\n",
      "B-PER   1.00   0.00   0.00     0.0    0.00    0.0    0.0    0.0    0.0    0.0    0.0\n",
      "I-PER   1.00   0.00   0.00     0.0    0.00    0.0    0.0    0.0    0.0    0.0    0.0\n",
      "--------\n",
      "Emission model for source: doc_majority_loc_uncased\n",
      "           O  B-LOC  I-LOC  B-MISC  I-MISC  B-ORG  I-ORG  B-PER  I-PER  B-ENT  I-ENT\n",
      "O       1.00   0.00   0.00     0.0    0.00    0.0    0.0    0.0    0.0    0.0    0.0\n",
      "B-LOC   0.59   0.41   0.00     0.0    0.00    0.0    0.0    0.0    0.0    0.0    0.0\n",
      "I-LOC   0.66   0.00   0.33     0.0    0.00    0.0    0.0    0.0    0.0    0.0    0.0\n",
      "B-MISC  1.00   0.00   0.00     0.0    0.00    0.0    0.0    0.0    0.0    0.0    0.0\n",
      "I-MISC  0.99   0.00   0.00     0.0    0.01    0.0    0.0    0.0    0.0    0.0    0.0\n",
      "B-ORG   0.98   0.02   0.00     0.0    0.00    0.0    0.0    0.0    0.0    0.0    0.0\n",
      "I-ORG   0.99   0.00   0.01     0.0    0.00    0.0    0.0    0.0    0.0    0.0    0.0\n",
      "B-PER   1.00   0.00   0.00     0.0    0.00    0.0    0.0    0.0    0.0    0.0    0.0\n",
      "I-PER   1.00   0.00   0.00     0.0    0.00    0.0    0.0    0.0    0.0    0.0    0.0\n",
      "--------\n",
      "Emission model for source: doc_majority_misc_cased\n",
      "           O  B-LOC  I-LOC  B-MISC  I-MISC  B-ORG  I-ORG  B-PER  I-PER  B-ENT  I-ENT\n",
      "O       1.00    0.0    0.0    0.00    0.00    0.0    0.0    0.0    0.0    0.0    0.0\n",
      "B-LOC   1.00    0.0    0.0    0.00    0.00    0.0    0.0    0.0    0.0    0.0    0.0\n",
      "I-LOC   1.00    0.0    0.0    0.00    0.00    0.0    0.0    0.0    0.0    0.0    0.0\n",
      "B-MISC  0.65    0.0    0.0    0.35    0.00    0.0    0.0    0.0    0.0    0.0    0.0\n",
      "I-MISC  0.87    0.0    0.0    0.01    0.12    0.0    0.0    0.0    0.0    0.0    0.0\n",
      "B-ORG   1.00    0.0    0.0    0.00    0.00    0.0    0.0    0.0    0.0    0.0    0.0\n",
      "I-ORG   1.00    0.0    0.0    0.00    0.00    0.0    0.0    0.0    0.0    0.0    0.0\n",
      "B-PER   0.99    0.0    0.0    0.01    0.00    0.0    0.0    0.0    0.0    0.0    0.0\n",
      "I-PER   1.00    0.0    0.0    0.00    0.00    0.0    0.0    0.0    0.0    0.0    0.0\n",
      "--------\n",
      "Emission model for source: doc_majority_misc_uncased\n",
      "           O  B-LOC  I-LOC  B-MISC  I-MISC  B-ORG  I-ORG  B-PER  I-PER  B-ENT  I-ENT\n",
      "O       1.00    0.0    0.0    0.00    0.00    0.0    0.0    0.0    0.0    0.0    0.0\n",
      "B-LOC   1.00    0.0    0.0    0.00    0.00    0.0    0.0    0.0    0.0    0.0    0.0\n",
      "I-LOC   1.00    0.0    0.0    0.00    0.00    0.0    0.0    0.0    0.0    0.0    0.0\n",
      "B-MISC  0.65    0.0    0.0    0.35    0.00    0.0    0.0    0.0    0.0    0.0    0.0\n",
      "I-MISC  0.88    0.0    0.0    0.01    0.11    0.0    0.0    0.0    0.0    0.0    0.0\n",
      "B-ORG   1.00    0.0    0.0    0.00    0.00    0.0    0.0    0.0    0.0    0.0    0.0\n",
      "I-ORG   1.00    0.0    0.0    0.00    0.00    0.0    0.0    0.0    0.0    0.0    0.0\n",
      "B-PER   0.99    0.0    0.0    0.01    0.00    0.0    0.0    0.0    0.0    0.0    0.0\n",
      "I-PER   1.00    0.0    0.0    0.00    0.00    0.0    0.0    0.0    0.0    0.0    0.0\n",
      "--------\n",
      "Emission model for source: doc_majority_org_cased\n",
      "           O  B-LOC  I-LOC  B-MISC  I-MISC  B-ORG  I-ORG  B-PER  I-PER  B-ENT  I-ENT\n",
      "O       0.98    0.0    0.0     0.0    0.00   0.01   0.00    0.0    0.0    0.0    0.0\n",
      "B-LOC   0.96    0.0    0.0     0.0    0.00   0.03   0.00    0.0    0.0    0.0    0.0\n",
      "I-LOC   0.99    0.0    0.0     0.0    0.00   0.00   0.01    0.0    0.0    0.0    0.0\n",
      "B-MISC  0.98    0.0    0.0     0.0    0.00   0.02   0.00    0.0    0.0    0.0    0.0\n",
      "I-MISC  0.97    0.0    0.0     0.0    0.01   0.01   0.01    0.0    0.0    0.0    0.0\n",
      "B-ORG   0.48    0.0    0.0     0.0    0.00   0.52   0.00    0.0    0.0    0.0    0.0\n",
      "I-ORG   0.78    0.0    0.0     0.0    0.00   0.01   0.21    0.0    0.0    0.0    0.0\n",
      "B-PER   0.94    0.0    0.0     0.0    0.00   0.06   0.00    0.0    0.0    0.0    0.0\n",
      "I-PER   0.99    0.0    0.0     0.0    0.00   0.00   0.01    0.0    0.0    0.0    0.0\n",
      "--------\n",
      "Emission model for source: doc_majority_org_uncased\n",
      "           O  B-LOC  I-LOC  B-MISC  I-MISC  B-ORG  I-ORG  B-PER  I-PER  B-ENT  I-ENT\n",
      "O       0.98    0.0    0.0     0.0    0.00   0.02   0.00    0.0    0.0    0.0    0.0\n",
      "B-LOC   0.96    0.0    0.0     0.0    0.00   0.03   0.00    0.0    0.0    0.0    0.0\n",
      "I-LOC   0.99    0.0    0.0     0.0    0.00   0.00   0.01    0.0    0.0    0.0    0.0\n",
      "B-MISC  0.97    0.0    0.0     0.0    0.00   0.02   0.00    0.0    0.0    0.0    0.0\n",
      "I-MISC  0.97    0.0    0.0     0.0    0.01   0.01   0.01    0.0    0.0    0.0    0.0\n",
      "B-ORG   0.47    0.0    0.0     0.0    0.00   0.53   0.00    0.0    0.0    0.0    0.0\n",
      "I-ORG   0.78    0.0    0.0     0.0    0.00   0.01   0.21    0.0    0.0    0.0    0.0\n",
      "B-PER   0.94    0.0    0.0     0.0    0.00   0.06   0.00    0.0    0.0    0.0    0.0\n",
      "I-PER   0.99    0.0    0.0     0.0    0.00   0.00   0.01    0.0    0.0    0.0    0.0\n",
      "--------\n",
      "Emission model for source: doc_majority_per_cased\n",
      "           O  B-LOC  I-LOC  B-MISC  I-MISC  B-ORG  I-ORG  B-PER  I-PER  B-ENT  I-ENT\n",
      "O       1.00    0.0    0.0     0.0    0.00    0.0    0.0   0.00   0.00    0.0    0.0\n",
      "B-LOC   1.00    0.0    0.0     0.0    0.00    0.0    0.0   0.00   0.00    0.0    0.0\n",
      "I-LOC   1.00    0.0    0.0     0.0    0.00    0.0    0.0   0.00   0.00    0.0    0.0\n",
      "B-MISC  0.99    0.0    0.0     0.0    0.00    0.0    0.0   0.00   0.00    0.0    0.0\n",
      "I-MISC  0.99    0.0    0.0     0.0    0.01    0.0    0.0   0.00   0.00    0.0    0.0\n",
      "B-ORG   0.99    0.0    0.0     0.0    0.00    0.0    0.0   0.01   0.00    0.0    0.0\n",
      "I-ORG   1.00    0.0    0.0     0.0    0.00    0.0    0.0   0.00   0.00    0.0    0.0\n",
      "B-PER   0.70    0.0    0.0     0.0    0.00    0.0    0.0   0.30   0.00    0.0    0.0\n",
      "I-PER   0.94    0.0    0.0     0.0    0.00    0.0    0.0   0.00   0.06    0.0    0.0\n",
      "--------\n",
      "Emission model for source: doc_majority_per_uncased\n",
      "           O  B-LOC  I-LOC  B-MISC  I-MISC  B-ORG  I-ORG  B-PER  I-PER  B-ENT  I-ENT\n",
      "O       1.00    0.0    0.0     0.0    0.00    0.0    0.0   0.00   0.00    0.0    0.0\n",
      "B-LOC   1.00    0.0    0.0     0.0    0.00    0.0    0.0   0.00   0.00    0.0    0.0\n",
      "I-LOC   1.00    0.0    0.0     0.0    0.00    0.0    0.0   0.00   0.00    0.0    0.0\n",
      "B-MISC  0.99    0.0    0.0     0.0    0.00    0.0    0.0   0.00   0.00    0.0    0.0\n",
      "I-MISC  0.99    0.0    0.0     0.0    0.01    0.0    0.0   0.00   0.00    0.0    0.0\n",
      "B-ORG   0.99    0.0    0.0     0.0    0.00    0.0    0.0   0.01   0.00    0.0    0.0\n",
      "I-ORG   1.00    0.0    0.0     0.0    0.00    0.0    0.0   0.00   0.00    0.0    0.0\n",
      "B-PER   0.70    0.0    0.0     0.0    0.00    0.0    0.0   0.30   0.00    0.0    0.0\n",
      "I-PER   0.94    0.0    0.0     0.0    0.00    0.0    0.0   0.00   0.06    0.0    0.0\n",
      "--------\n",
      "Emission model for source: full_name_detector\n",
      "           O  B-LOC  I-LOC  B-MISC  I-MISC  B-ORG  I-ORG  B-PER  I-PER  B-ENT  I-ENT\n",
      "O       1.00    0.0    0.0     0.0    0.00    0.0    0.0   0.00   0.00    0.0    0.0\n",
      "B-LOC   0.98    0.0    0.0     0.0    0.00    0.0    0.0   0.02   0.01    0.0    0.0\n",
      "I-LOC   0.96    0.0    0.0     0.0    0.00    0.0    0.0   0.00   0.04    0.0    0.0\n",
      "B-MISC  0.96    0.0    0.0     0.0    0.00    0.0    0.0   0.03   0.01    0.0    0.0\n",
      "I-MISC  0.95    0.0    0.0     0.0    0.01    0.0    0.0   0.00   0.04    0.0    0.0\n",
      "B-ORG   0.97    0.0    0.0     0.0    0.00    0.0    0.0   0.02   0.01    0.0    0.0\n",
      "I-ORG   0.94    0.0    0.0     0.0    0.00    0.0    0.0   0.00   0.06    0.0    0.0\n",
      "B-PER   0.70    0.0    0.0     0.0    0.00    0.0    0.0   0.30   0.01    0.0    0.0\n",
      "I-PER   0.41    0.0    0.0     0.0    0.00    0.0    0.0   0.00   0.59    0.0    0.0\n",
      "--------\n",
      "Emission model for source: geo_gpe_cased\n",
      "           O  B-LOC  I-LOC  B-MISC  I-MISC  B-ORG  I-ORG  B-PER  I-PER  B-ENT  I-ENT\n",
      "O       1.00   0.00   0.00     0.0    0.00    0.0    0.0    0.0    0.0    0.0    0.0\n",
      "B-LOC   0.60   0.40   0.00     0.0    0.00    0.0    0.0    0.0    0.0    0.0    0.0\n",
      "I-LOC   0.51   0.01   0.48     0.0    0.00    0.0    0.0    0.0    0.0    0.0    0.0\n",
      "B-MISC  0.93   0.07   0.00     0.0    0.00    0.0    0.0    0.0    0.0    0.0    0.0\n",
      "I-MISC  0.99   0.00   0.00     0.0    0.01    0.0    0.0    0.0    0.0    0.0    0.0\n",
      "B-ORG   0.96   0.04   0.00     0.0    0.00    0.0    0.0    0.0    0.0    0.0    0.0\n",
      "I-ORG   0.96   0.01   0.03     0.0    0.00    0.0    0.0    0.0    0.0    0.0    0.0\n",
      "B-PER   0.97   0.03   0.00     0.0    0.00    0.0    0.0    0.0    0.0    0.0    0.0\n",
      "I-PER   0.99   0.00   0.00     0.0    0.00    0.0    0.0    0.0    0.0    0.0    0.0\n",
      "--------\n",
      "Emission model for source: geo_gpe_uncased\n",
      "           O  B-LOC  I-LOC  B-MISC  I-MISC  B-ORG  I-ORG  B-PER  I-PER  B-ENT  I-ENT\n",
      "O       1.00   0.00   0.00     0.0    0.00    0.0    0.0    0.0    0.0    0.0    0.0\n",
      "B-LOC   0.46   0.53   0.00     0.0    0.00    0.0    0.0    0.0    0.0    0.0    0.0\n",
      "I-LOC   0.24   0.01   0.75     0.0    0.00    0.0    0.0    0.0    0.0    0.0    0.0\n",
      "B-MISC  0.93   0.06   0.00     0.0    0.00    0.0    0.0    0.0    0.0    0.0    0.0\n",
      "I-MISC  0.99   0.00   0.00     0.0    0.01    0.0    0.0    0.0    0.0    0.0    0.0\n",
      "B-ORG   0.95   0.05   0.00     0.0    0.00    0.0    0.0    0.0    0.0    0.0    0.0\n",
      "I-ORG   0.96   0.01   0.03     0.0    0.00    0.0    0.0    0.0    0.0    0.0    0.0\n",
      "B-PER   0.96   0.03   0.00     0.0    0.00    0.0    0.0    0.0    0.0    0.0    0.0\n",
      "I-PER   0.99   0.00   0.00     0.0    0.00    0.0    0.0    0.0    0.0    0.0    0.0\n",
      "--------\n",
      "Emission model for source: infrequent_compound_detector\n",
      "           O  B-LOC  I-LOC  B-MISC  I-MISC  B-ORG  I-ORG  B-PER  I-PER  B-ENT  I-ENT\n",
      "O       1.00    0.0    0.0     0.0    0.00    0.0    0.0    0.0    0.0   0.00   0.00\n",
      "B-LOC   0.87    0.0    0.0     0.0    0.00    0.0    0.0    0.0    0.0   0.13   0.00\n",
      "I-LOC   0.61    0.0    0.0     0.0    0.00    0.0    0.0    0.0    0.0   0.00   0.39\n",
      "B-MISC  0.85    0.0    0.0     0.0    0.00    0.0    0.0    0.0    0.0   0.14   0.01\n",
      "I-MISC  0.64    0.0    0.0     0.0    0.01    0.0    0.0    0.0    0.0   0.00   0.35\n",
      "B-ORG   0.80    0.0    0.0     0.0    0.00    0.0    0.0    0.0    0.0   0.19   0.00\n",
      "I-ORG   0.57    0.0    0.0     0.0    0.00    0.0    0.0    0.0    0.0   0.01   0.43\n",
      "B-PER   0.61    0.0    0.0     0.0    0.00    0.0    0.0    0.0    0.0   0.32   0.07\n",
      "I-PER   0.30    0.0    0.0     0.0    0.00    0.0    0.0    0.0    0.0   0.00   0.69\n",
      "--------\n",
      "Emission model for source: infrequent_nnp_detector\n",
      "           O  B-LOC  I-LOC  B-MISC  I-MISC  B-ORG  I-ORG  B-PER  I-PER  B-ENT  I-ENT\n",
      "O       1.00    0.0    0.0     0.0    0.00    0.0    0.0    0.0    0.0   0.00   0.00\n",
      "B-LOC   0.79    0.0    0.0     0.0    0.00    0.0    0.0    0.0    0.0   0.20   0.00\n",
      "I-LOC   0.56    0.0    0.0     0.0    0.00    0.0    0.0    0.0    0.0   0.00   0.44\n",
      "B-MISC  0.77    0.0    0.0     0.0    0.00    0.0    0.0    0.0    0.0   0.20   0.02\n",
      "I-MISC  0.56    0.0    0.0     0.0    0.01    0.0    0.0    0.0    0.0   0.00   0.43\n",
      "B-ORG   0.66    0.0    0.0     0.0    0.00    0.0    0.0    0.0    0.0   0.33   0.01\n",
      "I-ORG   0.57    0.0    0.0     0.0    0.00    0.0    0.0    0.0    0.0   0.02   0.41\n",
      "B-PER   0.35    0.0    0.0     0.0    0.00    0.0    0.0    0.0    0.0   0.58   0.07\n",
      "I-PER   0.28    0.0    0.0     0.0    0.00    0.0    0.0    0.0    0.0   0.00   0.71\n",
      "--------\n",
      "Emission model for source: infrequent_proper2_detector\n",
      "           O  B-LOC  I-LOC  B-MISC  I-MISC  B-ORG  I-ORG  B-PER  I-PER  B-ENT  I-ENT\n",
      "O       0.99    0.0    0.0     0.0    0.00    0.0    0.0    0.0    0.0   0.00   0.00\n",
      "B-LOC   0.77    0.0    0.0     0.0    0.00    0.0    0.0    0.0    0.0   0.21   0.02\n",
      "I-LOC   0.51    0.0    0.0     0.0    0.00    0.0    0.0    0.0    0.0   0.00   0.48\n",
      "B-MISC  0.69    0.0    0.0     0.0    0.00    0.0    0.0    0.0    0.0   0.26   0.04\n",
      "I-MISC  0.51    0.0    0.0     0.0    0.01    0.0    0.0    0.0    0.0   0.00   0.48\n",
      "B-ORG   0.63    0.0    0.0     0.0    0.00    0.0    0.0    0.0    0.0   0.34   0.02\n",
      "I-ORG   0.49    0.0    0.0     0.0    0.00    0.0    0.0    0.0    0.0   0.01   0.51\n",
      "B-PER   0.35    0.0    0.0     0.0    0.00    0.0    0.0    0.0    0.0   0.57   0.08\n",
      "I-PER   0.28    0.0    0.0     0.0    0.00    0.0    0.0    0.0    0.0   0.00   0.72\n",
      "--------\n",
      "Emission model for source: infrequent_proper_detector\n",
      "           O  B-LOC  I-LOC  B-MISC  I-MISC  B-ORG  I-ORG  B-PER  I-PER  B-ENT  I-ENT\n",
      "O       0.99    0.0    0.0     0.0    0.00    0.0    0.0    0.0    0.0   0.00   0.00\n",
      "B-LOC   0.78    0.0    0.0     0.0    0.00    0.0    0.0    0.0    0.0   0.21   0.01\n",
      "I-LOC   0.55    0.0    0.0     0.0    0.00    0.0    0.0    0.0    0.0   0.00   0.44\n",
      "B-MISC  0.72    0.0    0.0     0.0    0.00    0.0    0.0    0.0    0.0   0.24   0.03\n",
      "I-MISC  0.52    0.0    0.0     0.0    0.01    0.0    0.0    0.0    0.0   0.00   0.47\n",
      "B-ORG   0.65    0.0    0.0     0.0    0.00    0.0    0.0    0.0    0.0   0.34   0.01\n",
      "I-ORG   0.53    0.0    0.0     0.0    0.00    0.0    0.0    0.0    0.0   0.01   0.46\n",
      "B-PER   0.34    0.0    0.0     0.0    0.00    0.0    0.0    0.0    0.0   0.58   0.08\n",
      "I-PER   0.29    0.0    0.0     0.0    0.00    0.0    0.0    0.0    0.0   0.00   0.71\n",
      "--------\n",
      "Emission model for source: legal_detector\n",
      "           O  B-LOC  I-LOC  B-MISC  I-MISC  B-ORG  I-ORG  B-PER  I-PER  B-ENT  I-ENT\n",
      "O       1.00    0.0    0.0    0.00     0.0    0.0    0.0    0.0    0.0    0.0    0.0\n",
      "B-LOC   1.00    0.0    0.0    0.00     0.0    0.0    0.0    0.0    0.0    0.0    0.0\n",
      "I-LOC   1.00    0.0    0.0    0.00     0.0    0.0    0.0    0.0    0.0    0.0    0.0\n",
      "B-MISC  0.98    0.0    0.0    0.02     0.0    0.0    0.0    0.0    0.0    0.0    0.0\n",
      "I-MISC  0.90    0.0    0.0    0.00     0.1    0.0    0.0    0.0    0.0    0.0    0.0\n",
      "B-ORG   1.00    0.0    0.0    0.00     0.0    0.0    0.0    0.0    0.0    0.0    0.0\n",
      "I-ORG   1.00    0.0    0.0    0.00     0.0    0.0    0.0    0.0    0.0    0.0    0.0\n",
      "B-PER   1.00    0.0    0.0    0.00     0.0    0.0    0.0    0.0    0.0    0.0    0.0\n",
      "I-PER   1.00    0.0    0.0    0.00     0.0    0.0    0.0    0.0    0.0    0.0    0.0\n",
      "--------\n",
      "Emission model for source: misc_detector\n",
      "           O  B-LOC  I-LOC  B-MISC  I-MISC  B-ORG  I-ORG  B-PER  I-PER  B-ENT  I-ENT\n",
      "O       1.00   0.00   0.00    0.00    0.00    0.0    0.0    0.0    0.0    0.0    0.0\n",
      "B-LOC   0.80   0.19   0.00    0.01    0.00    0.0    0.0    0.0    0.0    0.0    0.0\n",
      "I-LOC   0.82   0.01   0.16    0.00    0.02    0.0    0.0    0.0    0.0    0.0    0.0\n",
      "B-MISC  0.33   0.00   0.00    0.66    0.01    0.0    0.0    0.0    0.0    0.0    0.0\n",
      "I-MISC  0.55   0.00   0.00    0.19    0.26    0.0    0.0    0.0    0.0    0.0    0.0\n",
      "B-ORG   0.98   0.00   0.00    0.01    0.00    0.0    0.0    0.0    0.0    0.0    0.0\n",
      "I-ORG   0.99   0.00   0.00    0.00    0.00    0.0    0.0    0.0    0.0    0.0    0.0\n",
      "B-PER   0.98   0.00   0.00    0.02    0.00    0.0    0.0    0.0    0.0    0.0    0.0\n",
      "I-PER   0.98   0.00   0.00    0.00    0.01    0.0    0.0    0.0    0.0    0.0    0.0\n",
      "--------\n",
      "Emission model for source: money_detector\n",
      "           O  B-LOC  I-LOC  B-MISC  I-MISC  B-ORG  I-ORG  B-PER  I-PER  B-ENT  I-ENT\n",
      "O       1.00    0.0    0.0     0.0    0.00    0.0    0.0    0.0    0.0    0.0    0.0\n",
      "B-LOC   1.00    0.0    0.0     0.0    0.00    0.0    0.0    0.0    0.0    0.0    0.0\n",
      "I-LOC   1.00    0.0    0.0     0.0    0.00    0.0    0.0    0.0    0.0    0.0    0.0\n",
      "B-MISC  1.00    0.0    0.0     0.0    0.00    0.0    0.0    0.0    0.0    0.0    0.0\n",
      "I-MISC  0.99    0.0    0.0     0.0    0.01    0.0    0.0    0.0    0.0    0.0    0.0\n",
      "B-ORG   1.00    0.0    0.0     0.0    0.00    0.0    0.0    0.0    0.0    0.0    0.0\n",
      "I-ORG   1.00    0.0    0.0     0.0    0.00    0.0    0.0    0.0    0.0    0.0    0.0\n",
      "B-PER   1.00    0.0    0.0     0.0    0.00    0.0    0.0    0.0    0.0    0.0    0.0\n",
      "I-PER   1.00    0.0    0.0     0.0    0.00    0.0    0.0    0.0    0.0    0.0    0.0\n",
      "--------\n",
      "Emission model for source: multitoken_companies_company_cased\n",
      "           O  B-LOC  I-LOC  B-MISC  I-MISC  B-ORG  I-ORG  B-PER  I-PER  B-ENT  I-ENT\n",
      "O       1.00    0.0    0.0     0.0    0.00   0.00   0.00    0.0    0.0    0.0    0.0\n",
      "B-LOC   0.91    0.0    0.0     0.0    0.00   0.08   0.01    0.0    0.0    0.0    0.0\n",
      "I-LOC   0.68    0.0    0.0     0.0    0.00   0.00   0.31    0.0    0.0    0.0    0.0\n",
      "B-MISC  0.92    0.0    0.0     0.0    0.00   0.07   0.00    0.0    0.0    0.0    0.0\n",
      "I-MISC  0.69    0.0    0.0     0.0    0.01   0.00   0.30    0.0    0.0    0.0    0.0\n",
      "B-ORG   0.79    0.0    0.0     0.0    0.00   0.21   0.01    0.0    0.0    0.0    0.0\n",
      "I-ORG   0.47    0.0    0.0     0.0    0.00   0.01   0.52    0.0    0.0    0.0    0.0\n",
      "B-PER   0.96    0.0    0.0     0.0    0.00   0.04   0.00    0.0    0.0    0.0    0.0\n",
      "I-PER   0.92    0.0    0.0     0.0    0.00   0.00   0.08    0.0    0.0    0.0    0.0\n",
      "--------\n",
      "Emission model for source: multitoken_companies_company_uncased\n",
      "           O  B-LOC  I-LOC  B-MISC  I-MISC  B-ORG  I-ORG  B-PER  I-PER  B-ENT  I-ENT\n",
      "O       1.00    0.0    0.0     0.0    0.00   0.00   0.00    0.0    0.0    0.0    0.0\n",
      "B-LOC   0.89    0.0    0.0     0.0    0.00   0.10   0.01    0.0    0.0    0.0    0.0\n",
      "I-LOC   0.68    0.0    0.0     0.0    0.00   0.00   0.31    0.0    0.0    0.0    0.0\n",
      "B-MISC  0.89    0.0    0.0     0.0    0.00   0.11   0.00    0.0    0.0    0.0    0.0\n",
      "I-MISC  0.67    0.0    0.0     0.0    0.01   0.01   0.30    0.0    0.0    0.0    0.0\n",
      "B-ORG   0.77    0.0    0.0     0.0    0.00   0.22   0.01    0.0    0.0    0.0    0.0\n",
      "I-ORG   0.44    0.0    0.0     0.0    0.00   0.01   0.55    0.0    0.0    0.0    0.0\n",
      "B-PER   0.96    0.0    0.0     0.0    0.00   0.04   0.00    0.0    0.0    0.0    0.0\n",
      "I-PER   0.91    0.0    0.0     0.0    0.00   0.00   0.08    0.0    0.0    0.0    0.0\n",
      "--------\n",
      "Emission model for source: multitoken_companies_org_cased\n",
      "           O  B-LOC  I-LOC  B-MISC  I-MISC  B-ORG  I-ORG  B-PER  I-PER  B-ENT  I-ENT\n",
      "O       1.00    0.0    0.0     0.0    0.00   0.00   0.00    0.0    0.0    0.0    0.0\n",
      "B-LOC   0.99    0.0    0.0     0.0    0.00   0.00   0.00    0.0    0.0    0.0    0.0\n",
      "I-LOC   0.97    0.0    0.0     0.0    0.00   0.00   0.03    0.0    0.0    0.0    0.0\n",
      "B-MISC  0.99    0.0    0.0     0.0    0.00   0.00   0.00    0.0    0.0    0.0    0.0\n",
      "I-MISC  0.98    0.0    0.0     0.0    0.01   0.00   0.01    0.0    0.0    0.0    0.0\n",
      "B-ORG   0.97    0.0    0.0     0.0    0.00   0.03   0.00    0.0    0.0    0.0    0.0\n",
      "I-ORG   0.89    0.0    0.0     0.0    0.00   0.00   0.10    0.0    0.0    0.0    0.0\n",
      "B-PER   1.00    0.0    0.0     0.0    0.00   0.00   0.00    0.0    0.0    0.0    0.0\n",
      "I-PER   1.00    0.0    0.0     0.0    0.00   0.00   0.00    0.0    0.0    0.0    0.0\n",
      "--------\n",
      "Emission model for source: multitoken_companies_org_uncased\n",
      "           O  B-LOC  I-LOC  B-MISC  I-MISC  B-ORG  I-ORG  B-PER  I-PER  B-ENT  I-ENT\n",
      "O       1.00    0.0    0.0     0.0    0.00   0.00   0.00    0.0    0.0    0.0    0.0\n",
      "B-LOC   0.99    0.0    0.0     0.0    0.00   0.00   0.01    0.0    0.0    0.0    0.0\n",
      "I-LOC   0.96    0.0    0.0     0.0    0.00   0.00   0.03    0.0    0.0    0.0    0.0\n",
      "B-MISC  0.99    0.0    0.0     0.0    0.00   0.00   0.00    0.0    0.0    0.0    0.0\n",
      "I-MISC  0.98    0.0    0.0     0.0    0.01   0.00   0.01    0.0    0.0    0.0    0.0\n",
      "B-ORG   0.97    0.0    0.0     0.0    0.00   0.03   0.00    0.0    0.0    0.0    0.0\n",
      "I-ORG   0.89    0.0    0.0     0.0    0.00   0.00   0.10    0.0    0.0    0.0    0.0\n",
      "B-PER   1.00    0.0    0.0     0.0    0.00   0.00   0.00    0.0    0.0    0.0    0.0\n",
      "I-PER   1.00    0.0    0.0     0.0    0.00   0.00   0.00    0.0    0.0    0.0    0.0\n",
      "--------\n",
      "Emission model for source: multitoken_crunchbase_company_cased\n",
      "           O  B-LOC  I-LOC  B-MISC  I-MISC  B-ORG  I-ORG  B-PER  I-PER  B-ENT  I-ENT\n",
      "O       1.00    0.0    0.0     0.0    0.00   0.00   0.00    0.0    0.0    0.0    0.0\n",
      "B-LOC   0.96    0.0    0.0     0.0    0.00   0.04   0.00    0.0    0.0    0.0    0.0\n",
      "I-LOC   0.86    0.0    0.0     0.0    0.00   0.00   0.14    0.0    0.0    0.0    0.0\n",
      "B-MISC  0.96    0.0    0.0     0.0    0.00   0.04   0.00    0.0    0.0    0.0    0.0\n",
      "I-MISC  0.87    0.0    0.0     0.0    0.01   0.00   0.12    0.0    0.0    0.0    0.0\n",
      "B-ORG   0.86    0.0    0.0     0.0    0.00   0.14   0.00    0.0    0.0    0.0    0.0\n",
      "I-ORG   0.66    0.0    0.0     0.0    0.00   0.01   0.33    0.0    0.0    0.0    0.0\n",
      "B-PER   0.98    0.0    0.0     0.0    0.00   0.01   0.00    0.0    0.0    0.0    0.0\n",
      "I-PER   0.97    0.0    0.0     0.0    0.00   0.00   0.03    0.0    0.0    0.0    0.0\n",
      "--------\n",
      "Emission model for source: multitoken_crunchbase_company_uncased\n",
      "           O  B-LOC  I-LOC  B-MISC  I-MISC  B-ORG  I-ORG  B-PER  I-PER  B-ENT  I-ENT\n",
      "O       1.00    0.0    0.0     0.0    0.00   0.00   0.00    0.0    0.0    0.0    0.0\n",
      "B-LOC   0.96    0.0    0.0     0.0    0.00   0.04   0.00    0.0    0.0    0.0    0.0\n",
      "I-LOC   0.85    0.0    0.0     0.0    0.00   0.00   0.15    0.0    0.0    0.0    0.0\n",
      "B-MISC  0.96    0.0    0.0     0.0    0.00   0.04   0.00    0.0    0.0    0.0    0.0\n",
      "I-MISC  0.87    0.0    0.0     0.0    0.01   0.00   0.12    0.0    0.0    0.0    0.0\n",
      "B-ORG   0.85    0.0    0.0     0.0    0.00   0.14   0.00    0.0    0.0    0.0    0.0\n",
      "I-ORG   0.65    0.0    0.0     0.0    0.00   0.01   0.34    0.0    0.0    0.0    0.0\n",
      "B-PER   0.98    0.0    0.0     0.0    0.00   0.01   0.00    0.0    0.0    0.0    0.0\n",
      "I-PER   0.97    0.0    0.0     0.0    0.00   0.00   0.03    0.0    0.0    0.0    0.0\n",
      "--------\n",
      "Emission model for source: multitoken_crunchbase_org_cased\n",
      "           O  B-LOC  I-LOC  B-MISC  I-MISC  B-ORG  I-ORG  B-PER  I-PER  B-ENT  I-ENT\n",
      "O       1.00    0.0    0.0     0.0    0.00    0.0    0.0    0.0    0.0    0.0    0.0\n",
      "B-LOC   1.00    0.0    0.0     0.0    0.00    0.0    0.0    0.0    0.0    0.0    0.0\n",
      "I-LOC   1.00    0.0    0.0     0.0    0.00    0.0    0.0    0.0    0.0    0.0    0.0\n",
      "B-MISC  1.00    0.0    0.0     0.0    0.00    0.0    0.0    0.0    0.0    0.0    0.0\n",
      "I-MISC  0.99    0.0    0.0     0.0    0.01    0.0    0.0    0.0    0.0    0.0    0.0\n",
      "B-ORG   1.00    0.0    0.0     0.0    0.00    0.0    0.0    0.0    0.0    0.0    0.0\n",
      "I-ORG   1.00    0.0    0.0     0.0    0.00    0.0    0.0    0.0    0.0    0.0    0.0\n",
      "B-PER   1.00    0.0    0.0     0.0    0.00    0.0    0.0    0.0    0.0    0.0    0.0\n",
      "I-PER   1.00    0.0    0.0     0.0    0.00    0.0    0.0    0.0    0.0    0.0    0.0\n",
      "--------\n",
      "Emission model for source: multitoken_crunchbase_org_uncased\n",
      "           O  B-LOC  I-LOC  B-MISC  I-MISC  B-ORG  I-ORG  B-PER  I-PER  B-ENT  I-ENT\n",
      "O       1.00    0.0    0.0     0.0    0.00    0.0    0.0    0.0    0.0    0.0    0.0\n",
      "B-LOC   1.00    0.0    0.0     0.0    0.00    0.0    0.0    0.0    0.0    0.0    0.0\n",
      "I-LOC   1.00    0.0    0.0     0.0    0.00    0.0    0.0    0.0    0.0    0.0    0.0\n",
      "B-MISC  1.00    0.0    0.0     0.0    0.00    0.0    0.0    0.0    0.0    0.0    0.0\n",
      "I-MISC  0.99    0.0    0.0     0.0    0.01    0.0    0.0    0.0    0.0    0.0    0.0\n",
      "B-ORG   1.00    0.0    0.0     0.0    0.00    0.0    0.0    0.0    0.0    0.0    0.0\n",
      "I-ORG   1.00    0.0    0.0     0.0    0.00    0.0    0.0    0.0    0.0    0.0    0.0\n",
      "B-PER   1.00    0.0    0.0     0.0    0.00    0.0    0.0    0.0    0.0    0.0    0.0\n",
      "I-PER   1.00    0.0    0.0     0.0    0.00    0.0    0.0    0.0    0.0    0.0    0.0\n",
      "--------\n",
      "Emission model for source: multitoken_crunchbase_person_cased\n",
      "           O  B-LOC  I-LOC  B-MISC  I-MISC  B-ORG  I-ORG  B-PER  I-PER  B-ENT  I-ENT\n",
      "O       1.00    0.0    0.0     0.0    0.00    0.0    0.0   0.00    0.0    0.0    0.0\n",
      "B-LOC   1.00    0.0    0.0     0.0    0.00    0.0    0.0   0.00    0.0    0.0    0.0\n",
      "I-LOC   1.00    0.0    0.0     0.0    0.00    0.0    0.0   0.00    0.0    0.0    0.0\n",
      "B-MISC  1.00    0.0    0.0     0.0    0.00    0.0    0.0   0.00    0.0    0.0    0.0\n",
      "I-MISC  0.99    0.0    0.0     0.0    0.01    0.0    0.0   0.00    0.0    0.0    0.0\n",
      "B-ORG   1.00    0.0    0.0     0.0    0.00    0.0    0.0   0.00    0.0    0.0    0.0\n",
      "I-ORG   1.00    0.0    0.0     0.0    0.00    0.0    0.0   0.00    0.0    0.0    0.0\n",
      "B-PER   0.80    0.0    0.0     0.0    0.00    0.0    0.0   0.20    0.0    0.0    0.0\n",
      "I-PER   0.59    0.0    0.0     0.0    0.00    0.0    0.0   0.01    0.4    0.0    0.0\n",
      "--------\n",
      "Emission model for source: multitoken_crunchbase_person_uncased\n",
      "           O  B-LOC  I-LOC  B-MISC  I-MISC  B-ORG  I-ORG  B-PER  I-PER  B-ENT  I-ENT\n",
      "O       1.00    0.0    0.0     0.0    0.00    0.0    0.0   0.00    0.0    0.0    0.0\n",
      "B-LOC   1.00    0.0    0.0     0.0    0.00    0.0    0.0   0.00    0.0    0.0    0.0\n",
      "I-LOC   1.00    0.0    0.0     0.0    0.00    0.0    0.0   0.00    0.0    0.0    0.0\n",
      "B-MISC  1.00    0.0    0.0     0.0    0.00    0.0    0.0   0.00    0.0    0.0    0.0\n",
      "I-MISC  0.99    0.0    0.0     0.0    0.01    0.0    0.0   0.00    0.0    0.0    0.0\n",
      "B-ORG   1.00    0.0    0.0     0.0    0.00    0.0    0.0   0.00    0.0    0.0    0.0\n",
      "I-ORG   1.00    0.0    0.0     0.0    0.00    0.0    0.0   0.00    0.0    0.0    0.0\n",
      "B-PER   0.80    0.0    0.0     0.0    0.00    0.0    0.0   0.20    0.0    0.0    0.0\n",
      "I-PER   0.59    0.0    0.0     0.0    0.00    0.0    0.0   0.01    0.4    0.0    0.0\n",
      "--------\n",
      "Emission model for source: multitoken_geo_gpe_cased\n",
      "           O  B-LOC  I-LOC  B-MISC  I-MISC  B-ORG  I-ORG  B-PER  I-PER  B-ENT  I-ENT\n",
      "O       1.00   0.00   0.00     0.0    0.00    0.0    0.0    0.0    0.0    0.0    0.0\n",
      "B-LOC   0.87   0.13   0.00     0.0    0.00    0.0    0.0    0.0    0.0    0.0    0.0\n",
      "I-LOC   0.52   0.01   0.47     0.0    0.00    0.0    0.0    0.0    0.0    0.0    0.0\n",
      "B-MISC  1.00   0.00   0.00     0.0    0.00    0.0    0.0    0.0    0.0    0.0    0.0\n",
      "I-MISC  0.99   0.00   0.00     0.0    0.01    0.0    0.0    0.0    0.0    0.0    0.0\n",
      "B-ORG   0.98   0.02   0.00     0.0    0.00    0.0    0.0    0.0    0.0    0.0    0.0\n",
      "I-ORG   0.97   0.00   0.03     0.0    0.00    0.0    0.0    0.0    0.0    0.0    0.0\n",
      "B-PER   1.00   0.00   0.00     0.0    0.00    0.0    0.0    0.0    0.0    0.0    0.0\n",
      "I-PER   1.00   0.00   0.00     0.0    0.00    0.0    0.0    0.0    0.0    0.0    0.0\n",
      "--------\n",
      "Emission model for source: multitoken_geo_gpe_uncased\n",
      "           O  B-LOC  I-LOC  B-MISC  I-MISC  B-ORG  I-ORG  B-PER  I-PER  B-ENT  I-ENT\n",
      "O       1.00   0.00   0.00     0.0    0.00    0.0    0.0    0.0    0.0    0.0    0.0\n",
      "B-LOC   0.79   0.21   0.00     0.0    0.00    0.0    0.0    0.0    0.0    0.0    0.0\n",
      "I-LOC   0.24   0.01   0.75     0.0    0.00    0.0    0.0    0.0    0.0    0.0    0.0\n",
      "B-MISC  1.00   0.00   0.00     0.0    0.00    0.0    0.0    0.0    0.0    0.0    0.0\n",
      "I-MISC  0.99   0.00   0.00     0.0    0.01    0.0    0.0    0.0    0.0    0.0    0.0\n",
      "B-ORG   0.98   0.02   0.00     0.0    0.00    0.0    0.0    0.0    0.0    0.0    0.0\n",
      "I-ORG   0.96   0.00   0.03     0.0    0.00    0.0    0.0    0.0    0.0    0.0    0.0\n",
      "B-PER   1.00   0.00   0.00     0.0    0.00    0.0    0.0    0.0    0.0    0.0    0.0\n",
      "I-PER   1.00   0.00   0.00     0.0    0.00    0.0    0.0    0.0    0.0    0.0    0.0\n",
      "--------\n",
      "Emission model for source: multitoken_products_product_cased\n",
      "           O  B-LOC  I-LOC  B-MISC  I-MISC  B-ORG  I-ORG  B-PER  I-PER  B-ENT  I-ENT\n",
      "O       1.00    0.0    0.0    0.00    0.00    0.0    0.0    0.0    0.0    0.0    0.0\n",
      "B-LOC   1.00    0.0    0.0    0.00    0.00    0.0    0.0    0.0    0.0    0.0    0.0\n",
      "I-LOC   1.00    0.0    0.0    0.00    0.00    0.0    0.0    0.0    0.0    0.0    0.0\n",
      "B-MISC  0.92    0.0    0.0    0.08    0.00    0.0    0.0    0.0    0.0    0.0    0.0\n",
      "I-MISC  0.58    0.0    0.0    0.00    0.41    0.0    0.0    0.0    0.0    0.0    0.0\n",
      "B-ORG   1.00    0.0    0.0    0.00    0.00    0.0    0.0    0.0    0.0    0.0    0.0\n",
      "I-ORG   1.00    0.0    0.0    0.00    0.00    0.0    0.0    0.0    0.0    0.0    0.0\n",
      "B-PER   1.00    0.0    0.0    0.00    0.00    0.0    0.0    0.0    0.0    0.0    0.0\n",
      "I-PER   1.00    0.0    0.0    0.00    0.00    0.0    0.0    0.0    0.0    0.0    0.0\n",
      "--------\n",
      "Emission model for source: multitoken_products_product_uncased\n",
      "           O  B-LOC  I-LOC  B-MISC  I-MISC  B-ORG  I-ORG  B-PER  I-PER  B-ENT  I-ENT\n",
      "O       1.00    0.0    0.0    0.00    0.00    0.0    0.0    0.0    0.0    0.0    0.0\n",
      "B-LOC   1.00    0.0    0.0    0.00    0.00    0.0    0.0    0.0    0.0    0.0    0.0\n",
      "I-LOC   1.00    0.0    0.0    0.00    0.00    0.0    0.0    0.0    0.0    0.0    0.0\n",
      "B-MISC  0.92    0.0    0.0    0.08    0.00    0.0    0.0    0.0    0.0    0.0    0.0\n",
      "I-MISC  0.56    0.0    0.0    0.00    0.43    0.0    0.0    0.0    0.0    0.0    0.0\n",
      "B-ORG   1.00    0.0    0.0    0.00    0.00    0.0    0.0    0.0    0.0    0.0    0.0\n",
      "I-ORG   1.00    0.0    0.0    0.00    0.00    0.0    0.0    0.0    0.0    0.0    0.0\n",
      "B-PER   1.00    0.0    0.0    0.00    0.00    0.0    0.0    0.0    0.0    0.0    0.0\n",
      "I-PER   1.00    0.0    0.0    0.00    0.00    0.0    0.0    0.0    0.0    0.0    0.0\n",
      "--------\n",
      "Emission model for source: multitoken_wiki_gpe_cased\n",
      "           O  B-LOC  I-LOC  B-MISC  I-MISC  B-ORG  I-ORG  B-PER  I-PER  B-ENT  I-ENT\n",
      "O       1.00   0.00   0.00     0.0    0.00    0.0    0.0    0.0    0.0    0.0    0.0\n",
      "B-LOC   0.87   0.13   0.00     0.0    0.00    0.0    0.0    0.0    0.0    0.0    0.0\n",
      "I-LOC   0.49   0.01   0.50     0.0    0.00    0.0    0.0    0.0    0.0    0.0    0.0\n",
      "B-MISC  0.99   0.00   0.00     0.0    0.00    0.0    0.0    0.0    0.0    0.0    0.0\n",
      "I-MISC  0.97   0.00   0.02     0.0    0.01    0.0    0.0    0.0    0.0    0.0    0.0\n",
      "B-ORG   0.98   0.02   0.00     0.0    0.00    0.0    0.0    0.0    0.0    0.0    0.0\n",
      "I-ORG   0.97   0.00   0.03     0.0    0.00    0.0    0.0    0.0    0.0    0.0    0.0\n",
      "B-PER   1.00   0.00   0.00     0.0    0.00    0.0    0.0    0.0    0.0    0.0    0.0\n",
      "I-PER   0.99   0.00   0.01     0.0    0.00    0.0    0.0    0.0    0.0    0.0    0.0\n",
      "--------\n",
      "Emission model for source: multitoken_wiki_gpe_uncased\n",
      "           O  B-LOC  I-LOC  B-MISC  I-MISC  B-ORG  I-ORG  B-PER  I-PER  B-ENT  I-ENT\n",
      "O       1.00   0.00   0.00     0.0    0.00    0.0    0.0    0.0    0.0    0.0    0.0\n",
      "B-LOC   0.79   0.21   0.00     0.0    0.00    0.0    0.0    0.0    0.0    0.0    0.0\n",
      "I-LOC   0.22   0.01   0.77     0.0    0.00    0.0    0.0    0.0    0.0    0.0    0.0\n",
      "B-MISC  1.00   0.00   0.00     0.0    0.00    0.0    0.0    0.0    0.0    0.0    0.0\n",
      "I-MISC  0.97   0.00   0.02     0.0    0.01    0.0    0.0    0.0    0.0    0.0    0.0\n",
      "B-ORG   0.98   0.02   0.00     0.0    0.00    0.0    0.0    0.0    0.0    0.0    0.0\n",
      "I-ORG   0.96   0.00   0.04     0.0    0.00    0.0    0.0    0.0    0.0    0.0    0.0\n",
      "B-PER   1.00   0.00   0.00     0.0    0.00    0.0    0.0    0.0    0.0    0.0    0.0\n",
      "I-PER   0.99   0.00   0.01     0.0    0.00    0.0    0.0    0.0    0.0    0.0    0.0\n",
      "--------\n",
      "Emission model for source: multitoken_wiki_loc_cased\n",
      "           O  B-LOC  I-LOC  B-MISC  I-MISC  B-ORG  I-ORG  B-PER  I-PER  B-ENT  I-ENT\n",
      "O       1.00   0.00   0.00     0.0    0.00    0.0    0.0    0.0    0.0    0.0    0.0\n",
      "B-LOC   0.98   0.02   0.00     0.0    0.00    0.0    0.0    0.0    0.0    0.0    0.0\n",
      "I-LOC   0.92   0.00   0.08     0.0    0.00    0.0    0.0    0.0    0.0    0.0    0.0\n",
      "B-MISC  1.00   0.00   0.00     0.0    0.00    0.0    0.0    0.0    0.0    0.0    0.0\n",
      "I-MISC  0.99   0.00   0.00     0.0    0.01    0.0    0.0    0.0    0.0    0.0    0.0\n",
      "B-ORG   1.00   0.00   0.00     0.0    0.00    0.0    0.0    0.0    0.0    0.0    0.0\n",
      "I-ORG   1.00   0.00   0.00     0.0    0.00    0.0    0.0    0.0    0.0    0.0    0.0\n",
      "B-PER   1.00   0.00   0.00     0.0    0.00    0.0    0.0    0.0    0.0    0.0    0.0\n",
      "I-PER   1.00   0.00   0.00     0.0    0.00    0.0    0.0    0.0    0.0    0.0    0.0\n",
      "--------\n",
      "Emission model for source: multitoken_wiki_loc_uncased\n",
      "           O  B-LOC  I-LOC  B-MISC  I-MISC  B-ORG  I-ORG  B-PER  I-PER  B-ENT  I-ENT\n",
      "O       1.00   0.00   0.00     0.0    0.00    0.0    0.0    0.0    0.0    0.0    0.0\n",
      "B-LOC   0.98   0.02   0.00     0.0    0.00    0.0    0.0    0.0    0.0    0.0    0.0\n",
      "I-LOC   0.92   0.00   0.08     0.0    0.00    0.0    0.0    0.0    0.0    0.0    0.0\n",
      "B-MISC  1.00   0.00   0.00     0.0    0.00    0.0    0.0    0.0    0.0    0.0    0.0\n",
      "I-MISC  0.99   0.00   0.00     0.0    0.01    0.0    0.0    0.0    0.0    0.0    0.0\n",
      "B-ORG   1.00   0.00   0.00     0.0    0.00    0.0    0.0    0.0    0.0    0.0    0.0\n",
      "I-ORG   1.00   0.00   0.00     0.0    0.00    0.0    0.0    0.0    0.0    0.0    0.0\n",
      "B-PER   1.00   0.00   0.00     0.0    0.00    0.0    0.0    0.0    0.0    0.0    0.0\n",
      "I-PER   1.00   0.00   0.00     0.0    0.00    0.0    0.0    0.0    0.0    0.0    0.0\n",
      "--------\n",
      "Emission model for source: multitoken_wiki_org_cased\n",
      "           O  B-LOC  I-LOC  B-MISC  I-MISC  B-ORG  I-ORG  B-PER  I-PER  B-ENT  I-ENT\n",
      "O       1.00    0.0    0.0     0.0    0.00   0.00   0.00    0.0    0.0    0.0    0.0\n",
      "B-LOC   0.99    0.0    0.0     0.0    0.00   0.01   0.00    0.0    0.0    0.0    0.0\n",
      "I-LOC   0.96    0.0    0.0     0.0    0.00   0.00   0.04    0.0    0.0    0.0    0.0\n",
      "B-MISC  0.99    0.0    0.0     0.0    0.00   0.01   0.00    0.0    0.0    0.0    0.0\n",
      "I-MISC  0.99    0.0    0.0     0.0    0.01   0.00   0.01    0.0    0.0    0.0    0.0\n",
      "B-ORG   0.87    0.0    0.0     0.0    0.00   0.12   0.00    0.0    0.0    0.0    0.0\n",
      "I-ORG   0.65    0.0    0.0     0.0    0.00   0.01   0.34    0.0    0.0    0.0    0.0\n",
      "B-PER   0.98    0.0    0.0     0.0    0.00   0.02   0.00    0.0    0.0    0.0    0.0\n",
      "I-PER   0.97    0.0    0.0     0.0    0.00   0.00   0.03    0.0    0.0    0.0    0.0\n",
      "--------\n",
      "Emission model for source: multitoken_wiki_org_uncased\n",
      "           O  B-LOC  I-LOC  B-MISC  I-MISC  B-ORG  I-ORG  B-PER  I-PER  B-ENT  I-ENT\n",
      "O       1.00    0.0    0.0     0.0    0.00   0.00   0.00    0.0    0.0    0.0    0.0\n",
      "B-LOC   0.98    0.0    0.0     0.0    0.00   0.01   0.00    0.0    0.0    0.0    0.0\n",
      "I-LOC   0.96    0.0    0.0     0.0    0.00   0.00   0.04    0.0    0.0    0.0    0.0\n",
      "B-MISC  0.99    0.0    0.0     0.0    0.00   0.01   0.00    0.0    0.0    0.0    0.0\n",
      "I-MISC  0.99    0.0    0.0     0.0    0.01   0.00   0.01    0.0    0.0    0.0    0.0\n",
      "B-ORG   0.87    0.0    0.0     0.0    0.00   0.13   0.00    0.0    0.0    0.0    0.0\n",
      "I-ORG   0.65    0.0    0.0     0.0    0.00   0.01   0.35    0.0    0.0    0.0    0.0\n",
      "B-PER   0.98    0.0    0.0     0.0    0.00   0.02   0.00    0.0    0.0    0.0    0.0\n",
      "I-PER   0.97    0.0    0.0     0.0    0.00   0.00   0.03    0.0    0.0    0.0    0.0\n",
      "--------\n",
      "Emission model for source: multitoken_wiki_person_cased\n",
      "           O  B-LOC  I-LOC  B-MISC  I-MISC  B-ORG  I-ORG  B-PER  I-PER  B-ENT  I-ENT\n",
      "O       1.00    0.0    0.0     0.0    0.00    0.0    0.0   0.00   0.00    0.0    0.0\n",
      "B-LOC   1.00    0.0    0.0     0.0    0.00    0.0    0.0   0.00   0.00    0.0    0.0\n",
      "I-LOC   1.00    0.0    0.0     0.0    0.00    0.0    0.0   0.00   0.00    0.0    0.0\n",
      "B-MISC  1.00    0.0    0.0     0.0    0.00    0.0    0.0   0.00   0.00    0.0    0.0\n",
      "I-MISC  0.99    0.0    0.0     0.0    0.01    0.0    0.0   0.00   0.00    0.0    0.0\n",
      "B-ORG   1.00    0.0    0.0     0.0    0.00    0.0    0.0   0.00   0.00    0.0    0.0\n",
      "I-ORG   1.00    0.0    0.0     0.0    0.00    0.0    0.0   0.00   0.00    0.0    0.0\n",
      "B-PER   0.76    0.0    0.0     0.0    0.00    0.0    0.0   0.24   0.00    0.0    0.0\n",
      "I-PER   0.55    0.0    0.0     0.0    0.00    0.0    0.0   0.00   0.45    0.0    0.0\n",
      "--------\n",
      "Emission model for source: multitoken_wiki_person_uncased\n",
      "           O  B-LOC  I-LOC  B-MISC  I-MISC  B-ORG  I-ORG  B-PER  I-PER  B-ENT  I-ENT\n",
      "O       1.00    0.0    0.0     0.0    0.00    0.0    0.0   0.00   0.00    0.0    0.0\n",
      "B-LOC   1.00    0.0    0.0     0.0    0.00    0.0    0.0   0.00   0.00    0.0    0.0\n",
      "I-LOC   1.00    0.0    0.0     0.0    0.00    0.0    0.0   0.00   0.00    0.0    0.0\n",
      "B-MISC  1.00    0.0    0.0     0.0    0.00    0.0    0.0   0.00   0.00    0.0    0.0\n",
      "I-MISC  0.99    0.0    0.0     0.0    0.01    0.0    0.0   0.00   0.00    0.0    0.0\n",
      "B-ORG   1.00    0.0    0.0     0.0    0.00    0.0    0.0   0.00   0.00    0.0    0.0\n",
      "I-ORG   1.00    0.0    0.0     0.0    0.00    0.0    0.0   0.00   0.00    0.0    0.0\n",
      "B-PER   0.76    0.0    0.0     0.0    0.00    0.0    0.0   0.24   0.00    0.0    0.0\n",
      "I-PER   0.54    0.0    0.0     0.0    0.00    0.0    0.0   0.00   0.45    0.0    0.0\n",
      "--------\n",
      "Emission model for source: multitoken_wiki_product_cased\n",
      "           O  B-LOC  I-LOC  B-MISC  I-MISC  B-ORG  I-ORG  B-PER  I-PER  B-ENT  I-ENT\n",
      "O       1.00    0.0    0.0    0.00    0.00    0.0    0.0    0.0    0.0    0.0    0.0\n",
      "B-LOC   1.00    0.0    0.0    0.00    0.00    0.0    0.0    0.0    0.0    0.0    0.0\n",
      "I-LOC   1.00    0.0    0.0    0.00    0.00    0.0    0.0    0.0    0.0    0.0    0.0\n",
      "B-MISC  0.94    0.0    0.0    0.06    0.00    0.0    0.0    0.0    0.0    0.0    0.0\n",
      "I-MISC  0.67    0.0    0.0    0.00    0.32    0.0    0.0    0.0    0.0    0.0    0.0\n",
      "B-ORG   1.00    0.0    0.0    0.00    0.00    0.0    0.0    0.0    0.0    0.0    0.0\n",
      "I-ORG   1.00    0.0    0.0    0.00    0.00    0.0    0.0    0.0    0.0    0.0    0.0\n",
      "B-PER   1.00    0.0    0.0    0.00    0.00    0.0    0.0    0.0    0.0    0.0    0.0\n",
      "I-PER   1.00    0.0    0.0    0.00    0.00    0.0    0.0    0.0    0.0    0.0    0.0\n",
      "--------\n",
      "Emission model for source: multitoken_wiki_product_uncased\n",
      "           O  B-LOC  I-LOC  B-MISC  I-MISC  B-ORG  I-ORG  B-PER  I-PER  B-ENT  I-ENT\n",
      "O       1.00    0.0    0.0    0.00     0.0    0.0    0.0    0.0    0.0    0.0    0.0\n",
      "B-LOC   1.00    0.0    0.0    0.00     0.0    0.0    0.0    0.0    0.0    0.0    0.0\n",
      "I-LOC   1.00    0.0    0.0    0.00     0.0    0.0    0.0    0.0    0.0    0.0    0.0\n",
      "B-MISC  0.94    0.0    0.0    0.06     0.0    0.0    0.0    0.0    0.0    0.0    0.0\n",
      "I-MISC  0.70    0.0    0.0    0.00     0.3    0.0    0.0    0.0    0.0    0.0    0.0\n",
      "B-ORG   1.00    0.0    0.0    0.00     0.0    0.0    0.0    0.0    0.0    0.0    0.0\n",
      "I-ORG   1.00    0.0    0.0    0.00     0.0    0.0    0.0    0.0    0.0    0.0    0.0\n",
      "B-PER   1.00    0.0    0.0    0.00     0.0    0.0    0.0    0.0    0.0    0.0    0.0\n",
      "I-PER   1.00    0.0    0.0    0.00     0.0    0.0    0.0    0.0    0.0    0.0    0.0\n",
      "--------\n",
      "Emission model for source: multitoken_wiki_small_gpe_cased\n",
      "           O  B-LOC  I-LOC  B-MISC  I-MISC  B-ORG  I-ORG  B-PER  I-PER  B-ENT  I-ENT\n",
      "O       1.00   0.00   0.00     0.0    0.00    0.0    0.0    0.0    0.0    0.0    0.0\n",
      "B-LOC   0.88   0.12   0.00     0.0    0.00    0.0    0.0    0.0    0.0    0.0    0.0\n",
      "I-LOC   0.51   0.01   0.48     0.0    0.00    0.0    0.0    0.0    0.0    0.0    0.0\n",
      "B-MISC  1.00   0.00   0.00     0.0    0.00    0.0    0.0    0.0    0.0    0.0    0.0\n",
      "I-MISC  0.98   0.00   0.01     0.0    0.01    0.0    0.0    0.0    0.0    0.0    0.0\n",
      "B-ORG   0.98   0.02   0.00     0.0    0.00    0.0    0.0    0.0    0.0    0.0    0.0\n",
      "I-ORG   0.97   0.00   0.03     0.0    0.00    0.0    0.0    0.0    0.0    0.0    0.0\n",
      "B-PER   1.00   0.00   0.00     0.0    0.00    0.0    0.0    0.0    0.0    0.0    0.0\n",
      "I-PER   0.99   0.00   0.01     0.0    0.00    0.0    0.0    0.0    0.0    0.0    0.0\n",
      "--------\n",
      "Emission model for source: multitoken_wiki_small_gpe_uncased\n",
      "           O  B-LOC  I-LOC  B-MISC  I-MISC  B-ORG  I-ORG  B-PER  I-PER  B-ENT  I-ENT\n",
      "O       1.00   0.00   0.00     0.0    0.00    0.0    0.0    0.0    0.0    0.0    0.0\n",
      "B-LOC   0.80   0.20   0.00     0.0    0.00    0.0    0.0    0.0    0.0    0.0    0.0\n",
      "I-LOC   0.23   0.01   0.76     0.0    0.00    0.0    0.0    0.0    0.0    0.0    0.0\n",
      "B-MISC  1.00   0.00   0.00     0.0    0.00    0.0    0.0    0.0    0.0    0.0    0.0\n",
      "I-MISC  0.97   0.00   0.02     0.0    0.01    0.0    0.0    0.0    0.0    0.0    0.0\n",
      "B-ORG   0.98   0.02   0.00     0.0    0.00    0.0    0.0    0.0    0.0    0.0    0.0\n",
      "I-ORG   0.96   0.00   0.04     0.0    0.00    0.0    0.0    0.0    0.0    0.0    0.0\n",
      "B-PER   1.00   0.00   0.00     0.0    0.00    0.0    0.0    0.0    0.0    0.0    0.0\n",
      "I-PER   0.99   0.00   0.01     0.0    0.00    0.0    0.0    0.0    0.0    0.0    0.0\n",
      "--------\n",
      "Emission model for source: multitoken_wiki_small_loc_cased\n",
      "           O  B-LOC  I-LOC  B-MISC  I-MISC  B-ORG  I-ORG  B-PER  I-PER  B-ENT  I-ENT\n",
      "O       1.00   0.00   0.00     0.0    0.00    0.0    0.0    0.0    0.0    0.0    0.0\n",
      "B-LOC   0.98   0.02   0.00     0.0    0.00    0.0    0.0    0.0    0.0    0.0    0.0\n",
      "I-LOC   0.92   0.00   0.08     0.0    0.00    0.0    0.0    0.0    0.0    0.0    0.0\n",
      "B-MISC  1.00   0.00   0.00     0.0    0.00    0.0    0.0    0.0    0.0    0.0    0.0\n",
      "I-MISC  0.99   0.00   0.00     0.0    0.01    0.0    0.0    0.0    0.0    0.0    0.0\n",
      "B-ORG   1.00   0.00   0.00     0.0    0.00    0.0    0.0    0.0    0.0    0.0    0.0\n",
      "I-ORG   1.00   0.00   0.00     0.0    0.00    0.0    0.0    0.0    0.0    0.0    0.0\n",
      "B-PER   1.00   0.00   0.00     0.0    0.00    0.0    0.0    0.0    0.0    0.0    0.0\n",
      "I-PER   1.00   0.00   0.00     0.0    0.00    0.0    0.0    0.0    0.0    0.0    0.0\n",
      "--------\n",
      "Emission model for source: multitoken_wiki_small_loc_uncased\n",
      "           O  B-LOC  I-LOC  B-MISC  I-MISC  B-ORG  I-ORG  B-PER  I-PER  B-ENT  I-ENT\n",
      "O       1.00   0.00   0.00     0.0    0.00    0.0    0.0    0.0    0.0    0.0    0.0\n",
      "B-LOC   0.98   0.02   0.00     0.0    0.00    0.0    0.0    0.0    0.0    0.0    0.0\n",
      "I-LOC   0.92   0.00   0.08     0.0    0.00    0.0    0.0    0.0    0.0    0.0    0.0\n",
      "B-MISC  1.00   0.00   0.00     0.0    0.00    0.0    0.0    0.0    0.0    0.0    0.0\n",
      "I-MISC  0.99   0.00   0.00     0.0    0.01    0.0    0.0    0.0    0.0    0.0    0.0\n",
      "B-ORG   1.00   0.00   0.00     0.0    0.00    0.0    0.0    0.0    0.0    0.0    0.0\n",
      "I-ORG   1.00   0.00   0.00     0.0    0.00    0.0    0.0    0.0    0.0    0.0    0.0\n",
      "B-PER   1.00   0.00   0.00     0.0    0.00    0.0    0.0    0.0    0.0    0.0    0.0\n",
      "I-PER   1.00   0.00   0.00     0.0    0.00    0.0    0.0    0.0    0.0    0.0    0.0\n",
      "--------\n",
      "Emission model for source: multitoken_wiki_small_org_cased\n",
      "           O  B-LOC  I-LOC  B-MISC  I-MISC  B-ORG  I-ORG  B-PER  I-PER  B-ENT  I-ENT\n",
      "O       1.00    0.0    0.0     0.0    0.00   0.00   0.00    0.0    0.0    0.0    0.0\n",
      "B-LOC   0.99    0.0    0.0     0.0    0.00   0.01   0.00    0.0    0.0    0.0    0.0\n",
      "I-LOC   0.96    0.0    0.0     0.0    0.00   0.00   0.04    0.0    0.0    0.0    0.0\n",
      "B-MISC  0.99    0.0    0.0     0.0    0.00   0.01   0.00    0.0    0.0    0.0    0.0\n",
      "I-MISC  0.99    0.0    0.0     0.0    0.01   0.00   0.00    0.0    0.0    0.0    0.0\n",
      "B-ORG   0.89    0.0    0.0     0.0    0.00   0.11   0.00    0.0    0.0    0.0    0.0\n",
      "I-ORG   0.67    0.0    0.0     0.0    0.00   0.01   0.32    0.0    0.0    0.0    0.0\n",
      "B-PER   0.98    0.0    0.0     0.0    0.00   0.02   0.00    0.0    0.0    0.0    0.0\n",
      "I-PER   0.97    0.0    0.0     0.0    0.00   0.00   0.03    0.0    0.0    0.0    0.0\n",
      "--------\n",
      "Emission model for source: multitoken_wiki_small_org_uncased\n",
      "           O  B-LOC  I-LOC  B-MISC  I-MISC  B-ORG  I-ORG  B-PER  I-PER  B-ENT  I-ENT\n",
      "O       1.00    0.0    0.0     0.0    0.00   0.00   0.00    0.0    0.0    0.0    0.0\n",
      "B-LOC   0.99    0.0    0.0     0.0    0.00   0.01   0.00    0.0    0.0    0.0    0.0\n",
      "I-LOC   0.96    0.0    0.0     0.0    0.00   0.00   0.04    0.0    0.0    0.0    0.0\n",
      "B-MISC  0.99    0.0    0.0     0.0    0.00   0.01   0.00    0.0    0.0    0.0    0.0\n",
      "I-MISC  0.99    0.0    0.0     0.0    0.01   0.00   0.00    0.0    0.0    0.0    0.0\n",
      "B-ORG   0.89    0.0    0.0     0.0    0.00   0.11   0.00    0.0    0.0    0.0    0.0\n",
      "I-ORG   0.67    0.0    0.0     0.0    0.00   0.01   0.32    0.0    0.0    0.0    0.0\n",
      "B-PER   0.98    0.0    0.0     0.0    0.00   0.02   0.00    0.0    0.0    0.0    0.0\n",
      "I-PER   0.97    0.0    0.0     0.0    0.00   0.00   0.03    0.0    0.0    0.0    0.0\n",
      "--------\n",
      "Emission model for source: multitoken_wiki_small_person_cased\n",
      "           O  B-LOC  I-LOC  B-MISC  I-MISC  B-ORG  I-ORG  B-PER  I-PER  B-ENT  I-ENT\n",
      "O       1.00    0.0    0.0     0.0    0.00    0.0    0.0   0.00   0.00    0.0    0.0\n",
      "B-LOC   1.00    0.0    0.0     0.0    0.00    0.0    0.0   0.00   0.00    0.0    0.0\n",
      "I-LOC   1.00    0.0    0.0     0.0    0.00    0.0    0.0   0.00   0.00    0.0    0.0\n",
      "B-MISC  1.00    0.0    0.0     0.0    0.00    0.0    0.0   0.00   0.00    0.0    0.0\n",
      "I-MISC  0.99    0.0    0.0     0.0    0.01    0.0    0.0   0.00   0.00    0.0    0.0\n",
      "B-ORG   1.00    0.0    0.0     0.0    0.00    0.0    0.0   0.00   0.00    0.0    0.0\n",
      "I-ORG   1.00    0.0    0.0     0.0    0.00    0.0    0.0   0.00   0.00    0.0    0.0\n",
      "B-PER   0.76    0.0    0.0     0.0    0.00    0.0    0.0   0.24   0.00    0.0    0.0\n",
      "I-PER   0.55    0.0    0.0     0.0    0.00    0.0    0.0   0.00   0.45    0.0    0.0\n",
      "--------\n",
      "Emission model for source: multitoken_wiki_small_person_uncased\n",
      "           O  B-LOC  I-LOC  B-MISC  I-MISC  B-ORG  I-ORG  B-PER  I-PER  B-ENT  I-ENT\n",
      "O       1.00    0.0    0.0     0.0    0.00    0.0    0.0   0.00   0.00    0.0    0.0\n",
      "B-LOC   1.00    0.0    0.0     0.0    0.00    0.0    0.0   0.00   0.00    0.0    0.0\n",
      "I-LOC   1.00    0.0    0.0     0.0    0.00    0.0    0.0   0.00   0.00    0.0    0.0\n",
      "B-MISC  1.00    0.0    0.0     0.0    0.00    0.0    0.0   0.00   0.00    0.0    0.0\n",
      "I-MISC  0.99    0.0    0.0     0.0    0.01    0.0    0.0   0.00   0.00    0.0    0.0\n",
      "B-ORG   1.00    0.0    0.0     0.0    0.00    0.0    0.0   0.00   0.00    0.0    0.0\n",
      "I-ORG   1.00    0.0    0.0     0.0    0.00    0.0    0.0   0.00   0.00    0.0    0.0\n",
      "B-PER   0.76    0.0    0.0     0.0    0.00    0.0    0.0   0.24   0.00    0.0    0.0\n",
      "I-PER   0.54    0.0    0.0     0.0    0.00    0.0    0.0   0.00   0.46    0.0    0.0\n",
      "--------\n",
      "Emission model for source: multitoken_wiki_small_product_cased\n",
      "           O  B-LOC  I-LOC  B-MISC  I-MISC  B-ORG  I-ORG  B-PER  I-PER  B-ENT  I-ENT\n",
      "O       1.00    0.0    0.0    0.00    0.00    0.0    0.0    0.0    0.0    0.0    0.0\n",
      "B-LOC   1.00    0.0    0.0    0.00    0.00    0.0    0.0    0.0    0.0    0.0    0.0\n",
      "I-LOC   1.00    0.0    0.0    0.00    0.00    0.0    0.0    0.0    0.0    0.0    0.0\n",
      "B-MISC  0.94    0.0    0.0    0.06    0.00    0.0    0.0    0.0    0.0    0.0    0.0\n",
      "I-MISC  0.69    0.0    0.0    0.00    0.31    0.0    0.0    0.0    0.0    0.0    0.0\n",
      "B-ORG   1.00    0.0    0.0    0.00    0.00    0.0    0.0    0.0    0.0    0.0    0.0\n",
      "I-ORG   1.00    0.0    0.0    0.00    0.00    0.0    0.0    0.0    0.0    0.0    0.0\n",
      "B-PER   1.00    0.0    0.0    0.00    0.00    0.0    0.0    0.0    0.0    0.0    0.0\n",
      "I-PER   1.00    0.0    0.0    0.00    0.00    0.0    0.0    0.0    0.0    0.0    0.0\n",
      "--------\n",
      "Emission model for source: multitoken_wiki_small_product_uncased\n",
      "           O  B-LOC  I-LOC  B-MISC  I-MISC  B-ORG  I-ORG  B-PER  I-PER  B-ENT  I-ENT\n",
      "O       1.00    0.0    0.0    0.00     0.0    0.0    0.0    0.0    0.0    0.0    0.0\n",
      "B-LOC   1.00    0.0    0.0    0.00     0.0    0.0    0.0    0.0    0.0    0.0    0.0\n",
      "I-LOC   1.00    0.0    0.0    0.00     0.0    0.0    0.0    0.0    0.0    0.0    0.0\n",
      "B-MISC  0.94    0.0    0.0    0.06     0.0    0.0    0.0    0.0    0.0    0.0    0.0\n",
      "I-MISC  0.69    0.0    0.0    0.00     0.3    0.0    0.0    0.0    0.0    0.0    0.0\n",
      "B-ORG   1.00    0.0    0.0    0.00     0.0    0.0    0.0    0.0    0.0    0.0    0.0\n",
      "I-ORG   1.00    0.0    0.0    0.00     0.0    0.0    0.0    0.0    0.0    0.0    0.0\n",
      "B-PER   1.00    0.0    0.0    0.00     0.0    0.0    0.0    0.0    0.0    0.0    0.0\n",
      "I-PER   1.00    0.0    0.0    0.00     0.0    0.0    0.0    0.0    0.0    0.0    0.0\n",
      "--------\n",
      "Emission model for source: nnp_detector\n",
      "           O  B-LOC  I-LOC  B-MISC  I-MISC  B-ORG  I-ORG  B-PER  I-PER  B-ENT  I-ENT\n",
      "O       0.99    0.0    0.0     0.0    0.00    0.0    0.0    0.0    0.0   0.00   0.00\n",
      "B-LOC   0.07    0.0    0.0     0.0    0.00    0.0    0.0    0.0    0.0   0.92   0.01\n",
      "I-LOC   0.04    0.0    0.0     0.0    0.00    0.0    0.0    0.0    0.0   0.01   0.95\n",
      "B-MISC  0.47    0.0    0.0     0.0    0.00    0.0    0.0    0.0    0.0   0.48   0.05\n",
      "I-MISC  0.24    0.0    0.0     0.0    0.01    0.0    0.0    0.0    0.0   0.03   0.72\n",
      "B-ORG   0.23    0.0    0.0     0.0    0.00    0.0    0.0    0.0    0.0   0.76   0.01\n",
      "I-ORG   0.22    0.0    0.0     0.0    0.00    0.0    0.0    0.0    0.0   0.05   0.72\n",
      "B-PER   0.05    0.0    0.0     0.0    0.00    0.0    0.0    0.0    0.0   0.85   0.09\n",
      "I-PER   0.03    0.0    0.0     0.0    0.00    0.0    0.0    0.0    0.0   0.00   0.97\n",
      "--------\n",
      "Emission model for source: number_detector\n",
      "           O  B-LOC  I-LOC  B-MISC  I-MISC  B-ORG  I-ORG  B-PER  I-PER  B-ENT  I-ENT\n",
      "O       1.00    0.0    0.0     0.0    0.00    0.0    0.0    0.0    0.0    0.0    0.0\n",
      "B-LOC   1.00    0.0    0.0     0.0    0.00    0.0    0.0    0.0    0.0    0.0    0.0\n",
      "I-LOC   1.00    0.0    0.0     0.0    0.00    0.0    0.0    0.0    0.0    0.0    0.0\n",
      "B-MISC  1.00    0.0    0.0     0.0    0.00    0.0    0.0    0.0    0.0    0.0    0.0\n",
      "I-MISC  0.99    0.0    0.0     0.0    0.01    0.0    0.0    0.0    0.0    0.0    0.0\n",
      "B-ORG   1.00    0.0    0.0     0.0    0.00    0.0    0.0    0.0    0.0    0.0    0.0\n",
      "I-ORG   1.00    0.0    0.0     0.0    0.00    0.0    0.0    0.0    0.0    0.0    0.0\n",
      "B-PER   1.00    0.0    0.0     0.0    0.00    0.0    0.0    0.0    0.0    0.0    0.0\n",
      "I-PER   1.00    0.0    0.0     0.0    0.00    0.0    0.0    0.0    0.0    0.0    0.0\n",
      "--------\n",
      "Emission model for source: products_product_cased\n",
      "           O  B-LOC  I-LOC  B-MISC  I-MISC  B-ORG  I-ORG  B-PER  I-PER  B-ENT  I-ENT\n",
      "O       1.00    0.0    0.0    0.00    0.00    0.0    0.0    0.0    0.0    0.0    0.0\n",
      "B-LOC   1.00    0.0    0.0    0.00    0.00    0.0    0.0    0.0    0.0    0.0    0.0\n",
      "I-LOC   1.00    0.0    0.0    0.00    0.00    0.0    0.0    0.0    0.0    0.0    0.0\n",
      "B-MISC  0.81    0.0    0.0    0.19    0.00    0.0    0.0    0.0    0.0    0.0    0.0\n",
      "I-MISC  0.61    0.0    0.0    0.00    0.39    0.0    0.0    0.0    0.0    0.0    0.0\n",
      "B-ORG   1.00    0.0    0.0    0.00    0.00    0.0    0.0    0.0    0.0    0.0    0.0\n",
      "I-ORG   1.00    0.0    0.0    0.00    0.00    0.0    0.0    0.0    0.0    0.0    0.0\n",
      "B-PER   1.00    0.0    0.0    0.00    0.00    0.0    0.0    0.0    0.0    0.0    0.0\n",
      "I-PER   1.00    0.0    0.0    0.00    0.00    0.0    0.0    0.0    0.0    0.0    0.0\n",
      "--------\n",
      "Emission model for source: products_product_uncased\n",
      "           O  B-LOC  I-LOC  B-MISC  I-MISC  B-ORG  I-ORG  B-PER  I-PER  B-ENT  I-ENT\n",
      "O       1.00    0.0    0.0    0.00    0.00    0.0    0.0    0.0    0.0    0.0    0.0\n",
      "B-LOC   1.00    0.0    0.0    0.00    0.00    0.0    0.0    0.0    0.0    0.0    0.0\n",
      "I-LOC   1.00    0.0    0.0    0.00    0.00    0.0    0.0    0.0    0.0    0.0    0.0\n",
      "B-MISC  0.80    0.0    0.0    0.20    0.00    0.0    0.0    0.0    0.0    0.0    0.0\n",
      "I-MISC  0.56    0.0    0.0    0.00    0.43    0.0    0.0    0.0    0.0    0.0    0.0\n",
      "B-ORG   0.99    0.0    0.0    0.01    0.00    0.0    0.0    0.0    0.0    0.0    0.0\n",
      "I-ORG   1.00    0.0    0.0    0.00    0.00    0.0    0.0    0.0    0.0    0.0    0.0\n",
      "B-PER   1.00    0.0    0.0    0.00    0.00    0.0    0.0    0.0    0.0    0.0    0.0\n",
      "I-PER   1.00    0.0    0.0    0.00    0.00    0.0    0.0    0.0    0.0    0.0    0.0\n",
      "--------\n",
      "Emission model for source: proper2_detector\n",
      "           O  B-LOC  I-LOC  B-MISC  I-MISC  B-ORG  I-ORG  B-PER  I-PER  B-ENT  I-ENT\n",
      "O       0.99    0.0    0.0     0.0    0.00    0.0    0.0    0.0    0.0   0.00   0.01\n",
      "B-LOC   0.07    0.0    0.0     0.0    0.00    0.0    0.0    0.0    0.0   0.88   0.05\n",
      "I-LOC   0.04    0.0    0.0     0.0    0.00    0.0    0.0    0.0    0.0   0.00   0.96\n",
      "B-MISC  0.06    0.0    0.0     0.0    0.00    0.0    0.0    0.0    0.0   0.85   0.08\n",
      "I-MISC  0.10    0.0    0.0     0.0    0.01    0.0    0.0    0.0    0.0   0.04   0.86\n",
      "B-ORG   0.21    0.0    0.0     0.0    0.00    0.0    0.0    0.0    0.0   0.76   0.03\n",
      "I-ORG   0.13    0.0    0.0     0.0    0.00    0.0    0.0    0.0    0.0   0.02   0.85\n",
      "B-PER   0.05    0.0    0.0     0.0    0.00    0.0    0.0    0.0    0.0   0.85   0.10\n",
      "I-PER   0.02    0.0    0.0     0.0    0.00    0.0    0.0    0.0    0.0   0.00   0.97\n",
      "--------\n",
      "Emission model for source: proper_detector\n",
      "           O  B-LOC  I-LOC  B-MISC  I-MISC  B-ORG  I-ORG  B-PER  I-PER  B-ENT  I-ENT\n",
      "O       0.99    0.0    0.0     0.0    0.00    0.0    0.0    0.0    0.0   0.00   0.01\n",
      "B-LOC   0.06    0.0    0.0     0.0    0.00    0.0    0.0    0.0    0.0   0.93   0.01\n",
      "I-LOC   0.04    0.0    0.0     0.0    0.00    0.0    0.0    0.0    0.0   0.01   0.95\n",
      "B-MISC  0.06    0.0    0.0     0.0    0.00    0.0    0.0    0.0    0.0   0.88   0.06\n",
      "I-MISC  0.11    0.0    0.0     0.0    0.01    0.0    0.0    0.0    0.0   0.04   0.84\n",
      "B-ORG   0.20    0.0    0.0     0.0    0.00    0.0    0.0    0.0    0.0   0.78   0.02\n",
      "I-ORG   0.16    0.0    0.0     0.0    0.00    0.0    0.0    0.0    0.0   0.04   0.80\n",
      "B-PER   0.04    0.0    0.0     0.0    0.00    0.0    0.0    0.0    0.0   0.86   0.10\n",
      "I-PER   0.02    0.0    0.0     0.0    0.00    0.0    0.0    0.0    0.0   0.00   0.98\n",
      "--------\n",
      "Emission model for source: snips\n",
      "           O  B-LOC  I-LOC  B-MISC  I-MISC  B-ORG  I-ORG  B-PER  I-PER  B-ENT  I-ENT\n",
      "O       1.00    0.0    0.0     0.0    0.00    0.0    0.0    0.0    0.0    0.0    0.0\n",
      "B-LOC   1.00    0.0    0.0     0.0    0.00    0.0    0.0    0.0    0.0    0.0    0.0\n",
      "I-LOC   1.00    0.0    0.0     0.0    0.00    0.0    0.0    0.0    0.0    0.0    0.0\n",
      "B-MISC  1.00    0.0    0.0     0.0    0.00    0.0    0.0    0.0    0.0    0.0    0.0\n",
      "I-MISC  0.99    0.0    0.0     0.0    0.01    0.0    0.0    0.0    0.0    0.0    0.0\n",
      "B-ORG   1.00    0.0    0.0     0.0    0.00    0.0    0.0    0.0    0.0    0.0    0.0\n",
      "I-ORG   1.00    0.0    0.0     0.0    0.00    0.0    0.0    0.0    0.0    0.0    0.0\n",
      "B-PER   1.00    0.0    0.0     0.0    0.00    0.0    0.0    0.0    0.0    0.0    0.0\n",
      "I-PER   1.00    0.0    0.0     0.0    0.00    0.0    0.0    0.0    0.0    0.0    0.0\n",
      "--------\n",
      "Emission model for source: time_detector\n",
      "           O  B-LOC  I-LOC  B-MISC  I-MISC  B-ORG  I-ORG  B-PER  I-PER  B-ENT  I-ENT\n",
      "O       1.00    0.0    0.0     0.0    0.00    0.0    0.0    0.0    0.0    0.0    0.0\n",
      "B-LOC   1.00    0.0    0.0     0.0    0.00    0.0    0.0    0.0    0.0    0.0    0.0\n",
      "I-LOC   1.00    0.0    0.0     0.0    0.00    0.0    0.0    0.0    0.0    0.0    0.0\n",
      "B-MISC  1.00    0.0    0.0     0.0    0.00    0.0    0.0    0.0    0.0    0.0    0.0\n",
      "I-MISC  0.99    0.0    0.0     0.0    0.01    0.0    0.0    0.0    0.0    0.0    0.0\n",
      "B-ORG   1.00    0.0    0.0     0.0    0.00    0.0    0.0    0.0    0.0    0.0    0.0\n",
      "I-ORG   1.00    0.0    0.0     0.0    0.00    0.0    0.0    0.0    0.0    0.0    0.0\n",
      "B-PER   1.00    0.0    0.0     0.0    0.00    0.0    0.0    0.0    0.0    0.0    0.0\n",
      "I-PER   1.00    0.0    0.0     0.0    0.00    0.0    0.0    0.0    0.0    0.0    0.0\n",
      "--------\n",
      "Emission model for source: wiki_gpe_cased\n",
      "           O  B-LOC  I-LOC  B-MISC  I-MISC  B-ORG  I-ORG  B-PER  I-PER  B-ENT  I-ENT\n",
      "O       1.00   0.00   0.00     0.0    0.00    0.0    0.0    0.0    0.0    0.0    0.0\n",
      "B-LOC   0.62   0.38   0.00     0.0    0.00    0.0    0.0    0.0    0.0    0.0    0.0\n",
      "I-LOC   0.49   0.01   0.50     0.0    0.00    0.0    0.0    0.0    0.0    0.0    0.0\n",
      "B-MISC  0.98   0.01   0.00     0.0    0.00    0.0    0.0    0.0    0.0    0.0    0.0\n",
      "I-MISC  0.97   0.00   0.02     0.0    0.01    0.0    0.0    0.0    0.0    0.0    0.0\n",
      "B-ORG   0.96   0.04   0.00     0.0    0.00    0.0    0.0    0.0    0.0    0.0    0.0\n",
      "I-ORG   0.96   0.01   0.03     0.0    0.00    0.0    0.0    0.0    0.0    0.0    0.0\n",
      "B-PER   0.97   0.03   0.00     0.0    0.00    0.0    0.0    0.0    0.0    0.0    0.0\n",
      "I-PER   0.99   0.00   0.01     0.0    0.00    0.0    0.0    0.0    0.0    0.0    0.0\n",
      "--------\n",
      "Emission model for source: wiki_gpe_uncased\n",
      "           O  B-LOC  I-LOC  B-MISC  I-MISC  B-ORG  I-ORG  B-PER  I-PER  B-ENT  I-ENT\n",
      "O       1.00   0.00   0.00     0.0    0.00    0.0    0.0    0.0    0.0    0.0    0.0\n",
      "B-LOC   0.49   0.51   0.00     0.0    0.00    0.0    0.0    0.0    0.0    0.0    0.0\n",
      "I-LOC   0.21   0.01   0.79     0.0    0.00    0.0    0.0    0.0    0.0    0.0    0.0\n",
      "B-MISC  0.98   0.01   0.00     0.0    0.00    0.0    0.0    0.0    0.0    0.0    0.0\n",
      "I-MISC  0.97   0.00   0.02     0.0    0.01    0.0    0.0    0.0    0.0    0.0    0.0\n",
      "B-ORG   0.95   0.05   0.00     0.0    0.00    0.0    0.0    0.0    0.0    0.0    0.0\n",
      "I-ORG   0.95   0.01   0.04     0.0    0.00    0.0    0.0    0.0    0.0    0.0    0.0\n",
      "B-PER   0.96   0.04   0.00     0.0    0.00    0.0    0.0    0.0    0.0    0.0    0.0\n",
      "I-PER   0.99   0.00   0.01     0.0    0.00    0.0    0.0    0.0    0.0    0.0    0.0\n",
      "--------\n",
      "Emission model for source: wiki_loc_cased\n",
      "           O  B-LOC  I-LOC  B-MISC  I-MISC  B-ORG  I-ORG  B-PER  I-PER  B-ENT  I-ENT\n",
      "O       1.00   0.00   0.00     0.0    0.00    0.0    0.0    0.0    0.0    0.0    0.0\n",
      "B-LOC   0.95   0.05   0.00     0.0    0.00    0.0    0.0    0.0    0.0    0.0    0.0\n",
      "I-LOC   0.92   0.00   0.08     0.0    0.00    0.0    0.0    0.0    0.0    0.0    0.0\n",
      "B-MISC  1.00   0.00   0.00     0.0    0.00    0.0    0.0    0.0    0.0    0.0    0.0\n",
      "I-MISC  0.99   0.00   0.00     0.0    0.01    0.0    0.0    0.0    0.0    0.0    0.0\n",
      "B-ORG   1.00   0.00   0.00     0.0    0.00    0.0    0.0    0.0    0.0    0.0    0.0\n",
      "I-ORG   1.00   0.00   0.00     0.0    0.00    0.0    0.0    0.0    0.0    0.0    0.0\n",
      "B-PER   1.00   0.00   0.00     0.0    0.00    0.0    0.0    0.0    0.0    0.0    0.0\n",
      "I-PER   1.00   0.00   0.00     0.0    0.00    0.0    0.0    0.0    0.0    0.0    0.0\n",
      "--------\n",
      "Emission model for source: wiki_loc_uncased\n",
      "           O  B-LOC  I-LOC  B-MISC  I-MISC  B-ORG  I-ORG  B-PER  I-PER  B-ENT  I-ENT\n",
      "O       1.00   0.00   0.00     0.0    0.00    0.0    0.0    0.0    0.0    0.0    0.0\n",
      "B-LOC   0.95   0.05   0.00     0.0    0.00    0.0    0.0    0.0    0.0    0.0    0.0\n",
      "I-LOC   0.92   0.00   0.08     0.0    0.00    0.0    0.0    0.0    0.0    0.0    0.0\n",
      "B-MISC  1.00   0.00   0.00     0.0    0.00    0.0    0.0    0.0    0.0    0.0    0.0\n",
      "I-MISC  0.99   0.00   0.00     0.0    0.01    0.0    0.0    0.0    0.0    0.0    0.0\n",
      "B-ORG   1.00   0.00   0.00     0.0    0.00    0.0    0.0    0.0    0.0    0.0    0.0\n",
      "I-ORG   1.00   0.00   0.00     0.0    0.00    0.0    0.0    0.0    0.0    0.0    0.0\n",
      "B-PER   1.00   0.00   0.00     0.0    0.00    0.0    0.0    0.0    0.0    0.0    0.0\n",
      "I-PER   1.00   0.00   0.00     0.0    0.00    0.0    0.0    0.0    0.0    0.0    0.0\n",
      "--------\n",
      "Emission model for source: wiki_org_cased\n",
      "           O  B-LOC  I-LOC  B-MISC  I-MISC  B-ORG  I-ORG  B-PER  I-PER  B-ENT  I-ENT\n",
      "O       1.00    0.0    0.0     0.0    0.00   0.00   0.00    0.0    0.0    0.0    0.0\n",
      "B-LOC   0.96    0.0    0.0     0.0    0.00   0.03   0.00    0.0    0.0    0.0    0.0\n",
      "I-LOC   0.96    0.0    0.0     0.0    0.00   0.00   0.04    0.0    0.0    0.0    0.0\n",
      "B-MISC  0.97    0.0    0.0     0.0    0.00   0.03   0.00    0.0    0.0    0.0    0.0\n",
      "I-MISC  0.98    0.0    0.0     0.0    0.01   0.00   0.01    0.0    0.0    0.0    0.0\n",
      "B-ORG   0.63    0.0    0.0     0.0    0.00   0.37   0.00    0.0    0.0    0.0    0.0\n",
      "I-ORG   0.65    0.0    0.0     0.0    0.00   0.01   0.34    0.0    0.0    0.0    0.0\n",
      "B-PER   0.95    0.0    0.0     0.0    0.00   0.05   0.00    0.0    0.0    0.0    0.0\n",
      "I-PER   0.97    0.0    0.0     0.0    0.00   0.00   0.03    0.0    0.0    0.0    0.0\n",
      "--------\n",
      "Emission model for source: wiki_org_uncased\n",
      "           O  B-LOC  I-LOC  B-MISC  I-MISC  B-ORG  I-ORG  B-PER  I-PER  B-ENT  I-ENT\n",
      "O       1.00    0.0    0.0     0.0    0.00   0.00   0.00    0.0    0.0    0.0    0.0\n",
      "B-LOC   0.96    0.0    0.0     0.0    0.00   0.03   0.00    0.0    0.0    0.0    0.0\n",
      "I-LOC   0.96    0.0    0.0     0.0    0.00   0.00   0.04    0.0    0.0    0.0    0.0\n",
      "B-MISC  0.96    0.0    0.0     0.0    0.00   0.04   0.00    0.0    0.0    0.0    0.0\n",
      "I-MISC  0.98    0.0    0.0     0.0    0.01   0.00   0.01    0.0    0.0    0.0    0.0\n",
      "B-ORG   0.62    0.0    0.0     0.0    0.00   0.38   0.00    0.0    0.0    0.0    0.0\n",
      "I-ORG   0.64    0.0    0.0     0.0    0.00   0.01   0.36    0.0    0.0    0.0    0.0\n",
      "B-PER   0.95    0.0    0.0     0.0    0.00   0.05   0.00    0.0    0.0    0.0    0.0\n",
      "I-PER   0.97    0.0    0.0     0.0    0.00   0.00   0.03    0.0    0.0    0.0    0.0\n",
      "--------\n",
      "Emission model for source: wiki_person_cased\n",
      "           O  B-LOC  I-LOC  B-MISC  I-MISC  B-ORG  I-ORG  B-PER  I-PER  B-ENT  I-ENT\n",
      "O       1.00    0.0    0.0     0.0    0.00    0.0    0.0   0.00   0.00    0.0    0.0\n",
      "B-LOC   0.98    0.0    0.0     0.0    0.00    0.0    0.0   0.02   0.00    0.0    0.0\n",
      "I-LOC   1.00    0.0    0.0     0.0    0.00    0.0    0.0   0.00   0.00    0.0    0.0\n",
      "B-MISC  0.79    0.0    0.0     0.0    0.00    0.0    0.0   0.21   0.00    0.0    0.0\n",
      "I-MISC  0.98    0.0    0.0     0.0    0.01    0.0    0.0   0.00   0.00    0.0    0.0\n",
      "B-ORG   0.99    0.0    0.0     0.0    0.00    0.0    0.0   0.01   0.00    0.0    0.0\n",
      "I-ORG   0.99    0.0    0.0     0.0    0.00    0.0    0.0   0.01   0.00    0.0    0.0\n",
      "B-PER   0.64    0.0    0.0     0.0    0.00    0.0    0.0   0.36   0.00    0.0    0.0\n",
      "I-PER   0.53    0.0    0.0     0.0    0.00    0.0    0.0   0.00   0.47    0.0    0.0\n",
      "--------\n",
      "Emission model for source: wiki_person_uncased\n",
      "           O  B-LOC  I-LOC  B-MISC  I-MISC  B-ORG  I-ORG  B-PER  I-PER  B-ENT  I-ENT\n",
      "O       1.00    0.0    0.0     0.0    0.00    0.0    0.0   0.00   0.00    0.0    0.0\n",
      "B-LOC   0.96    0.0    0.0     0.0    0.00    0.0    0.0   0.04   0.00    0.0    0.0\n",
      "I-LOC   1.00    0.0    0.0     0.0    0.00    0.0    0.0   0.00   0.00    0.0    0.0\n",
      "B-MISC  0.79    0.0    0.0     0.0    0.00    0.0    0.0   0.20   0.00    0.0    0.0\n",
      "I-MISC  0.98    0.0    0.0     0.0    0.01    0.0    0.0   0.00   0.00    0.0    0.0\n",
      "B-ORG   0.99    0.0    0.0     0.0    0.00    0.0    0.0   0.01   0.00    0.0    0.0\n",
      "I-ORG   0.99    0.0    0.0     0.0    0.00    0.0    0.0   0.01   0.00    0.0    0.0\n",
      "B-PER   0.61    0.0    0.0     0.0    0.00    0.0    0.0   0.39   0.00    0.0    0.0\n",
      "I-PER   0.53    0.0    0.0     0.0    0.00    0.0    0.0   0.00   0.47    0.0    0.0\n",
      "--------\n",
      "Emission model for source: wiki_product_cased\n",
      "           O  B-LOC  I-LOC  B-MISC  I-MISC  B-ORG  I-ORG  B-PER  I-PER  B-ENT  I-ENT\n",
      "O       1.00    0.0    0.0    0.00    0.00    0.0    0.0    0.0    0.0    0.0    0.0\n",
      "B-LOC   1.00    0.0    0.0    0.00    0.00    0.0    0.0    0.0    0.0    0.0    0.0\n",
      "I-LOC   1.00    0.0    0.0    0.00    0.00    0.0    0.0    0.0    0.0    0.0    0.0\n",
      "B-MISC  0.81    0.0    0.0    0.19    0.00    0.0    0.0    0.0    0.0    0.0    0.0\n",
      "I-MISC  0.68    0.0    0.0    0.00    0.31    0.0    0.0    0.0    0.0    0.0    0.0\n",
      "B-ORG   1.00    0.0    0.0    0.00    0.00    0.0    0.0    0.0    0.0    0.0    0.0\n",
      "I-ORG   1.00    0.0    0.0    0.00    0.00    0.0    0.0    0.0    0.0    0.0    0.0\n",
      "B-PER   1.00    0.0    0.0    0.00    0.00    0.0    0.0    0.0    0.0    0.0    0.0\n",
      "I-PER   1.00    0.0    0.0    0.00    0.00    0.0    0.0    0.0    0.0    0.0    0.0\n",
      "--------\n",
      "Emission model for source: wiki_product_uncased\n",
      "           O  B-LOC  I-LOC  B-MISC  I-MISC  B-ORG  I-ORG  B-PER  I-PER  B-ENT  I-ENT\n",
      "O       1.00    0.0    0.0     0.0    0.00    0.0    0.0    0.0    0.0    0.0    0.0\n",
      "B-LOC   1.00    0.0    0.0     0.0    0.00    0.0    0.0    0.0    0.0    0.0    0.0\n",
      "I-LOC   1.00    0.0    0.0     0.0    0.00    0.0    0.0    0.0    0.0    0.0    0.0\n",
      "B-MISC  0.80    0.0    0.0     0.2    0.00    0.0    0.0    0.0    0.0    0.0    0.0\n",
      "I-MISC  0.71    0.0    0.0     0.0    0.29    0.0    0.0    0.0    0.0    0.0    0.0\n",
      "B-ORG   1.00    0.0    0.0     0.0    0.00    0.0    0.0    0.0    0.0    0.0    0.0\n",
      "I-ORG   1.00    0.0    0.0     0.0    0.00    0.0    0.0    0.0    0.0    0.0    0.0\n",
      "B-PER   1.00    0.0    0.0     0.0    0.00    0.0    0.0    0.0    0.0    0.0    0.0\n",
      "I-PER   1.00    0.0    0.0     0.0    0.00    0.0    0.0    0.0    0.0    0.0    0.0\n",
      "--------\n",
      "Emission model for source: wiki_small_gpe_cased\n",
      "           O  B-LOC  I-LOC  B-MISC  I-MISC  B-ORG  I-ORG  B-PER  I-PER  B-ENT  I-ENT\n",
      "O       1.00   0.00   0.00     0.0    0.00    0.0    0.0    0.0    0.0    0.0    0.0\n",
      "B-LOC   0.62   0.38   0.00     0.0    0.00    0.0    0.0    0.0    0.0    0.0    0.0\n",
      "I-LOC   0.50   0.01   0.49     0.0    0.00    0.0    0.0    0.0    0.0    0.0    0.0\n",
      "B-MISC  0.98   0.01   0.00     0.0    0.00    0.0    0.0    0.0    0.0    0.0    0.0\n",
      "I-MISC  0.98   0.00   0.02     0.0    0.01    0.0    0.0    0.0    0.0    0.0    0.0\n",
      "B-ORG   0.97   0.03   0.00     0.0    0.00    0.0    0.0    0.0    0.0    0.0    0.0\n",
      "I-ORG   0.96   0.01   0.03     0.0    0.00    0.0    0.0    0.0    0.0    0.0    0.0\n",
      "B-PER   0.97   0.03   0.00     0.0    0.00    0.0    0.0    0.0    0.0    0.0    0.0\n",
      "I-PER   0.99   0.00   0.01     0.0    0.00    0.0    0.0    0.0    0.0    0.0    0.0\n",
      "--------\n",
      "Emission model for source: wiki_small_gpe_uncased\n",
      "           O  B-LOC  I-LOC  B-MISC  I-MISC  B-ORG  I-ORG  B-PER  I-PER  B-ENT  I-ENT\n",
      "O       1.00   0.00   0.00     0.0    0.00    0.0    0.0    0.0    0.0    0.0    0.0\n",
      "B-LOC   0.50   0.49   0.00     0.0    0.00    0.0    0.0    0.0    0.0    0.0    0.0\n",
      "I-LOC   0.22   0.01   0.77     0.0    0.00    0.0    0.0    0.0    0.0    0.0    0.0\n",
      "B-MISC  0.98   0.01   0.00     0.0    0.00    0.0    0.0    0.0    0.0    0.0    0.0\n",
      "I-MISC  0.98   0.00   0.01     0.0    0.01    0.0    0.0    0.0    0.0    0.0    0.0\n",
      "B-ORG   0.96   0.04   0.00     0.0    0.00    0.0    0.0    0.0    0.0    0.0    0.0\n",
      "I-ORG   0.96   0.01   0.04     0.0    0.00    0.0    0.0    0.0    0.0    0.0    0.0\n",
      "B-PER   0.97   0.03   0.00     0.0    0.00    0.0    0.0    0.0    0.0    0.0    0.0\n",
      "I-PER   0.99   0.00   0.01     0.0    0.00    0.0    0.0    0.0    0.0    0.0    0.0\n",
      "--------\n",
      "Emission model for source: wiki_small_loc_cased\n",
      "           O  B-LOC  I-LOC  B-MISC  I-MISC  B-ORG  I-ORG  B-PER  I-PER  B-ENT  I-ENT\n",
      "O       1.00   0.00   0.00     0.0    0.00    0.0    0.0    0.0    0.0    0.0    0.0\n",
      "B-LOC   0.95   0.05   0.00     0.0    0.00    0.0    0.0    0.0    0.0    0.0    0.0\n",
      "I-LOC   0.92   0.00   0.08     0.0    0.00    0.0    0.0    0.0    0.0    0.0    0.0\n",
      "B-MISC  1.00   0.00   0.00     0.0    0.00    0.0    0.0    0.0    0.0    0.0    0.0\n",
      "I-MISC  0.99   0.00   0.00     0.0    0.01    0.0    0.0    0.0    0.0    0.0    0.0\n",
      "B-ORG   1.00   0.00   0.00     0.0    0.00    0.0    0.0    0.0    0.0    0.0    0.0\n",
      "I-ORG   1.00   0.00   0.00     0.0    0.00    0.0    0.0    0.0    0.0    0.0    0.0\n",
      "B-PER   1.00   0.00   0.00     0.0    0.00    0.0    0.0    0.0    0.0    0.0    0.0\n",
      "I-PER   1.00   0.00   0.00     0.0    0.00    0.0    0.0    0.0    0.0    0.0    0.0\n",
      "--------\n",
      "Emission model for source: wiki_small_loc_uncased\n",
      "           O  B-LOC  I-LOC  B-MISC  I-MISC  B-ORG  I-ORG  B-PER  I-PER  B-ENT  I-ENT\n",
      "O       1.00   0.00   0.00     0.0    0.00    0.0    0.0    0.0    0.0    0.0    0.0\n",
      "B-LOC   0.95   0.05   0.00     0.0    0.00    0.0    0.0    0.0    0.0    0.0    0.0\n",
      "I-LOC   0.92   0.00   0.08     0.0    0.00    0.0    0.0    0.0    0.0    0.0    0.0\n",
      "B-MISC  1.00   0.00   0.00     0.0    0.00    0.0    0.0    0.0    0.0    0.0    0.0\n",
      "I-MISC  0.99   0.00   0.00     0.0    0.01    0.0    0.0    0.0    0.0    0.0    0.0\n",
      "B-ORG   1.00   0.00   0.00     0.0    0.00    0.0    0.0    0.0    0.0    0.0    0.0\n",
      "I-ORG   1.00   0.00   0.00     0.0    0.00    0.0    0.0    0.0    0.0    0.0    0.0\n",
      "B-PER   1.00   0.00   0.00     0.0    0.00    0.0    0.0    0.0    0.0    0.0    0.0\n",
      "I-PER   1.00   0.00   0.00     0.0    0.00    0.0    0.0    0.0    0.0    0.0    0.0\n",
      "--------\n",
      "Emission model for source: wiki_small_org_cased\n",
      "           O  B-LOC  I-LOC  B-MISC  I-MISC  B-ORG  I-ORG  B-PER  I-PER  B-ENT  I-ENT\n",
      "O       1.00    0.0    0.0     0.0    0.00   0.00   0.00    0.0    0.0    0.0    0.0\n",
      "B-LOC   0.97    0.0    0.0     0.0    0.00   0.03   0.00    0.0    0.0    0.0    0.0\n",
      "I-LOC   0.96    0.0    0.0     0.0    0.00   0.00   0.04    0.0    0.0    0.0    0.0\n",
      "B-MISC  0.97    0.0    0.0     0.0    0.00   0.03   0.00    0.0    0.0    0.0    0.0\n",
      "I-MISC  0.99    0.0    0.0     0.0    0.01   0.00   0.00    0.0    0.0    0.0    0.0\n",
      "B-ORG   0.65    0.0    0.0     0.0    0.00   0.35   0.00    0.0    0.0    0.0    0.0\n",
      "I-ORG   0.67    0.0    0.0     0.0    0.00   0.01   0.32    0.0    0.0    0.0    0.0\n",
      "B-PER   0.96    0.0    0.0     0.0    0.00   0.04   0.00    0.0    0.0    0.0    0.0\n",
      "I-PER   0.97    0.0    0.0     0.0    0.00   0.00   0.03    0.0    0.0    0.0    0.0\n",
      "--------\n",
      "Emission model for source: wiki_small_org_uncased\n",
      "           O  B-LOC  I-LOC  B-MISC  I-MISC  B-ORG  I-ORG  B-PER  I-PER  B-ENT  I-ENT\n",
      "O       1.00    0.0    0.0     0.0    0.00   0.00   0.00    0.0    0.0    0.0    0.0\n",
      "B-LOC   0.97    0.0    0.0     0.0    0.00   0.03   0.00    0.0    0.0    0.0    0.0\n",
      "I-LOC   0.96    0.0    0.0     0.0    0.00   0.00   0.04    0.0    0.0    0.0    0.0\n",
      "B-MISC  0.96    0.0    0.0     0.0    0.00   0.03   0.00    0.0    0.0    0.0    0.0\n",
      "I-MISC  0.99    0.0    0.0     0.0    0.01   0.00   0.00    0.0    0.0    0.0    0.0\n",
      "B-ORG   0.65    0.0    0.0     0.0    0.00   0.35   0.00    0.0    0.0    0.0    0.0\n",
      "I-ORG   0.67    0.0    0.0     0.0    0.00   0.01   0.32    0.0    0.0    0.0    0.0\n",
      "B-PER   0.96    0.0    0.0     0.0    0.00   0.04   0.00    0.0    0.0    0.0    0.0\n",
      "I-PER   0.97    0.0    0.0     0.0    0.00   0.00   0.03    0.0    0.0    0.0    0.0\n",
      "--------\n",
      "Emission model for source: wiki_small_person_cased\n",
      "           O  B-LOC  I-LOC  B-MISC  I-MISC  B-ORG  I-ORG  B-PER  I-PER  B-ENT  I-ENT\n",
      "O       1.00    0.0    0.0     0.0    0.00    0.0    0.0   0.00   0.00    0.0    0.0\n",
      "B-LOC   0.99    0.0    0.0     0.0    0.00    0.0    0.0   0.01   0.00    0.0    0.0\n",
      "I-LOC   1.00    0.0    0.0     0.0    0.00    0.0    0.0   0.00   0.00    0.0    0.0\n",
      "B-MISC  0.98    0.0    0.0     0.0    0.00    0.0    0.0   0.02   0.00    0.0    0.0\n",
      "I-MISC  0.99    0.0    0.0     0.0    0.01    0.0    0.0   0.00   0.00    0.0    0.0\n",
      "B-ORG   0.99    0.0    0.0     0.0    0.00    0.0    0.0   0.01   0.00    0.0    0.0\n",
      "I-ORG   1.00    0.0    0.0     0.0    0.00    0.0    0.0   0.00   0.00    0.0    0.0\n",
      "B-PER   0.68    0.0    0.0     0.0    0.00    0.0    0.0   0.32   0.00    0.0    0.0\n",
      "I-PER   0.55    0.0    0.0     0.0    0.00    0.0    0.0   0.00   0.44    0.0    0.0\n",
      "--------\n",
      "Emission model for source: wiki_small_person_uncased\n",
      "           O  B-LOC  I-LOC  B-MISC  I-MISC  B-ORG  I-ORG  B-PER  I-PER  B-ENT  I-ENT\n",
      "O       1.00    0.0    0.0     0.0    0.00    0.0    0.0   0.00   0.00    0.0    0.0\n",
      "B-LOC   0.99    0.0    0.0     0.0    0.00    0.0    0.0   0.01   0.00    0.0    0.0\n",
      "I-LOC   1.00    0.0    0.0     0.0    0.00    0.0    0.0   0.00   0.00    0.0    0.0\n",
      "B-MISC  0.98    0.0    0.0     0.0    0.00    0.0    0.0   0.02   0.00    0.0    0.0\n",
      "I-MISC  0.99    0.0    0.0     0.0    0.01    0.0    0.0   0.00   0.00    0.0    0.0\n",
      "B-ORG   0.99    0.0    0.0     0.0    0.00    0.0    0.0   0.01   0.00    0.0    0.0\n",
      "I-ORG   1.00    0.0    0.0     0.0    0.00    0.0    0.0   0.00   0.00    0.0    0.0\n",
      "B-PER   0.67    0.0    0.0     0.0    0.00    0.0    0.0   0.33   0.00    0.0    0.0\n",
      "I-PER   0.55    0.0    0.0     0.0    0.00    0.0    0.0   0.00   0.45    0.0    0.0\n",
      "--------\n",
      "Emission model for source: wiki_small_product_cased\n",
      "           O  B-LOC  I-LOC  B-MISC  I-MISC  B-ORG  I-ORG  B-PER  I-PER  B-ENT  I-ENT\n",
      "O       1.00    0.0    0.0    0.00    0.00    0.0    0.0    0.0    0.0    0.0    0.0\n",
      "B-LOC   1.00    0.0    0.0    0.00    0.00    0.0    0.0    0.0    0.0    0.0    0.0\n",
      "I-LOC   1.00    0.0    0.0    0.00    0.00    0.0    0.0    0.0    0.0    0.0    0.0\n",
      "B-MISC  0.81    0.0    0.0    0.19    0.00    0.0    0.0    0.0    0.0    0.0    0.0\n",
      "I-MISC  0.69    0.0    0.0    0.00    0.31    0.0    0.0    0.0    0.0    0.0    0.0\n",
      "B-ORG   1.00    0.0    0.0    0.00    0.00    0.0    0.0    0.0    0.0    0.0    0.0\n",
      "I-ORG   1.00    0.0    0.0    0.00    0.00    0.0    0.0    0.0    0.0    0.0    0.0\n",
      "B-PER   1.00    0.0    0.0    0.00    0.00    0.0    0.0    0.0    0.0    0.0    0.0\n",
      "I-PER   1.00    0.0    0.0    0.00    0.00    0.0    0.0    0.0    0.0    0.0    0.0\n",
      "--------\n",
      "Emission model for source: wiki_small_product_uncased\n",
      "           O  B-LOC  I-LOC  B-MISC  I-MISC  B-ORG  I-ORG  B-PER  I-PER  B-ENT  I-ENT\n",
      "O       1.00    0.0    0.0    0.00     0.0    0.0    0.0    0.0    0.0    0.0    0.0\n",
      "B-LOC   1.00    0.0    0.0    0.00     0.0    0.0    0.0    0.0    0.0    0.0    0.0\n",
      "I-LOC   1.00    0.0    0.0    0.00     0.0    0.0    0.0    0.0    0.0    0.0    0.0\n",
      "B-MISC  0.81    0.0    0.0    0.19     0.0    0.0    0.0    0.0    0.0    0.0    0.0\n",
      "I-MISC  0.69    0.0    0.0    0.00     0.3    0.0    0.0    0.0    0.0    0.0    0.0\n",
      "B-ORG   1.00    0.0    0.0    0.00     0.0    0.0    0.0    0.0    0.0    0.0    0.0\n",
      "I-ORG   1.00    0.0    0.0    0.00     0.0    0.0    0.0    0.0    0.0    0.0    0.0\n",
      "B-PER   1.00    0.0    0.0    0.00     0.0    0.0    0.0    0.0    0.0    0.0    0.0\n",
      "I-PER   1.00    0.0    0.0    0.00     0.0    0.0    0.0    0.0    0.0    0.0    0.0\n",
      "--------\n"
     ]
    }
   ],
   "source": [
    "unified_model.pretty_print() "
   ]
  },
  {
   "cell_type": "code",
   "execution_count": 9,
   "metadata": {},
   "outputs": [
    {
     "data": {
      "text/html": "<span class=\"tex2jax_ignore\"><div class=\"entities\" style=\"line-height: 2.5; direction: ltr\">Best buy offers used \n<mark class=\"entity\" style=\"background: #ddd; padding: 0.45em 0.6em; margin: 0 0.25em; line-height: 1; border-radius: 0.35em;\">\n    iPhones\n    <span style=\"font-size: 0.8em; font-weight: bold; line-height: 1; border-radius: 0.35em; text-transform: uppercase; vertical-align: middle; margin-left: 0.5rem\">MISC</span>\n</mark>\n at lower price</br>\n<mark class=\"entity\" style=\"background: #ff9561; padding: 0.45em 0.6em; margin: 0 0.25em; line-height: 1; border-radius: 0.35em;\">\n    ATLANTA\n    <span style=\"font-size: 0.8em; font-weight: bold; line-height: 1; border-radius: 0.35em; text-transform: uppercase; vertical-align: middle; margin-left: 0.5rem\">LOC</span>\n</mark>\n (\n<mark class=\"entity\" style=\"background: #7aecec; padding: 0.45em 0.6em; margin: 0 0.25em; line-height: 1; border-radius: 0.35em;\">\n    Reuters\n    <span style=\"font-size: 0.8em; font-weight: bold; line-height: 1; border-radius: 0.35em; text-transform: uppercase; vertical-align: middle; margin-left: 0.5rem\">ORG</span>\n</mark>\n) - \n<mark class=\"entity\" style=\"background: #7aecec; padding: 0.45em 0.6em; margin: 0 0.25em; line-height: 1; border-radius: 0.35em;\">\n    Retailer\n    <span style=\"font-size: 0.8em; font-weight: bold; line-height: 1; border-radius: 0.35em; text-transform: uppercase; vertical-align: middle; margin-left: 0.5rem\">ORG</span>\n</mark>\n \n<mark class=\"entity\" style=\"background: #7aecec; padding: 0.45em 0.6em; margin: 0 0.25em; line-height: 1; border-radius: 0.35em;\">\n    Best Buy Co\n    <span style=\"font-size: 0.8em; font-weight: bold; line-height: 1; border-radius: 0.35em; text-transform: uppercase; vertical-align: middle; margin-left: 0.5rem\">ORG</span>\n</mark>\n, seeking new ways to appeal to cost-conscious shoppers, said on Tuesday it is selling refurbished versions of \n<mark class=\"entity\" style=\"background: #7aecec; padding: 0.45em 0.6em; margin: 0 0.25em; line-height: 1; border-radius: 0.35em;\">\n    Apple Inc's\n    <span style=\"font-size: 0.8em; font-weight: bold; line-height: 1; border-radius: 0.35em; text-transform: uppercase; vertical-align: middle; margin-left: 0.5rem\">ORG</span>\n</mark>\n \n<mark class=\"entity\" style=\"background: #ddd; padding: 0.45em 0.6em; margin: 0 0.25em; line-height: 1; border-radius: 0.35em;\">\n    iPhone\n    <span style=\"font-size: 0.8em; font-weight: bold; line-height: 1; border-radius: 0.35em; text-transform: uppercase; vertical-align: middle; margin-left: 0.5rem\">MISC</span>\n</mark>\n 3G at its stores that are priced about $50 less than new \n<mark class=\"entity\" style=\"background: #ddd; padding: 0.45em 0.6em; margin: 0 0.25em; line-height: 1; border-radius: 0.35em;\">\n    iPhones\n    <span style=\"font-size: 0.8em; font-weight: bold; line-height: 1; border-radius: 0.35em; text-transform: uppercase; vertical-align: middle; margin-left: 0.5rem\">MISC</span>\n</mark>\n. The electronics chain said the used \n<mark class=\"entity\" style=\"background: #ddd; padding: 0.45em 0.6em; margin: 0 0.25em; line-height: 1; border-radius: 0.35em;\">\n    iPhones\n    <span style=\"font-size: 0.8em; font-weight: bold; line-height: 1; border-radius: 0.35em; text-transform: uppercase; vertical-align: middle; margin-left: 0.5rem\">MISC</span>\n</mark>\n, which were returned within 30 days of purchase, are priced at $149 for the model with 8 gigabytes of storage, while the 16-gigabyte version is $249. A two-year service contract with \n<mark class=\"entity\" style=\"background: #7aecec; padding: 0.45em 0.6em; margin: 0 0.25em; line-height: 1; border-radius: 0.35em;\">\n    AT&amp;T Inc\n    <span style=\"font-size: 0.8em; font-weight: bold; line-height: 1; border-radius: 0.35em; text-transform: uppercase; vertical-align: middle; margin-left: 0.5rem\">ORG</span>\n</mark>\n is required. New iPhone \n<mark class=\"entity\" style=\"background: #ddd; padding: 0.45em 0.6em; margin: 0 0.25em; line-height: 1; border-radius: 0.35em;\">\n    3Gs\n    <span style=\"font-size: 0.8em; font-weight: bold; line-height: 1; border-radius: 0.35em; text-transform: uppercase; vertical-align: middle; margin-left: 0.5rem\">MISC</span>\n</mark>\n currently sell for $199 and $299 at Best Buy Mobile stores. &quot;This is focusing on customers' needs, trying to provide as wide a range of products and networks for our consumers,&quot; said \n<mark class=\"entity\" style=\"background: #ddd; padding: 0.45em 0.6em; margin: 0 0.25em; line-height: 1; border-radius: 0.35em;\">\n    Scott Moore\n    <span style=\"font-size: 0.8em; font-weight: bold; line-height: 1; border-radius: 0.35em; text-transform: uppercase; vertical-align: middle; margin-left: 0.5rem\">PER</span>\n</mark>\n, vice president of marketing for \n<mark class=\"entity\" style=\"background: #7aecec; padding: 0.45em 0.6em; margin: 0 0.25em; line-height: 1; border-radius: 0.35em;\">\n    Best Buy Mobile\n    <span style=\"font-size: 0.8em; font-weight: bold; line-height: 1; border-radius: 0.35em; text-transform: uppercase; vertical-align: middle; margin-left: 0.5rem\">ORG</span>\n</mark>\n. Buyers of first-generation \n<mark class=\"entity\" style=\"background: #ddd; padding: 0.45em 0.6em; margin: 0 0.25em; line-height: 1; border-radius: 0.35em;\">\n    iPhones\n    <span style=\"font-size: 0.8em; font-weight: bold; line-height: 1; border-radius: 0.35em; text-transform: uppercase; vertical-align: middle; margin-left: 0.5rem\">MISC</span>\n</mark>\n can also upgrade to the faster refurbished 3G models at \n<mark class=\"entity\" style=\"background: #7aecec; padding: 0.45em 0.6em; margin: 0 0.25em; line-height: 1; border-radius: 0.35em;\">\n    Best Buy\n    <span style=\"font-size: 0.8em; font-weight: bold; line-height: 1; border-radius: 0.35em; text-transform: uppercase; vertical-align: middle; margin-left: 0.5rem\">ORG</span>\n</mark>\n, he said. \n<mark class=\"entity\" style=\"background: #ddd; padding: 0.45em 0.6em; margin: 0 0.25em; line-height: 1; border-radius: 0.35em;\">\n    Moore\n    <span style=\"font-size: 0.8em; font-weight: bold; line-height: 1; border-radius: 0.35em; text-transform: uppercase; vertical-align: middle; margin-left: 0.5rem\">PER</span>\n</mark>\n said \n<mark class=\"entity\" style=\"background: #7aecec; padding: 0.45em 0.6em; margin: 0 0.25em; line-height: 1; border-radius: 0.35em;\">\n    AT&amp;T\n    <span style=\"font-size: 0.8em; font-weight: bold; line-height: 1; border-radius: 0.35em; text-transform: uppercase; vertical-align: middle; margin-left: 0.5rem\">ORG</span>\n</mark>\n, the exclusive wireless provider for the \n<mark class=\"entity\" style=\"background: #ddd; padding: 0.45em 0.6em; margin: 0 0.25em; line-height: 1; border-radius: 0.35em;\">\n    iPhone\n    <span style=\"font-size: 0.8em; font-weight: bold; line-height: 1; border-radius: 0.35em; text-transform: uppercase; vertical-align: middle; margin-left: 0.5rem\">MISC</span>\n</mark>\n, offers refurbished \n<mark class=\"entity\" style=\"background: #ddd; padding: 0.45em 0.6em; margin: 0 0.25em; line-height: 1; border-radius: 0.35em;\">\n    iPhones\n    <span style=\"font-size: 0.8em; font-weight: bold; line-height: 1; border-radius: 0.35em; text-transform: uppercase; vertical-align: middle; margin-left: 0.5rem\">MISC</span>\n</mark>\n online. The sale of used \n<mark class=\"entity\" style=\"background: #ddd; padding: 0.45em 0.6em; margin: 0 0.25em; line-height: 1; border-radius: 0.35em;\">\n    iPhones\n    <span style=\"font-size: 0.8em; font-weight: bold; line-height: 1; border-radius: 0.35em; text-transform: uppercase; vertical-align: middle; margin-left: 0.5rem\">MISC</span>\n</mark>\n comes as \n<mark class=\"entity\" style=\"background: #7aecec; padding: 0.45em 0.6em; margin: 0 0.25em; line-height: 1; border-radius: 0.35em;\">\n    Best Buy\n    <span style=\"font-size: 0.8em; font-weight: bold; line-height: 1; border-radius: 0.35em; text-transform: uppercase; vertical-align: middle; margin-left: 0.5rem\">ORG</span>\n</mark>\n, the top consumer electronics chain, seeks ways to fend off increased competition from discounters such as \n<mark class=\"entity\" style=\"background: #7aecec; padding: 0.45em 0.6em; margin: 0 0.25em; line-height: 1; border-radius: 0.35em;\">\n    Wal-Mart Stores Inc\n    <span style=\"font-size: 0.8em; font-weight: bold; line-height: 1; border-radius: 0.35em; text-transform: uppercase; vertical-align: middle; margin-left: 0.5rem\">ORG</span>\n</mark>\n, which began selling the popular phone late last month. \n<mark class=\"entity\" style=\"background: #7aecec; padding: 0.45em 0.6em; margin: 0 0.25em; line-height: 1; border-radius: 0.35em;\">\n    Wal-Mart\n    <span style=\"font-size: 0.8em; font-weight: bold; line-height: 1; border-radius: 0.35em; text-transform: uppercase; vertical-align: middle; margin-left: 0.5rem\">ORG</span>\n</mark>\n sells a new 8-gigabyte \n<mark class=\"entity\" style=\"background: #ddd; padding: 0.45em 0.6em; margin: 0 0.25em; line-height: 1; border-radius: 0.35em;\">\n    iPhone\n    <span style=\"font-size: 0.8em; font-weight: bold; line-height: 1; border-radius: 0.35em; text-transform: uppercase; vertical-align: middle; margin-left: 0.5rem\">MISC</span>\n</mark>\n 3G for $197 and $297 for the 16-gigabyte model. The \n<mark class=\"entity\" style=\"background: #ddd; padding: 0.45em 0.6em; margin: 0 0.25em; line-height: 1; border-radius: 0.35em;\">\n    iPhone\n    <span style=\"font-size: 0.8em; font-weight: bold; line-height: 1; border-radius: 0.35em; text-transform: uppercase; vertical-align: middle; margin-left: 0.5rem\">MISC</span>\n</mark>\n is also sold at \n<mark class=\"entity\" style=\"background: #ff9561; padding: 0.45em 0.6em; margin: 0 0.25em; line-height: 1; border-radius: 0.35em;\">\n    Apple\n    <span style=\"font-size: 0.8em; font-weight: bold; line-height: 1; border-radius: 0.35em; text-transform: uppercase; vertical-align: middle; margin-left: 0.5rem\">LOC</span>\n</mark>\n stores and \n<mark class=\"entity\" style=\"background: #7aecec; padding: 0.45em 0.6em; margin: 0 0.25em; line-height: 1; border-radius: 0.35em;\">\n    AT&amp;T\n    <span style=\"font-size: 0.8em; font-weight: bold; line-height: 1; border-radius: 0.35em; text-transform: uppercase; vertical-align: middle; margin-left: 0.5rem\">ORG</span>\n</mark>\n stores. \n<mark class=\"entity\" style=\"background: #ddd; padding: 0.45em 0.6em; margin: 0 0.25em; line-height: 1; border-radius: 0.35em;\">\n    Moore\n    <span style=\"font-size: 0.8em; font-weight: bold; line-height: 1; border-radius: 0.35em; text-transform: uppercase; vertical-align: middle; margin-left: 0.5rem\">PER</span>\n</mark>\n said \n<mark class=\"entity\" style=\"background: #7aecec; padding: 0.45em 0.6em; margin: 0 0.25em; line-height: 1; border-radius: 0.35em;\">\n    Best Buy\n    <span style=\"font-size: 0.8em; font-weight: bold; line-height: 1; border-radius: 0.35em; text-transform: uppercase; vertical-align: middle; margin-left: 0.5rem\">ORG</span>\n</mark>\n's move was not in response to other retailers' actions. </div></span>",
      "text/plain": "<IPython.core.display.HTML object>"
     },
     "metadata": {
      "transient": {}
     },
     "output_type": "display_data"
    },
    {
     "data": {
      "text/html": "<span class=\"tex2jax_ignore\"><div class=\"entities\" style=\"line-height: 2.5; direction: ltr\">\n<mark class=\"entity\" style=\"background: #7aecec; padding: 0.45em 0.6em; margin: 0 0.25em; line-height: 1; border-radius: 0.35em;\">\n    Goody's family clothing\n    <span style=\"font-size: 0.8em; font-weight: bold; line-height: 1; border-radius: 0.35em; text-transform: uppercase; vertical-align: middle; margin-left: 0.5rem\">ORG</span>\n</mark>\n to liquidate stores</br>\n<mark class=\"entity\" style=\"background: #ff9561; padding: 0.45em 0.6em; margin: 0 0.25em; line-height: 1; border-radius: 0.35em;\">\n    NEW YORK\n    <span style=\"font-size: 0.8em; font-weight: bold; line-height: 1; border-radius: 0.35em; text-transform: uppercase; vertical-align: middle; margin-left: 0.5rem\">LOC</span>\n</mark>\n (\n<mark class=\"entity\" style=\"background: #7aecec; padding: 0.45em 0.6em; margin: 0 0.25em; line-height: 1; border-radius: 0.35em;\">\n    Reuters\n    <span style=\"font-size: 0.8em; font-weight: bold; line-height: 1; border-radius: 0.35em; text-transform: uppercase; vertical-align: middle; margin-left: 0.5rem\">ORG</span>\n</mark>\n) - \n<mark class=\"entity\" style=\"background: #7aecec; padding: 0.45em 0.6em; margin: 0 0.25em; line-height: 1; border-radius: 0.35em;\">\n    Goody's Family Clothing\n    <span style=\"font-size: 0.8em; font-weight: bold; line-height: 1; border-radius: 0.35em; text-transform: uppercase; vertical-align: middle; margin-left: 0.5rem\">ORG</span>\n</mark>\n, a privately held apparel retail chain which emerged from bankruptcy in October, plans to liquidate its remaining stores as the \n<mark class=\"entity\" style=\"background: #ff9561; padding: 0.45em 0.6em; margin: 0 0.25em; line-height: 1; border-radius: 0.35em;\">\n    U.S.\n    <span style=\"font-size: 0.8em; font-weight: bold; line-height: 1; border-radius: 0.35em; text-transform: uppercase; vertical-align: middle; margin-left: 0.5rem\">LOC</span>\n</mark>\n economic recession has undermined its ability to continue operating. &quot;The company is in the processes of obtaining bids to liquidate substantially all collateral and inventory,&quot; said \n<mark class=\"entity\" style=\"background: #ddd; padding: 0.45em 0.6em; margin: 0 0.25em; line-height: 1; border-radius: 0.35em;\">\n    Cathy Hershcopf\n    <span style=\"font-size: 0.8em; font-weight: bold; line-height: 1; border-radius: 0.35em; text-transform: uppercase; vertical-align: middle; margin-left: 0.5rem\">PER</span>\n</mark>\n, a bankruptcy partner at law firm \n<mark class=\"entity\" style=\"background: #7aecec; padding: 0.45em 0.6em; margin: 0 0.25em; line-height: 1; border-radius: 0.35em;\">\n    Cooley Godward Kronish LLP\n    <span style=\"font-size: 0.8em; font-weight: bold; line-height: 1; border-radius: 0.35em; text-transform: uppercase; vertical-align: middle; margin-left: 0.5rem\">ORG</span>\n</mark>\n. &quot;The retail environment is very difficult and they did not have sufficient capital to weather the bad times.&quot; The law firm is acting as a liaison between \n<mark class=\"entity\" style=\"background: #7aecec; padding: 0.45em 0.6em; margin: 0 0.25em; line-height: 1; border-radius: 0.35em;\">\n    Goody's\n    <span style=\"font-size: 0.8em; font-weight: bold; line-height: 1; border-radius: 0.35em; text-transform: uppercase; vertical-align: middle; margin-left: 0.5rem\">ORG</span>\n</mark>\n vendors and the company and \n<mark class=\"entity\" style=\"background: #7aecec; padding: 0.45em 0.6em; margin: 0 0.25em; line-height: 1; border-radius: 0.35em;\">\n    Prentice Capital Management\n    <span style=\"font-size: 0.8em; font-weight: bold; line-height: 1; border-radius: 0.35em; text-transform: uppercase; vertical-align: middle; margin-left: 0.5rem\">ORG</span>\n</mark>\n. \n<mark class=\"entity\" style=\"background: #7aecec; padding: 0.45em 0.6em; margin: 0 0.25em; line-height: 1; border-radius: 0.35em;\">\n    PGDYS Lending LLC\n    <span style=\"font-size: 0.8em; font-weight: bold; line-height: 1; border-radius: 0.35em; text-transform: uppercase; vertical-align: middle; margin-left: 0.5rem\">ORG</span>\n</mark>\n is \n<mark class=\"entity\" style=\"background: #7aecec; padding: 0.45em 0.6em; margin: 0 0.25em; line-height: 1; border-radius: 0.35em;\">\n    Goody's\n    <span style=\"font-size: 0.8em; font-weight: bold; line-height: 1; border-radius: 0.35em; text-transform: uppercase; vertical-align: middle; margin-left: 0.5rem\">ORG</span>\n</mark>\n parent company, and \n<mark class=\"entity\" style=\"background: #7aecec; padding: 0.45em 0.6em; margin: 0 0.25em; line-height: 1; border-radius: 0.35em;\">\n    Prentice\n    <span style=\"font-size: 0.8em; font-weight: bold; line-height: 1; border-radius: 0.35em; text-transform: uppercase; vertical-align: middle; margin-left: 0.5rem\">ORG</span>\n</mark>\n is the manager of \n<mark class=\"entity\" style=\"background: #7aecec; padding: 0.45em 0.6em; margin: 0 0.25em; line-height: 1; border-radius: 0.35em;\">\n    PGDYS\n    <span style=\"font-size: 0.8em; font-weight: bold; line-height: 1; border-radius: 0.35em; text-transform: uppercase; vertical-align: middle; margin-left: 0.5rem\">ORG</span>\n</mark>\n. \n<mark class=\"entity\" style=\"background: #ddd; padding: 0.45em 0.6em; margin: 0 0.25em; line-height: 1; border-radius: 0.35em;\">\n    Bob Carbonell\n    <span style=\"font-size: 0.8em; font-weight: bold; line-height: 1; border-radius: 0.35em; text-transform: uppercase; vertical-align: middle; margin-left: 0.5rem\">PER</span>\n</mark>\n, chief credit officer for retail credit rating service \n<mark class=\"entity\" style=\"background: #ddd; padding: 0.45em 0.6em; margin: 0 0.25em; line-height: 1; border-radius: 0.35em;\">\n    Bernard Sands\n    <span style=\"font-size: 0.8em; font-weight: bold; line-height: 1; border-radius: 0.35em; text-transform: uppercase; vertical-align: middle; margin-left: 0.5rem\">PER</span>\n</mark>\n, confirmed that the company plans to liquidate. Going-out-of-business sales will begin as early as Friday, said \n<mark class=\"entity\" style=\"background: #ddd; padding: 0.45em 0.6em; margin: 0 0.25em; line-height: 1; border-radius: 0.35em;\">\n    Hershcopf\n    <span style=\"font-size: 0.8em; font-weight: bold; line-height: 1; border-radius: 0.35em; text-transform: uppercase; vertical-align: middle; margin-left: 0.5rem\">PER</span>\n</mark>\n. When the company emerged from bankruptcy, it operated 287 stores in 20 states. The \n<mark class=\"entity\" style=\"background: #ff9561; padding: 0.45em 0.6em; margin: 0 0.25em; line-height: 1; border-radius: 0.35em;\">\n    Knoxville\n    <span style=\"font-size: 0.8em; font-weight: bold; line-height: 1; border-radius: 0.35em; text-transform: uppercase; vertical-align: middle; margin-left: 0.5rem\">LOC</span>\n</mark>\n, \n<mark class=\"entity\" style=\"background: #ff9561; padding: 0.45em 0.6em; margin: 0 0.25em; line-height: 1; border-radius: 0.35em;\">\n    Tennessee\n    <span style=\"font-size: 0.8em; font-weight: bold; line-height: 1; border-radius: 0.35em; text-transform: uppercase; vertical-align: middle; margin-left: 0.5rem\">LOC</span>\n</mark>\n-based retailer filed for \n<mark class=\"entity\" style=\"background: #ddd; padding: 0.45em 0.6em; margin: 0 0.25em; line-height: 1; border-radius: 0.35em;\">\n    Chapter 11\n    <span style=\"font-size: 0.8em; font-weight: bold; line-height: 1; border-radius: 0.35em; text-transform: uppercase; vertical-align: middle; margin-left: 0.5rem\">MISC</span>\n</mark>\n bankruptcy protection on June 9, hurt by high gasoline and food prices that have forced consumers to cut back on nonessential purchases. It emerged from bankruptcy protection in October after cutting operating costs and closing at least 69 underperforming stores. </div></span>",
      "text/plain": "<IPython.core.display.HTML object>"
     },
     "metadata": {
      "transient": {}
     },
     "output_type": "display_data"
    }
   ],
   "source": [
    "import skweak.utils\n",
    "reader = skweak.utils.docbin_reader(\"../data/reuters_small.docbin\")\n",
    "doc = next(reader)\n",
    "#full_annotator(doc)\n",
    "unified_model(doc)\n",
    "skweak.utils.display_entities(doc, \"hmm\")\n",
    "doc2 = next(reader)\n",
    "#full_annotator(doc2)\n",
    "unified_model(doc2)\n",
    "skweak.utils.display_entities(doc2, \"hmm\")"
   ]
  },
  {
   "cell_type": "code",
   "execution_count": null,
   "metadata": {},
   "outputs": [],
   "source": [
    "for source in unified_model.sources:\n",
    "    print(source, \":\", {(doc[start:end],start):label for (start,end), label in doc.user_data[\"spans\"].get(source, {}).items() if doc[start:end].text==\"Moore\"})"
   ]
  },
  {
   "cell_type": "markdown",
   "metadata": {},
   "source": [
    "And we can apply it to the full dataset:"
   ]
  },
  {
   "cell_type": "code",
   "execution_count": 19,
   "metadata": {},
   "outputs": [
    {
     "name": "stdout",
     "output_type": "stream",
     "text": [
      "Reading ./data/reuters_small.docbin...Finished annotating ./data/reuters_small.docbin\n",
      "Write to ./data/reuters_small.docbin...done\n"
     ]
    }
   ],
   "source": [
    "unified_model.annotate_docbin(\"./data/reuters_small.docbin\", \"./data/reuters_small.docbin\")"
   ]
  },
  {
   "cell_type": "markdown",
   "metadata": {},
   "source": [
    "<br>\n",
    "\n",
    "## __Step 3__: Development of neural NER model\n"
   ]
  },
  {
   "cell_type": "markdown",
   "metadata": {},
   "source": [
    "We can now learn a neural NER model based on these unified annotations. We have two options: a straighforward (but slightly underperforming) approach using Spacy, and a more sophisticated approach using our own NER model"
   ]
  },
  {
   "cell_type": "markdown",
   "metadata": {},
   "source": [
    "### __Alternative 1__: Using Spacy"
   ]
  },
  {
   "cell_type": "code",
   "execution_count": 3,
   "metadata": {},
   "outputs": [
    {
     "output_type": "stream",
     "name": "stdout",
     "text": [
      "Writing JSON file to ../data/reuters_small_dev.json\n",
      "Writing JSON file to ../data/reuters_small_train.json\n"
     ]
    }
   ],
   "source": [
    "import skweak.utils\n",
    "skweak.utils.json_writer(skweak.utils.docbin_reader(\"../data/reuters_small.docbin\", cutoff=20), \"../data/reuters_small_dev.json\")\n",
    "skweak.utils.json_writer(skweak.utils.docbin_reader(\"../data/reuters_small.docbin\", nb_to_skip=20),  \"../data/reuters_small_train.json\")\n"
   ]
  },
  {
   "cell_type": "markdown",
   "metadata": {},
   "source": [
    "And we can then directly train a new NER model with Spacy's training regime:"
   ]
  },
  {
   "cell_type": "code",
   "execution_count": 6,
   "metadata": {},
   "outputs": [
    {
     "output_type": "stream",
     "name": "stdout",
     "text": [
      "\u001b[38;5;2m✔ Created output directory: ../data/reuters_small_spacy\u001b[0m\n",
      "Training pipeline: ['ner']\n",
      "Starting with base model 'en_core_web_md'\n",
      "Replacing component from base model 'ner'\n",
      "Loading vector from model 'en_core_web_md'\n",
      "Counting training words (limit=0)\n",
      "  0%|          | 0/88545 [00:00<?, ?it/s]\n",
      "Itn  NER Loss   NER P   NER R   NER F   Token %  CPU WPS\n",
      "---  ---------  ------  ------  ------  -------  -------\n",
      "  0%|          | 0/88545 [00:00<?, ?it/s]  1  12302.609  66.411  65.015  65.706   99.981     8422\n",
      "  0%|          | 238/88545 [00:00<00:55, 1603.23it/s]  2   3985.258  75.151  74.925  75.038   99.981    20373\n",
      "  0%|          | 0/88545 [00:00<?, ?it/s]  3   2855.592  82.175  81.682  81.928   99.981    21559\n",
      "  0%|          | 0/88545 [00:00<?, ?it/s]  4   2294.481  85.344  83.934  84.633   99.981    19763\n",
      "  0%|          | 312/88545 [00:00<00:35, 2519.84it/s]  5   2109.343  84.299  83.033  83.661   99.981    22054\n",
      "  0%|          | 344/88545 [00:00<00:41, 2100.21it/s]  6   1827.933  84.498  83.483  83.988   99.981    18447\n",
      "  0%|          | 0/88545 [00:00<?, ?it/s]  7   1535.088  83.837  83.333  83.584   99.981    22757\n",
      "  0%|          | 0/88545 [00:00<?, ?it/s]  8   1464.835  86.191  85.285  85.736   99.981    17576\n",
      "  0%|          | 389/88545 [00:00<00:31, 2831.04it/s]  9   1447.448  85.015  83.483  84.242   99.981    20918\n",
      " 10   1274.511  85.191  83.784  84.481   99.981    18818\n",
      "\u001b[38;5;2m✔ Saved model to output directory\u001b[0m\n",
      "../data/reuters_small_spacy/model-final\n",
      "\u001b[2K\u001b[38;5;2m✔ Created best model\u001b[0m\n",
      "../data/reuters_small_spacy/model-best\n"
     ]
    }
   ],
   "source": [
    "!rm -rf ../data/reuters_small_spacy\n",
    "import spacy\n",
    "spacy.cli.train(lang=\"en\", output_path=\"../data/reuters_small_spacy\", \n",
    "                train_path=\"../data/reuters_small_train.json\", \n",
    "                dev_path=\"../data/reuters_small_dev.json\",\n",
    "               base_model=\"en_core_web_md\", vectors=\"en_core_web_md\",\n",
    "               pipeline=\"ner\", n_iter=10, replace_components=True)"
   ]
  },
  {
   "cell_type": "markdown",
   "metadata": {},
   "source": [
    "We then load the learned model (taking the model version with best performance on the development set):"
   ]
  },
  {
   "cell_type": "code",
   "execution_count": 7,
   "metadata": {},
   "outputs": [],
   "source": [
    "nlp = spacy.load(\"../data/reuters_small_spacy/model-best\")"
   ]
  },
  {
   "cell_type": "markdown",
   "metadata": {},
   "source": [
    "And we finally run it on the document:"
   ]
  },
  {
   "cell_type": "code",
   "execution_count": 9,
   "metadata": {},
   "outputs": [
    {
     "output_type": "error",
     "ename": "NameError",
     "evalue": "name 'news_text' is not defined",
     "traceback": [
      "\u001b[0;31m---------------------------------------------------------------------------\u001b[0m",
      "\u001b[0;31mNameError\u001b[0m                                 Traceback (most recent call last)",
      "\u001b[0;32m<ipython-input-9-534a76b0df5c>\u001b[0m in \u001b[0;36m<module>\u001b[0;34m\u001b[0m\n\u001b[1;32m      1\u001b[0m \u001b[0;32mimport\u001b[0m \u001b[0mskweak\u001b[0m\u001b[0;34m.\u001b[0m\u001b[0mutils\u001b[0m\u001b[0;34m\u001b[0m\u001b[0;34m\u001b[0m\u001b[0m\n\u001b[0;32m----> 2\u001b[0;31m \u001b[0mskweak\u001b[0m\u001b[0;34m.\u001b[0m\u001b[0mutils\u001b[0m\u001b[0;34m.\u001b[0m\u001b[0mdisplay_entities\u001b[0m\u001b[0;34m(\u001b[0m\u001b[0mnlp\u001b[0m\u001b[0;34m(\u001b[0m\u001b[0mnews_text\u001b[0m\u001b[0;34m)\u001b[0m\u001b[0;34m)\u001b[0m\u001b[0;34m\u001b[0m\u001b[0;34m\u001b[0m\u001b[0m\n\u001b[0m",
      "\u001b[0;31mNameError\u001b[0m: name 'news_text' is not defined"
     ]
    }
   ],
   "source": [
    "import skweak.utils\n",
    "skweak.utils.display_entities(nlp(news_text))"
   ]
  },
  {
   "cell_type": "markdown",
   "metadata": {},
   "source": [
    "# __STEP 3__: Evaluation\n",
    "\n",
    "## Evaluation on ConLL 2003"
   ]
  },
  {
   "cell_type": "markdown",
   "metadata": {},
   "source": [
    "We evaluate the approach on a standard dataset, namely conLL 2003. Note that ConLL only makes use of 4 labels (`PER`, `ORG`, `LOC`, `MISC`) instead of the 18 labels which were used above.\n"
   ]
  },
  {
   "cell_type": "markdown",
   "metadata": {},
   "source": [
    "And we can then apply the NER model to annotate CoNLL 2003:"
   ]
  },
  {
   "cell_type": "code",
   "execution_count": 5,
   "metadata": {},
   "outputs": [
    {
     "name": "stdout",
     "output_type": "stream",
     "text": [
      "Finished annotating data/conll2003.docbin\n",
      "Write to data/conll2003.docbin...done\n"
     ]
    }
   ],
   "source": [
    "model.annotate_docbin(\"data/conll2003.docbin\", \"data/conll2003.docbin\")"
   ]
  },
  {
   "cell_type": "markdown",
   "metadata": {},
   "source": [
    "The file `analysis.py` contains code to easily extract evaluation metrics by comparing the annotations from a particular annotation layer (for instance the HMM predictions, or the predictions from a single source) to the gold standard:"
   ]
  },
  {
   "cell_type": "code",
   "execution_count": 7,
   "metadata": {},
   "outputs": [
    {
     "data": {
      "text/html": [
       "<div>\n",
       "<style scoped>\n",
       "    .dataframe tbody tr th:only-of-type {\n",
       "        vertical-align: middle;\n",
       "    }\n",
       "\n",
       "    .dataframe tbody tr th {\n",
       "        vertical-align: top;\n",
       "    }\n",
       "\n",
       "    .dataframe thead th {\n",
       "        text-align: right;\n",
       "    }\n",
       "</style>\n",
       "<table border=\"1\" class=\"dataframe\">\n",
       "  <thead>\n",
       "    <tr style=\"text-align: right;\">\n",
       "      <th></th>\n",
       "      <th></th>\n",
       "      <th></th>\n",
       "      <th>token_precision</th>\n",
       "      <th>token_recall</th>\n",
       "      <th>token_f1</th>\n",
       "      <th>entity_precision</th>\n",
       "      <th>entity_recall</th>\n",
       "      <th>entity_f1</th>\n",
       "    </tr>\n",
       "    <tr>\n",
       "      <th>label</th>\n",
       "      <th>proportion</th>\n",
       "      <th>model</th>\n",
       "      <th></th>\n",
       "      <th></th>\n",
       "      <th></th>\n",
       "      <th></th>\n",
       "      <th></th>\n",
       "      <th></th>\n",
       "    </tr>\n",
       "  </thead>\n",
       "  <tbody>\n",
       "    <tr>\n",
       "      <th rowspan=\"2\" valign=\"top\">LOC</th>\n",
       "      <th rowspan=\"2\" valign=\"top\">30.3 %</th>\n",
       "      <th>HMM</th>\n",
       "      <td>0.720</td>\n",
       "      <td>0.864</td>\n",
       "      <td>0.786</td>\n",
       "      <td>0.734</td>\n",
       "      <td>0.841</td>\n",
       "      <td>0.784</td>\n",
       "    </tr>\n",
       "    <tr>\n",
       "      <th>ontonotes_ner</th>\n",
       "      <td>0.666</td>\n",
       "      <td>0.849</td>\n",
       "      <td>0.746</td>\n",
       "      <td>0.656</td>\n",
       "      <td>0.835</td>\n",
       "      <td>0.734</td>\n",
       "    </tr>\n",
       "    <tr>\n",
       "      <th rowspan=\"2\" valign=\"top\">MISC</th>\n",
       "      <th rowspan=\"2\" valign=\"top\">14.4 %</th>\n",
       "      <th>HMM</th>\n",
       "      <td>0.807</td>\n",
       "      <td>0.579</td>\n",
       "      <td>0.674</td>\n",
       "      <td>0.827</td>\n",
       "      <td>0.570</td>\n",
       "      <td>0.674</td>\n",
       "    </tr>\n",
       "    <tr>\n",
       "      <th>ontonotes_ner</th>\n",
       "      <td>0.846</td>\n",
       "      <td>0.439</td>\n",
       "      <td>0.578</td>\n",
       "      <td>0.785</td>\n",
       "      <td>0.512</td>\n",
       "      <td>0.620</td>\n",
       "    </tr>\n",
       "    <tr>\n",
       "      <th rowspan=\"2\" valign=\"top\">ORG</th>\n",
       "      <th rowspan=\"2\" valign=\"top\">26.6 %</th>\n",
       "      <th>HMM</th>\n",
       "      <td>0.538</td>\n",
       "      <td>0.677</td>\n",
       "      <td>0.600</td>\n",
       "      <td>0.536</td>\n",
       "      <td>0.532</td>\n",
       "      <td>0.534</td>\n",
       "    </tr>\n",
       "    <tr>\n",
       "      <th>ontonotes_ner</th>\n",
       "      <td>0.628</td>\n",
       "      <td>0.373</td>\n",
       "      <td>0.468</td>\n",
       "      <td>0.433</td>\n",
       "      <td>0.269</td>\n",
       "      <td>0.332</td>\n",
       "    </tr>\n",
       "    <tr>\n",
       "      <th rowspan=\"2\" valign=\"top\">PER</th>\n",
       "      <th rowspan=\"2\" valign=\"top\">28.7 %</th>\n",
       "      <th>HMM</th>\n",
       "      <td>0.852</td>\n",
       "      <td>0.952</td>\n",
       "      <td>0.900</td>\n",
       "      <td>0.815</td>\n",
       "      <td>0.828</td>\n",
       "      <td>0.822</td>\n",
       "    </tr>\n",
       "    <tr>\n",
       "      <th>ontonotes_ner</th>\n",
       "      <td>0.778</td>\n",
       "      <td>0.919</td>\n",
       "      <td>0.842</td>\n",
       "      <td>0.676</td>\n",
       "      <td>0.794</td>\n",
       "      <td>0.730</td>\n",
       "    </tr>\n",
       "    <tr>\n",
       "      <th rowspan=\"2\" valign=\"top\">macro</th>\n",
       "      <th rowspan=\"2\" valign=\"top\"></th>\n",
       "      <th>HMM</th>\n",
       "      <td>0.729</td>\n",
       "      <td>0.768</td>\n",
       "      <td>0.748</td>\n",
       "      <td>0.728</td>\n",
       "      <td>0.693</td>\n",
       "      <td>0.710</td>\n",
       "    </tr>\n",
       "    <tr>\n",
       "      <th>ontonotes_ner</th>\n",
       "      <td>0.730</td>\n",
       "      <td>0.645</td>\n",
       "      <td>0.684</td>\n",
       "      <td>0.638</td>\n",
       "      <td>0.602</td>\n",
       "      <td>0.620</td>\n",
       "    </tr>\n",
       "    <tr>\n",
       "      <th rowspan=\"2\" valign=\"top\">micro</th>\n",
       "      <th rowspan=\"2\" valign=\"top\"></th>\n",
       "      <th>HMM</th>\n",
       "      <td>0.713</td>\n",
       "      <td>0.802</td>\n",
       "      <td>0.754</td>\n",
       "      <td>0.714</td>\n",
       "      <td>0.716</td>\n",
       "      <td>0.714</td>\n",
       "    </tr>\n",
       "    <tr>\n",
       "      <th>ontonotes_ner</th>\n",
       "      <td>0.720</td>\n",
       "      <td>0.681</td>\n",
       "      <td>0.700</td>\n",
       "      <td>0.638</td>\n",
       "      <td>0.626</td>\n",
       "      <td>0.632</td>\n",
       "    </tr>\n",
       "    <tr>\n",
       "      <th rowspan=\"2\" valign=\"top\">weighted</th>\n",
       "      <th rowspan=\"2\" valign=\"top\"></th>\n",
       "      <th>HMM</th>\n",
       "      <td>0.722</td>\n",
       "      <td>0.798</td>\n",
       "      <td>0.758</td>\n",
       "      <td>0.718</td>\n",
       "      <td>0.716</td>\n",
       "      <td>0.716</td>\n",
       "    </tr>\n",
       "    <tr>\n",
       "      <th>ontonotes_ner</th>\n",
       "      <td>0.714</td>\n",
       "      <td>0.683</td>\n",
       "      <td>0.698</td>\n",
       "      <td>0.621</td>\n",
       "      <td>0.626</td>\n",
       "      <td>0.624</td>\n",
       "    </tr>\n",
       "  </tbody>\n",
       "</table>\n",
       "</div>"
      ],
      "text/plain": [
       "                                   token_precision  token_recall  token_f1  \\\n",
       "label    proportion model                                                    \n",
       "LOC      30.3 %     HMM                      0.720         0.864     0.786   \n",
       "                    ontonotes_ner            0.666         0.849     0.746   \n",
       "MISC     14.4 %     HMM                      0.807         0.579     0.674   \n",
       "                    ontonotes_ner            0.846         0.439     0.578   \n",
       "ORG      26.6 %     HMM                      0.538         0.677     0.600   \n",
       "                    ontonotes_ner            0.628         0.373     0.468   \n",
       "PER      28.7 %     HMM                      0.852         0.952     0.900   \n",
       "                    ontonotes_ner            0.778         0.919     0.842   \n",
       "macro               HMM                      0.729         0.768     0.748   \n",
       "                    ontonotes_ner            0.730         0.645     0.684   \n",
       "micro               HMM                      0.713         0.802     0.754   \n",
       "                    ontonotes_ner            0.720         0.681     0.700   \n",
       "weighted            HMM                      0.722         0.798     0.758   \n",
       "                    ontonotes_ner            0.714         0.683     0.698   \n",
       "\n",
       "                                   entity_precision  entity_recall  entity_f1  \n",
       "label    proportion model                                                      \n",
       "LOC      30.3 %     HMM                       0.734          0.841      0.784  \n",
       "                    ontonotes_ner             0.656          0.835      0.734  \n",
       "MISC     14.4 %     HMM                       0.827          0.570      0.674  \n",
       "                    ontonotes_ner             0.785          0.512      0.620  \n",
       "ORG      26.6 %     HMM                       0.536          0.532      0.534  \n",
       "                    ontonotes_ner             0.433          0.269      0.332  \n",
       "PER      28.7 %     HMM                       0.815          0.828      0.822  \n",
       "                    ontonotes_ner             0.676          0.794      0.730  \n",
       "macro               HMM                       0.728          0.693      0.710  \n",
       "                    ontonotes_ner             0.638          0.602      0.620  \n",
       "micro               HMM                       0.714          0.716      0.714  \n",
       "                    ontonotes_ner             0.638          0.626      0.632  \n",
       "weighted            HMM                       0.718          0.716      0.716  \n",
       "                    ontonotes_ner             0.621          0.626      0.624  "
      ]
     },
     "execution_count": 7,
     "metadata": {},
     "output_type": "execute_result"
    }
   ],
   "source": [
    "import analysis, annotations\n",
    "\n",
    "# Extractint the documents\n",
    "docs = list(annotations.docbin_reader(\"data/conll2003.docbin\"))\n",
    "\n",
    "# Here we extract for illustration purposes the metrics for two layers: the neural NER model trained\n",
    "# on Ontonotes and the HMM predictions\n",
    "analysis.evaluate(docs, [\"ontonotes_ner\", \"HMM\"], analysis.CONLL_MAPPINGS, analysis.CONLL_TO_RETAIN)"
   ]
  }
 ],
 "metadata": {
  "kernelspec": {
   "display_name": "Python 3",
   "language": "python",
   "name": "python3"
  },
  "language_info": {
   "codemirror_mode": {
    "name": "ipython",
    "version": 3
   },
   "file_extension": ".py",
   "mimetype": "text/x-python",
   "name": "python",
   "nbconvert_exporter": "python",
   "pygments_lexer": "ipython3",
   "version": "3.8.3-final"
  }
 },
 "nbformat": 4,
 "nbformat_minor": 4
}